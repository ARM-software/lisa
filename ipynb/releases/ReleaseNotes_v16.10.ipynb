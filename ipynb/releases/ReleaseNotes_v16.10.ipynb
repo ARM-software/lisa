{
 "cells": [
  {
   "cell_type": "code",
   "execution_count": 1,
   "metadata": {
    "collapsed": false,
    "run_control": {
     "marked": false
    }
   },
   "outputs": [],
   "source": [
    "import logging\n",
    "from conf import LisaLogging\n",
    "LisaLogging.setup()\n",
    "\n",
    "# Generate plots inline\n",
    "%matplotlib inline\n",
    "\n",
    "import os"
   ]
  },
  {
   "cell_type": "markdown",
   "metadata": {},
   "source": [
    "# Target Connectivity"
   ]
  },
  {
   "cell_type": "markdown",
   "metadata": {},
   "source": [
    "## Board specific settings"
   ]
  },
  {
   "cell_type": "markdown",
   "metadata": {},
   "source": [
    "Boards specific settings can be collected into a JSON\n",
    "platform description file:"
   ]
  },
  {
   "cell_type": "code",
   "execution_count": 2,
   "metadata": {
    "collapsed": false
   },
   "outputs": [
    {
     "name": "stdout",
     "output_type": "stream",
     "text": [
      "total 32\r\n",
      "drwxrwxr-x 2 derkling derkling 4096 Sep 23 12:12 .\r\n",
      "drwxrwxr-x 5 derkling derkling 4096 Sep 23 15:58 ..\r\n",
      "-rw------- 1 derkling derkling  896 Sep 23 12:12 hikey.json\r\n",
      "-rw-rw-r-- 1 derkling derkling  468 Jan 22  2016 juno.json\r\n",
      "-rw-rw-r-- 1 derkling derkling  427 Aug 24 12:52 marlin.json\r\n",
      "-rw-rw-r-- 1 derkling derkling  176 Aug 31 12:18 nexus5x.json\r\n",
      "-rw-rw-r-- 1 derkling derkling  473 Feb  2  2016 oak.json\r\n",
      "-rw-rw-r-- 1 derkling derkling  473 Jan 22  2016 tc2.json\r\n"
     ]
    }
   ],
   "source": [
    "!ls -la $LISA_HOME/libs/utils/platforms/"
   ]
  },
  {
   "cell_type": "code",
   "execution_count": 3,
   "metadata": {
    "collapsed": false
   },
   "outputs": [
    {
     "name": "stdout",
     "output_type": "stream",
     "text": [
      "{\r\n",
      "\t// HiKey boards have two SMP clusters\r\n",
      "\t// Even being an SMP platform, being a two cluster system\r\n",
      "\t// we can still load the devlib's bl module to get access\r\n",
      "\t// to all the per-cluster functions it exposes\r\n",
      "\t\"board\" : {\r\n",
      "\t\t\"cores\" : [\r\n",
      "\t\t\t\"A53_0\", \"A53_0\", \"A53_0\", \"A53_0\",\r\n",
      "\t\t\t\"A53_1\", \"A53_1\", \"A53_1\", \"A53_1\"\r\n",
      "\t\t],\r\n",
      "\t\t\"big_core\" : \"A53_1\",\r\n",
      "\t\t\"modules\"  : [ \"bl\", \"cpufreq\" ]\r\n",
      "\t},\r\n",
      "\r\n",
      "\t// Energy Model related functions requires cluster\r\n",
      "\t// to be named \"big.LITTLE\". Thus, for the time being,\r\n",
      "\t// let's use this naming also for HiKey. This is going\r\n",
      "\t// to be updated once we introduce proper SMP and\r\n",
      "\t// multi-cluster support.\r\n",
      "\t\"nrg_model\": {\r\n",
      "\t\t\"little\": {\r\n",
      "\t\t\t\"cluster\": {\r\n",
      "\t\t\t\t\"nrg_max\": 112\r\n",
      "\t\t\t},\r\n",
      "\t\t\t\"cpu\": {\r\n",
      "\t\t\t\t\"nrg_max\":  670, \"cap_max\": 1024\r\n",
      "\t\t\t}\r\n",
      "\t\t},\r\n",
      "\t\t\"big\": {\r\n",
      "\t\t\t\"cluster\": {\r\n",
      "\t\t\t\t\"nrg_max\": 112\r\n",
      "\t\t\t},\r\n",
      "\t\t\t\"cpu\": {\r\n",
      "\t\t\t\t\"nrg_max\":  670,\r\n",
      "\t\t\t\t\"cap_max\": 1024\r\n",
      "\t\t\t}\r\n",
      "\t\t}\r\n",
      "\t}\r\n",
      "\r\n",
      "}\r\n",
      "\r\n",
      "// vim: set tabstop=4:\r\n"
     ]
    }
   ],
   "source": [
    "!cat $LISA_HOME/libs/utils/platforms/hikey.json"
   ]
  },
  {
   "cell_type": "markdown",
   "metadata": {},
   "source": [
    "## Single configuration dictionary"
   ]
  },
  {
   "cell_type": "code",
   "execution_count": 2,
   "metadata": {
    "collapsed": false,
    "run_control": {
     "marked": false
    }
   },
   "outputs": [
    {
     "name": "stdout",
     "output_type": "stream",
     "text": [
      "List of devices attached\r\n",
      "00b43d0b08a8a4b8\tdevice\r\n",
      "607A87C400055E6E\tdevice\r\n",
      "\r\n"
     ]
    }
   ],
   "source": [
    "# Check which Android devices are available\n",
    "!adb devices"
   ]
  },
  {
   "cell_type": "code",
   "execution_count": 3,
   "metadata": {
    "collapsed": true,
    "run_control": {
     "marked": false
    }
   },
   "outputs": [],
   "source": [
    "ADB_DEVICE = '00b43d0b08a8a4b8'"
   ]
  },
  {
   "cell_type": "code",
   "execution_count": 6,
   "metadata": {
    "collapsed": false
   },
   "outputs": [],
   "source": [
    "# Unified configuration dictionary\n",
    "my_conf = {\n",
    "\n",
    "    # Target platform\n",
    "    \"platform\"    : 'android',\n",
    "\n",
    "    # Location of external tools (adb, fastboot, systrace, etc)\n",
    "    # These properties can be used to override the environment variables:\n",
    "    # ANDROID_HOME and CATAPULT_HOME\n",
    "    \"ANDROID_HOME\"  : \"/opt/android-sdk-linux\",\n",
    "    \"CATAPULT_HOME\" : \"/home/derkling/Code/catapult\",\n",
    "\n",
    "    # Boards specific settings can be collected into a JSON\n",
    "    # platform description file, to be placed under:\n",
    "    # LISA_HOME/libs/utils/platforms\n",
    "    \"board\"       : 'hikey',\n",
    "    \n",
    "    # If you have multiple Android device connected, here\n",
    "    # we can specify which one to target\n",
    "    \"device\"      : ADB_DEVICE,\n",
    "\n",
    "    # Folder where all the results will be collected\n",
    "    \"results_dir\" : \"ReleaseNotes_v16.09\",\n",
    "}"
   ]
  },
  {
   "cell_type": "code",
   "execution_count": 7,
   "metadata": {
    "collapsed": false
   },
   "outputs": [
    {
     "name": "stderr",
     "output_type": "stream",
     "text": [
      "2016-09-23 18:26:53,404 INFO    :         Target - Using base path: /home/derkling/Code/lisa\n",
      "2016-09-23 18:26:53,404 INFO    :         Target - Loading custom (inline) target configuration\n",
      "2016-09-23 18:26:53,404 INFO    :         Target - External tools using:\n",
      "2016-09-23 18:26:53,405 INFO    :         Target -    ANDROID_HOME: /opt/android-sdk-linux\n",
      "2016-09-23 18:26:53,405 INFO    :         Target -    CATAPULT_HOME: /home/derkling/Code/lisa/tools/catapult\n",
      "2016-09-23 18:26:53,405 INFO    :       Platform - Loading board:\n",
      "2016-09-23 18:26:53,405 INFO    :       Platform -    /home/derkling/Code/lisa/libs/utils/platforms/hikey.json\n",
      "2016-09-23 18:26:53,406 INFO    :         Target - Devlib modules to load: [u'bl', u'cpufreq']\n",
      "2016-09-23 18:26:53,406 INFO    :         Target - Connecting Android target [607A87C400055E6E]\n",
      "2016-09-23 18:26:53,406 INFO    :         Target - Connection settings:\n",
      "2016-09-23 18:26:53,406 INFO    :         Target -    {'device': '607A87C400055E6E'}\n",
      "2016-09-23 18:26:53,951 INFO    :         Target - Initializing target workdir:\n",
      "2016-09-23 18:26:53,952 INFO    :         Target -    /data/local/tmp/devlib-target\n",
      "2016-09-23 18:26:54,746 INFO    :         Target - Topology:\n",
      "2016-09-23 18:26:54,747 INFO    :         Target -    [[0, 1, 2, 3], [4, 5, 6, 7]]\n",
      "2016-09-23 18:26:54,946 INFO    :       Platform - Loading default EM:\n",
      "2016-09-23 18:26:54,946 INFO    :       Platform -    /home/derkling/Code/lisa/libs/utils/platforms/hikey.json\n",
      "2016-09-23 18:26:54,947 WARNING :        TestEnv - Wipe previous contents of the results folder:\n",
      "2016-09-23 18:26:54,947 WARNING :        TestEnv -    /home/derkling/Code/lisa/results/ReleaseNotes_v16.09\n",
      "2016-09-23 18:26:54,960 INFO    :            AEP - AEP configuration\n",
      "2016-09-23 18:26:54,960 INFO    :            AEP -     {'instrument': 'aep', 'channel_map': {'LITTLE': 'LITTLE'}, 'conf': {'resistor_values': [0.033], 'device_entry': '/dev/ttyACM0'}}\n",
      "2016-09-23 18:26:54,967 INFO    :            AEP - Channels selected for energy sampling:\n",
      "[CHAN(LITTLE_current), CHAN(LITTLE_power), CHAN(LITTLE_voltage)]\n",
      "2016-09-23 18:26:54,967 INFO    :        TestEnv - Set results folder to:\n",
      "2016-09-23 18:26:54,968 INFO    :        TestEnv -    /home/derkling/Code/lisa/results/ReleaseNotes_v16.09\n",
      "2016-09-23 18:26:54,968 INFO    :        TestEnv - Experiment results available also in:\n",
      "2016-09-23 18:26:54,968 INFO    :        TestEnv -    /home/derkling/Code/lisa/results_latest\n"
     ]
    }
   ],
   "source": [
    "from env import TestEnv\n",
    "\n",
    "te = TestEnv(my_conf, force_new=True)\n",
    "target = te.target"
   ]
  },
  {
   "cell_type": "markdown",
   "metadata": {},
   "source": [
    "# Energy Meters Support"
   ]
  },
  {
   "cell_type": "markdown",
   "metadata": {},
   "source": [
    "- Simple unified interface for multiple acquisition board\n",
    "    - exposes two simple methods: **reset()** and **report()**\n",
    "    - reporting **energy** consumptions\n",
    "    - reports additional info supported by the specific probe,<br>\n",
    "      e.g. collected samples, stats on current and voltages, etc."
   ]
  },
  {
   "cell_type": "code",
   "execution_count": 8,
   "metadata": {
    "collapsed": true
   },
   "outputs": [],
   "source": [
    "from time import sleep\n",
    "\n",
    "def sample_energy(energy_meter, time_s):\n",
    "    \n",
    "    # Reset the configured energy counters\n",
    "    energy_meter.reset()\n",
    "\n",
    "    # Run the workload you want to measure\n",
    "    #\n",
    "    # In this simple example we just wait some time while the\n",
    "    # energy counters accumulate power samples\n",
    "    sleep(time_s)\n",
    "\n",
    "    # Read and report the measured energy (since last reset)\n",
    "    return energy_meter.report(te.res_dir)"
   ]
  },
  {
   "cell_type": "markdown",
   "metadata": {},
   "source": [
    "- Channels mapping support\n",
    "    - allows to give a custom name to each channel used"
   ]
  },
  {
   "cell_type": "markdown",
   "metadata": {},
   "source": [
    "## ARM Energy Probe (AEP)"
   ]
  },
  {
   "cell_type": "markdown",
   "metadata": {},
   "source": [
    "Requirements:\n",
    "1. the **caimin binary tool** must be availabe in PATH<br>\n",
    "   https://github.com/ARM-software/lisa/wiki/Energy-Meters-Requirements#arm-energy-probe-aep\n",
    "2. the **ttyACMx device** created once you plug in the AEP device"
   ]
  },
  {
   "cell_type": "code",
   "execution_count": 15,
   "metadata": {
    "collapsed": false
   },
   "outputs": [
    {
     "name": "stdout",
     "output_type": "stream",
     "text": [
      "crw-rw---- 1 root dialout 166, 1 Sep 23 18:28 /dev/ttyACM1\r\n"
     ]
    }
   ],
   "source": [
    "!ls -la /dev/ttyACM*"
   ]
  },
  {
   "cell_type": "code",
   "execution_count": 16,
   "metadata": {
    "collapsed": true
   },
   "outputs": [],
   "source": [
    "ACM_DEVICE = '/dev/ttyACM1'"
   ]
  },
  {
   "cell_type": "markdown",
   "metadata": {},
   "source": [
    "### Direct usage"
   ]
  },
  {
   "cell_type": "code",
   "execution_count": 17,
   "metadata": {
    "collapsed": false
   },
   "outputs": [
    {
     "name": "stderr",
     "output_type": "stream",
     "text": [
      "2016-09-23 18:28:22,422 INFO    :            AEP - AEP configuration\n",
      "2016-09-23 18:28:22,422 INFO    :            AEP -     {'channel_map': {'BAT': 'CH0'}, 'conf': {'resistor_values': [0.01], 'device_entry': '/dev/ttyACM1'}}\n",
      "2016-09-23 18:28:22,472 INFO    :            AEP - Channels selected for energy sampling:\n",
      "[CHAN(BAT_current), CHAN(BAT_power), CHAN(BAT_voltage)]\n"
     ]
    }
   ],
   "source": [
    "# Energy Meters Configuration for ARM Energy Probe\n",
    "aep_conf = {\n",
    "    'conf' : {\n",
    "        # Value of the shunt resistor [Ohm] for each channel\n",
    "        'resistor_values' : [0.010],\n",
    "        # Device entry assigned to the probe on the host\n",
    "        'device_entry'    : ACM_DEVICE,\n",
    "    },\n",
    "    'channel_map' : {\n",
    "            'BAT' : 'CH0'\n",
    "    }\n",
    "}\n",
    "\n",
    "from energy import AEP\n",
    "ape_em = AEP(target, aep_conf, '/tmp')"
   ]
  },
  {
   "cell_type": "code",
   "execution_count": 18,
   "metadata": {
    "collapsed": false
   },
   "outputs": [
    {
     "name": "stdout",
     "output_type": "stream",
     "text": [
      "EnergyReport(channels={'BAT': 0.00341733929419313}, report_file='/home/derkling/Code/lisa/results/ReleaseNotes_v16.09/energy.json')\n"
     ]
    }
   ],
   "source": [
    "nrg_report = sample_energy(ape_em, 2)\n",
    "print nrg_report"
   ]
  },
  {
   "cell_type": "code",
   "execution_count": 19,
   "metadata": {
    "collapsed": false
   },
   "outputs": [
    {
     "name": "stdout",
     "output_type": "stream",
     "text": [
      "{\r\n",
      "    \"BAT\": 0.00341733929419313\r\n",
      "}"
     ]
    }
   ],
   "source": [
    "!cat $nrg_report.report_file"
   ]
  },
  {
   "cell_type": "markdown",
   "metadata": {},
   "source": [
    "### Usage via TestEnv"
   ]
  },
  {
   "cell_type": "code",
   "execution_count": 43,
   "metadata": {
    "collapsed": false
   },
   "outputs": [],
   "source": [
    "my_conf = {\n",
    "\n",
    "    # Configure the energy meter to use\n",
    "    \"emeter\" : {\n",
    "        \n",
    "        # Require usage of an AEP meter\n",
    "        \"instrument\" : \"aep\",\n",
    "        \n",
    "        # Configuration parameters require by the AEP device\n",
    "        \"conf\" : {\n",
    "            # Value of the shunt resistor in Ohm\n",
    "            'resistor_values' : [0.099],\n",
    "            # Device entry assigned to the probe on the host\n",
    "            'device_entry'    : ACM_DEVICE,\n",
    "        },\n",
    "        \n",
    "        # Map AEP's channels to logical names (used to generate reports)\n",
    "        'channel_map' : {\n",
    "            'BAT' : 'CH0'\n",
    "        }\n",
    "    },\n",
    "\n",
    "    # Other target configurations\n",
    "    \"platform\"      : 'android',\n",
    "    \"board\"         : 'hikey',\n",
    "    \"device\"        : ADB_DEVICE,\n",
    "    \"results_dir\"   : \"ReleaseNotes_v16.09\",\n",
    "    \"ANDROID_HOME\"  : \"/opt/android-sdk-linux\",\n",
    "    \"CATAPULT_HOME\" : \"/home/derkling/Code/catapult\",\n",
    "}"
   ]
  },
  {
   "cell_type": "code",
   "execution_count": 46,
   "metadata": {
    "collapsed": false
   },
   "outputs": [
    {
     "name": "stderr",
     "output_type": "stream",
     "text": [
      "2016-09-23 18:53:00,113 INFO    :         Target - Using base path: /home/derkling/Code/lisa\n",
      "2016-09-23 18:53:00,113 INFO    :         Target - Loading custom (inline) target configuration\n",
      "2016-09-23 18:53:00,113 INFO    :         Target - External tools using:\n",
      "2016-09-23 18:53:00,114 INFO    :         Target -    ANDROID_HOME: /opt/android-sdk-linux\n",
      "2016-09-23 18:53:00,114 INFO    :         Target -    CATAPULT_HOME: /home/derkling/Code/lisa/tools/catapult\n",
      "2016-09-23 18:53:00,114 INFO    :       Platform - Loading board:\n",
      "2016-09-23 18:53:00,115 INFO    :       Platform -    /home/derkling/Code/lisa/libs/utils/platforms/hikey.json\n",
      "2016-09-23 18:53:00,116 INFO    :         Target - Devlib modules to load: [u'bl', u'cpufreq']\n",
      "2016-09-23 18:53:00,116 INFO    :         Target - Connecting Android target [00b43d0b08a8a4b8]\n",
      "2016-09-23 18:53:00,117 INFO    :         Target - Connection settings:\n",
      "2016-09-23 18:53:00,118 INFO    :         Target -    {'device': '00b43d0b08a8a4b8'}\n",
      "2016-09-23 18:53:00,352 INFO    :         Target - Initializing target workdir:\n",
      "2016-09-23 18:53:00,353 INFO    :         Target -    /data/local/tmp/devlib-target\n",
      "2016-09-23 18:53:01,166 INFO    :         Target - Topology:\n",
      "2016-09-23 18:53:01,166 INFO    :         Target -    [[0, 1, 2, 3], [4, 5, 6, 7]]\n",
      "2016-09-23 18:53:01,275 INFO    :       Platform - Loading default EM:\n",
      "2016-09-23 18:53:01,276 INFO    :       Platform -    /home/derkling/Code/lisa/libs/utils/platforms/hikey.json\n",
      "2016-09-23 18:53:01,277 WARNING :        TestEnv - Wipe previous contents of the results folder:\n",
      "2016-09-23 18:53:01,277 WARNING :        TestEnv -    /home/derkling/Code/lisa/results/ReleaseNotes_v16.09\n",
      "2016-09-23 18:53:01,278 INFO    :            AEP - AEP configuration\n",
      "2016-09-23 18:53:01,278 INFO    :            AEP -     {'instrument': 'aep', 'channel_map': {'BAT': 'CH0'}, 'conf': {'resistor_values': [0.099], 'device_entry': '/dev/ttyACM1'}}\n",
      "2016-09-23 18:53:01,283 INFO    :            AEP - Channels selected for energy sampling:\n",
      "[CHAN(BAT_current), CHAN(BAT_power), CHAN(BAT_voltage)]\n",
      "2016-09-23 18:53:01,284 INFO    :        TestEnv - Set results folder to:\n",
      "2016-09-23 18:53:01,284 INFO    :        TestEnv -    /home/derkling/Code/lisa/results/ReleaseNotes_v16.09\n",
      "2016-09-23 18:53:01,284 INFO    :        TestEnv - Experiment results available also in:\n",
      "2016-09-23 18:53:01,284 INFO    :        TestEnv -    /home/derkling/Code/lisa/results_latest\n"
     ]
    }
   ],
   "source": [
    "from env import TestEnv\n",
    "\n",
    "te = TestEnv(my_conf, force_new=True)"
   ]
  },
  {
   "cell_type": "code",
   "execution_count": null,
   "metadata": {
    "collapsed": false
   },
   "outputs": [],
   "source": [
    "for i in xrange(1,11):\n",
    "    nrg_report = sample_energy(te.emeter, 1)\n",
    "    nrg_bat = float(nrg_report.channels['BAT'])\n",
    "    print \"Sample {:2d}: {:.3f}\".format(i, nrg_bat)"
   ]
  },
  {
   "cell_type": "markdown",
   "metadata": {},
   "source": [
    "## BayLibre's ACME board (ACME)"
   ]
  },
  {
   "cell_type": "markdown",
   "metadata": {},
   "source": [
    "Requirements:\n",
    "1. the **iio-capture tool** must be available in PATH<br>\n",
    "   https://github.com/ARM-software/lisa/wiki/Energy-Meters-Requirements#iiocapture---baylibre-acme-cape\n",
    "2. the ACME CAPE should be reacable by network"
   ]
  },
  {
   "cell_type": "code",
   "execution_count": 22,
   "metadata": {
    "collapsed": false
   },
   "outputs": [
    {
     "name": "stdout",
     "output_type": "stream",
     "text": [
      "64 bytes from 192.168.0.1: icmp_seq=1 ttl=64 time=1.60 ms\r\n"
     ]
    }
   ],
   "source": [
    "!ping -c1 baylibre-acme.local | grep '64 bytes'"
   ]
  },
  {
   "cell_type": "markdown",
   "metadata": {},
   "source": [
    "### Direct usage"
   ]
  },
  {
   "cell_type": "code",
   "execution_count": 23,
   "metadata": {
    "collapsed": false
   },
   "outputs": [
    {
     "name": "stderr",
     "output_type": "stream",
     "text": [
      "2016-09-23 18:49:31,422 INFO    :           ACME - ACME configuration:\n",
      "2016-09-23 18:49:31,422 INFO    :           ACME -     binary: iio-capture\n",
      "2016-09-23 18:49:31,422 INFO    :           ACME -     device: baylibre-acme.local\n",
      "2016-09-23 18:49:31,423 INFO    :           ACME -   channels:\n",
      "2016-09-23 18:49:31,423 INFO    :           ACME -      Device1 (iio:device1)\n",
      "2016-09-23 18:49:31,423 INFO    :           ACME -      Device0 (iio:device0)\n"
     ]
    }
   ],
   "source": [
    "# Energy Meters Configuration for BayLibre's ACME\n",
    "acme_conf = {\n",
    "        \"conf\" : {\n",
    "            #'iio-capture' : '/usr/bin/iio-capture',\n",
    "            #'ip_address' : 'baylibre-acme.local',\n",
    "        },\n",
    "        \"channel_map\" : {\n",
    "            \"Device0\" : 0,\n",
    "            \"Device1\" : 1,\n",
    "        },\n",
    "}\n",
    "\n",
    "from energy import ACME\n",
    "acme_em = ACME(target, acme_conf, '/tmp')"
   ]
  },
  {
   "cell_type": "code",
   "execution_count": 24,
   "metadata": {
    "collapsed": false
   },
   "outputs": [
    {
     "name": "stdout",
     "output_type": "stream",
     "text": [
      "EnergyReport(channels={'Device1': 654.82, 'Device0': 0.0}, report_file='/home/derkling/Code/lisa/results/ReleaseNotes_v16.09/energy.json')\n"
     ]
    }
   ],
   "source": [
    "nrg_report = sample_energy(acme_em, 2)\n",
    "print nrg_report"
   ]
  },
  {
   "cell_type": "code",
   "execution_count": 25,
   "metadata": {
    "collapsed": false
   },
   "outputs": [
    {
     "name": "stdout",
     "output_type": "stream",
     "text": [
      "{\r\n",
      "    \"Device0\": 0.0, \r\n",
      "    \"Device1\": 654.82\r\n",
      "}"
     ]
    }
   ],
   "source": [
    "!cat $nrg_report.report_file"
   ]
  },
  {
   "cell_type": "markdown",
   "metadata": {},
   "source": [
    "### Usage via TestEnv"
   ]
  },
  {
   "cell_type": "code",
   "execution_count": 4,
   "metadata": {
    "collapsed": false,
    "run_control": {
     "marked": false
    }
   },
   "outputs": [],
   "source": [
    "my_conf = {\n",
    "\n",
    "    # Configure the energy meter to use\n",
    "    \"emeter\" : {\n",
    "        \n",
    "        # Require usage of an AEP meter\n",
    "        \"instrument\" : \"acme\",\n",
    "        \n",
    "        \"conf\" : {\n",
    "            #'iio-capture' : '/usr/bin/iio-capture',\n",
    "            #'ip_address' : 'baylibre-acme.local',\n",
    "        },\n",
    "        'channel_map' : {\n",
    "            'Device0' : 0,\n",
    "            'Device1' : 1,\n",
    "        },\n",
    "    },\n",
    "\n",
    "    # Other target configurations\n",
    "    \"platform\"      : 'android',\n",
    "    \"board\"         : 'hikey',\n",
    "    \"device\"        : ADB_DEVICE,\n",
    "    \"results_dir\"   : \"ReleaseNotes_v16.09\",\n",
    "    \"ANDROID_HOME\"  : \"/opt/android-sdk-linux\",\n",
    "    \"CATAPULT_HOME\" : \"/home/derkling/Code/catapult\",\n",
    "}"
   ]
  },
  {
   "cell_type": "code",
   "execution_count": 5,
   "metadata": {
    "collapsed": false,
    "run_control": {
     "marked": false
    }
   },
   "outputs": [
    {
     "name": "stderr",
     "output_type": "stream",
     "text": [
      "2016-09-23 18:54:37,835 INFO    :         Target - Using base path: /home/derkling/Code/lisa\n",
      "2016-09-23 18:54:37,835 INFO    :         Target - Loading custom (inline) target configuration\n",
      "2016-09-23 18:54:37,836 INFO    :         Target - External tools using:\n",
      "2016-09-23 18:54:37,836 INFO    :         Target -    ANDROID_HOME: /opt/android-sdk-linux\n",
      "2016-09-23 18:54:37,836 INFO    :         Target -    CATAPULT_HOME: /home/derkling/Code/lisa/tools/catapult\n",
      "2016-09-23 18:54:37,837 INFO    :       Platform - Loading board:\n",
      "2016-09-23 18:54:37,837 INFO    :       Platform -    /home/derkling/Code/lisa/libs/utils/platforms/hikey.json\n",
      "2016-09-23 18:54:37,838 INFO    :         Target - Devlib modules to load: [u'bl', u'cpufreq']\n",
      "2016-09-23 18:54:37,838 INFO    :         Target - Connecting Android target [00b43d0b08a8a4b8]\n",
      "2016-09-23 18:54:37,839 INFO    :         Target - Connection settings:\n",
      "2016-09-23 18:54:37,839 INFO    :         Target -    {'device': '00b43d0b08a8a4b8'}\n",
      "2016-09-23 18:54:38,177 INFO    :         Target - Initializing target workdir:\n",
      "2016-09-23 18:54:38,177 INFO    :         Target -    /data/local/tmp/devlib-target\n",
      "2016-09-23 18:54:39,025 INFO    :         Target - Topology:\n",
      "2016-09-23 18:54:39,026 INFO    :         Target -    [[0, 1, 2, 3], [4, 5, 6, 7]]\n",
      "2016-09-23 18:54:39,134 INFO    :       Platform - Loading default EM:\n",
      "2016-09-23 18:54:39,135 INFO    :       Platform -    /home/derkling/Code/lisa/libs/utils/platforms/hikey.json\n",
      "2016-09-23 18:54:39,135 WARNING :        TestEnv - Wipe previous contents of the results folder:\n",
      "2016-09-23 18:54:39,135 WARNING :        TestEnv -    /home/derkling/Code/lisa/results/ReleaseNotes_v16.09\n",
      "2016-09-23 18:54:39,136 INFO    :           ACME - ACME configuration:\n",
      "2016-09-23 18:54:39,136 INFO    :           ACME -     binary: iio-capture\n",
      "2016-09-23 18:54:39,136 INFO    :           ACME -     device: baylibre-acme.local\n",
      "2016-09-23 18:54:39,137 INFO    :           ACME -   channels:\n",
      "2016-09-23 18:54:39,137 INFO    :           ACME -      Device1 (iio:device1)\n",
      "2016-09-23 18:54:39,137 INFO    :           ACME -      Device0 (iio:device0)\n",
      "2016-09-23 18:54:39,142 INFO    :        TestEnv - Set results folder to:\n",
      "2016-09-23 18:54:39,142 INFO    :        TestEnv -    /home/derkling/Code/lisa/results/ReleaseNotes_v16.09\n",
      "2016-09-23 18:54:39,143 INFO    :        TestEnv - Experiment results available also in:\n",
      "2016-09-23 18:54:39,143 INFO    :        TestEnv -    /home/derkling/Code/lisa/results_latest\n"
     ]
    }
   ],
   "source": [
    "from env import TestEnv\n",
    "\n",
    "te = TestEnv(my_conf, force_new=True)\n",
    "target = te.target"
   ]
  },
  {
   "cell_type": "code",
   "execution_count": 28,
   "metadata": {
    "collapsed": false
   },
   "outputs": [
    {
     "name": "stdout",
     "output_type": "stream",
     "text": [
      "Sample  1: 342.110\n",
      "Sample  2: 325.660\n",
      "Sample  3: 324.120\n",
      "Sample  4: 369.300\n",
      "Sample  5: 331.140\n",
      "Sample  6: 315.130\n",
      "Sample  7: 326.100\n",
      "Sample  8: 345.180\n",
      "Sample  9: 328.730\n",
      "Sample 10: 328.510\n"
     ]
    }
   ],
   "source": [
    "for i in xrange(1,11):\n",
    "    nrg_report = sample_energy(te.emeter, 1)\n",
    "    nrg_bat = float(nrg_report.channels['Device1'])\n",
    "    print \"Sample {:2d}: {:.3f}\".format(i, nrg_bat)"
   ]
  },
  {
   "cell_type": "markdown",
   "metadata": {},
   "source": [
    "# Android Integration"
   ]
  },
  {
   "cell_type": "markdown",
   "metadata": {},
   "source": [
    "A new Android library has been added which provides APIs to:\n",
    "    - simplify the interaction with a device\n",
    "    - execute interesting workloads and benchmarks\n",
    "    - make it easy the integration of new workloads and benchmarks\n",
    "    \n",
    "Not intended to replace WA, but instead to provide a Python based<br>\n",
    "programming interface to **automate reproducible experiments** on<br>\n",
    "and Android device."
   ]
  },
  {
   "cell_type": "markdown",
   "metadata": {},
   "source": [
    "## System control APIs"
   ]
  },
  {
   "cell_type": "code",
   "execution_count": 6,
   "metadata": {
    "collapsed": false
   },
   "outputs": [
    {
     "name": "stdout",
     "output_type": "stream",
     "text": [
      "Supported functions:\n",
      "    back\n",
      "    force_stop\n",
      "    gfxinfo_get\n",
      "    gfxinfo_reset\n",
      "    home\n",
      "    hswipe\n",
      "    list_packages\n",
      "    menu\n",
      "    monkey\n",
      "    packages_info\n",
      "    set_airplane_mode\n",
      "    start_action\n",
      "    start_activity\n",
      "    start_app\n",
      "    tap\n",
      "    vswipe\n"
     ]
    }
   ],
   "source": [
    "from android import System\n",
    "\n",
    "print \"Supported functions:\"\n",
    "for f in dir(System):\n",
    "    if \"__\" in f:\n",
    "        continue\n",
    "    print \"   \", f"
   ]
  },
  {
   "cell_type": "markdown",
   "metadata": {},
   "source": [
    "Capturing main useful actions, for example:\n",
    "    - ensure we set AIRPLAIN_MODE before measuring scheduler energy\n",
    "    - provide simple support for input actions (relative swipes)"
   ]
  },
  {
   "cell_type": "code",
   "execution_count": 34,
   "metadata": {
    "collapsed": true
   },
   "outputs": [],
   "source": [
    "# logging.getLogger().setLevel(logging.DEBUG)"
   ]
  },
  {
   "cell_type": "code",
   "execution_count": null,
   "metadata": {
    "collapsed": false
   },
   "outputs": [],
   "source": [
    "# Example (use tab to complete)\n",
    "System."
   ]
  },
  {
   "cell_type": "code",
   "execution_count": 7,
   "metadata": {
    "collapsed": false
   },
   "outputs": [],
   "source": [
    "System.menu(target)\n",
    "System.back(target)"
   ]
  },
  {
   "cell_type": "code",
   "execution_count": 8,
   "metadata": {
    "collapsed": false
   },
   "outputs": [],
   "source": [
    "youtube_apk = System.list_packages(target, 'YouTube')\n",
    "if youtube_apk:\n",
    "    System.start_app(target, youtube_apk[0])"
   ]
  },
  {
   "cell_type": "code",
   "execution_count": 45,
   "metadata": {
    "collapsed": true
   },
   "outputs": [],
   "source": [
    "logging.getLogger().setLevel(logging.INFO)"
   ]
  },
  {
   "cell_type": "markdown",
   "metadata": {},
   "source": [
    "## Screen control APIs"
   ]
  },
  {
   "cell_type": "code",
   "execution_count": 9,
   "metadata": {
    "collapsed": false
   },
   "outputs": [
    {
     "name": "stdout",
     "output_type": "stream",
     "text": [
      "Supported functions:\n",
      "    set_brightness\n",
      "    set_defaults\n",
      "    set_dim\n",
      "    set_orientation\n",
      "    set_timeout\n"
     ]
    }
   ],
   "source": [
    "from android import Screen\n",
    "\n",
    "print \"Supported functions:\"\n",
    "for f in dir(Screen):\n",
    "    if \"__\" in f:\n",
    "        continue\n",
    "    print \"   \", f"
   ]
  },
  {
   "cell_type": "code",
   "execution_count": null,
   "metadata": {
    "collapsed": true
   },
   "outputs": [],
   "source": [
    "# logging.getLogger().setLevel(logging.DEBUG)"
   ]
  },
  {
   "cell_type": "code",
   "execution_count": null,
   "metadata": {
    "collapsed": false
   },
   "outputs": [],
   "source": [
    "# Example (use TAB to complete)\n",
    "Screen."
   ]
  },
  {
   "cell_type": "code",
   "execution_count": 10,
   "metadata": {
    "collapsed": false
   },
   "outputs": [
    {
     "name": "stderr",
     "output_type": "stream",
     "text": [
      "2016-09-23 18:55:19,490 INFO    : Set brightness: 100%\n"
     ]
    }
   ],
   "source": [
    "Screen.set_brightness(target, auto=False, percent=100)"
   ]
  },
  {
   "cell_type": "code",
   "execution_count": 11,
   "metadata": {
    "collapsed": false
   },
   "outputs": [
    {
     "name": "stderr",
     "output_type": "stream",
     "text": [
      "2016-09-23 18:55:19,494 INFO    : Force manual orientation\n",
      "2016-09-23 18:55:19,494 INFO    : Set orientation: LANDSCAPE\n"
     ]
    }
   ],
   "source": [
    "Screen.set_orientation(target, auto=False, portrait=False)"
   ]
  },
  {
   "cell_type": "code",
   "execution_count": null,
   "metadata": {
    "collapsed": true
   },
   "outputs": [],
   "source": [
    "# logging.getLogger().setLevel(logging.INFO)"
   ]
  },
  {
   "cell_type": "markdown",
   "metadata": {},
   "source": [
    "## Workloads Execution"
   ]
  },
  {
   "cell_type": "markdown",
   "metadata": {},
   "source": [
    "A simple workload class allows to easily add a wrapper for the exection\n",
    "of a specific Android application.\n",
    "\n",
    "**NOTE:** To keep things simple, LISA does not provide APKs installation support.\n",
    "\n",
    "*All the exposes APIs assume that the required packages are already installed<br>\n",
    "in the target. Whenever a package is missing, LISA reports that and it's up<br>\n",
    "to the user to install it before using it.*\n",
    "\n",
    "A wrapper class usually requires to specify:\n",
    "- a package name<br>\n",
    "  which will be used to verify if the APK is available in the target\n",
    "- a run method<br>\n",
    "  which usually exploits the other Android APIs to defined a **reproducible\n",
    "  exection** of the specified workload\n",
    "      \n",
    "A reproducible experiment should take care of:\n",
    "- setups wirelesse **connections status**\n",
    "- setup **screen orientation and backlight** level\n",
    "- properly collect **energy measurements** across the sensible part of the experiment\n",
    "- possibly collect **frames statistics** whenever available"
   ]
  },
  {
   "cell_type": "markdown",
   "metadata": {},
   "source": [
    "### Example of YouTube integration"
   ]
  },
  {
   "cell_type": "markdown",
   "metadata": {
    "collapsed": true
   },
   "source": [
    "Here is an example wrapper which allows to play a YouTube<br>\n",
    "video for a specified number of seconds:\n",
    "\n",
    "https://github.com/ARM-software/lisa/blob/master/libs/utils/android/workloads/youtube.py"
   ]
  },
  {
   "cell_type": "markdown",
   "metadata": {},
   "source": [
    "### Example usage of the Workload API"
   ]
  },
  {
   "cell_type": "code",
   "execution_count": 40,
   "metadata": {
    "collapsed": true
   },
   "outputs": [],
   "source": [
    "# logging.getLogger().setLevel(logging.DEBUG)"
   ]
  },
  {
   "cell_type": "code",
   "execution_count": 12,
   "metadata": {
    "collapsed": false
   },
   "outputs": [
    {
     "name": "stderr",
     "output_type": "stream",
     "text": [
      "2016-09-23 18:55:25,384 WARNING :       Workload - Package [com.android.benchmark] not installed\n",
      "2016-09-23 18:55:25,385 WARNING :       Workload - Workload [Jankbench] disabled\n",
      "2016-09-23 18:55:25,385 INFO    :       Workload - Workloads available on target:\n",
      "2016-09-23 18:55:25,385 INFO    :       Workload -   ['YouTube', 'UiBench']\n"
     ]
    },
    {
     "data": {
      "text/plain": [
       "['YouTube', 'UiBench']"
      ]
     },
     "execution_count": 12,
     "metadata": {},
     "output_type": "execute_result"
    }
   ],
   "source": [
    "from android import Workload\n",
    "\n",
    "# Get the list of available workloads\n",
    "wloads = Workload(te)\n",
    "wloads.availables(target)"
   ]
  },
  {
   "cell_type": "code",
   "execution_count": 16,
   "metadata": {
    "collapsed": false
   },
   "outputs": [
    {
     "name": "stderr",
     "output_type": "stream",
     "text": [
      "2016-09-23 18:55:58,229 INFO    :       Workload - Workloads available on target:\n",
      "2016-09-23 18:55:58,230 INFO    :       Workload -   ['YouTube', 'UiBench']\n",
      "2016-09-23 18:56:00,090 INFO    : Force manual orientation\n",
      "2016-09-23 18:56:00,091 INFO    : Set orientation: LANDSCAPE\n",
      "2016-09-23 18:56:05,068 INFO    : Play video for 16 [s]\n",
      "2016-09-23 18:56:27,121 INFO    : Set orientation: AUTO\n"
     ]
    }
   ],
   "source": [
    "yt = Workload.get(te, name='YouTube')\n",
    "\n",
    "# Playback big bug bunny for 15s starting from 1:20s\n",
    "video_id = 'XSGBVzeBUbk'\n",
    "video_url = \"https://youtu.be/{}?t={}s\".format(video_id, 80)\n",
    "\n",
    "# Play video and measure energy consumption\n",
    "results = yt.run(te.res_dir,\n",
    "                 video_url, video_duration_s=16,\n",
    "                 collect='energy')"
   ]
  },
  {
   "cell_type": "code",
   "execution_count": 17,
   "metadata": {
    "collapsed": false
   },
   "outputs": [
    {
     "data": {
      "text/plain": [
       "('/home/derkling/Code/lisa/results/ReleaseNotes_v16.09/framestats.txt',\n",
       " EnergyReport(channels={'Device1': 4363.82, 'Device0': 0.0}, report_file='/home/derkling/Code/lisa/results/ReleaseNotes_v16.09/energy.json'))"
      ]
     },
     "execution_count": 17,
     "metadata": {},
     "output_type": "execute_result"
    }
   ],
   "source": [
    "results"
   ]
  },
  {
   "cell_type": "code",
   "execution_count": 18,
   "metadata": {
    "collapsed": false
   },
   "outputs": [
    {
     "name": "stdout",
     "output_type": "stream",
     "text": [
      "Applications Graphics Acceleration Info:\r\n",
      "Uptime: 135646296 Realtime: 248599085\r\n",
      "\r\n",
      "** Graphics info for pid 23414 [com.google.android.youtube] **\r\n",
      "\r\n",
      "Stats since: 135590611534135ns\r\n",
      "Total frames rendered: 342\r\n",
      "Janky frames: 59 (17.25%)\r\n",
      "50th percentile: 8ms\r\n",
      "90th percentile: 21ms\r\n",
      "95th percentile: 40ms\r\n",
      "99th percentile: 125ms\r\n",
      "Number Missed Vsync: 21\r\n",
      "Number High input latency: 0\r\n",
      "Number Slow UI thread: 27\r\n",
      "Number Slow bitmap uploads: 2\r\n",
      "Number Slow issue draw commands: 28\r\n",
      "HISTOGRAM: 5ms=70 6ms=32 7ms=35 8ms=38 9ms=31 10ms=21 11ms=21 12ms=14 13ms=10 14ms=7 15ms=3 16ms=4 17ms=3 18ms=3 19ms=7 20ms=4 21ms=7 22ms=0 23ms=3 24ms=1 25ms=2 26ms=2 27ms=1 28ms=0 29ms=2 30ms=0 31ms=0 32ms=0 34ms=2 36ms=0 38ms=0 40ms=2 42ms=0 44ms=0 46ms=2 48ms=1 53ms=2 57ms=2 61ms=0 65ms=1 69ms=0 73ms=0 77ms=2 81ms=0 85ms=2 89ms=0 93ms=0 97ms=0 101ms=0 105ms=0 109ms=0 113ms=0 117ms=0 121ms=1 125ms=1 129ms=0 133ms=0 150ms=2 200ms=0 250ms=1 300ms=0 350ms=0 400ms=0 450ms=0 500ms=0 550ms=0 600ms=0 650ms=0 700ms=0 750ms=0 800ms=0 850ms=0 900ms=0 950ms=0 1000ms=0 1050ms=0 1100ms=0 1150ms=0 1200ms=0 1250ms=0 1300ms=0 1350ms=0 1400ms=0 1450ms=0 1500ms=0 1550ms=0 1600ms=0 1650ms=0 1700ms=0 1750ms=0 1800ms=0 1850ms=0 1900ms=0 1950ms=0 2000ms=0 2050ms=0 2100ms=0 2150ms=0 2200ms=0 2250ms=0 2300ms=0 2350ms=0 2400ms=0 2450ms=0 2500ms=0 2550ms=0 2600ms=0 2650ms=0 2700ms=0 2750ms=0 2800ms=0 2850ms=0 2900ms=0 2950ms=0 3000ms=0 3050ms=0 3100ms=0 3150ms=0 3200ms=0 3250ms=0 3300ms=0 3350ms=0 3400ms=0 3450ms=0 3500ms=0 3550ms=0 3600ms=0 3650ms=0 3700ms=0 3750ms=0 3800ms=0 3850ms=0 3900ms=0 3950ms=0 4000ms=0 4050ms=0 4100ms=0 4150ms=0 4200ms=0 4250ms=0 4300ms=0 4350ms=0 4400ms=0 4450ms=0 4500ms=0 4550ms=0 4600ms=0 4650ms=0 4700ms=0 4750ms=0 4800ms=0 4850ms=0 4900ms=0 4950ms=0\r\n",
      "\r\n",
      "Caches:\r\n",
      "Current memory usage / total memory usage (bytes):\r\n",
      "  TextureCache          3484348 / 58720256\r\n",
      "  LayerCache                  0 / 33554432 (numLayers = 0)\r\n",
      "  Layers total          0 (numLayers = 0)\r\n",
      "  RenderBufferCache           0 /  8388608\r\n",
      "  GradientCache           16384 /  1048576\r\n",
      "  PathCache                   0 / 16777216\r\n",
      "  TessellationCache        2232 /  1048576\r\n",
      "  TextDropShadowCache         0 /  6291456\r\n",
      "  PatchCache                 64 /   131072\r\n",
      "  FontRenderer A8     1048576 /  1048576\r\n",
      "  FontRenderer RGBA         0 /        0\r\n",
      "  FontRenderer total  1048576 /  1048576\r\n",
      "Other:\r\n",
      "  FboCache                    0 /        0\r\n",
      "Total memory usage:\r\n",
      "  4551604 bytes, 4.34 MB\r\n",
      "\r\n",
      "\r\n",
      "Pipeline=FrameBuilder\r\n",
      "Profile data in ms:\r\n",
      "\r\n",
      "\tcom.google.android.youtube/com.google.android.apps.youtube.app.WatchWhileActivity/android.view.ViewRootImpl@74c8306 (visibility=0)\r\n",
      "View hierarchy:\r\n",
      "\r\n",
      "  com.google.android.youtube/com.google.android.apps.youtube.app.WatchWhileActivity/android.view.ViewRootImpl@74c8306\r\n",
      "  275 views, 271.73 kB of display lists\r\n",
      "\r\n",
      "\r\n",
      "Total ViewRootImpl: 1\r\n",
      "Total Views:        275\r\n",
      "Total DisplayList:  271.73 kB\r\n",
      "\r\n"
     ]
    }
   ],
   "source": [
    "framestats = results[0]\n",
    "!cat $framestats"
   ]
  },
  {
   "cell_type": "markdown",
   "metadata": {},
   "source": [
    "## Benchmarks"
   ]
  },
  {
   "cell_type": "markdown",
   "metadata": {},
   "source": [
    "Android benchmarks can be integrated as standalone Notebook, like for example\n",
    "what we provide for PCMark:\n",
    "    https://github.com/ARM-software/lisa/blob/master/ipynb/android/benchmarks/Android_PCMark.ipynb\n",
    "\n",
    "Alternatively we are adding other benchmarks as predefined Android workloads."
   ]
  },
  {
   "cell_type": "markdown",
   "metadata": {},
   "source": [
    "### UiBench support"
   ]
  },
  {
   "cell_type": "markdown",
   "metadata": {},
   "source": [
    "Here is an example of UiBench workload which can run a specified number\n",
    "of tests:\n",
    "    "
   ]
  },
  {
   "cell_type": "code",
   "execution_count": 19,
   "metadata": {
    "collapsed": false,
    "run_control": {
     "marked": false
    }
   },
   "outputs": [
    {
     "name": "stderr",
     "output_type": "stream",
     "text": [
      "2016-09-23 18:56:28,488 INFO    :       Workload - Workloads available on target:\n",
      "2016-09-23 18:56:28,489 INFO    :       Workload -   ['YouTube', 'UiBench']\n",
      "2016-09-23 18:56:30,765 WARNING : Failed to toggle airplane mode, permission denied.\n",
      "2016-09-23 18:56:31,460 INFO    : Force manual orientation\n",
      "2016-09-23 18:56:31,461 INFO    : Set orientation: PORTRAIT\n",
      "2016-09-23 18:56:33,738 INFO    : adb -s 00b43d0b08a8a4b8 logcat ActivityManager:* System.out:I *:S BENCH:*\n",
      "2016-09-23 18:56:35,453 INFO    : Benchmark [.GlTextureViewActivity] started, waiting 5 [s]\n",
      "2016-09-23 18:56:46,364 INFO    : Set orientation: AUTO\n"
     ]
    }
   ],
   "source": [
    "from android import Workload\n",
    "\n",
    "ui = Workload.get(te, name='UiBench')\n",
    "\n",
    "# Play video and measure energy consumption\n",
    "results = ui.run(te.res_dir,\n",
    "                 ui.test_GlTextureView,\n",
    "                 duration_s=5,\n",
    "                 collect='energy')"
   ]
  },
  {
   "cell_type": "code",
   "execution_count": 20,
   "metadata": {
    "collapsed": false
   },
   "outputs": [
    {
     "data": {
      "text/plain": [
       "('/home/derkling/Code/lisa/results/ReleaseNotes_v16.09/framestats.txt',\n",
       " EnergyReport(channels={'Device1': 1479.17, 'Device0': 0.0}, report_file='/home/derkling/Code/lisa/results/ReleaseNotes_v16.09/energy.json'))"
      ]
     },
     "execution_count": 20,
     "metadata": {},
     "output_type": "execute_result"
    }
   ],
   "source": [
    "results"
   ]
  },
  {
   "cell_type": "code",
   "execution_count": 21,
   "metadata": {
    "collapsed": false
   },
   "outputs": [
    {
     "name": "stdout",
     "output_type": "stream",
     "text": [
      "Applications Graphics Acceleration Info:\r\n",
      "Uptime: 135665445 Realtime: 248618234\r\n",
      "\r\n",
      "** Graphics info for pid 23836 [com.android.test.uibench] **\r\n",
      "\r\n",
      "Stats since: 135653517039151ns\r\n",
      "Total frames rendered: 620\r\n",
      "Janky frames: 580 (93.55%)\r\n",
      "50th percentile: 19ms\r\n",
      "90th percentile: 21ms\r\n",
      "95th percentile: 22ms\r\n",
      "99th percentile: 26ms\r\n",
      "Number Missed Vsync: 2\r\n",
      "Number High input latency: 0\r\n",
      "Number Slow UI thread: 3\r\n",
      "Number Slow bitmap uploads: 1\r\n",
      "Number Slow issue draw commands: 574\r\n",
      "HISTOGRAM: 5ms=11 6ms=2 7ms=3 8ms=1 9ms=4 10ms=2 11ms=1 12ms=1 13ms=3 14ms=3 15ms=5 16ms=8 17ms=45 18ms=109 19ms=192 20ms=147 21ms=49 22ms=14 23ms=8 24ms=3 25ms=1 26ms=3 27ms=0 28ms=1 29ms=2 30ms=1 31ms=0 32ms=0 34ms=0 36ms=0 38ms=0 40ms=0 42ms=0 44ms=0 46ms=0 48ms=1 53ms=0 57ms=0 61ms=0 65ms=0 69ms=0 73ms=0 77ms=0 81ms=0 85ms=0 89ms=0 93ms=0 97ms=0 101ms=0 105ms=0 109ms=0 113ms=0 117ms=0 121ms=0 125ms=0 129ms=0 133ms=0 150ms=0 200ms=0 250ms=0 300ms=0 350ms=0 400ms=0 450ms=0 500ms=0 550ms=0 600ms=0 650ms=0 700ms=0 750ms=0 800ms=0 850ms=0 900ms=0 950ms=0 1000ms=0 1050ms=0 1100ms=0 1150ms=0 1200ms=0 1250ms=0 1300ms=0 1350ms=0 1400ms=0 1450ms=0 1500ms=0 1550ms=0 1600ms=0 1650ms=0 1700ms=0 1750ms=0 1800ms=0 1850ms=0 1900ms=0 1950ms=0 2000ms=0 2050ms=0 2100ms=0 2150ms=0 2200ms=0 2250ms=0 2300ms=0 2350ms=0 2400ms=0 2450ms=0 2500ms=0 2550ms=0 2600ms=0 2650ms=0 2700ms=0 2750ms=0 2800ms=0 2850ms=0 2900ms=0 2950ms=0 3000ms=0 3050ms=0 3100ms=0 3150ms=0 3200ms=0 3250ms=0 3300ms=0 3350ms=0 3400ms=0 3450ms=0 3500ms=0 3550ms=0 3600ms=0 3650ms=0 3700ms=0 3750ms=0 3800ms=0 3850ms=0 3900ms=0 3950ms=0 4000ms=0 4050ms=0 4100ms=0 4150ms=0 4200ms=0 4250ms=0 4300ms=0 4350ms=0 4400ms=0 4450ms=0 4500ms=0 4550ms=0 4600ms=0 4650ms=0 4700ms=0 4750ms=0 4800ms=0 4850ms=0 4900ms=0 4950ms=0\r\n",
      "\r\n",
      "Caches:\r\n",
      "Current memory usage / total memory usage (bytes):\r\n",
      "  TextureCache                0 / 58720256\r\n",
      "  LayerCache                  0 / 33554432 (numLayers = 0)\r\n",
      "    Layer size 1080x1584; isTextureLayer()=1; texid=4 fbo=0; refs=1\r\n",
      "  Layers total    6842880 (numLayers = 1)\r\n",
      "  RenderBufferCache           0 /  8388608\r\n",
      "  GradientCache               0 /  1048576\r\n",
      "  PathCache                   0 / 16777216\r\n",
      "  TessellationCache           0 /  1048576\r\n",
      "  TextDropShadowCache         0 /  6291456\r\n",
      "  PatchCache                  0 /   131072\r\n",
      "  FontRenderer A8     1048576 /  1048576\r\n",
      "  FontRenderer RGBA         0 /        0\r\n",
      "  FontRenderer total  1048576 /  1048576\r\n",
      "Other:\r\n",
      "  FboCache                    0 /        0\r\n",
      "Total memory usage:\r\n",
      "  7891456 bytes, 7.53 MB\r\n",
      "\r\n",
      "\r\n",
      "Pipeline=FrameBuilder\r\n",
      "Profile data in ms:\r\n",
      "\r\n",
      "\tcom.android.test.uibench/com.android.test.uibench.MainActivity/android.view.ViewRootImpl@abf726f (visibility=8)\r\n",
      "\tcom.android.test.uibench/com.android.test.uibench.GlTextureViewActivity/android.view.ViewRootImpl@31bc075 (visibility=0)\r\n",
      "View hierarchy:\r\n",
      "\r\n",
      "  com.android.test.uibench/com.android.test.uibench.MainActivity/android.view.ViewRootImpl@abf726f\r\n",
      "  24 views, 23.25 kB of display lists\r\n",
      "\r\n",
      "  com.android.test.uibench/com.android.test.uibench.GlTextureViewActivity/android.view.ViewRootImpl@31bc075\r\n",
      "  14 views, 17.86 kB of display lists\r\n",
      "\r\n",
      "\r\n",
      "Total ViewRootImpl: 2\r\n",
      "Total Views:        38\r\n",
      "Total DisplayList:  41.11 kB\r\n",
      "\r\n"
     ]
    }
   ],
   "source": [
    "framestats = results[0]\n",
    "!cat $framestats"
   ]
  },
  {
   "cell_type": "markdown",
   "metadata": {},
   "source": [
    "# Improved Trace Analysis support"
   ]
  },
  {
   "cell_type": "markdown",
   "metadata": {},
   "source": [
    "The Trace module is a wrapper around the TRAPpy library which has been\n",
    "updated to:\n",
    "\n",
    "- support parsing of **systrace** file format<br>\n",
    "  requires catapult locally installed<br>\n",
    "  https://github.com/catapult-project/catapult\n",
    "- parsing and DataFrame generation for **custom events**"
   ]
  },
  {
   "cell_type": "markdown",
   "metadata": {},
   "source": [
    "## Create an example trace"
   ]
  },
  {
   "cell_type": "markdown",
   "metadata": {},
   "source": [
    "**NOTE:** the cells in this sections are required just to create\n",
    "    a trace file to be used by the following sections"
   ]
  },
  {
   "cell_type": "code",
   "execution_count": 22,
   "metadata": {
    "collapsed": true
   },
   "outputs": [],
   "source": [
    "# The following exanples uses an HiKey board\n",
    "ADB_DEVICE = '607A87C400055E6E'"
   ]
  },
  {
   "cell_type": "code",
   "execution_count": null,
   "metadata": {
    "collapsed": true
   },
   "outputs": [],
   "source": [
    "# logging.getLogger().setLevel(logging.DEBUG)"
   ]
  },
  {
   "cell_type": "code",
   "execution_count": 23,
   "metadata": {
    "collapsed": false,
    "run_control": {
     "marked": false
    }
   },
   "outputs": [],
   "source": [
    "# Unified configuration dictionary\n",
    "my_conf = {\n",
    "    \n",
    "    # Tools required\n",
    "    \"tools\" : ['rt-app', 'trace-cmd'],\n",
    "    \n",
    "    # RTApp calibration\n",
    "    #\"modules\" : ['cpufreq'],\n",
    "    \"rtapp-calib\" : {\n",
    "        \"0\": 254, \"1\": 252, \"2\": 252, \"3\": 251,\n",
    "        \"4\": 251, \"5\": 252, \"6\": 251, \"7\": 251\n",
    "    },\n",
    "    \n",
    "    # FTrace configuration\n",
    "    \"ftrace\"  : {\n",
    "        \n",
    "        # Events to trace\n",
    "         \"events\" : [\n",
    "            \"sched_switch\",\n",
    "            \"sched_wakeup\",\n",
    "            \"sched_wakeup_new\",\n",
    "            \"sched_wakeup_tracking\",            \n",
    "            \"sched_stat_wait\",\n",
    "            \"sched_overutilized\",\n",
    "            \"sched_contrib_scale_f\",\n",
    "            \"sched_load_avg_cpu\",\n",
    "            \"sched_load_avg_task\",\n",
    "            \"sched_tune_config\",\n",
    "            \"sched_tune_filter\",\n",
    "            \"sched_tune_tasks_update\",\n",
    "            \"sched_tune_boostgroup_update\",\n",
    "            \"sched_boost_cpu\",\n",
    "            \"sched_boost_task\",\n",
    "            \"sched_energy_diff\",\n",
    "            \"cpu_capacity\",\n",
    "            \"cpu_frequency\",\n",
    "            \"cpu_idle\",\n",
    "            \"walt_update_task_ravg\",\n",
    "            \"walt_update_history\",\n",
    "            \"walt_migration_update_sum\",\n",
    "         ],\n",
    "        \n",
    "#         # Kernel functions to profile\n",
    "#         \"functions\" : [\n",
    "#             \"pick_next_task_fair\",\n",
    "#             \"select_task_rq_fair\",\n",
    "#             \"enqueue_task_fair\",\n",
    "#             \"update_curr_fair\",\n",
    "#             \"dequeue_task_fair\",\n",
    "#         ],\n",
    "        \n",
    "        # Per-CPU buffer configuration\n",
    "        \"buffsize\" : 10 * 1024,\n",
    "    },\n",
    "        \n",
    "    # Target platform\n",
    "    \"platform\"      : 'android',\n",
    "    \"board\"         : 'hikey',\n",
    "    \"device\"        : ADB_DEVICE,\n",
    "    \"results_dir\"   : \"ReleaseNotes_v16.09\",\n",
    "    \"ANDROID_HOME\"  : \"/opt/android-sdk-linux\",\n",
    "    \"CATAPULT_HOME\" : \"/home/derkling/Code/catapult\",\n",
    "}"
   ]
  },
  {
   "cell_type": "code",
   "execution_count": 24,
   "metadata": {
    "collapsed": false,
    "run_control": {
     "marked": false
    }
   },
   "outputs": [
    {
     "name": "stderr",
     "output_type": "stream",
     "text": [
      "2016-09-23 18:57:53,914 INFO    :         Target - Using base path: /home/derkling/Code/lisa\n",
      "2016-09-23 18:57:53,914 INFO    :         Target - Loading custom (inline) target configuration\n",
      "2016-09-23 18:57:53,914 INFO    :         Target - External tools using:\n",
      "2016-09-23 18:57:53,915 INFO    :         Target -    ANDROID_HOME: /opt/android-sdk-linux\n",
      "2016-09-23 18:57:53,915 INFO    :         Target -    CATAPULT_HOME: /home/derkling/Code/lisa/tools/catapult\n",
      "2016-09-23 18:57:53,915 INFO    :       Platform - Loading board:\n",
      "2016-09-23 18:57:53,915 INFO    :       Platform -    /home/derkling/Code/lisa/libs/utils/platforms/hikey.json\n",
      "2016-09-23 18:57:53,916 INFO    :         Target - Devlib modules to load: [u'bl', u'cpufreq']\n",
      "2016-09-23 18:57:53,916 INFO    :         Target - Connecting Android target [607A87C400055E6E]\n",
      "2016-09-23 18:57:53,916 INFO    :         Target - Connection settings:\n",
      "2016-09-23 18:57:53,917 INFO    :         Target -    {'device': '607A87C400055E6E'}\n",
      "2016-09-23 18:57:54,188 INFO    :         Target - Initializing target workdir:\n",
      "2016-09-23 18:57:54,189 INFO    :         Target -    /data/local/tmp/devlib-target\n",
      "2016-09-23 18:57:56,401 INFO    :         Target - Topology:\n",
      "2016-09-23 18:57:56,401 INFO    :         Target -    [[0, 1, 2, 3], [4, 5, 6, 7]]\n",
      "2016-09-23 18:57:56,601 INFO    :       Platform - Loading default EM:\n",
      "2016-09-23 18:57:56,602 INFO    :       Platform -    /home/derkling/Code/lisa/libs/utils/platforms/hikey.json\n",
      "2016-09-23 18:57:56,985 WARNING : Event [sched_wakeup_tracking] not available for tracing\n",
      "2016-09-23 18:57:56,993 INFO    :         FTrace - Enabled tracepoints:\n",
      "2016-09-23 18:57:56,993 INFO    :         FTrace -   sched_switch\n",
      "2016-09-23 18:57:56,993 INFO    :         FTrace -   sched_wakeup\n",
      "2016-09-23 18:57:56,994 INFO    :         FTrace -   sched_wakeup_new\n",
      "2016-09-23 18:57:56,994 INFO    :         FTrace -   sched_wakeup_tracking\n",
      "2016-09-23 18:57:56,995 INFO    :         FTrace -   sched_stat_wait\n",
      "2016-09-23 18:57:56,995 INFO    :         FTrace -   sched_overutilized\n",
      "2016-09-23 18:57:56,995 INFO    :         FTrace -   sched_contrib_scale_f\n",
      "2016-09-23 18:57:56,996 INFO    :         FTrace -   sched_load_avg_cpu\n",
      "2016-09-23 18:57:56,996 INFO    :         FTrace -   sched_load_avg_task\n",
      "2016-09-23 18:57:56,997 INFO    :         FTrace -   sched_tune_config\n",
      "2016-09-23 18:57:56,997 INFO    :         FTrace -   sched_tune_filter\n",
      "2016-09-23 18:57:56,997 INFO    :         FTrace -   sched_tune_tasks_update\n",
      "2016-09-23 18:57:56,998 INFO    :         FTrace -   sched_tune_boostgroup_update\n",
      "2016-09-23 18:57:56,998 INFO    :         FTrace -   sched_boost_cpu\n",
      "2016-09-23 18:57:56,999 INFO    :         FTrace -   sched_boost_task\n",
      "2016-09-23 18:57:56,999 INFO    :         FTrace -   sched_energy_diff\n",
      "2016-09-23 18:57:56,999 INFO    :         FTrace -   cpu_capacity\n",
      "2016-09-23 18:57:57,000 INFO    :         FTrace -   cpu_frequency\n",
      "2016-09-23 18:57:57,000 INFO    :         FTrace -   cpu_idle\n",
      "2016-09-23 18:57:57,000 INFO    :         FTrace -   walt_update_task_ravg\n",
      "2016-09-23 18:57:57,001 INFO    :         FTrace -   walt_update_history\n",
      "2016-09-23 18:57:57,001 INFO    :         FTrace -   walt_migration_update_sum\n",
      "2016-09-23 18:57:57,002 WARNING :         Target - Using configuration provided RTApp calibration\n",
      "2016-09-23 18:57:57,002 INFO    :         Target - Using RT-App calibration values:\n",
      "2016-09-23 18:57:57,002 INFO    :         Target -    {\"0\": 254, \"1\": 252, \"2\": 252, \"3\": 251, \"4\": 251, \"5\": 252, \"6\": 251, \"7\": 251}\n",
      "2016-09-23 18:57:57,003 WARNING :        TestEnv - Wipe previous contents of the results folder:\n",
      "2016-09-23 18:57:57,003 WARNING :        TestEnv -    /home/derkling/Code/lisa/results/ReleaseNotes_v16.09\n",
      "2016-09-23 18:57:57,004 INFO    :            AEP - AEP configuration\n",
      "2016-09-23 18:57:57,004 INFO    :            AEP -     {'instrument': 'aep', 'channel_map': {'LITTLE': 'LITTLE'}, 'conf': {'resistor_values': [0.033], 'device_entry': '/dev/ttyACM0'}}\n",
      "2016-09-23 18:57:57,011 INFO    :            AEP - Channels selected for energy sampling:\n",
      "[CHAN(LITTLE_current), CHAN(LITTLE_power), CHAN(LITTLE_voltage)]\n",
      "2016-09-23 18:57:57,012 INFO    :        TestEnv - Set results folder to:\n",
      "2016-09-23 18:57:57,012 INFO    :        TestEnv -    /home/derkling/Code/lisa/results/ReleaseNotes_v16.09\n",
      "2016-09-23 18:57:57,013 INFO    :        TestEnv - Experiment results available also in:\n",
      "2016-09-23 18:57:57,013 INFO    :        TestEnv -    /home/derkling/Code/lisa/results_latest\n"
     ]
    }
   ],
   "source": [
    "from env import TestEnv\n",
    "\n",
    "te = TestEnv(my_conf, force_new=True)\n",
    "target = te.target"
   ]
  },
  {
   "cell_type": "code",
   "execution_count": 25,
   "metadata": {
    "collapsed": false,
    "run_control": {
     "marked": false
    }
   },
   "outputs": [
    {
     "name": "stderr",
     "output_type": "stream",
     "text": [
      "2016-09-23 18:57:58,066 INFO    :          WlGen - Setup new workload ramp\n",
      "2016-09-23 18:57:58,067 INFO    :          RTApp - Workload duration defined by longest task\n",
      "2016-09-23 18:57:58,067 INFO    :          RTApp - Default policy: SCHED_OTHER\n",
      "2016-09-23 18:57:58,067 INFO    :          RTApp - ------------------------\n",
      "2016-09-23 18:57:58,068 INFO    :          RTApp - task [ramp], sched: using default policy\n",
      "2016-09-23 18:57:58,068 INFO    :          RTApp -  | calibration CPU: 4\n",
      "2016-09-23 18:57:58,068 INFO    :          RTApp -  | loops count: 1\n",
      "2016-09-23 18:57:58,068 INFO    :          RTApp -  + phase_000001: sleep 1.000000 [s]\n",
      "2016-09-23 18:57:58,068 INFO    :          RTApp - + phase_000002: duration 1.000000 [s] (10 loops)\n",
      "2016-09-23 18:57:58,069 INFO    :          RTApp - |  period   100000 [us], duty_cycle  10 %\n",
      "2016-09-23 18:57:58,069 INFO    :          RTApp - |  run_time  10000 [us], sleep_time  90000 [us]\n",
      "2016-09-23 18:57:58,069 INFO    :          RTApp - + phase_000003: duration 1.000000 [s] (10 loops)\n",
      "2016-09-23 18:57:58,069 INFO    :          RTApp - |  period   100000 [us], duty_cycle  20 %\n",
      "2016-09-23 18:57:58,070 INFO    :          RTApp - |  run_time  20000 [us], sleep_time  80000 [us]\n",
      "2016-09-23 18:57:58,070 INFO    :          RTApp - + phase_000004: duration 1.000000 [s] (10 loops)\n",
      "2016-09-23 18:57:58,070 INFO    :          RTApp - |  period   100000 [us], duty_cycle  30 %\n",
      "2016-09-23 18:57:58,070 INFO    :          RTApp - |  run_time  30000 [us], sleep_time  70000 [us]\n",
      "2016-09-23 18:57:58,070 INFO    :          RTApp - + phase_000005: duration 1.000000 [s] (10 loops)\n",
      "2016-09-23 18:57:58,071 INFO    :          RTApp - |  period   100000 [us], duty_cycle  40 %\n",
      "2016-09-23 18:57:58,071 INFO    :          RTApp - |  run_time  40000 [us], sleep_time  60000 [us]\n",
      "2016-09-23 18:57:58,071 INFO    :          RTApp - + phase_000006: duration 1.000000 [s] (10 loops)\n",
      "2016-09-23 18:57:58,071 INFO    :          RTApp - |  period   100000 [us], duty_cycle  50 %\n",
      "2016-09-23 18:57:58,072 INFO    :          RTApp - |  run_time  50000 [us], sleep_time  50000 [us]\n",
      "2016-09-23 18:57:58,072 INFO    :          RTApp - + phase_000007: duration 1.000000 [s] (10 loops)\n",
      "2016-09-23 18:57:58,072 INFO    :          RTApp - |  period   100000 [us], duty_cycle  60 %\n",
      "2016-09-23 18:57:58,072 INFO    :          RTApp - |  run_time  60000 [us], sleep_time  40000 [us]\n",
      "2016-09-23 18:57:58,072 INFO    :          RTApp - + phase_000008: duration 1.000000 [s] (10 loops)\n",
      "2016-09-23 18:57:58,073 INFO    :          RTApp - |  period   100000 [us], duty_cycle  70 %\n",
      "2016-09-23 18:57:58,073 INFO    :          RTApp - |  run_time  70000 [us], sleep_time  30000 [us]\n",
      "2016-09-23 18:57:58,073 INFO    :          RTApp - + phase_000009: duration 1.000000 [s] (10 loops)\n",
      "2016-09-23 18:57:58,073 INFO    :          RTApp - |  period   100000 [us], duty_cycle  80 %\n",
      "2016-09-23 18:57:58,073 INFO    :          RTApp - |  run_time  80000 [us], sleep_time  20000 [us]\n",
      "2016-09-23 18:57:58,074 INFO    :          RTApp - + phase_000010: duration 1.000000 [s] (10 loops)\n",
      "2016-09-23 18:57:58,074 INFO    :          RTApp - |  period   100000 [us], duty_cycle  90 %\n",
      "2016-09-23 18:57:58,074 INFO    :          RTApp - |  run_time  90000 [us], sleep_time  10000 [us]\n",
      "2016-09-23 18:57:58,074 INFO    :          RTApp -  + phase_000011: batch 1.000000 [s]\n"
     ]
    }
   ],
   "source": [
    "from wlgen import RTA,Ramp\n",
    "\n",
    "# Let's run a simple RAMP task\n",
    "rta = RTA(target, 'ramp')\n",
    "rta.conf(\n",
    "    kind='profile',\n",
    "    params = {\n",
    "        'ramp' : Ramp().get()\n",
    "    }\n",
    ");"
   ]
  },
  {
   "cell_type": "code",
   "execution_count": 26,
   "metadata": {
    "collapsed": false,
    "run_control": {
     "marked": false
    }
   },
   "outputs": [
    {
     "name": "stderr",
     "output_type": "stream",
     "text": [
      "2016-09-23 18:58:00,939 INFO    :          WlGen - Workload execution START:\n",
      "2016-09-23 18:58:00,939 INFO    :          WlGen -    /data/local/tmp/bin/rt-app /data/local/tmp/devlib-target/ramp_00.json 2>&1\n"
     ]
    }
   ],
   "source": [
    "te.ftrace.start()\n",
    "\n",
    "target.execute(\"echo 'my_marker: label=START' > /sys/kernel/debug/tracing/trace_marker\",\n",
    "              as_root=True)\n",
    "rta.run(out_dir=te.res_dir)\n",
    "target.execute(\"echo 'my_marker: label=STOP' > /sys/kernel/debug/tracing/trace_marker\",\n",
    "               as_root=True)\n",
    "\n",
    "te.ftrace.stop()\n",
    "\n",
    "trace_file = os.path.join(te.res_dir, 'trace.dat')\n",
    "te.ftrace.get_trace(trace_file)"
   ]
  },
  {
   "cell_type": "markdown",
   "metadata": {},
   "source": [
    "## DataFrame namespace"
   ]
  },
  {
   "cell_type": "code",
   "execution_count": 27,
   "metadata": {
    "collapsed": false,
    "run_control": {
     "marked": false
    }
   },
   "outputs": [
    {
     "name": "stderr",
     "output_type": "stream",
     "text": [
      "2016-09-23 18:58:17,976 INFO    : Parsing FTrace format...\n",
      "2016-09-23 18:58:20,633 WARNING : Cluster Frequency is not coherent! Failure in [cpu_frequency] events at:\n",
      "2016-09-23 18:58:20,634 WARNING :             __comm  __cpu  __pid  cpu  frequency\n",
      "Time                                            \n",
      "10.619162  shutils      1  10380    4    1200000\n",
      "10.619241  shutils      1  10380    5    1200000\n",
      "10.619319  shutils      1  10380    6    1200000\n",
      "10.619397  shutils      1  10380    7     960000\n",
      "2016-09-23 18:58:20,638 INFO    : Collected events spans a 10.725 [s] time interval\n",
      "2016-09-23 18:58:20,639 INFO    : Overutilized time: 5.322431 [s] (49.626% of trace time)\n",
      "2016-09-23 18:58:20,639 INFO    : Set plots time range to (0.000000, 10.725080)[s]\n",
      "2016-09-23 18:58:20,639 INFO    : Registering trace analysis modules:\n",
      "2016-09-23 18:58:20,643 INFO    :    perf\n",
      "2016-09-23 18:58:20,644 INFO    :    latency\n",
      "2016-09-23 18:58:20,644 INFO    :    eas\n",
      "2016-09-23 18:58:20,645 INFO    :    tasks\n",
      "2016-09-23 18:58:20,645 INFO    :    cpus\n",
      "2016-09-23 18:58:20,646 INFO    :    functions\n",
      "2016-09-23 18:58:20,646 INFO    :    status\n",
      "2016-09-23 18:58:20,646 INFO    :    stune\n",
      "2016-09-23 18:58:20,647 INFO    :    frequency\n"
     ]
    },
    {
     "name": "stdout",
     "output_type": "stream",
     "text": [
      "Maximum estimated system energy: 5584\n"
     ]
    }
   ],
   "source": [
    "from trace import Trace\n",
    "\n",
    "events_to_parse  = my_conf['ftrace']['events']\n",
    "events_to_parse += ['my_marker'] \n",
    "\n",
    "trace = Trace(te.platform, trace_file, events=events_to_parse)"
   ]
  },
  {
   "cell_type": "code",
   "execution_count": 28,
   "metadata": {
    "collapsed": false,
    "run_control": {
     "marked": false
    }
   },
   "outputs": [
    {
     "data": {
      "text/plain": [
       "['sched_load_avg_task',\n",
       " 'cpu_capacity',\n",
       " 'cpu_idle',\n",
       " 'sched_wakeup_new',\n",
       " 'sched_contrib_scale_f',\n",
       " 'cpu_frequency',\n",
       " 'sched_boost_cpu',\n",
       " 'sched_boost_task',\n",
       " 'sched_switch',\n",
       " 'sched_energy_diff',\n",
       " 'sched_stat_wait',\n",
       " 'sched_load_avg_cpu',\n",
       " 'my_marker',\n",
       " 'sched_overutilized',\n",
       " 'sched_wakeup']"
      ]
     },
     "execution_count": 28,
     "metadata": {},
     "output_type": "execute_result"
    }
   ],
   "source": [
    "trace.available_events"
   ]
  },
  {
   "cell_type": "code",
   "execution_count": null,
   "metadata": {
    "collapsed": false
   },
   "outputs": [],
   "source": [
    "# Use TAB to complete\n",
    "trace.data_frame."
   ]
  },
  {
   "cell_type": "code",
   "execution_count": 30,
   "metadata": {
    "collapsed": false
   },
   "outputs": [
    {
     "data": {
      "text/html": [
       "<div>\n",
       "<table border=\"1\" class=\"dataframe\">\n",
       "  <thead>\n",
       "    <tr style=\"text-align: right;\">\n",
       "      <th></th>\n",
       "      <th>prio</th>\n",
       "      <th>comm</th>\n",
       "    </tr>\n",
       "    <tr>\n",
       "      <th>pid</th>\n",
       "      <th></th>\n",
       "      <th></th>\n",
       "    </tr>\n",
       "  </thead>\n",
       "  <tbody>\n",
       "    <tr>\n",
       "      <th>10</th>\n",
       "      <td>0</td>\n",
       "      <td>migration/0</td>\n",
       "    </tr>\n",
       "    <tr>\n",
       "      <th>11</th>\n",
       "      <td>0</td>\n",
       "      <td>watchdog/0</td>\n",
       "    </tr>\n",
       "    <tr>\n",
       "      <th>12</th>\n",
       "      <td>0</td>\n",
       "      <td>watchdog/1</td>\n",
       "    </tr>\n",
       "    <tr>\n",
       "      <th>13</th>\n",
       "      <td>0</td>\n",
       "      <td>migration/1</td>\n",
       "    </tr>\n",
       "    <tr>\n",
       "      <th>17</th>\n",
       "      <td>0</td>\n",
       "      <td>watchdog/2</td>\n",
       "    </tr>\n",
       "  </tbody>\n",
       "</table>\n",
       "</div>"
      ],
      "text/plain": [
       "     prio         comm\n",
       "pid                   \n",
       "10      0  migration/0\n",
       "11      0   watchdog/0\n",
       "12      0   watchdog/1\n",
       "13      0  migration/1\n",
       "17      0   watchdog/2"
      ]
     },
     "execution_count": 30,
     "metadata": {},
     "output_type": "execute_result"
    }
   ],
   "source": [
    "rt_tasks = trace.data_frame.rt_tasks()\n",
    "rt_tasks.head()"
   ]
  },
  {
   "cell_type": "code",
   "execution_count": 31,
   "metadata": {
    "collapsed": false
   },
   "outputs": [
    {
     "data": {
      "text/html": [
       "<div>\n",
       "<table border=\"1\" class=\"dataframe\">\n",
       "  <thead>\n",
       "    <tr style=\"text-align: right;\">\n",
       "      <th></th>\n",
       "      <th>target_cpu</th>\n",
       "      <th>__cpu</th>\n",
       "      <th>curr_state</th>\n",
       "      <th>next_state</th>\n",
       "      <th>t_start</th>\n",
       "      <th>t_delta</th>\n",
       "    </tr>\n",
       "    <tr>\n",
       "      <th>Time</th>\n",
       "      <th></th>\n",
       "      <th></th>\n",
       "      <th></th>\n",
       "      <th></th>\n",
       "      <th></th>\n",
       "      <th></th>\n",
       "    </tr>\n",
       "  </thead>\n",
       "  <tbody>\n",
       "    <tr>\n",
       "      <th>0.326839</th>\n",
       "      <td>NaN</td>\n",
       "      <td>1</td>\n",
       "      <td>A</td>\n",
       "      <td>S</td>\n",
       "      <td>0.326839</td>\n",
       "      <td>0.000204</td>\n",
       "    </tr>\n",
       "    <tr>\n",
       "      <th>0.327043</th>\n",
       "      <td>NaN</td>\n",
       "      <td>1</td>\n",
       "      <td>S</td>\n",
       "      <td>W</td>\n",
       "      <td>0.327043</td>\n",
       "      <td>1.000443</td>\n",
       "    </tr>\n",
       "    <tr>\n",
       "      <th>1.327486</th>\n",
       "      <td>1</td>\n",
       "      <td>NaN</td>\n",
       "      <td>W</td>\n",
       "      <td>A</td>\n",
       "      <td>1.327486</td>\n",
       "      <td>0.000068</td>\n",
       "    </tr>\n",
       "    <tr>\n",
       "      <th>1.327554</th>\n",
       "      <td>NaN</td>\n",
       "      <td>1</td>\n",
       "      <td>A</td>\n",
       "      <td>R</td>\n",
       "      <td>1.327554</td>\n",
       "      <td>0.000776</td>\n",
       "    </tr>\n",
       "    <tr>\n",
       "      <th>1.328330</th>\n",
       "      <td>NaN</td>\n",
       "      <td>1</td>\n",
       "      <td>R</td>\n",
       "      <td>A</td>\n",
       "      <td>1.328330</td>\n",
       "      <td>0.000154</td>\n",
       "    </tr>\n",
       "  </tbody>\n",
       "</table>\n",
       "</div>"
      ],
      "text/plain": [
       "          target_cpu  __cpu curr_state next_state   t_start   t_delta\n",
       "Time                                                                 \n",
       "0.326839         NaN      1          A          S  0.326839  0.000204\n",
       "0.327043         NaN      1          S          W  0.327043  1.000443\n",
       "1.327486           1    NaN          W          A  1.327486  0.000068\n",
       "1.327554         NaN      1          A          R  1.327554  0.000776\n",
       "1.328330         NaN      1          R          A  1.328330  0.000154"
      ]
     },
     "execution_count": 31,
     "metadata": {},
     "output_type": "execute_result"
    }
   ],
   "source": [
    "lat_df = trace.data_frame.latency_df('ramp')\n",
    "lat_df.head()"
   ]
  },
  {
   "cell_type": "code",
   "execution_count": 32,
   "metadata": {
    "collapsed": false
   },
   "outputs": [
    {
     "data": {
      "text/html": [
       "<div>\n",
       "<table border=\"1\" class=\"dataframe\">\n",
       "  <thead>\n",
       "    <tr style=\"text-align: right;\">\n",
       "      <th></th>\n",
       "      <th>__comm</th>\n",
       "      <th>__cpu</th>\n",
       "      <th>__pid</th>\n",
       "      <th>label</th>\n",
       "    </tr>\n",
       "    <tr>\n",
       "      <th>Time</th>\n",
       "      <th></th>\n",
       "      <th></th>\n",
       "      <th></th>\n",
       "      <th></th>\n",
       "    </tr>\n",
       "  </thead>\n",
       "  <tbody>\n",
       "    <tr>\n",
       "      <th>0.155194</th>\n",
       "      <td>sh</td>\n",
       "      <td>2</td>\n",
       "      <td>10362</td>\n",
       "      <td>START</td>\n",
       "    </tr>\n",
       "    <tr>\n",
       "      <th>10.546818</th>\n",
       "      <td>sh</td>\n",
       "      <td>1</td>\n",
       "      <td>10375</td>\n",
       "      <td>STOP</td>\n",
       "    </tr>\n",
       "  </tbody>\n",
       "</table>\n",
       "</div>"
      ],
      "text/plain": [
       "          __comm  __cpu  __pid  label\n",
       "Time                                 \n",
       "0.155194      sh      2  10362  START\n",
       "10.546818     sh      1  10375   STOP"
      ]
     },
     "execution_count": 32,
     "metadata": {},
     "output_type": "execute_result"
    }
   ],
   "source": [
    "custom_df = trace.data_frame.trace_event('my_marker')\n",
    "custom_df"
   ]
  },
  {
   "cell_type": "code",
   "execution_count": 33,
   "metadata": {
    "collapsed": false
   },
   "outputs": [
    {
     "data": {
      "text/html": [
       "<div>\n",
       "<table border=\"1\" class=\"dataframe\">\n",
       "  <thead>\n",
       "    <tr style=\"text-align: right;\">\n",
       "      <th></th>\n",
       "      <th>__comm</th>\n",
       "      <th>__cpu</th>\n",
       "      <th>__pid</th>\n",
       "      <th>next_comm</th>\n",
       "      <th>next_pid</th>\n",
       "      <th>next_prio</th>\n",
       "      <th>prev_comm</th>\n",
       "      <th>prev_pid</th>\n",
       "      <th>prev_prio</th>\n",
       "      <th>prev_state</th>\n",
       "    </tr>\n",
       "    <tr>\n",
       "      <th>Time</th>\n",
       "      <th></th>\n",
       "      <th></th>\n",
       "      <th></th>\n",
       "      <th></th>\n",
       "      <th></th>\n",
       "      <th></th>\n",
       "      <th></th>\n",
       "      <th></th>\n",
       "      <th></th>\n",
       "      <th></th>\n",
       "    </tr>\n",
       "  </thead>\n",
       "  <tbody>\n",
       "    <tr>\n",
       "      <th>0.000045</th>\n",
       "      <td>&lt;idle&gt;</td>\n",
       "      <td>1</td>\n",
       "      <td>0</td>\n",
       "      <td>shell srvc 1034</td>\n",
       "      <td>10345</td>\n",
       "      <td>120</td>\n",
       "      <td>swapper/1</td>\n",
       "      <td>0</td>\n",
       "      <td>120</td>\n",
       "      <td>0</td>\n",
       "    </tr>\n",
       "    <tr>\n",
       "      <th>0.000166</th>\n",
       "      <td>&lt;idle&gt;</td>\n",
       "      <td>2</td>\n",
       "      <td>0</td>\n",
       "      <td>adbd</td>\n",
       "      <td>1843</td>\n",
       "      <td>120</td>\n",
       "      <td>swapper/2</td>\n",
       "      <td>0</td>\n",
       "      <td>120</td>\n",
       "      <td>0</td>\n",
       "    </tr>\n",
       "    <tr>\n",
       "      <th>0.000200</th>\n",
       "      <td>shell</td>\n",
       "      <td>1</td>\n",
       "      <td>10345</td>\n",
       "      <td>swapper/1</td>\n",
       "      <td>0</td>\n",
       "      <td>120</td>\n",
       "      <td>shell srvc 1034</td>\n",
       "      <td>10345</td>\n",
       "      <td>120</td>\n",
       "      <td>1</td>\n",
       "    </tr>\n",
       "    <tr>\n",
       "      <th>0.000256</th>\n",
       "      <td>&lt;idle&gt;</td>\n",
       "      <td>0</td>\n",
       "      <td>0</td>\n",
       "      <td>rcu_preempt</td>\n",
       "      <td>7</td>\n",
       "      <td>120</td>\n",
       "      <td>swapper/0</td>\n",
       "      <td>0</td>\n",
       "      <td>120</td>\n",
       "      <td>0</td>\n",
       "    </tr>\n",
       "    <tr>\n",
       "      <th>0.000267</th>\n",
       "      <td>&lt;idle&gt;</td>\n",
       "      <td>1</td>\n",
       "      <td>0</td>\n",
       "      <td>rcu_sched</td>\n",
       "      <td>8</td>\n",
       "      <td>120</td>\n",
       "      <td>swapper/1</td>\n",
       "      <td>0</td>\n",
       "      <td>120</td>\n",
       "      <td>0</td>\n",
       "    </tr>\n",
       "  </tbody>\n",
       "</table>\n",
       "</div>"
      ],
      "text/plain": [
       "          __comm  __cpu  __pid        next_comm  next_pid  next_prio  \\\n",
       "Time                                                                   \n",
       "0.000045  <idle>      1      0  shell srvc 1034     10345        120   \n",
       "0.000166  <idle>      2      0             adbd      1843        120   \n",
       "0.000200   shell      1  10345        swapper/1         0        120   \n",
       "0.000256  <idle>      0      0      rcu_preempt         7        120   \n",
       "0.000267  <idle>      1      0        rcu_sched         8        120   \n",
       "\n",
       "                prev_comm  prev_pid  prev_prio  prev_state  \n",
       "Time                                                        \n",
       "0.000045        swapper/1         0        120           0  \n",
       "0.000166        swapper/2         0        120           0  \n",
       "0.000200  shell srvc 1034     10345        120           1  \n",
       "0.000256        swapper/0         0        120           0  \n",
       "0.000267        swapper/1         0        120           0  "
      ]
     },
     "execution_count": 33,
     "metadata": {},
     "output_type": "execute_result"
    }
   ],
   "source": [
    "ctxsw_df = trace.data_frame.trace_event('sched_switch')\n",
    "ctxsw_df.head()"
   ]
  },
  {
   "cell_type": "markdown",
   "metadata": {},
   "source": [
    "## Analysis namespace"
   ]
  },
  {
   "cell_type": "code",
   "execution_count": null,
   "metadata": {
    "collapsed": true
   },
   "outputs": [],
   "source": [
    "# Use TAB to complete\n",
    "trace.analysis."
   ]
  },
  {
   "cell_type": "code",
   "execution_count": 34,
   "metadata": {
    "collapsed": false,
    "run_control": {
     "marked": false
    }
   },
   "outputs": [
    {
     "name": "stderr",
     "output_type": "stream",
     "text": [
      "2016-09-23 18:58:32,103 INFO    : Plotting 10366: ramp, rt-app...\n"
     ]
    },
    {
     "data": {
      "image/png": "[encoded data removed]",
      "text/plain": [
       "<matplotlib.figure.Figure at 0x7f6199757490>"
      ]
     },
     "metadata": {},
     "output_type": "display_data"
    }
   ],
   "source": [
    "trace.analysis.tasks.plotTasks(tasks='ramp',\n",
    "                               signals=['util_avg', 'boosted_util',\n",
    "                                        'sched_overutilized', 'residencies'])"
   ]
  },
  {
   "cell_type": "code",
   "execution_count": 35,
   "metadata": {
    "collapsed": false
   },
   "outputs": [
    {
     "name": "stderr",
     "output_type": "stream",
     "text": [
      "2016-09-23 18:58:32,990 INFO    : Found:    80 WAKEUP latencies\n",
      "2016-09-23 18:58:33,019 INFO    : Found:   371 PREEMPT latencies\n",
      "2016-09-23 18:58:33,021 INFO    : Total:   451 latency events\n"
     ]
    },
    {
     "data": {
      "image/png": "[encoded data removed]",
      "text/plain": [
       "<matplotlib.figure.Figure at 0x7f6193aa9c90>"
      ]
     },
     "metadata": {},
     "output_type": "display_data"
    }
   ],
   "source": [
    "lat_data = trace.analysis.latency.plotLatency('ramp')"
   ]
  },
  {
   "cell_type": "code",
   "execution_count": 36,
   "metadata": {
    "collapsed": false
   },
   "outputs": [
    {
     "data": {
      "text/html": [
       "<div>\n",
       "<table border=\"1\" class=\"dataframe\">\n",
       "  <thead>\n",
       "    <tr style=\"text-align: right;\">\n",
       "      <th></th>\n",
       "      <th>count</th>\n",
       "      <th>mean</th>\n",
       "      <th>std</th>\n",
       "      <th>min</th>\n",
       "      <th>50%</th>\n",
       "      <th>95%</th>\n",
       "      <th>99%</th>\n",
       "      <th>max</th>\n",
       "    </tr>\n",
       "  </thead>\n",
       "  <tbody>\n",
       "    <tr>\n",
       "      <th>latency</th>\n",
       "      <td>451</td>\n",
       "      <td>0.00012</td>\n",
       "      <td>0.000347</td>\n",
       "      <td>0.000019</td>\n",
       "      <td>0.000031</td>\n",
       "      <td>0.000539</td>\n",
       "      <td>0.002132</td>\n",
       "      <td>0.003023</td>\n",
       "    </tr>\n",
       "  </tbody>\n",
       "</table>\n",
       "</div>"
      ],
      "text/plain": [
       "         count     mean       std       min       50%       95%       99%  \\\n",
       "latency    451  0.00012  0.000347  0.000019  0.000031  0.000539  0.002132   \n",
       "\n",
       "              max  \n",
       "latency  0.003023  "
      ]
     },
     "execution_count": 36,
     "metadata": {},
     "output_type": "execute_result"
    }
   ],
   "source": [
    "lat_data.T"
   ]
  },
  {
   "cell_type": "code",
   "execution_count": 37,
   "metadata": {
    "collapsed": false
   },
   "outputs": [
    {
     "name": "stderr",
     "output_type": "stream",
     "text": [
      "2016-09-23 18:58:34,935 INFO    : LITTLE cluster average frequency: 0.916 GHz\n",
      "2016-09-23 18:58:34,935 INFO    : big    cluster average frequency: 0.915 GHz\n"
     ]
    },
    {
     "data": {
      "text/plain": [
       "(0.91643081506625346, 0.91532341938266315)"
      ]
     },
     "execution_count": 37,
     "metadata": {},
     "output_type": "execute_result"
    },
    {
     "data": {
      "image/png": "[encoded data removed]",
      "text/plain": [
       "<matplotlib.figure.Figure at 0x7f6193ec8dd0>"
      ]
     },
     "metadata": {},
     "output_type": "display_data"
    }
   ],
   "source": [
    "trace.analysis.frequency.plotClusterFrequencies()"
   ]
  },
  {
   "cell_type": "code",
   "execution_count": 38,
   "metadata": {
    "collapsed": false
   },
   "outputs": [
    {
     "name": "stderr",
     "output_type": "stream",
     "text": [
      "2016-09-23 18:58:35,119 WARNING : Cluster frequency is not coherent, plot DISABLED!\n"
     ]
    }
   ],
   "source": [
    "trace.analysis.frequency.plotClusterFrequencyResidency(pct=True, active=True)"
   ]
  },
  {
   "cell_type": "code",
   "execution_count": 39,
   "metadata": {
    "collapsed": false
   },
   "outputs": [
    {
     "name": "stderr",
     "output_type": "stream",
     "text": [
      "2016-09-23 18:58:35,289 WARNING : Cluster frequency is not coherent, plot DISABLED!\n"
     ]
    }
   ],
   "source": [
    "trace.analysis.frequency.plotClusterFrequencyResidency(pct=True, active=False)"
   ]
  },
  {
   "cell_type": "markdown",
   "metadata": {},
   "source": [
    "# Notebooks"
   ]
  },
  {
   "cell_type": "markdown",
   "metadata": {},
   "source": [
    "## New collection of examples"
   ]
  },
  {
   "cell_type": "markdown",
   "metadata": {},
   "source": [
    "Each new API introduced in LISA has an associated notebook which shows a\n",
    "complete example of its usage.<br>\n",
    "Examples are usually defined to:\n",
    "\n",
    "    - setup the connection to a target (usually a JUNO board)\n",
    "    - configure a workload (usually using RTApp)\n",
    "    - run workload and collect required measures\n",
    "    - show the most common functions exposed by the new API"
   ]
  },
  {
   "cell_type": "markdown",
   "metadata": {},
   "source": [
    "- Energy meters APIs:<br>\n",
    "  https://github.com/ARM-software/lisa/tree/master/ipynb/examples/energy_meter"
   ]
  },
  {
   "cell_type": "markdown",
   "metadata": {},
   "source": [
    "- Trace analysis APIs:<br>\n",
    "  https://github.com/ARM-software/lisa/tree/master/ipynb/examples/trace_analysis"
   ]
  }
 ],
 "metadata": {
  "kernelspec": {
   "display_name": "Python 2",
   "language": "python",
   "name": "python2"
  },
  "language_info": {
   "codemirror_mode": {
    "name": "ipython",
    "version": 2
   },
   "file_extension": ".py",
   "mimetype": "text/x-python",
   "name": "python",
   "nbconvert_exporter": "python",
   "pygments_lexer": "ipython2",
   "version": "2.7.9"
  },
  "toc": {
   "toc_cell": false,
   "toc_number_sections": true,
   "toc_threshold": 6,
   "toc_window_display": false
  }
 },
 "nbformat": 4,
 "nbformat_minor": 0
}
