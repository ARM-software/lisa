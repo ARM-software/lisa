{
 "cells": [
  {
   "cell_type": "markdown",
   "metadata": {},
   "source": [
    "# Tutorial Goal"
   ]
  },
  {
   "cell_type": "markdown",
   "metadata": {},
   "source": [
    "This tutorial aims to show how to **configure and run** a predefined set of\n",
    "**synthetic workload** using the **executor module** provided by LISA."
   ]
  },
  {
   "cell_type": "markdown",
   "metadata": {},
   "source": [
    "# Configure logging"
   ]
  },
  {
   "cell_type": "code",
   "execution_count": 2,
   "metadata": {
    "collapsed": true
   },
   "outputs": [],
   "source": [
    "import logging\n",
    "reload(logging)\n",
    "log_fmt = '%(asctime)-9s %(levelname)-8s: %(message)s'\n",
    "logging.basicConfig(format=log_fmt)"
   ]
  },
  {
   "cell_type": "code",
   "execution_count": 3,
   "metadata": {
    "collapsed": false
   },
   "outputs": [],
   "source": [
    "# Execute this cell to enabled executor debugging statements\n",
    "logging.getLogger().setLevel(logging.DEBUG)"
   ]
  },
  {
   "cell_type": "markdown",
   "metadata": {},
   "source": [
    "# Target Configuration"
   ]
  },
  {
   "cell_type": "code",
   "execution_count": 4,
   "metadata": {
    "collapsed": false
   },
   "outputs": [],
   "source": [
    "# Setup a target configuration\n",
    "my_target_conf = {\n",
    "    \n",
    "    # Target platform and board\n",
    "    \"platform\"    : 'linux',\n",
    "    \"board\"       : 'juno2',\n",
    "    \n",
    "    # Target board IP/MAC address\n",
    "    \"host\"        : '10.1.207.30',\n",
    "    \n",
    "    # Login credentials\n",
    "    \"username\"    : 'root',\n",
    "    \"password\"    : 'password',\n",
    "    \n",
    "    \"rtapp-calib\" : {\n",
    "        \"0\": 320, \"1\": 124, \"2\": 125, \"3\": 318, \"4\": 316, \"5\": 317\n",
    "    },\n",
    "}"
   ]
  },
  {
   "cell_type": "markdown",
   "metadata": {},
   "source": [
    "# Tests Configuration"
   ]
  },
  {
   "cell_type": "code",
   "execution_count": 5,
   "metadata": {
    "collapsed": false,
    "scrolled": false
   },
   "outputs": [],
   "source": [
    "my_tests_conf = {\n",
    "\n",
    "    # Folder where all the results will be collected\n",
    "    \"results_dir\" : \"ExecutorExample\",\n",
    "\n",
    "    # Platform configurations to test\n",
    "    \"confs\" : [\n",
    "        {\n",
    "            \"tag\"            : \"base\",\n",
    "            \"flags\"          : \"ftrace\",           # Enable FTrace events\n",
    "            \"sched_features\" : \"NO_ENERGY_AWARE\",  # Disable EAS\n",
    "            \"cpufreq\"        : {                   # Use PERFORMANCE CpuFreq\n",
    "                \"governor\" : \"performance\",\n",
    "            },\n",
    "        },\n",
    "        {\n",
    "            \"tag\"            : \"eas\",\n",
    "            \"flags\"          : \"ftrace\",           # Enable FTrace events\n",
    "            \"sched_features\" : \"ENERGY_AWARE\",     # Enable EAS\n",
    "            \"cpufreq\"        : {                   # Use PERFORMANCE CpuFreq\n",
    "                \"governor\" : \"performance\",\n",
    "            },\n",
    "        },\n",
    "    ],\n",
    "    \n",
    "    # Workloads to run (on each platform configuration)\n",
    "    \"wloads\" : {\n",
    "        # Run hackbench with 1 group using pipes\n",
    "        \"perf\" : {\n",
    "            \"type\" : \"perf_bench\",\n",
    "            \"conf\" : {\n",
    "                \"class\" : \"messaging\",\n",
    "                \"params\" : {\n",
    "                    \"group\" :    1,\n",
    "                    \"loop\"  :   10,\n",
    "                    \"pipe\"  : True,\n",
    "                    \"thread\": True,\n",
    "                }\n",
    "            }\n",
    "        },\n",
    "        # Run a 20% duty-cycle periodic task\n",
    "        \"rta\" : {\n",
    "            \"type\" : \"rt-app\",\n",
    "            \"loadref\" : \"big\",\n",
    "            \"conf\" : {\n",
    "                \"class\"  : \"profile\",\n",
    "                \"params\"  : {\n",
    "                    \"p20\" : {\n",
    "                        \"kind\"   : \"Periodic\",\n",
    "                        \"params\" : {\n",
    "                            \"duty_cycle_pct\" : 20,\n",
    "                         },\n",
    "                    },\n",
    "                },\n",
    "            },\n",
    "        },\n",
    "    },\n",
    "    \n",
    "    # Number of iterations for each workload\n",
    "    \"iterations\" : 1,\n",
    "    \n",
    "    # FTrace events to collect for all the tests configuration which have\n",
    "    # the \"ftrace\" flag enabled\n",
    "    \"ftrace\"  : {\n",
    "         \"events\" : [\n",
    "            \"sched_switch\",\n",
    "            \"sched_wakeup\",\n",
    "            \"sched_wakeup_new\",\n",
    "            \"cpu_frequency\",\n",
    "         ],\n",
    "         \"buffsize\" : 80 * 1024,\n",
    "    },\n",
    "    \n",
    "    # Tools required by the experiments\n",
    "    \"tools\"   : [ 'trace-cmd', 'perf', 'rt-app' ],\n",
    "    \n",
    "    # Modules required by these experiments\n",
    "    \"modules\"     : [ 'bl', 'cpufreq' ],\n",
    "\n",
    "}"
   ]
  },
  {
   "cell_type": "markdown",
   "metadata": {},
   "source": [
    "# Tests execution"
   ]
  },
  {
   "cell_type": "code",
   "execution_count": 6,
   "metadata": {
    "collapsed": false,
    "scrolled": true
   },
   "outputs": [
    {
     "name": "stderr",
     "output_type": "stream",
     "text": [
      "2016-04-27 15:48:33,512 INFO    :         Target - Loading custom (inline) test configuration\n",
      "2016-04-27 15:48:33,514 INFO    :         Target - Using base path: /data/work/juno/lisa\n",
      "2016-04-27 15:48:33,515 INFO    :         Target - Loading custom (inline) target configuration\n",
      "2016-04-27 15:48:33,516 DEBUG   :         Target - Target configuration {'username': 'root', 'rtapp-calib': {'1': 124, '0': 320, '3': 318, '2': 125, '5': 317, '4': 316}, 'platform': 'linux', 'host': '10.1.207.30', 'board': 'juno2', 'password': 'password'}\n",
      "2016-04-27 15:48:33,517 INFO    :         Target - Loading custom (inline) test configuration\n",
      "2016-04-27 15:48:33,517 DEBUG   :         Target - Test configuration {'username': 'root', 'rtapp-calib': {'1': 124, '0': 320, '3': 318, '2': 125, '5': 317, '4': 316}, 'platform': 'linux', 'host': '10.1.207.30', 'board': 'juno2', 'password': 'password'}\n",
      "2016-04-27 15:48:33,519 INFO    :         Target - Devlib modules to load: ['bl', 'cpufreq', 'hwmon']\n",
      "2016-04-27 15:48:33,520 INFO    :         Target - Connecting linux target:\n",
      "2016-04-27 15:48:33,521 INFO    :         Target -   username : root\n",
      "2016-04-27 15:48:33,521 INFO    :         Target -       host : 10.1.207.30\n",
      "2016-04-27 15:48:33,522 INFO    :         Target -   password : password\n",
      "2016-04-27 15:48:33,523 DEBUG   :         Target - Setup LINUX target...\n",
      "2016-04-27 15:48:33,533 DEBUG   : Installing module vexpress-u-boot\n",
      "2016-04-27 15:48:33,534 DEBUG   : Installing module vexpress-dtr\n",
      "2016-04-27 15:48:33,535 DEBUG   : Installing module vexpress-vemsd\n",
      "2016-04-27 15:48:37,484 DEBUG   : Installing module bl\n",
      "2016-04-27 15:48:38,299 DEBUG   : Installing module cpufreq\n",
      "2016-04-27 15:48:38,706 DEBUG   : Installing module hwmon\n",
      "2016-04-27 15:49:05,160 DEBUG   :         Target - Checking target connection...\n",
      "2016-04-27 15:49:05,161 DEBUG   :         Target - Target info:\n",
      "2016-04-27 15:49:05,162 DEBUG   :         Target -       ABI: arm64\n",
      "2016-04-27 15:49:05,163 DEBUG   :         Target -      CPUs: CpuInfo(['A53', 'A72', 'A72', 'A53', 'A53', 'A53'])\n",
      "2016-04-27 15:49:05,165 DEBUG   :         Target -  Clusters: [0, 1, 1, 0, 0, 0]\n",
      "2016-04-27 15:49:05,166 INFO    :         Target - Initializing target workdir:\n",
      "2016-04-27 15:49:05,167 INFO    :         Target -    /root/devlib-target\n",
      "2016-04-27 15:49:10,581 DEBUG   :         Target - Check for module [bl]...\n",
      "2016-04-27 15:49:10,583 DEBUG   :         Target - Check for module [cpufreq]...\n",
      "2016-04-27 15:49:10,584 DEBUG   :         Target - Check for module [hwmon]...\n",
      "2016-04-27 15:49:10,585 INFO    :         Target - Topology:\n",
      "2016-04-27 15:49:10,586 INFO    :         Target -    [[0, 3, 4, 5], [1, 2]]\n",
      "2016-04-27 15:49:13,211 DEBUG   :       Platform - Trying to load default EM from /data/work/juno/lisa/libs/utils/platforms/juno2.json\n",
      "2016-04-27 15:49:13,213 INFO    :       Platform - Loading default EM:\n",
      "2016-04-27 15:49:13,214 INFO    :       Platform -    /data/work/juno/lisa/libs/utils/platforms/juno2.json\n",
      "2016-04-27 15:49:13,215 DEBUG   : loading JSON...\n",
      "2016-04-27 15:49:13,217 DEBUG   : Loaded JSON configuration:\n",
      "{u'nrg_model': {u'big': {u'cluster': {u'nrg_max': 107}, u'cpu': {u'cap_max': 1024, u'nrg_max': 526}}, u'little': {u'cluster': {u'nrg_max': 100}, u'cpu': {u'cap_max': 593, u'nrg_max': 117}}}}\n",
      "2016-04-27 15:49:13,218 DEBUG   :       Platform - Platform descriptor initialized\n",
      "{'nrg_model': {u'big': {u'cluster': {u'nrg_max': 107}, u'cpu': {u'cap_max': 1024, u'nrg_max': 526}}, u'little': {u'cluster': {u'nrg_max': 100}, u'cpu': {u'cap_max': 593, u'nrg_max': 117}}}, 'clusters': {'big': [1, 2], 'little': [0, 3, 4, 5]}, 'cpus_count': 6, 'freqs': {'big': [600000, 1000000, 1200000], 'little': [450000, 800000, 950000]}, 'topology': [[0, 3, 4, 5], [1, 2]]}\n",
      "2016-04-27 15:49:14,394 INFO    :         FTrace - Enabled tracepoints:\n",
      "2016-04-27 15:49:14,396 INFO    :         FTrace -   sched_switch\n",
      "2016-04-27 15:49:14,397 INFO    :         FTrace -   sched_wakeup\n",
      "2016-04-27 15:49:14,398 INFO    :         FTrace -   sched_wakeup_new\n",
      "2016-04-27 15:49:14,399 INFO    :         FTrace -   cpu_frequency\n",
      "2016-04-27 15:49:14,400 DEBUG   :    EnergyMeter - using default energy meter for [juno2]\n",
      "2016-04-27 15:49:14,401 INFO    :    EnergyMeter - Scanning for HWMON channels, may take some time...\n",
      "2016-04-27 15:49:14,402 DEBUG   : Discovering available HWMON sensors...\n",
      "2016-04-27 15:49:14,403 DEBUG   : \tAdding sensor scpi_sensors/energy1\n",
      "2016-04-27 15:49:14,405 DEBUG   : \tAdding sensor scpi_sensors/energy2\n",
      "2016-04-27 15:49:14,405 DEBUG   : \tAdding sensor scpi_sensors/energy3\n",
      "2016-04-27 15:49:14,406 DEBUG   : \tAdding sensor scpi_sensors/energy4\n",
      "2016-04-27 15:49:14,408 DEBUG   : \tAdding sensor scpi_sensors/curr1\n",
      "2016-04-27 15:49:14,409 DEBUG   : \tAdding sensor scpi_sensors/curr2\n",
      "2016-04-27 15:49:14,410 DEBUG   : \tAdding sensor scpi_sensors/curr3\n",
      "2016-04-27 15:49:14,412 DEBUG   : \tAdding sensor scpi_sensors/curr4\n",
      "2016-04-27 15:49:14,413 DEBUG   : \tAdding sensor scpi_sensors/temp1\n",
      "2016-04-27 15:49:14,414 DEBUG   : \tAdding sensor scpi_sensors/temp2\n",
      "2016-04-27 15:49:14,415 DEBUG   : \tAdding sensor scpi_sensors/temp3\n",
      "2016-04-27 15:49:14,416 DEBUG   : \tAdding sensor scpi_sensors/temp4\n",
      "2016-04-27 15:49:14,417 DEBUG   : \tAdding sensor scpi_sensors/temp5\n",
      "2016-04-27 15:49:14,418 DEBUG   : \tAdding sensor scpi_sensors/temp6\n",
      "2016-04-27 15:49:14,419 DEBUG   : \tAdding sensor scpi_sensors/power1\n",
      "2016-04-27 15:49:14,420 DEBUG   : \tAdding sensor scpi_sensors/power2\n",
      "2016-04-27 15:49:14,421 DEBUG   : \tAdding sensor scpi_sensors/power3\n",
      "2016-04-27 15:49:14,422 DEBUG   : \tAdding sensor scpi_sensors/power4\n",
      "2016-04-27 15:49:14,422 DEBUG   : \tAdding sensor scpi_sensors/in0\n",
      "2016-04-27 15:49:14,423 DEBUG   : \tAdding sensor scpi_sensors/in1\n",
      "2016-04-27 15:49:14,424 DEBUG   : \tAdding sensor scpi_sensors/in2\n",
      "2016-04-27 15:49:14,425 DEBUG   : \tAdding sensor scpi_sensors/in3\n",
      "2016-04-27 15:49:14,425 DEBUG   : \tAdding sensor scpi_sensors/in4\n",
      "2016-04-27 15:49:14,426 DEBUG   : \tAdding sensor scpi_sensors/in5\n",
      "2016-04-27 15:49:14,426 DEBUG   : \tAdding sensor scpi_sensors/in6\n",
      "2016-04-27 15:49:14,427 DEBUG   : \tAdding sensor gpu/temp1\n",
      "2016-04-27 15:49:14,428 DEBUG   :    EnergyMeter - Enabling channels {'kinds': ['energy'], 'sites': ['BOARDLITTLE', 'BOARDBIG']}\n",
      "2016-04-27 15:49:14,428 INFO    :    EnergyMeter - Channels selected for energy sampling:\n",
      "2016-04-27 15:49:14,429 INFO    :    EnergyMeter -    BOARDBIG_energy\n",
      "2016-04-27 15:49:14,430 INFO    :    EnergyMeter -    BOARDLITTLE_energy\n",
      "2016-04-27 15:49:14,430 INFO    :    EnergyMeter - Using channel BOARDLITTLE as little channel\n",
      "2016-04-27 15:49:14,431 INFO    :    EnergyMeter - Using channel BOARDBIG as big channel\n",
      "2016-04-27 15:49:14,432 WARNING :         Target - Using configuration provided RTApp calibration\n",
      "2016-04-27 15:49:14,432 INFO    :         Target - Using RT-App calibration values:\n",
      "2016-04-27 15:49:14,433 INFO    :         Target -    {\"0\": 320, \"1\": 124, \"2\": 125, \"3\": 318, \"4\": 316, \"5\": 317}\n",
      "2016-04-27 15:49:14,434 WARNING :        TestEnv - Wipe previous contents of the results folder:\n",
      "2016-04-27 15:49:14,434 WARNING :        TestEnv -    /data/work/juno/lisa/results/ExecutorExample\n",
      "2016-04-27 15:49:14,439 INFO    :        TestEnv - Set results folder to:\n",
      "2016-04-27 15:49:14,440 INFO    :        TestEnv -    /data/work/juno/lisa/results/ExecutorExample\n",
      "2016-04-27 15:49:14,441 INFO    :        TestEnv - Experiment results available also in:\n",
      "2016-04-27 15:49:14,441 INFO    :        TestEnv -    /data/work/juno/lisa/results_latest\n",
      "2016-04-27 15:49:14,441 INFO    : \n",
      "2016-04-27 15:49:14,442 INFO    : ################################################################################\n",
      "2016-04-27 15:49:14,442 INFO    :       Executor - Experiments configuration\n",
      "2016-04-27 15:49:14,443 INFO    : ################################################################################\n",
      "2016-04-27 15:49:14,444 INFO    :       Executor - Configured to run:\n",
      "2016-04-27 15:49:14,444 INFO    :       Executor -     2 targt configurations:\n",
      "2016-04-27 15:49:14,445 INFO    :       Executor -       base, eas\n",
      "2016-04-27 15:49:14,445 INFO    :       Executor -     2 workloads (1 iterations each)\n",
      "2016-04-27 15:49:14,446 INFO    :       Executor -       rta, perf\n",
      "2016-04-27 15:49:14,446 INFO    :       Executor - Total: 4 experiments\n",
      "2016-04-27 15:49:14,447 INFO    :       Executor - Results will be collected under:\n",
      "2016-04-27 15:49:14,447 INFO    :       Executor -       /data/work/juno/lisa/results/ExecutorExample\n"
     ]
    }
   ],
   "source": [
    "from executor import Executor\n",
    "\n",
    "executor = Executor(my_target_conf, my_tests_conf)"
   ]
  },
  {
   "cell_type": "code",
   "execution_count": null,
   "metadata": {
    "collapsed": false,
    "scrolled": false
   },
   "outputs": [
    {
     "name": "stderr",
     "output_type": "stream",
     "text": [
      "2016-04-27 15:49:32,702 INFO    : \n",
      "2016-04-27 15:49:32,704 INFO    : ################################################################################\n",
      "2016-04-27 15:49:32,704 INFO    :       Executor - Experiments execution\n",
      "2016-04-27 15:49:32,705 INFO    : ################################################################################\n",
      "2016-04-27 15:49:32,706 INFO    : \n",
      "2016-04-27 15:49:32,707 INFO    : ================================================================================\n",
      "2016-04-27 15:49:32,707 INFO    :   TargetConfig - configuring target for [base] experiments\n",
      "2016-04-27 15:49:32,708 DEBUG   :    TargetSetup - Setup RT-App run folder [/root/devlib-target/run_dir]...\n",
      "2016-04-27 15:49:34,519 INFO    :  SchedFeatures - Set scheduler feature: NO_ENERGY_AWARE\n",
      "2016-04-27 15:49:34,928 INFO    :        CPUFreq - Configuring all CPUs to use [performance] governor\n",
      "2016-04-27 15:49:35,834 DEBUG   :          RTApp - Configuring [profile] rt-app...\n",
      "2016-04-27 15:49:35,836 INFO    :          WlGen - Setup new workload rta\n",
      "2016-04-27 15:49:35,837 DEBUG   :          WlGen - Setup step [postrun] callback to [__postrun] function\n",
      "2016-04-27 15:49:35,838 DEBUG   :          WlGen - Configuring a profile-based workload...\n",
      "2016-04-27 15:49:35,839 DEBUG   :          RTApp - ref on big cpu: 1\n",
      "2016-04-27 15:49:35,840 INFO    :          RTApp - Workload duration defined by longest task\n",
      "2016-04-27 15:49:35,841 INFO    :          RTApp - Default policy: SCHED_OTHER\n",
      "2016-04-27 15:49:35,842 INFO    :          RTApp - ------------------------\n",
      "2016-04-27 15:49:35,843 INFO    :          RTApp - task [task_p20], sched: using default policy\n",
      "2016-04-27 15:49:35,844 INFO    :          RTApp -  | calibration CPU: 1\n",
      "2016-04-27 15:49:35,845 INFO    :          RTApp -  | loops count: 1\n",
      "2016-04-27 15:49:35,846 INFO    :          RTApp - + phase_000001: duration 1.000000 [s] (10 loops)\n",
      "2016-04-27 15:49:35,847 INFO    :          RTApp - |  period   100000 [us], duty_cycle  20 %\n",
      "2016-04-27 15:49:35,848 INFO    :          RTApp - |  run_time  20000 [us], sleep_time  80000 [us]\n",
      "2016-04-27 15:49:36,022 DEBUG   :       Platform - Dump platform descriptor in [/data/work/juno/lisa/results/ExecutorExample/rtapp:base:rta/platform.json]\n",
      "2016-04-27 15:49:36,896 INFO    : ~~~~~~~~~~~~~~~~~~~~~~~~~~~~~~~~~~~~~~~~~~~~~~~~~~~~~~~~~~~~~~~~~~~~~~~~~~~~~~~~\n",
      "2016-04-27 15:49:36,897 INFO    :       Executor - Experiment 1/4, [base:rta] 1/1\n",
      "2016-04-27 15:49:36,898 DEBUG   :       Executor - out_dir [/data/work/juno/lisa/results/ExecutorExample/rtapp:base:rta/1]\n",
      "2016-04-27 15:49:36,907 DEBUG   :       Executor - cleanup target output folder\n",
      "2016-04-27 15:49:36,908 DEBUG   :       Executor - setup target directory [/root/devlib-target]\n",
      "2016-04-27 15:49:36,909 DEBUG   :     TargetConf - Check if target conf [base] has flag [ftrace]: True\n",
      "2016-04-27 15:49:36,910 WARNING :       Executor - FTrace events collection enabled\n",
      "2016-04-27 15:49:44,310 DEBUG   : Trace CPUFreq frequencies\n",
      "2016-04-27 15:49:47,024 DEBUG   : SAMPLE: {'BOARDBIG': {'total': 0, 'last': 260.311975, 'delta': 0}, 'BOARDLITTLE': {'total': 0, 'last': 178.624936, 'delta': 0}}\n",
      "2016-04-27 15:49:47,025 DEBUG   : RESET: {'BOARDBIG': {'total': 0, 'last': 260.311975, 'delta': 0}, 'BOARDLITTLE': {'total': 0, 'last': 178.624936, 'delta': 0}}\n",
      "2016-04-27 15:49:47,026 INFO    :          WlGen - Workload execution START:\n",
      "2016-04-27 15:49:47,027 INFO    :          WlGen -    /root/devlib-target/bin/rt-app /root/devlib-target/run_dir/rta_00.json\n",
      "2016-04-27 15:49:48,436 DEBUG   :          WlGen - Callback [postrun]...\n",
      "2016-04-27 15:49:48,437 DEBUG   :          RTApp - Pulling logfiles to [/data/work/juno/lisa/results/ExecutorExample/rtapp:base:rta/1]...\n",
      "2016-04-27 15:49:48,605 DEBUG   :          RTApp - Pulling JSON to [/data/work/juno/lisa/results/ExecutorExample/rtapp:base:rta/1]...\n",
      "2016-04-27 15:49:48,772 DEBUG   :          RTApp - Saving output on [/data/work/juno/lisa/results/ExecutorExample/rtapp:base:rta/1/output.log]...\n",
      "2016-04-27 15:49:48,774 DEBUG   :          WlGen - Workload execution COMPLETED\n",
      "2016-04-27 15:49:50,583 DEBUG   : SAMPLE: {'BOARDBIG': {'total': 0.4416349999999625, 'last': 260.75361, 'delta': 0.4416349999999625}, 'BOARDLITTLE': {'total': 0.08626000000001, 'last': 178.711196, 'delta': 0.08626000000001}}\n",
      "2016-04-27 15:49:50,585 INFO    :   EnergyReport - Energy [        BOARDBIG]: 0.441635\n",
      "2016-04-27 15:49:50,586 INFO    :   EnergyReport - Energy [     BOARDLITTLE]: 0.086260\n",
      "2016-04-27 15:49:50,588 DEBUG   :     TargetConf - Check if target conf [base] has flag [ftrace]: True\n",
      "2016-04-27 15:49:50,589 DEBUG   : Trace CPUFreq frequencies\n",
      "2016-04-27 15:49:56,318 INFO    :       Executor - Collected FTrace binary trace:\n",
      "2016-04-27 15:49:56,319 INFO    :       Executor -    <res_dir>/rtapp:base:rta/1/trace.dat\n",
      "2016-04-27 15:49:56,321 INFO    :       Executor - Collected FTrace function profiling:\n",
      "2016-04-27 15:49:56,322 INFO    :       Executor -    <res_dir>/rtapp:base:rta/1/trace_stat.json\n",
      "2016-04-27 15:49:56,323 INFO    : --------------------------------------------------------------------------------\n",
      "2016-04-27 15:49:56,324 DEBUG   :    PerfMessage - Configuring perf_message...\n",
      "2016-04-27 15:49:56,325 INFO    :          WlGen - Setup new workload perf\n",
      "2016-04-27 15:49:56,325 DEBUG   :          WlGen - Setup step [postrun] callback to [__postrun] function\n",
      "2016-04-27 15:49:56,326 DEBUG   :          WlGen - Configuring custom workload...\n",
      "2016-04-27 15:49:56,327 DEBUG   :      PerfBench - Command line: /root/devlib-target/bin/perf bench sched messaging --pipe --thread --group 1 --loop 10\n",
      "2016-04-27 15:49:56,334 DEBUG   :       Platform - Dump platform descriptor in [/data/work/juno/lisa/results/ExecutorExample/perf_bench_messaging:base:perf/platform.json]\n",
      "2016-04-27 15:49:56,760 INFO    : ~~~~~~~~~~~~~~~~~~~~~~~~~~~~~~~~~~~~~~~~~~~~~~~~~~~~~~~~~~~~~~~~~~~~~~~~~~~~~~~~\n",
      "2016-04-27 15:49:56,761 INFO    :       Executor - Experiment 2/4, [base:perf] 1/1\n",
      "2016-04-27 15:49:56,762 DEBUG   :       Executor - out_dir [/data/work/juno/lisa/results/ExecutorExample/perf_bench_messaging:base:perf/1]\n",
      "2016-04-27 15:49:56,770 DEBUG   :       Executor - cleanup target output folder\n",
      "2016-04-27 15:49:56,772 DEBUG   :       Executor - setup target directory [/root/devlib-target]\n",
      "2016-04-27 15:49:56,773 DEBUG   :     TargetConf - Check if target conf [base] has flag [ftrace]: True\n",
      "2016-04-27 15:49:56,774 WARNING :       Executor - FTrace events collection enabled\n",
      "2016-04-27 15:50:04,221 DEBUG   : Trace CPUFreq frequencies\n",
      "2016-04-27 15:50:06,934 DEBUG   : SAMPLE: {'BOARDBIG': {'total': 1.7428939999999784, 'last': 262.054869, 'delta': 1.301259000000016}, 'BOARDLITTLE': {'total': 0.5251660000000129, 'last': 179.150102, 'delta': 0.4389060000000029}}\n",
      "2016-04-27 15:50:06,935 DEBUG   : RESET: {'BOARDBIG': {'total': 0, 'last': 262.054869, 'delta': 0}, 'BOARDLITTLE': {'total': 0, 'last': 179.150102, 'delta': 0}}\n",
      "2016-04-27 15:50:06,937 INFO    :          WlGen - Workload execution START:\n",
      "2016-04-27 15:50:06,938 INFO    :          WlGen -    /root/devlib-target/bin/perf bench sched messaging --pipe --thread --group 1 --loop 10\n",
      "2016-04-27 15:50:07,355 DEBUG   :          WlGen - Callback [postrun]...\n",
      "2016-04-27 15:50:07,356 DEBUG   :      PerfBench - Saving output on [/data/work/juno/lisa/results/ExecutorExample/perf_bench_messaging:base:perf/1/output.log]...\n",
      "2016-04-27 15:50:07,358 INFO    :      PerfBench - Completion time: 0.006000, Performance 166.666667\n",
      "2016-04-27 15:50:07,359 DEBUG   :      PerfBench - Saving performance into [/data/work/juno/lisa/results/ExecutorExample/perf_bench_messaging:base:perf/1/performance.json]...\n",
      "2016-04-27 15:50:07,360 DEBUG   :          WlGen - Workload execution COMPLETED\n"
     ]
    }
   ],
   "source": [
    "executor.run()"
   ]
  },
  {
   "cell_type": "code",
   "execution_count": null,
   "metadata": {
    "collapsed": false
   },
   "outputs": [],
   "source": [
    "!tree {executor.te.res_dir}"
   ]
  },
  {
   "cell_type": "code",
   "execution_count": null,
   "metadata": {
    "collapsed": true
   },
   "outputs": [],
   "source": []
  }
 ],
 "metadata": {
  "kernelspec": {
   "display_name": "Python 2",
   "language": "python",
   "name": "python2"
  },
  "language_info": {
   "codemirror_mode": {
    "name": "ipython",
    "version": 2
   },
   "file_extension": ".py",
   "mimetype": "text/x-python",
   "name": "python",
   "nbconvert_exporter": "python",
   "pygments_lexer": "ipython2",
   "version": "2.7.6"
  }
 },
 "nbformat": 4,
 "nbformat_minor": 0
}
