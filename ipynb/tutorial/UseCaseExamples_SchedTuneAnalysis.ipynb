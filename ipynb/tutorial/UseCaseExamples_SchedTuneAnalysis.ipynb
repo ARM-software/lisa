{
 "cells": [
  {
   "cell_type": "code",
   "execution_count": 43,
   "metadata": {
    "collapsed": false,
    "init_cell": false,
    "run_control": {
     "marked": false
    }
   },
   "outputs": [],
   "source": [
    "# Enable in-notebook generation of plots\n",
    "%matplotlib inline"
   ]
  },
  {
   "cell_type": "markdown",
   "metadata": {},
   "source": [
    "# Experiments collected data"
   ]
  },
  {
   "cell_type": "markdown",
   "metadata": {},
   "source": [
    "Data required to run this notebook are available for download at this link:\n",
    "\n",
    "https://www.dropbox.com/s/q9ulf3pusu0uzss/SchedTuneAnalysis.tar.xz?dl=0\n",
    "\n",
    "This archive has to be extracted from within the LISA's results folder."
   ]
  },
  {
   "cell_type": "markdown",
   "metadata": {},
   "source": [
    "## Initial set of data"
   ]
  },
  {
   "cell_type": "code",
   "execution_count": 2,
   "metadata": {
    "collapsed": false,
    "hidden": true,
    "hide_input": false
   },
   "outputs": [
    {
     "name": "stdout",
     "output_type": "stream",
     "text": [
      "\u001b[01;34m../../results/SchedTuneAnalysis/\u001b[00m\r\n",
      "├── \u001b[01;35mboost15_cluster_freqs.png\u001b[00m\r\n",
      "├── \u001b[01;35mboost15_task_util_task_ramp.png\u001b[00m\r\n",
      "├── energy.json\r\n",
      "├── output.log\r\n",
      "├── platform.json\r\n",
      "├── rt-app-task_ramp-0.log\r\n",
      "├── test_00.json\r\n",
      "├── trace_boost15.dat\r\n",
      "├── trace_boost15.raw.txt\r\n",
      "├── trace_boost15.txt\r\n",
      "├── trace_boost25.dat\r\n",
      "└── trace_noboost.dat\r\n",
      "\r\n",
      "0 directories, 12 files\r\n"
     ]
    }
   ],
   "source": [
    "res_dir = '../../results/SchedTuneAnalysis/'\n",
    "!tree {res_dir}"
   ]
  },
  {
   "cell_type": "code",
   "execution_count": 3,
   "metadata": {
    "collapsed": true,
    "hidden": true
   },
   "outputs": [],
   "source": [
    "noboost_trace = res_dir + 'trace_noboost.dat'\n",
    "boost15_trace = res_dir + 'trace_boost15.dat'\n",
    "boost25_trace = res_dir + 'trace_boost25.dat'\n",
    "\n",
    "# trace_file = noboost_trace\n",
    "trace_file = boost15_trace\n",
    "# trace_file = boost25_trace"
   ]
  },
  {
   "cell_type": "markdown",
   "metadata": {},
   "source": [
    "## Loading support data collected from the target"
   ]
  },
  {
   "cell_type": "code",
   "execution_count": 5,
   "metadata": {
    "collapsed": false,
    "hidden": true
   },
   "outputs": [
    {
     "name": "stdout",
     "output_type": "stream",
     "text": [
      "Platform descriptio collected from the target:\n",
      "{\n",
      "    \"nrg_model\": {\n",
      "        \"big\": {\n",
      "            \"cluster\": {\n",
      "                \"nrg_max\": 64\n",
      "            }, \n",
      "            \"cpu\": {\n",
      "                \"cap_max\": 1024, \n",
      "                \"nrg_max\": 616\n",
      "            }\n",
      "        }, \n",
      "        \"little\": {\n",
      "            \"cluster\": {\n",
      "                \"nrg_max\": 57\n",
      "            }, \n",
      "            \"cpu\": {\n",
      "                \"cap_max\": 447, \n",
      "                \"nrg_max\": 93\n",
      "            }\n",
      "        }\n",
      "    }, \n",
      "    \"clusters\": {\n",
      "        \"big\": [\n",
      "            1, \n",
      "            2\n",
      "        ], \n",
      "        \"little\": [\n",
      "            0, \n",
      "            3, \n",
      "            4, \n",
      "            5\n",
      "        ]\n",
      "    }, \n",
      "    \"cpus_count\": 6, \n",
      "    \"freqs\": {\n",
      "        \"big\": [\n",
      "            450000, \n",
      "            625000, \n",
      "            800000, \n",
      "            950000, \n",
      "            1100000\n",
      "        ], \n",
      "        \"little\": [\n",
      "            450000, \n",
      "            575000, \n",
      "            700000, \n",
      "            775000, \n",
      "            850000\n",
      "        ]\n",
      "    }, \n",
      "    \"topology\": [\n",
      "        [\n",
      "            0, \n",
      "            3, \n",
      "            4, \n",
      "            5\n",
      "        ], \n",
      "        [\n",
      "            1, \n",
      "            2\n",
      "        ]\n",
      "    ]\n",
      "}\n"
     ]
    }
   ],
   "source": [
    "import json\n",
    "\n",
    "# Load the platform information\n",
    "with open('../../results/SchedTuneAnalysis/platform.json', 'r') as fh:\n",
    "    platform = json.load(fh)\n",
    "print \"Platform descriptio collected from the target:\"\n",
    "print json.dumps(platform, indent=4)"
   ]
  },
  {
   "cell_type": "code",
   "execution_count": 6,
   "metadata": {
    "collapsed": false,
    "hidden": true
   },
   "outputs": [],
   "source": [
    "from trappy.stats.Topology import Topology\n",
    "\n",
    "# Create a topology descriptor\n",
    "topology = Topology(platform['topology'])"
   ]
  },
  {
   "cell_type": "markdown",
   "metadata": {},
   "source": [
    "# Trace analysis"
   ]
  },
  {
   "cell_type": "markdown",
   "metadata": {
    "hidden": true
   },
   "source": [
    "We want to ensure that the task has the expected workload:<br>\n",
    "- LITTLE CPU bandwidth of **[10, 35 and 60]%** every **2[ms]**\n",
    "- activations every **32ms**\n",
    "- always **starts on a big** core"
   ]
  },
  {
   "cell_type": "markdown",
   "metadata": {
    "hidden": true
   },
   "source": [
    "## Trace inspection"
   ]
  },
  {
   "cell_type": "markdown",
   "metadata": {
    "hidden": true
   },
   "source": [
    "### Using kernelshark"
   ]
  },
  {
   "cell_type": "code",
   "execution_count": 7,
   "metadata": {
    "collapsed": false,
    "hidden": true
   },
   "outputs": [
    {
     "name": "stdout",
     "output_type": "stream",
     "text": [
      "version = 6\r\n"
     ]
    }
   ],
   "source": [
    "# Let's look at the trace using kernelshark...\n",
    "!kernelshark {trace_file} 2>/dev/null"
   ]
  },
  {
   "cell_type": "markdown",
   "metadata": {
    "hidden": true
   },
   "source": [
    "- Requires a lot of interactions and hand made measurements\n",
    "- We cannot easily annotate our findings to produre a sharable notebook"
   ]
  },
  {
   "cell_type": "markdown",
   "metadata": {
    "hidden": true
   },
   "source": [
    "### Using the TRAPpy Trace Plotter"
   ]
  },
  {
   "cell_type": "markdown",
   "metadata": {
    "hidden": true
   },
   "source": [
    "An overall view on the trace is still useful to get a graps on what we are looking at."
   ]
  },
  {
   "cell_type": "code",
   "execution_count": 10,
   "metadata": {
    "code_folding": [],
    "collapsed": false,
    "hidden": true
   },
   "outputs": [
    {
     "data": {
      "text/html": [
       "<style>\n",
       "/*\n",
       "\n",
       " *    Copyright 2015-2016 ARM Limited\n",
       "\n",
       " *\n",
       "\n",
       " * Licensed under the Apache License, Version 2.0 (the \"License\");\n",
       "\n",
       " * you may not use this file except in compliance with the License.\n",
       "\n",
       " * You may obtain a copy of the License at\n",
       "\n",
       " *\n",
       "\n",
       " *     http://www.apache.org/licenses/LICENSE-2.0\n",
       "\n",
       " *\n",
       "\n",
       " * Unless required by applicable law or agreed to in writing, software\n",
       "\n",
       " * distributed under the License is distributed on an \"AS IS\" BASIS,\n",
       "\n",
       " * WITHOUT WARRANTIES OR CONDITIONS OF ANY KIND, either express or implied.\n",
       "\n",
       " * See the License for the specific language governing permissions and\n",
       "\n",
       " * limitations under the License.\n",
       "\n",
       " */\n",
       "\n",
       "\n",
       "\n",
       ".d3-tip {\n",
       "\n",
       "  line-height: 1;\n",
       "\n",
       "  padding: 12px;\n",
       "\n",
       "  background: rgba(0, 0, 0, 0.6);\n",
       "\n",
       "  color: #fff;\n",
       "\n",
       "  border-radius: 2px;\n",
       "\n",
       "  position: absolute !important;\n",
       "\n",
       "  z-index: 99999;\n",
       "\n",
       "}\n",
       "\n",
       "\n",
       "\n",
       ".d3-tip:after {\n",
       "\n",
       "  box-sizing: border-box;\n",
       "\n",
       "  pointer-events: none;\n",
       "\n",
       "  display: inline;\n",
       "\n",
       "  font-size: 10px;\n",
       "\n",
       "  width: 100%;\n",
       "\n",
       "  line-height: 1;\n",
       "\n",
       "  color: rgba(0, 0, 0, 0.6);\n",
       "\n",
       "  content: \"\\25BC\";\n",
       "\n",
       "  position: absolute !important;\n",
       "\n",
       "  z-index: 99999;\n",
       "\n",
       "  text-align: center;\n",
       "\n",
       "}\n",
       "\n",
       "\n",
       "\n",
       ".d3-tip.n:after {\n",
       "\n",
       "  margin: -1px 0 0 0;\n",
       "\n",
       "  top: 100%;\n",
       "\n",
       "  left: 0;\n",
       "\n",
       "}\n",
       "\n",
       "\n",
       "\n",
       ".contextRect {\n",
       "\n",
       "  fill: lightgray;\n",
       "\n",
       "  fill-opacity: 0.5;\n",
       "\n",
       "  stroke: black;\n",
       "\n",
       "  stroke-width: 1;\n",
       "\n",
       "  stroke-opacity: 1;\n",
       "\n",
       "  pointer-events: none;\n",
       "\n",
       "  shape-rendering: crispEdges;\n",
       "\n",
       "}\n",
       "\n",
       "\n",
       "\n",
       ".chart {\n",
       "\n",
       "  shape-rendering: crispEdges;\n",
       "\n",
       "}\n",
       "\n",
       "\n",
       "\n",
       ".mini text {\n",
       "\n",
       "  font: 9px sans-serif;\n",
       "\n",
       "}\n",
       "\n",
       "\n",
       "\n",
       ".main text {\n",
       "\n",
       "  font: 12px sans-serif;\n",
       "\n",
       "}\n",
       "\n",
       "\n",
       "\n",
       ".axis line, .axis path {\n",
       "\n",
       "  stroke: black;\n",
       "\n",
       "}\n",
       "\n",
       "\n",
       "\n",
       ".miniItem {\n",
       "\n",
       "  stroke-width: 8;\n",
       "\n",
       "}\n",
       "\n",
       "\n",
       "\n",
       ".brush .extent {\n",
       "\n",
       "\n",
       "\n",
       "  stroke: #000;\n",
       "\n",
       "  fill-opacity: .125;\n",
       "\n",
       "  shape-rendering: crispEdges;\n",
       "\n",
       "}\n",
       "\n",
       "</style>\n",
       "<div id=\"fig_e79c6fb0e4324389a92f1aa080f4f390\" class=\"eventplot\">\n",
       "        <script>\n",
       "            var req = require.config( {\n",
       "\n",
       "                paths: {\n",
       "\n",
       "                    \"EventPlot\": '/nbextensions/plotter_scripts/EventPlot/EventPlot',\n",
       "                    \"d3-tip\": '/nbextensions/plotter_scripts/EventPlot/d3.tip.v0.6.3',\n",
       "                    \"d3-plotter\": '/nbextensions/plotter_scripts/EventPlot/d3.min'\n",
       "                },\n",
       "                shim: {\n",
       "                    \"d3-plotter\" : {\n",
       "                        \"exports\" : \"d3\"\n",
       "                    },\n",
       "                    \"d3-tip\": [\"d3-plotter\"],\n",
       "                    \"EventPlot\": {\n",
       "\n",
       "                        \"deps\": [\"d3-tip\", \"d3-plotter\" ],\n",
       "                        \"exports\":  \"EventPlot\"\n",
       "                    }\n",
       "                }\n",
       "            });\n",
       "            req([\"require\", \"EventPlot\"], function() {\n",
       "               EventPlot.generate('fig_e79c6fb0e4324389a92f1aa080f4f390', '/nbextensions/');\n",
       "            });\n",
       "        </script>\n",
       "        </div>"
      ],
      "text/plain": [
       "<IPython.core.display.HTML object>"
      ]
     },
     "metadata": {},
     "output_type": "display_data"
    }
   ],
   "source": [
    "# Suport for FTrace events parsing and visualization\n",
    "import trappy\n",
    "\n",
    "# NOTE: The interactive trace visualization is available only if you run\n",
    "#       the workload to generate a new trace-file\n",
    "trappy.plotter.plot_trace(trace_file)#, execnames=\"task_ramp\")#, pids=[2221])"
   ]
  },
  {
   "cell_type": "markdown",
   "metadata": {
    "hidden": true
   },
   "source": [
    "## Events Plotting"
   ]
  },
  {
   "cell_type": "markdown",
   "metadata": {
    "hidden": true
   },
   "source": [
    "The **sched_load_avg_task** trace events reports this information"
   ]
  },
  {
   "cell_type": "markdown",
   "metadata": {
    "hidden": true
   },
   "source": [
    "### Using all the unix arsenal to parse and filter the trace"
   ]
  },
  {
   "cell_type": "code",
   "execution_count": 8,
   "metadata": {
    "collapsed": false,
    "hidden": true
   },
   "outputs": [
    {
     "name": "stdout",
     "output_type": "stream",
     "text": [
      "First 5 sched_load_avg events:\n",
      "       trace-cmd-2204  [000]  1773.509207: sched_load_avg_task:  comm=trace-cmd pid=2204 cpu=0 load_avg=452 util_avg=176 util_est=176 load_sum=21607277 util_sum=8446887 period_contrib=125\n",
      "       trace-cmd-2204  [000]  1773.509223: sched_load_avg_task:  comm=trace-cmd pid=2204 cpu=0 load_avg=452 util_avg=176 util_est=176 load_sum=21607277 util_sum=8446887 period_contrib=125\n",
      "          <idle>-0     [002]  1773.509522: sched_load_avg_task:  comm=sudo pid=2203 cpu=2 load_avg=0 util_avg=0 util_est=941 load_sum=7 util_sum=7 period_contrib=576\n",
      "            sudo-2203  [002]  1773.511197: sched_load_avg_task:  comm=sudo pid=2203 cpu=2 load_avg=14 util_avg=14 util_est=941 load_sum=688425 util_sum=688425 period_contrib=219\n",
      "            sudo-2203  [002]  1773.511219: sched_load_avg_task:  comm=sudo pid=2203 cpu=2 load_avg=14 util_avg=14 util_est=14 load_sum=688425 util_sum=688425 period_contrib=219\n",
      "grep: write error\n"
     ]
    }
   ],
   "source": [
    "# Get a list of first 5 \"sched_load_avg_events\" events\n",
    "sched_load_avg_events = !(\\\n",
    "    grep sched_load_avg_task {trace_file.replace('.dat', '.txt')} | \\\n",
    "    head -n5 \\\n",
    ")\n",
    " \n",
    "print \"First 5 sched_load_avg events:\"\n",
    "for line in sched_load_avg_events:\n",
    "    print line"
   ]
  },
  {
   "cell_type": "markdown",
   "metadata": {
    "hidden": true
   },
   "source": [
    "A graphical representation whould be really usefuly!"
   ]
  },
  {
   "cell_type": "markdown",
   "metadata": {
    "hidden": true
   },
   "source": [
    "### Using TRAPpy generated DataFrames"
   ]
  },
  {
   "cell_type": "markdown",
   "metadata": {
    "hidden": true
   },
   "source": [
    "#### Generate DataFrames from Trace Events"
   ]
  },
  {
   "cell_type": "code",
   "execution_count": 11,
   "metadata": {
    "collapsed": false,
    "hidden": true
   },
   "outputs": [],
   "source": [
    "# Load the LISA::Trace parsing module\n",
    "from trace import Trace\n",
    "\n",
    "# Define which event we are interested into\n",
    "trace = Trace(platform, trace_file, [\n",
    "            \"sched_switch\",\n",
    "            \"sched_load_avg_cpu\",\n",
    "            \"sched_load_avg_task\",\n",
    "            \"sched_boost_cpu\",\n",
    "            \"sched_boost_task\",\n",
    "            \"cpu_frequency\",\n",
    "            \"cpu_capacity\",\n",
    "    ])"
   ]
  },
  {
   "cell_type": "markdown",
   "metadata": {
    "hidden": true
   },
   "source": [
    "#### Get the DataFrames for the events of interest"
   ]
  },
  {
   "cell_type": "code",
   "execution_count": 12,
   "metadata": {
    "collapsed": false,
    "hidden": true
   },
   "outputs": [
    {
     "data": {
      "text/html": [
       "<div>\n",
       "<table border=\"1\" class=\"dataframe\">\n",
       "  <thead>\n",
       "    <tr style=\"text-align: right;\">\n",
       "      <th></th>\n",
       "      <th>__comm</th>\n",
       "      <th>__cpu</th>\n",
       "      <th>__pid</th>\n",
       "      <th>comm</th>\n",
       "      <th>cpu</th>\n",
       "      <th>load_avg</th>\n",
       "      <th>load_sum</th>\n",
       "      <th>period_contrib</th>\n",
       "      <th>pid</th>\n",
       "      <th>util_avg</th>\n",
       "      <th>util_est</th>\n",
       "      <th>util_sum</th>\n",
       "      <th>cluster</th>\n",
       "    </tr>\n",
       "    <tr>\n",
       "      <th>Time</th>\n",
       "      <th></th>\n",
       "      <th></th>\n",
       "      <th></th>\n",
       "      <th></th>\n",
       "      <th></th>\n",
       "      <th></th>\n",
       "      <th></th>\n",
       "      <th></th>\n",
       "      <th></th>\n",
       "      <th></th>\n",
       "      <th></th>\n",
       "      <th></th>\n",
       "      <th></th>\n",
       "    </tr>\n",
       "  </thead>\n",
       "  <tbody>\n",
       "    <tr>\n",
       "      <th>0.000065</th>\n",
       "      <td>trace-cmd</td>\n",
       "      <td>0</td>\n",
       "      <td>2204</td>\n",
       "      <td>trace-cmd</td>\n",
       "      <td>0</td>\n",
       "      <td>452</td>\n",
       "      <td>21607277</td>\n",
       "      <td>125</td>\n",
       "      <td>2204</td>\n",
       "      <td>176</td>\n",
       "      <td>176</td>\n",
       "      <td>8446887</td>\n",
       "      <td>LITTLE</td>\n",
       "    </tr>\n",
       "    <tr>\n",
       "      <th>0.000081</th>\n",
       "      <td>trace-cmd</td>\n",
       "      <td>0</td>\n",
       "      <td>2204</td>\n",
       "      <td>trace-cmd</td>\n",
       "      <td>0</td>\n",
       "      <td>452</td>\n",
       "      <td>21607277</td>\n",
       "      <td>125</td>\n",
       "      <td>2204</td>\n",
       "      <td>176</td>\n",
       "      <td>176</td>\n",
       "      <td>8446887</td>\n",
       "      <td>LITTLE</td>\n",
       "    </tr>\n",
       "    <tr>\n",
       "      <th>0.000380</th>\n",
       "      <td>&lt;idle&gt;</td>\n",
       "      <td>2</td>\n",
       "      <td>0</td>\n",
       "      <td>sudo</td>\n",
       "      <td>2</td>\n",
       "      <td>0</td>\n",
       "      <td>7</td>\n",
       "      <td>576</td>\n",
       "      <td>2203</td>\n",
       "      <td>0</td>\n",
       "      <td>941</td>\n",
       "      <td>7</td>\n",
       "      <td>big</td>\n",
       "    </tr>\n",
       "    <tr>\n",
       "      <th>0.002055</th>\n",
       "      <td>sudo</td>\n",
       "      <td>2</td>\n",
       "      <td>2203</td>\n",
       "      <td>sudo</td>\n",
       "      <td>2</td>\n",
       "      <td>14</td>\n",
       "      <td>688425</td>\n",
       "      <td>219</td>\n",
       "      <td>2203</td>\n",
       "      <td>14</td>\n",
       "      <td>941</td>\n",
       "      <td>688425</td>\n",
       "      <td>big</td>\n",
       "    </tr>\n",
       "    <tr>\n",
       "      <th>0.002077</th>\n",
       "      <td>sudo</td>\n",
       "      <td>2</td>\n",
       "      <td>2203</td>\n",
       "      <td>sudo</td>\n",
       "      <td>2</td>\n",
       "      <td>14</td>\n",
       "      <td>688425</td>\n",
       "      <td>219</td>\n",
       "      <td>2203</td>\n",
       "      <td>14</td>\n",
       "      <td>14</td>\n",
       "      <td>688425</td>\n",
       "      <td>big</td>\n",
       "    </tr>\n",
       "  </tbody>\n",
       "</table>\n",
       "</div>"
      ],
      "text/plain": [
       "             __comm  __cpu  __pid       comm  cpu  load_avg  load_sum  \\\n",
       "Time                                                                    \n",
       "0.000065  trace-cmd      0   2204  trace-cmd    0       452  21607277   \n",
       "0.000081  trace-cmd      0   2204  trace-cmd    0       452  21607277   \n",
       "0.000380     <idle>      2      0       sudo    2         0         7   \n",
       "0.002055       sudo      2   2203       sudo    2        14    688425   \n",
       "0.002077       sudo      2   2203       sudo    2        14    688425   \n",
       "\n",
       "          period_contrib   pid  util_avg  util_est  util_sum cluster  \n",
       "Time                                                                  \n",
       "0.000065             125  2204       176       176   8446887  LITTLE  \n",
       "0.000081             125  2204       176       176   8446887  LITTLE  \n",
       "0.000380             576  2203         0       941         7     big  \n",
       "0.002055             219  2203        14       941    688425     big  \n",
       "0.002077             219  2203        14        14    688425     big  "
      ]
     },
     "execution_count": 12,
     "metadata": {},
     "output_type": "execute_result"
    }
   ],
   "source": [
    "# Trace events are converted into tables, let's have a look at one\n",
    "# of such tables\n",
    "load_df = trace.data_frame.trace_event('sched_load_avg_task')\n",
    "load_df.head()"
   ]
  },
  {
   "cell_type": "code",
   "execution_count": 14,
   "metadata": {
    "collapsed": false,
    "hidden": true
   },
   "outputs": [
    {
     "name": "stdout",
     "output_type": "stream",
     "text": [
      "['kworker/u12:0' 'kworker/5:0' 'kworker/2:1' 'kworker/1:1' 'kworker/0:1'\n",
      " 'ksoftirqd/0' 'kworker/3:1' 'kworker/4:1' 'ksoftirqd/5' 'kworker/5:1H'\n",
      " 'ksoftirqd/2' 'ksoftirqd/1' 'kworker/2:2' 'kthreadd' 'kworker/2:0'\n",
      " 'kworker/u12:2']\n"
     ]
    }
   ],
   "source": [
    "df = load_df[load_df.comm.str.match('k.*')]\n",
    "# df.head()\n",
    "print df.comm.unique()"
   ]
  },
  {
   "cell_type": "code",
   "execution_count": 15,
   "metadata": {
    "collapsed": false,
    "hidden": true
   },
   "outputs": [
    {
     "data": {
      "text/html": [
       "<div>\n",
       "<table border=\"1\" class=\"dataframe\">\n",
       "  <thead>\n",
       "    <tr style=\"text-align: right;\">\n",
       "      <th></th>\n",
       "      <th>__comm</th>\n",
       "      <th>__cpu</th>\n",
       "      <th>__pid</th>\n",
       "      <th>cpu</th>\n",
       "      <th>capacity</th>\n",
       "      <th>max_capacity</th>\n",
       "      <th>tip_capacity</th>\n",
       "    </tr>\n",
       "    <tr>\n",
       "      <th>Time</th>\n",
       "      <th></th>\n",
       "      <th></th>\n",
       "      <th></th>\n",
       "      <th></th>\n",
       "      <th></th>\n",
       "      <th></th>\n",
       "      <th></th>\n",
       "    </tr>\n",
       "  </thead>\n",
       "  <tbody>\n",
       "    <tr>\n",
       "      <th>0.002708</th>\n",
       "      <td>kschedfreq:0</td>\n",
       "      <td>4</td>\n",
       "      <td>1489</td>\n",
       "      <td>0</td>\n",
       "      <td>236</td>\n",
       "      <td>447</td>\n",
       "      <td>357.6</td>\n",
       "    </tr>\n",
       "    <tr>\n",
       "      <th>0.002710</th>\n",
       "      <td>kschedfreq:0</td>\n",
       "      <td>4</td>\n",
       "      <td>1489</td>\n",
       "      <td>3</td>\n",
       "      <td>236</td>\n",
       "      <td>447</td>\n",
       "      <td>357.6</td>\n",
       "    </tr>\n",
       "    <tr>\n",
       "      <th>0.002711</th>\n",
       "      <td>kschedfreq:0</td>\n",
       "      <td>4</td>\n",
       "      <td>1489</td>\n",
       "      <td>4</td>\n",
       "      <td>236</td>\n",
       "      <td>447</td>\n",
       "      <td>357.6</td>\n",
       "    </tr>\n",
       "    <tr>\n",
       "      <th>0.002712</th>\n",
       "      <td>kschedfreq:0</td>\n",
       "      <td>4</td>\n",
       "      <td>1489</td>\n",
       "      <td>5</td>\n",
       "      <td>236</td>\n",
       "      <td>447</td>\n",
       "      <td>357.6</td>\n",
       "    </tr>\n",
       "    <tr>\n",
       "      <th>0.410816</th>\n",
       "      <td>kschedfreq:1</td>\n",
       "      <td>2</td>\n",
       "      <td>1490</td>\n",
       "      <td>1</td>\n",
       "      <td>1024</td>\n",
       "      <td>1024</td>\n",
       "      <td>819.2</td>\n",
       "    </tr>\n",
       "  </tbody>\n",
       "</table>\n",
       "</div>"
      ],
      "text/plain": [
       "                __comm  __cpu  __pid  cpu  capacity  max_capacity  \\\n",
       "Time                                                                \n",
       "0.002708  kschedfreq:0      4   1489    0       236           447   \n",
       "0.002710  kschedfreq:0      4   1489    3       236           447   \n",
       "0.002711  kschedfreq:0      4   1489    4       236           447   \n",
       "0.002712  kschedfreq:0      4   1489    5       236           447   \n",
       "0.410816  kschedfreq:1      2   1490    1      1024          1024   \n",
       "\n",
       "          tip_capacity  \n",
       "Time                    \n",
       "0.002708         357.6  \n",
       "0.002710         357.6  \n",
       "0.002711         357.6  \n",
       "0.002712         357.6  \n",
       "0.410816         819.2  "
      ]
     },
     "execution_count": 15,
     "metadata": {},
     "output_type": "execute_result"
    }
   ],
   "source": [
    "cap_df = trace.data_frame.trace_event('cpu_capacity')\n",
    "cap_df.head()"
   ]
  },
  {
   "cell_type": "markdown",
   "metadata": {
    "hidden": true
   },
   "source": [
    "#### Plot the signals of interest"
   ]
  },
  {
   "cell_type": "code",
   "execution_count": 20,
   "metadata": {
    "code_folding": [],
    "collapsed": false,
    "hidden": true
   },
   "outputs": [
    {
     "data": {
      "text/html": [
       "<table style=\"border-style: hidden;\">\n",
       "<tr>\n",
       "<td style=\"border-style: hidden;\"><div class=\"ilineplot\" id=\"fig_9f11ea1e66b64b52b8d9c9de9722d549\">\n",
       "            <script>\n",
       "            var ilp_req = require.config( {\n",
       "\n",
       "                paths: {\n",
       "                    \"dygraph-sync\": '/nbextensions/plotter_scripts/ILinePlot/synchronizer',\n",
       "                    \"dygraph\": '/nbextensions/plotter_scripts/ILinePlot/dygraph-combined',\n",
       "                    \"ILinePlot\": '/nbextensions/plotter_scripts/ILinePlot/ILinePlot',\n",
       "                    \"underscore\": '/nbextensions/plotter_scripts/ILinePlot/underscore-min',\n",
       "                },\n",
       "\n",
       "                shim: {\n",
       "                    \"dygraph-sync\": [\"dygraph\"],\n",
       "                    \"ILinePlot\": {\n",
       "\n",
       "                        \"deps\": [\"dygraph-sync\", \"dygraph\", \"underscore\"],\n",
       "                        \"exports\":  \"ILinePlot\"\n",
       "                    }\n",
       "                }\n",
       "            });\n",
       "                ilp_req([\"require\", \"ILinePlot\"], function() {\n",
       "                ILinePlot.generate('fig_9f11ea1e66b64b52b8d9c9de9722d549', '/nbextensions/');\n",
       "            });\n",
       "            </script>\n",
       "        </div></td>\n",
       "<td style=\"border-style: hidden;\"><div class=\"ilineplot\" id=\"fig_63446a0cdc7e4257b218739f97e04140\">\n",
       "            <script>\n",
       "            var ilp_req = require.config( {\n",
       "\n",
       "                paths: {\n",
       "                    \"dygraph-sync\": '/nbextensions/plotter_scripts/ILinePlot/synchronizer',\n",
       "                    \"dygraph\": '/nbextensions/plotter_scripts/ILinePlot/dygraph-combined',\n",
       "                    \"ILinePlot\": '/nbextensions/plotter_scripts/ILinePlot/ILinePlot',\n",
       "                    \"underscore\": '/nbextensions/plotter_scripts/ILinePlot/underscore-min',\n",
       "                },\n",
       "\n",
       "                shim: {\n",
       "                    \"dygraph-sync\": [\"dygraph\"],\n",
       "                    \"ILinePlot\": {\n",
       "\n",
       "                        \"deps\": [\"dygraph-sync\", \"dygraph\", \"underscore\"],\n",
       "                        \"exports\":  \"ILinePlot\"\n",
       "                    }\n",
       "                }\n",
       "            });\n",
       "                ilp_req([\"require\", \"ILinePlot\"], function() {\n",
       "                ILinePlot.generate('fig_63446a0cdc7e4257b218739f97e04140', '/nbextensions/');\n",
       "            });\n",
       "            </script>\n",
       "        </div></td>\n",
       "</tr>\n",
       "<tr>\n",
       "<td style=\"border-style: hidden;\"><div style=\"text-align:center\" id=\"fig_9f11ea1e66b64b52b8d9c9de9722d549_legend\"></div></td>\n",
       "<td style=\"border-style: hidden;\"><div style=\"text-align:center\" id=\"fig_63446a0cdc7e4257b218739f97e04140_legend\"></div></td>\n",
       "</tr>\n",
       "</table>"
      ],
      "text/plain": [
       "<IPython.core.display.HTML object>"
      ]
     },
     "metadata": {},
     "output_type": "display_data"
    }
   ],
   "source": [
    "# Signals can be easily plot using the ILinePlotter\n",
    "trappy.ILinePlot(\n",
    "    \n",
    "    # FTrace object\n",
    "    trace.ftrace,\n",
    "    \n",
    "    # Signals to be plotted\n",
    "    signals=[\n",
    "      'cpu_capacity:capacity',\n",
    "      'sched_load_avg_task:util_avg'\n",
    "    ],\n",
    "    \n",
    "    # Generate one plot for each value of the specified column\n",
    "     pivot='cpu',\n",
    "    \n",
    "    # Generate only plots which satisfy these filters\n",
    "    filters={\n",
    "        'comm': ['task_ramp'],\n",
    "        'cpu' : [2,5]\n",
    "    },\n",
    "    \n",
    "    # Formatting style\n",
    "    per_line=2,\n",
    "    drawstyle='steps-post',\n",
    "    marker = '+',\n",
    "    \n",
    "    sync_zoom=True,\n",
    "    group=\"GroupTag\"\n",
    "\n",
    ").view()"
   ]
  },
  {
   "cell_type": "markdown",
   "metadata": {
    "hidden": true
   },
   "source": [
    "### Use a set of standard plots"
   ]
  },
  {
   "cell_type": "markdown",
   "metadata": {
    "hidden": true
   },
   "source": [
    "A graphical representation can always be on hand"
   ]
  },
  {
   "cell_type": "code",
   "execution_count": 21,
   "metadata": {
    "collapsed": true
   },
   "outputs": [],
   "source": [
    "trace = Trace(platform, boost15_trace,\n",
    "              [\"sched_switch\",\n",
    "               \"sched_overutilized\",\n",
    "               \"sched_load_avg_cpu\",\n",
    "               \"sched_load_avg_task\",\n",
    "               \"sched_boost_cpu\",\n",
    "               \"sched_boost_task\",\n",
    "               \"cpu_frequency\",\n",
    "               \"cpu_capacity\",\n",
    "              ],\n",
    "              plots_prefix='boost15_'\n",
    "             )"
   ]
  },
  {
   "cell_type": "markdown",
   "metadata": {
    "hidden": true
   },
   "source": [
    "Usually a common set of plots can be generated which capture the most useful information realted to a workload we are analysing"
   ]
  },
  {
   "cell_type": "markdown",
   "metadata": {
    "hidden": true
   },
   "source": [
    "#### Example of task realted signals"
   ]
  },
  {
   "cell_type": "code",
   "execution_count": 130,
   "metadata": {
    "collapsed": false,
    "hidden": true
   },
   "outputs": [
    {
     "data": {
      "image/png": "[encoded data removed]",
      "text/plain": [
       "<matplotlib.figure.Figure at 0x7fa97c9ea590>"
      ]
     },
     "metadata": {},
     "output_type": "display_data"
    }
   ],
   "source": [
    "trace.analysis.tasks.plotTasks(\n",
    "    tasks=['task_ramp'],\n",
    "    signals=['util_avg', 'boosted_util', 'sched_overutilized', 'residencies'],\n",
    ")"
   ]
  },
  {
   "cell_type": "markdown",
   "metadata": {},
   "source": [
    "#### Example of Clusters related singals"
   ]
  },
  {
   "cell_type": "code",
   "execution_count": 131,
   "metadata": {
    "collapsed": false
   },
   "outputs": [
    {
     "data": {
      "image/png": "[encoded data removed]",
      "text/plain": [
       "<matplotlib.figure.Figure at 0x7fa97d0ae610>"
      ]
     },
     "metadata": {},
     "output_type": "display_data"
    }
   ],
   "source": [
    "trace.analysis.frequency.plotClusterFrequencies()"
   ]
  },
  {
   "cell_type": "markdown",
   "metadata": {
    "hidden": true
   },
   "source": [
    "#### Take-away"
   ]
  },
  {
   "cell_type": "markdown",
   "metadata": {
    "hidden": true
   },
   "source": [
    "In a single plot we can aggregate multiple informations which makes it easy to verify the expected behaviros.\n",
    "\n",
    "With a set of properly defined plots we are able to condense mucy more sensible information which are easy to ready because they are \"standard\".<br>\n",
    "We immediately capture what we are interested to evaluate!\n",
    "\n",
    "Moreover, all he produced plots are available as high resolution images, ready to be shared and/or used in other reports."
   ]
  },
  {
   "cell_type": "code",
   "execution_count": 132,
   "metadata": {
    "collapsed": false,
    "hidden": true
   },
   "outputs": [
    {
     "name": "stdout",
     "output_type": "stream",
     "text": [
      "\u001b[01;34m../../results/SchedTuneAnalysis/\u001b[00m\r\n",
      "├── \u001b[01;35mboost15_cluster_freqs.png\u001b[00m\r\n",
      "├── \u001b[01;35mboost15_task_util_task_ramp.png\u001b[00m\r\n",
      "├── energy.json\r\n",
      "├── output.log\r\n",
      "├── platform.json\r\n",
      "├── rt-app-task_ramp-0.log\r\n",
      "├── test_00.json\r\n",
      "├── trace_boost15.dat\r\n",
      "├── trace_boost15.raw.txt\r\n",
      "├── trace_boost15.txt\r\n",
      "├── trace_boost25.dat\r\n",
      "├── trace_boost25.raw.txt\r\n",
      "├── trace_boost25.txt\r\n",
      "├── trace.dat\r\n",
      "├── trace_noboost.dat\r\n",
      "├── trace_noboost.raw.txt\r\n",
      "├── trace_noboost.txt\r\n",
      "├── trace.raw.txt\r\n",
      "└── trace.txt\r\n",
      "\r\n",
      "0 directories, 19 files\r\n"
     ]
    }
   ],
   "source": [
    "!tree {res_dir}"
   ]
  },
  {
   "cell_type": "markdown",
   "metadata": {
    "hidden": true
   },
   "source": [
    "## Behavioral Analysis"
   ]
  },
  {
   "cell_type": "markdown",
   "metadata": {
    "hidden": true
   },
   "source": [
    "### Is the task starting on a big core?"
   ]
  },
  {
   "cell_type": "markdown",
   "metadata": {
    "hidden": true
   },
   "source": [
    "We always expect a new task to be allocated on a big core.\n",
    "\n",
    "To verify this condition we need to know what is the topology of the target.\n",
    "\n",
    "This information is **automatically collected by LISA** when the workload is executed.<br>\n",
    "Thus it can be used to write **portable tests** conditions."
   ]
  },
  {
   "cell_type": "markdown",
   "metadata": {
    "hidden": true
   },
   "source": [
    "#### Create a SchedAssert for the specific topology"
   ]
  },
  {
   "cell_type": "code",
   "execution_count": 23,
   "metadata": {
    "collapsed": false,
    "hidden": true
   },
   "outputs": [],
   "source": [
    "from bart.sched.SchedMultiAssert import SchedAssert\n",
    "\n",
    "# Create an object to get/assert scheduling pbehaviors\n",
    "sa = SchedAssert(trace_file, topology,  execname='task_ramp')"
   ]
  },
  {
   "cell_type": "markdown",
   "metadata": {
    "hidden": true
   },
   "source": [
    "#### Use the SchedAssert method to investigate properties of this task"
   ]
  },
  {
   "cell_type": "code",
   "execution_count": 28,
   "metadata": {
    "collapsed": false,
    "hidden": true
   },
   "outputs": [
    {
     "name": "stdout",
     "output_type": "stream",
     "text": [
      "PASS: Task starts on big CPU:  1\n"
     ]
    }
   ],
   "source": [
    "# Check on which CPU the task start its execution\n",
    "if sa.assertFirstCpu(platform['clusters']['big']):#, window=(4,6)):\n",
    "    print \"PASS: Task starts on big CPU: \", sa.getFirstCpu()\n",
    "else:\n",
    "    print \"FAIL: Task does NOT start on a big CPU!!!\""
   ]
  },
  {
   "cell_type": "markdown",
   "metadata": {
    "hidden": true
   },
   "source": [
    "### Is the task generating the expected load?"
   ]
  },
  {
   "cell_type": "markdown",
   "metadata": {
    "hidden": true
   },
   "source": [
    "We expect 35% load in the between 2 and 4 [s] of the execution"
   ]
  },
  {
   "cell_type": "markdown",
   "metadata": {
    "hidden": true
   },
   "source": [
    "#### Identify the start of the first phase"
   ]
  },
  {
   "cell_type": "code",
   "execution_count": 29,
   "metadata": {
    "collapsed": false,
    "hidden": true
   },
   "outputs": [
    {
     "name": "stdout",
     "output_type": "stream",
     "text": [
      "The task starts execution at [s]:  1.9683\n",
      "Window of interest:  (1.9682999999999993, 3.9682999999999993)\n"
     ]
    }
   ],
   "source": [
    "# Let's find when the task starts\n",
    "start = sa.getStartTime()\n",
    "first_phase = (start, start+2)\n",
    "\n",
    "print \"The task starts execution at [s]: \", start\n",
    "print \"Window of interest: \", first_phase"
   ]
  },
  {
   "cell_type": "markdown",
   "metadata": {
    "hidden": true
   },
   "source": [
    "#### Use the SchedAssert module to check the task load in that period"
   ]
  },
  {
   "cell_type": "code",
   "execution_count": 30,
   "metadata": {
    "collapsed": false,
    "hidden": true
   },
   "outputs": [
    {
     "name": "stdout",
     "output_type": "stream",
     "text": [
      "FAIL: Task duty-cycle is 18.11125% in the [2,4] execution window\n"
     ]
    }
   ],
   "source": [
    "import operator\n",
    "\n",
    "# Check the task duty cycle in the second step window\n",
    "if sa.assertDutyCycle(10, operator.lt, window=first_phase):\n",
    "    print \"PASS: Task duty-cycle is {}% in the [2,4] execution window\"\\\n",
    "          .format(sa.getDutyCycle(first_phase))\n",
    "else:\n",
    "    print \"FAIL: Task duty-cycle is {}% in the [2,4] execution window\"\\\n",
    "          .format(sa.getDutyCycle(first_phase))"
   ]
  },
  {
   "cell_type": "markdown",
   "metadata": {
    "hidden": true
   },
   "source": [
    "This test fails because we have not considered a scaling factor due running at a lower OPP.\n",
    "\n",
    "To write a portable test we need to account for that condition!"
   ]
  },
  {
   "cell_type": "markdown",
   "metadata": {
    "hidden": true
   },
   "source": [
    "#### Take OPP scaling into consideration"
   ]
  },
  {
   "cell_type": "code",
   "execution_count": 31,
   "metadata": {
    "collapsed": false,
    "hidden": true
   },
   "outputs": [
    {
     "name": "stdout",
     "output_type": "stream",
     "text": [
      "LITTLEs capacities range:  (236, 447)\n",
      "LITTLE's min capacity scale:  0.527964205817\n"
     ]
    }
   ],
   "source": [
    "# Get LITTLEs capacities ranges:\n",
    "littles = platform['clusters']['little']\n",
    "little_capacities = cap_df[cap_df.cpu.isin(littles)].capacity\n",
    "min_cap = little_capacities.min()\n",
    "max_cap = little_capacities.max()\n",
    "print \"LITTLEs capacities range: \", (min_cap, max_cap)\n",
    "\n",
    "# Get min OPP correction factor\n",
    "min_little_scale = 1.0 * min_cap / max_cap\n",
    "print \"LITTLE's min capacity scale: \", min_little_scale"
   ]
  },
  {
   "cell_type": "code",
   "execution_count": 33,
   "metadata": {
    "collapsed": false,
    "hidden": true
   },
   "outputs": [
    {
     "name": "stdout",
     "output_type": "stream",
     "text": [
      "Scaled target duty-cycle:  18.9406779661\n",
      "1% tolerance scaled duty-cycle:  19.1300847458\n"
     ]
    }
   ],
   "source": [
    "# Scale the target duty-cycle according to the min OPP\n",
    "target_dutycycle = 10 / min_little_scale\n",
    "print \"Scaled target duty-cycle: \", target_dutycycle\n",
    "\n",
    "\n",
    "target_dutycycle = 1.01 * target_dutycycle\n",
    "\n",
    "print \"1% tolerance scaled duty-cycle: \", target_dutycycle"
   ]
  },
  {
   "cell_type": "markdown",
   "metadata": {
    "hidden": true
   },
   "source": [
    "#### Write a more portable assertion"
   ]
  },
  {
   "cell_type": "code",
   "execution_count": 34,
   "metadata": {
    "collapsed": false,
    "hidden": true
   },
   "outputs": [
    {
     "name": "stdout",
     "output_type": "stream",
     "text": [
      "PASS: Task duty-cycle is 9.56209172258% in the [2,4] execution window\n"
     ]
    }
   ],
   "source": [
    "# Add a 1% tolerance to our scaled target dutycycle\n",
    "if sa.assertDutyCycle(1.01 * target_dutycycle, operator.lt, window=first_phase):\n",
    "    print \"PASS: Task duty-cycle is {}% in the [2,4] execution window\"\\\n",
    "          .format(sa.getDutyCycle(first_phase) * min_little_scale)\n",
    "else:\n",
    "    print \"FAIL: Task duty-cycle is {}% in the [2,4] execution window\"\\\n",
    "          .format(sa.getDutyCycle(first_phase) * min_little_scale)"
   ]
  },
  {
   "cell_type": "markdown",
   "metadata": {
    "hidden": true
   },
   "source": [
    "### Is the task migrated once we exceed the LITTLE CPUs capacity?"
   ]
  },
  {
   "cell_type": "markdown",
   "metadata": {
    "hidden": true
   },
   "source": [
    "#### Check that the task is switching the cluster once expected"
   ]
  },
  {
   "cell_type": "code",
   "execution_count": 35,
   "metadata": {
    "collapsed": false,
    "hidden": true
   },
   "outputs": [
    {
     "name": "stdout",
     "output_type": "stream",
     "text": [
      "PASS: Task switches to big within:  (5.8682999999999996, 6.0682999999999989)\n"
     ]
    }
   ],
   "source": [
    "# Consider a 100 [ms] window for the task to migrate\n",
    "delta = 0.1\n",
    "\n",
    "# Defined the window of interest\n",
    "switch_window=(start+4-delta, start+4+delta)\n",
    "\n",
    "if sa.assertSwitch(\"cluster\",\n",
    "             platform['clusters']['little'],\n",
    "             platform['clusters']['big'],\n",
    "             window=switch_window):\n",
    "    print \"PASS: Task switches to big within: \", switch_window\n",
    "else:\n",
    "    print \"PASS: Task DOES NO switches to big within: \", switch_window"
   ]
  },
  {
   "cell_type": "markdown",
   "metadata": {
    "hidden": true
   },
   "source": [
    "#### Check that the task is running most of its time on the LITTLE cluster"
   ]
  },
  {
   "cell_type": "code",
   "execution_count": 36,
   "metadata": {
    "collapsed": false,
    "hidden": true
   },
   "outputs": [
    {
     "name": "stdout",
     "output_type": "stream",
     "text": [
      "PASS: Task exectuion on LITTLEs is 53.1% (less than 66% of its execution time)\n"
     ]
    }
   ],
   "source": [
    "import operator\n",
    "\n",
    "if sa.assertResidency(\"cluster\", platform['clusters']['little'], 66, operator.le, percent=True):\n",
    "    print \"PASS: Task exectuion on LITTLEs is {:.1f}% (less than 66% of its execution time)\".\\\n",
    "        format(sa.getResidency(\"cluster\", platform['clusters']['little'], percent=True))\n",
    "else:\n",
    "    print \"FAIL: Task run on LITTLE for MORE than 66% of its execution time\""
   ]
  },
  {
   "cell_type": "markdown",
   "metadata": {
    "collapsed": true,
    "hidden": true
   },
   "source": [
    "### Check that the util estimation is properly computed and CPU capacity matches"
   ]
  },
  {
   "cell_type": "code",
   "execution_count": 7,
   "metadata": {
    "collapsed": false,
    "hidden": true
   },
   "outputs": [],
   "source": [
    "start = 2\n",
    "last_phase = (start+4, start+6)\n",
    "\n",
    "analyzer_config = {\n",
    "    \"SCALE\" : 1024,\n",
    "    \"BOOST\" : 15,\n",
    "}\n",
    "\n",
    "# Verify that the margin is properly computed for each event:\n",
    "# margin := (scale - util) * boost\n",
    "margin_check_statement = \"(((SCALE - sched_boost_task:util) * BOOST) // 100) == sched_boost_task:margin\""
   ]
  },
  {
   "cell_type": "code",
   "execution_count": 8,
   "metadata": {
    "collapsed": false,
    "hidden": true
   },
   "outputs": [],
   "source": [
    "from bart.common.Analyzer import Analyzer\n",
    "\n",
    "# Create an Assertion Object\n",
    "a = Analyzer(trace.ftrace,\n",
    "             analyzer_config,\n",
    "             window=last_phase,\n",
    "             filters={\"comm\": \"task_ramp\"})"
   ]
  },
  {
   "cell_type": "code",
   "execution_count": 9,
   "metadata": {
    "collapsed": false,
    "hidden": true
   },
   "outputs": [
    {
     "name": "stdout",
     "output_type": "stream",
     "text": [
      "PASS: Margin properly computed in :  (6, 8)\n"
     ]
    }
   ],
   "source": [
    "if a.assertStatement(margin_check_statement):\n",
    "    print \"PASS: Margin properly computed in : \", last_phase\n",
    "else:\n",
    "    print \"FAIL: Margin NOT properly computed in : \", last_phase"
   ]
  },
  {
   "cell_type": "markdown",
   "metadata": {
    "hidden": true
   },
   "source": [
    "#### Check that the CPU capacity matches the task boosted value"
   ]
  },
  {
   "cell_type": "code",
   "execution_count": 10,
   "metadata": {
    "collapsed": false,
    "hidden": true
   },
   "outputs": [],
   "source": [
    "# Get the two dataset of interest\n",
    "df1 = trace.data_frame.trace_event('cpu_capacity')[['cpu', 'capacity']]\n",
    "df2 = trace.data_frame.trace_event('boost_task_rtapp')[['__cpu', 'boosted_util']]\n",
    "\n",
    "# Join the information from these two\n",
    "df3 = df2.join(df1, how='outer')\n",
    "df3 = df3.fillna(method='ffill')\n",
    "df3 = df3[df3.__cpu == df3.cpu]\n",
    "#df3.ix[start+4:start+6,].head()"
   ]
  },
  {
   "cell_type": "code",
   "execution_count": 11,
   "metadata": {
    "collapsed": false,
    "hidden": true
   },
   "outputs": [
    {
     "data": {
      "text/plain": [
       "19"
      ]
     },
     "execution_count": 11,
     "metadata": {},
     "output_type": "execute_result"
    }
   ],
   "source": [
    "len(df3[df3.boosted_util >= df3.capacity])"
   ]
  },
  {
   "cell_type": "markdown",
   "metadata": {
    "hidden": true
   },
   "source": [
    "##### Do it the TRAPpy way"
   ]
  },
  {
   "cell_type": "code",
   "execution_count": 12,
   "metadata": {
    "collapsed": false,
    "hidden": true
   },
   "outputs": [
    {
     "data": {
      "text/plain": [
       "True"
      ]
     },
     "execution_count": 12,
     "metadata": {},
     "output_type": "execute_result"
    }
   ],
   "source": [
    "# Create the TRAPpy class\n",
    "trace.ftrace.add_parsed_event('rtapp_capacity_check', df3)\n",
    "# Define pivoting value\n",
    "trace.ftrace.rtapp_capacity_check.pivot = 'cpu'\n",
    "\n",
    "# Create an Assertion\n",
    "a = Analyzer(trace.ftrace,\n",
    "             {\"CAP\" : trace.ftrace.rtapp_capacity_check},\n",
    "             window=(start+4.1, start+6))\n",
    "a.assertStatement(\"CAP:capacity >= CAP:boosted_util\")"
   ]
  },
  {
   "cell_type": "markdown",
   "metadata": {
    "hidden": true
   },
   "source": [
    "## Going further on events processing"
   ]
  },
  {
   "cell_type": "markdown",
   "metadata": {
    "hidden": true
   },
   "source": [
    "### What are the relative residency on different OPPs?"
   ]
  },
  {
   "cell_type": "markdown",
   "metadata": {
    "hidden": true
   },
   "source": [
    "We are not limited to the usage of pre-defined functions. We can exploit the full power of PANDAS to process the DataFrames to extract all kind of information we want."
   ]
  },
  {
   "cell_type": "markdown",
   "metadata": {
    "hidden": true
   },
   "source": [
    "#### Use PANDAs APIs to filter and aggregate events"
   ]
  },
  {
   "cell_type": "code",
   "execution_count": 40,
   "metadata": {
    "collapsed": false,
    "hidden": true
   },
   "outputs": [
    {
     "name": "stdout",
     "output_type": "stream",
     "text": [
      "Residency time per OPP:\n",
      "Freq     450000Hz :  59.3%\n",
      "Freq     575000Hz :  11.7%\n",
      "Freq     700000Hz :  19.5%\n",
      "Freq     775000Hz :   8.8%\n",
      "Freq     850000Hz :   0.6%\n"
     ]
    }
   ],
   "source": [
    "import pandas as pd\n",
    "\n",
    "# Focus on cpu_frequency events for CPU0\n",
    "df = trace.data_frame.trace_event('cpu_frequency')\n",
    "df = df[df.cpu == 0]\n",
    "\n",
    "# Compute the residency on each OPP before switching to the next one\n",
    "df.loc[:,'start'] = df.index\n",
    "df.loc[:,'delta'] = (df['start'] - df['start'].shift()).fillna(0).shift(-1)\n",
    "\n",
    "# Group by frequency and sum-up the deltas\n",
    "freq_residencies = df.groupby('frequency')['delta'].sum()\n",
    "print \"Residency time per OPP:\"\n",
    "df = pd.DataFrame(freq_residencies)\n",
    "\n",
    "df.head()\n",
    "\n",
    "# Compute the relative residency time\n",
    "tot = sum(freq_residencies)\n",
    "#df = df.apply(lambda delta : 100*delta/tot)\n",
    "for f in freq_residencies.index:\n",
    "    print \"Freq {:10d}Hz : {:5.1f}%\".format(f, 100*freq_residencies[f]/tot)"
   ]
  },
  {
   "cell_type": "markdown",
   "metadata": {
    "hidden": true
   },
   "source": [
    "#### Use MathPlot Lib to generate all kind of plot from collected data"
   ]
  },
  {
   "cell_type": "code",
   "execution_count": 44,
   "metadata": {
    "collapsed": false,
    "hidden": true
   },
   "outputs": [
    {
     "data": {
      "image/png": "[encoded data removed]",
      "text/plain": [
       "<matplotlib.figure.Figure at 0x7f8b58536910>"
      ]
     },
     "metadata": {},
     "output_type": "display_data"
    }
   ],
   "source": [
    "# Plot residency time\n",
    "import matplotlib.pyplot as plt\n",
    "\n",
    "fig, axes = plt.subplots(1, 1, figsize=(16, 5));\n",
    "df.plot(kind='barh', ax=axes, title=\"Frequency residency\", rot=45);"
   ]
  },
  {
   "cell_type": "markdown",
   "metadata": {
    "hidden": true
   },
   "source": [
    "<br><br><br><br>\n",
    "Advanced DataFrame usage: filtering by columns/rows, merging tables, plotting data<br>\n",
    "[notebooks/tutorial/05_TrappyUsage.ipynb](05_TrappyUsage.ipynb)\n",
    "<br><br><br><br>"
   ]
  },
  {
   "cell_type": "markdown",
   "metadata": {},
   "source": [
    "# Remote target connection and control"
   ]
  },
  {
   "cell_type": "markdown",
   "metadata": {
    "hidden": true
   },
   "source": [
    "Using LISA APIs to control a remote device and run custom workloads"
   ]
  },
  {
   "cell_type": "markdown",
   "metadata": {
    "hidden": true
   },
   "source": [
    "## Configure the connection"
   ]
  },
  {
   "cell_type": "code",
   "execution_count": null,
   "metadata": {
    "collapsed": true,
    "hidden": true
   },
   "outputs": [],
   "source": [
    "# Setup a target configuration\n",
    "conf = {\n",
    "    \n",
    "    # Target is localhost\n",
    "    \"platform\"    : 'linux',\n",
    "    \"board\"       : \"juno\",\n",
    "    \n",
    "    # Login credentials\n",
    "    \"host\"        : \"192.168.0.1\",\n",
    "    \"username\"    : \"root\",\n",
    "    \"password\"    : \"\",\n",
    "\n",
    "    # Binary tools required to run this experiment\n",
    "    # These tools must be present in the tools/ folder for the architecture\n",
    "    \"tools\"   : ['rt-app', 'taskset', 'trace-cmd'],\n",
    "    \n",
    "    # Comment the following line to force rt-app calibration on your target\n",
    "    \"rtapp-calib\" : {\n",
    "       \"0\": 355, \"1\": 138, \"2\": 138, \"3\": 355, \"4\": 354, \"5\": 354\n",
    "    },\n",
    "    \n",
    "    # FTrace events end buffer configuration\n",
    "    \"ftrace\"  : {\n",
    "        \"events\" : [\n",
    "            \"sched_switch\",\n",
    "            \"sched_wakeup\",\n",
    "            \"sched_wakeup_new\",\n",
    "            \"sched_overutilized\",\n",
    "            \"sched_contrib_scale_f\",\n",
    "            \"sched_load_avg_cpu\",\n",
    "            \"sched_load_avg_task\",\n",
    "            \"sched_tune_config\",\n",
    "            \"sched_tune_tasks_update\",\n",
    "            \"sched_tune_boostgroup_update\",\n",
    "            \"sched_tune_filter\",\n",
    "            \"sched_boost_cpu\",\n",
    "            \"sched_boost_task\",\n",
    "            \"sched_energy_diff\",\n",
    "            \"cpu_frequency\",\n",
    "            \"cpu_capacity\",\n",
    "         ],\n",
    "         \"buffsize\" : 10240\n",
    "    },\n",
    "\n",
    "    # Where results are collected\n",
    "    \"results_dir\" : \"SchedTuneAnalysis\",\n",
    "\n",
    "    # Devlib module required (or not required)\n",
    "    'modules' : [ \"cpufreq\", \"cgroups\" ],\n",
    "    #\"exclude_modules\" : [ \"hwmon\" ],\n",
    "}"
   ]
  },
  {
   "cell_type": "markdown",
   "metadata": {
    "hidden": true
   },
   "source": [
    "## Setup the connection"
   ]
  },
  {
   "cell_type": "code",
   "execution_count": null,
   "metadata": {
    "collapsed": true,
    "hidden": true
   },
   "outputs": [],
   "source": [
    "# Support to access the remote target\n",
    "from env import TestEnv\n",
    "\n",
    "# Initialize a test environment using:\n",
    "# the provided target configuration (my_target_conf)\n",
    "# the provided test configuration   (my_test_conf)\n",
    "te = TestEnv(conf)\n",
    "target = te.target\n",
    "\n",
    "print \"DONE\""
   ]
  },
  {
   "cell_type": "markdown",
   "metadata": {
    "hidden": true
   },
   "source": [
    "## Target control"
   ]
  },
  {
   "cell_type": "markdown",
   "metadata": {
    "hidden": true
   },
   "source": [
    "### Run custom commands"
   ]
  },
  {
   "cell_type": "code",
   "execution_count": null,
   "metadata": {
    "collapsed": true,
    "hidden": true
   },
   "outputs": [],
   "source": [
    "# Enable Energy-Aware scheduler\n",
    "target.execute(\"echo ENERGY_AWARE > /sys/kernel/debug/sched_features\");\n",
    "target.execute(\"echo UTIL_EST > /sys/kernel/debug/sched_features\");\n",
    "\n",
    "# Check which sched_feature are enabled\n",
    "sched_features = target.read_value(\"/sys/kernel/debug/sched_features\");\n",
    "print \"sched_features:\"\n",
    "print sched_features"
   ]
  },
  {
   "cell_type": "markdown",
   "metadata": {
    "hidden": true
   },
   "source": [
    "### Example CPUFreq configuration"
   ]
  },
  {
   "cell_type": "code",
   "execution_count": null,
   "metadata": {
    "collapsed": true,
    "hidden": true
   },
   "outputs": [],
   "source": [
    "target.cpufreq.set_all_governors('sched');\n",
    "\n",
    "# Check which governor is enabled on each CPU\n",
    "enabled_governors =  target.cpufreq.get_all_governors()\n",
    "print enabled_governors"
   ]
  },
  {
   "cell_type": "markdown",
   "metadata": {
    "hidden": true
   },
   "source": [
    "### Example of CGruops configuration"
   ]
  },
  {
   "cell_type": "code",
   "execution_count": null,
   "metadata": {
    "collapsed": true,
    "hidden": true
   },
   "outputs": [],
   "source": [
    "schedtune = target.cgroups.controller('schedtune')\n",
    "\n",
    "# Configure a 50% boostgroup\n",
    "boostgroup = schedtune.cgroup('/boosted')\n",
    "boostgroup.set(boost=25)\n",
    "\n",
    "# Dump the configuraiton of each groups\n",
    "cgroups = schedtune.list_all()\n",
    "for cgname in cgroups:\n",
    "    cgroup = schedtune.cgroup(cgname)\n",
    "    attrs = cgroup.get()\n",
    "    boost = attrs['boost']\n",
    "    print '{}:{:<15} boost: {}'.format(schedtune.kind, cgroup.name, boost)"
   ]
  },
  {
   "cell_type": "markdown",
   "metadata": {},
   "source": [
    "# Remote workloads execution"
   ]
  },
  {
   "cell_type": "markdown",
   "metadata": {
    "hidden": true
   },
   "source": [
    "## Generate RTApp configurations"
   ]
  },
  {
   "cell_type": "code",
   "execution_count": null,
   "metadata": {
    "collapsed": true,
    "hidden": true
   },
   "outputs": [],
   "source": [
    "# RTApp configurator for generation of PERIODIC tasks\n",
    "from wlgen import RTA, Periodic, Ramp\n",
    "\n",
    "# Create a new RTApp workload generator using the calibration values\n",
    "# reported by the TestEnv module\n",
    "rtapp = RTA(target, 'test', calibration=te.calibration())\n",
    "\n",
    "# Ramp workload\n",
    "ramp = Ramp(\n",
    "    start_pct=10,\n",
    "    end_pct=60,\n",
    "    delta_pct=25,\n",
    "    time_s=2,\n",
    "    period_ms=32\n",
    ")\n",
    "\n",
    "# Configure this RTApp instance to:\n",
    "rtapp.conf(\n",
    "\n",
    "    # 1. generate a \"profile based\" set of tasks\n",
    "    kind = 'profile',\n",
    "    \n",
    "    # 2. define the \"profile\" of each task\n",
    "    params = {\n",
    "        \n",
    "        # 3. Composed task\n",
    "        'task_ramp': ramp.get(),\n",
    "    },\n",
    "    \n",
    "    #loadref='big',\n",
    "    loadref='LITTLE',\n",
    "    run_dir=target.working_directory\n",
    "    \n",
    ");"
   ]
  },
  {
   "cell_type": "markdown",
   "metadata": {
    "hidden": true
   },
   "source": [
    "## Execution and tracing"
   ]
  },
  {
   "cell_type": "code",
   "execution_count": null,
   "metadata": {
    "collapsed": true,
    "hidden": true
   },
   "outputs": [],
   "source": [
    "def execute(te, wload, res_dir, cg='/'):\n",
    "    \n",
    "    logging.info('# Setup FTrace')\n",
    "    te.ftrace.start()\n",
    "\n",
    "    if te.emeter:\n",
    "        logging.info('## Start energy sampling')\n",
    "        te.emeter.reset()\n",
    "\n",
    "    logging.info('### Start RTApp execution')\n",
    "    wload.run(out_dir=res_dir, cgroup=cg)\n",
    "\n",
    "    if te.emeter:\n",
    "        logging.info('## Read energy consumption: %s/energy.json', res_dir)\n",
    "        nrg_report = te.emeter.report(out_dir=res_dir)\n",
    "    else:\n",
    "        nrg_report = None\n",
    "\n",
    "    logging.info('# Stop FTrace')\n",
    "    te.ftrace.stop()\n",
    "\n",
    "    trace_file = os.path.join(res_dir, 'trace.dat')\n",
    "    logging.info('# Save FTrace: %s', trace_file)\n",
    "    te.ftrace.get_trace(trace_file)\n",
    "\n",
    "    logging.info('# Save platform description: %s/platform.json', res_dir)\n",
    "    plt, plt_file = te.platform_dump(res_dir)\n",
    "    \n",
    "    logging.info('# Report collected data:')\n",
    "    logging.info('   %s', res_dir)\n",
    "    !tree {res_dir}\n",
    "    \n",
    "    return nrg_report, plt, plt_file, trace_file"
   ]
  },
  {
   "cell_type": "code",
   "execution_count": null,
   "metadata": {
    "collapsed": true,
    "hidden": true
   },
   "outputs": [],
   "source": [
    "nrg_report, plt, plt_file, trace_file = execute(te, rtapp, te.res_dir, cg=boostgroup.name)"
   ]
  },
  {
   "cell_type": "markdown",
   "metadata": {},
   "source": [
    "# Regression testing support"
   ]
  },
  {
   "cell_type": "markdown",
   "metadata": {
    "hidden": true
   },
   "source": [
    "Writing and running regression tests using the LISA API"
   ]
  },
  {
   "cell_type": "markdown",
   "metadata": {
    "hidden": true
   },
   "source": [
    "## Defined configurations to test and workloads"
   ]
  },
  {
   "cell_type": "code",
   "execution_count": 116,
   "metadata": {
    "collapsed": false,
    "hidden": true
   },
   "outputs": [
    {
     "name": "stdout",
     "output_type": "stream",
     "text": [
      "{\r\n",
      "    /* Devlib modules to enable/disbale for all the experiments */\r\n",
      "    \"modules\"         : [ \"cpufreq\", \"cgroups\" ],\r\n",
      "    \"exclude_modules\" : [ ],\r\n",
      "\r\n",
      "    /* Binary tools required by the experiments */\r\n",
      "    \"tools\"    : [ \"rt-app\" ],\r\n",
      "\r\n",
      "    /* FTrace configuration */\r\n",
      "    \"ftrace\" : {\r\n",
      "        \"events\" : [\r\n",
      "            \"sched_switch\",\r\n",
      "            \"sched_contrib_scale_f\",\r\n",
      "            \"sched_load_avg_cpu\",\r\n",
      "            \"sched_load_avg_task\",\r\n",
      "            \"sched_tune_config\",\r\n",
      "            \"sched_tune_tasks_update\",\r\n",
      "            \"sched_tune_boostgroup_update\",\r\n",
      "            \"sched_tune_filter\",\r\n",
      "            \"sched_boost_cpu\",\r\n",
      "            \"sched_boost_task\",\r\n",
      "            \"sched_energy_diff\",\r\n",
      "            \"cpu_frequency\",\r\n",
      "            \"cpu_capacity\",\r\n",
      "        ],\r\n",
      "        \"buffsize\" : 10240,\r\n",
      "    },\r\n",
      "\r\n",
      "    /* Set of platform configurations to test */\r\n",
      "    \"confs\" : [\r\n",
      "        {\r\n",
      "            \"tag\" : \"noboost\",\r\n",
      "            \"flags\" : \"ftrace\",\r\n",
      "            \"sched_features\" : \"ENERGY_AWARE\",\r\n",
      "            \"cpufreq\" : { \"governor\" : \"sched\" },\r\n",
      "            \"cgroups\" : {\r\n",
      "                \"conf\" : {\r\n",
      "                    \"schedtune\" : {\r\n",
      "                        \"/\"      : {\"boost\" :  0 },\r\n",
      "                        \"/stune\" : {\"boost\" :  0 },\r\n",
      "                    }\r\n",
      "                },\r\n",
      "                \"default\" : \"/\",\r\n",
      "            }\r\n",
      "        },\r\n",
      "        {\r\n",
      "            \"tag\" : \"boost15\",\r\n",
      "            \"flags\" : \"ftrace\",\r\n",
      "            \"sched_features\" : \"ENERGY_AWARE\",\r\n",
      "            \"cpufreq\" : { \"governor\" : \"sched\" },\r\n",
      "\t    \"cgroups\" : {\r\n",
      "                \"conf\" : {\r\n",
      "                    \"schedtune\" : {\r\n",
      "                        \"/\"      : {\"boost\" :  0 },\r\n",
      "                        \"/stune\" : {\"boost\" : 15 },\r\n",
      "                    }\r\n",
      "                },\r\n",
      "                \"default\" : \"/stune\",\r\n",
      "            }\r\n",
      "        },\r\n",
      "        {\r\n",
      "            \"tag\" : \"boost30\",\r\n",
      "            \"flags\" : \"ftrace\",\r\n",
      "            \"sched_features\" : \"ENERGY_AWARE\",\r\n",
      "            \"cpufreq\" : { \"governor\" : \"sched\" },\r\n",
      "\t    \"cgroups\" : {\r\n",
      "                \"conf\" : {\r\n",
      "                    \"schedtune\" : {\r\n",
      "                        \"/\"      : {\"boost\" :  0 },\r\n",
      "                        \"/stune\" : {\"boost\" : 30 },\r\n",
      "                    }\r\n",
      "                },\r\n",
      "                \"default\" : \"/stune\",\r\n",
      "            }\r\n",
      "        },\r\n",
      "        {\r\n",
      "            \"tag\" : \"boost60\",\r\n",
      "            \"flags\" : \"ftrace\",\r\n",
      "            \"sched_features\" : \"ENERGY_AWARE\",\r\n",
      "            \"cpufreq\" : { \"governor\" : \"sched\" },\r\n",
      "\t    \"cgroups\" : {\r\n",
      "                \"conf\" : {\r\n",
      "                    \"schedtune\" : {\r\n",
      "                        \"/\"      : {\"boost\" :  0 },\r\n",
      "                        \"/stune\" : {\"boost\" : 60 },\r\n",
      "                    }\r\n",
      "                },\r\n",
      "                \"default\" : \"/stune\",\r\n",
      "            }\r\n",
      "        }\r\n",
      "\r\n",
      "    ],\r\n",
      "\r\n",
      "    /* Set of workloads to run on each platform configuration */\r\n",
      "    \"wloads\" : {\r\n",
      "        \"mixprof\" : {\r\n",
      "            \"type\": \"rt-app\",\r\n",
      "            \"conf\" : {\r\n",
      "                \"class\"  : \"profile\",\r\n",
      "                \"params\"  : {\r\n",
      "                    \"r5_10-60\" : {\r\n",
      "                        \"kind\"   : \"Ramp\",\r\n",
      "                        \"params\" : {\r\n",
      "                            \"period_ms\" : 16,\r\n",
      "                            \"start_pct\" :  5,\r\n",
      "                            \"end_pct\"   : 60,\r\n",
      "                            \"delta_pct\" :  5,\r\n",
      "                            \"time_s\"    :  1,\r\n",
      "                         }\r\n",
      "                    }\r\n",
      "                }\r\n",
      "            },\r\n",
      "            \"loadref\" : \"LITTLE\",\r\n",
      "        }\r\n",
      "    },\r\n",
      "\r\n",
      "    /* Number of iterations for each workload */\r\n",
      "    \"iterations\" : 1,\r\n",
      "\r\n",
      "}\r\n",
      "\r\n",
      "// vim :set tabstop=4 shiftwidth=4 expandtab\r\n"
     ]
    }
   ],
   "source": [
    "stune_smoke_test = '../../tests/stune/smoke_test_ramp.config'\n",
    "!cat {stune_smoke_test}"
   ]
  },
  {
   "cell_type": "markdown",
   "metadata": {
    "hidden": true
   },
   "source": [
    "## Write Test Cases"
   ]
  },
  {
   "cell_type": "code",
   "execution_count": 120,
   "metadata": {
    "collapsed": false,
    "hidden": true
   },
   "outputs": [
    {
     "name": "stdout",
     "output_type": "stream",
     "text": [
      "# SPDX-License-Identifier: Apache-2.0\r\n",
      "#\r\n",
      "# Copyright (C) 2015, ARM Limited and contributors.\r\n",
      "#\r\n",
      "# Licensed under the Apache License, Version 2.0 (the \"License\"); you may\r\n",
      "# not use this file except in compliance with the License.\r\n",
      "# You may obtain a copy of the License at\r\n",
      "#\r\n",
      "# http://www.apache.org/licenses/LICENSE-2.0\r\n",
      "#\r\n",
      "# Unless required by applicable law or agreed to in writing, software\r\n",
      "# distributed under the License is distributed on an \"AS IS\" BASIS, WITHOUT\r\n",
      "# WARRANTIES OR CONDITIONS OF ANY KIND, either express or implied.\r\n",
      "# See the License for the specific language governing permissions and\r\n",
      "# limitations under the License.\r\n",
      "#\r\n",
      "\r\n",
      "import logging\r\n",
      "import os\r\n",
      "\r\n",
      "from test import LisaTest\r\n",
      "\r\n",
      "import trappy\r\n",
      "from bart.common.Analyzer import Analyzer\r\n",
      "\r\n",
      "TESTS_DIRECTORY = os.path.dirname(os.path.realpath(__file__))\r\n",
      "TESTS_CONF = os.path.join(TESTS_DIRECTORY, \"smoke_test_ramp.config\")\r\n",
      "\r\n",
      "class STune(LisaTest):\r\n",
      "    \"\"\"Tests for SchedTune framework\"\"\"\r\n",
      "\r\n",
      "    @classmethod\r\n",
      "    def setUpClass(cls, *args, **kwargs):\r\n",
      "        super(STune, cls)._init(TESTS_CONF, *args, **kwargs)\r\n",
      "\r\n",
      "    def test_boosted_utilization_signal(self):\r\n",
      "        \"\"\"The boosted utilization signal is appropriately boosted\r\n",
      "\r\n",
      "        The margin should match the formula\r\n",
      "        (sched_load_scale - util) * boost\"\"\"\r\n",
      "\r\n",
      "        for tc in self.conf[\"confs\"]:\r\n",
      "            test_id = tc[\"tag\"]\r\n",
      "\r\n",
      "            wload_idx = self.conf[\"wloads\"].keys()[0]\r\n",
      "            run_dir = os.path.join(self.te.res_dir,\r\n",
      "                                   \"rtapp:{}:{}\".format(test_id, wload_idx),\r\n",
      "                                   \"1\")\r\n",
      "\r\n",
      "            ftrace_events = [\"sched_boost_task\"]\r\n",
      "            ftrace = trappy.FTrace(run_dir, scope=\"custom\",\r\n",
      "                                   events=ftrace_events)\r\n",
      "\r\n",
      "            first_task_params = self.conf[\"wloads\"][wload_idx][\"conf\"][\"params\"]\r\n",
      "            first_task_name = first_task_params.keys()[0]\r\n",
      "            rta_task_name = \"task_{}\".format(first_task_name)\r\n",
      "\r\n",
      "            sbt_dfr = ftrace.sched_boost_task.data_frame\r\n",
      "            boost_task_rtapp = sbt_dfr[sbt_dfr.comm == rta_task_name]\r\n",
      "            ftrace.add_parsed_event(\"boost_task_rtapp\", boost_task_rtapp)\r\n",
      "\r\n",
      "            # Avoid the first period as the task starts with a very\r\n",
      "            # high load and it overutilizes the CPU\r\n",
      "            rtapp_period = first_task_params[first_task_name][\"params\"][\"period_ms\"]\r\n",
      "            task_start = boost_task_rtapp.index[0]\r\n",
      "            after_first_period = task_start + (rtapp_period / 1000.)\r\n",
      "\r\n",
      "            boost = tc[\"cgroups\"][\"conf\"][\"schedtune\"][\"/stune\"][\"boost\"] / 100.\r\n",
      "            analyzer_const = {\r\n",
      "                \"SCHED_LOAD_SCALE\": 1024,\r\n",
      "                \"BOOST\": boost,\r\n",
      "            }\r\n",
      "            analyzer = Analyzer(ftrace, analyzer_const,\r\n",
      "                                window=(after_first_period, None))\r\n",
      "            statement = \"(((SCHED_LOAD_SCALE - boost_task_rtapp:util) * BOOST) // 100) == boost_task_rtapp:margin\"\r\n",
      "            error_msg = \"task was not boosted to the expected margin: {}\".\\\r\n",
      "                        format(boost)\r\n",
      "            self.assertTrue(analyzer.assertStatement(statement), msg=error_msg)\r\n",
      "\r\n",
      "# vim :set tabstop=4 shiftwidth=4 expandtab\r\n"
     ]
    }
   ],
   "source": [
    "stune_smoke_test = '../../tests/stune/smoke_test_ramp.py'\n",
    "!cat {stune_smoke_test}"
   ]
  },
  {
   "cell_type": "markdown",
   "metadata": {
    "hidden": true
   },
   "source": [
    "## Tests execution"
   ]
  },
  {
   "cell_type": "markdown",
   "metadata": {
    "hidden": true
   },
   "source": [
    "The execution of a test can be triggered from a LISA shell using nosetest with the test class as a parameter. This command:\n",
    "\n",
    "```bash\n",
    "$ nosetests -v tests/stune/smoke_test_ramp.py\n",
    "```\n",
    "\n",
    "will execute all the tests described in the **smoke_test_ramp.py** module and collect all the products in a timestamp named subfolder of the results folder.\n",
    "Tests PASS/FAILURE is reported after the completion of each test execution."
   ]
  },
  {
   "cell_type": "markdown",
   "metadata": {
    "hidden": true
   },
   "source": [
    "## Results reporting"
   ]
  },
  {
   "cell_type": "markdown",
   "metadata": {},
   "source": [
    "Detailed results of the experiments which compares also some base configurations with each test configuration can be reported in a tablular format using this command:\n",
    "\n",
    "```bash\n",
    "$ lisa-report --base noboost --tests '(boost15|boost30|boost60)'\n",
    "```\n"
   ]
  },
  {
   "cell_type": "markdown",
   "metadata": {
    "hidden": true
   },
   "source": [
    "<img  src=\"SchedTune_SmokeTestResults.png\"/>"
   ]
  }
 ],
 "metadata": {
  "kernelspec": {
   "display_name": "Python 2",
   "language": "python",
   "name": "python2"
  },
  "language_info": {
   "codemirror_mode": {
    "name": "ipython",
    "version": 2
   },
   "file_extension": ".py",
   "mimetype": "text/x-python",
   "name": "python",
   "nbconvert_exporter": "python",
   "pygments_lexer": "ipython2",
   "version": "2.7.9"
  },
  "toc": {
   "toc_cell": false,
   "toc_number_sections": true,
   "toc_threshold": 6,
   "toc_window_display": false
  }
 },
 "nbformat": 4,
 "nbformat_minor": 0
}
