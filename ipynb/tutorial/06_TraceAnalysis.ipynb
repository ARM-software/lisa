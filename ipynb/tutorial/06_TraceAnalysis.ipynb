{
 "cells": [
  {
   "cell_type": "markdown",
   "metadata": {},
   "source": [
    "# Tutorial Goal"
   ]
  },
  {
   "cell_type": "markdown",
   "metadata": {},
   "source": [
    "This tutorial aims to show some example of **trace analysis and visualization**\n",
    "using a pre-defined set of analysis and plotting functions provided by the\n",
    "**Filters** and **TraceAnalysis** modules of LISA."
   ]
  },
  {
   "cell_type": "code",
   "execution_count": 1,
   "metadata": {
    "collapsed": true
   },
   "outputs": [],
   "source": [
    "import logging\n",
    "reload(logging)\n",
    "logging.basicConfig(\n",
    "    format='%(asctime)-9s %(levelname)-8s: %(message)s',\n",
    "    datefmt='%I:%M:%S')\n",
    "# Enable logging at INFO level\n",
    "logging.getLogger().setLevel(logging.INFO)"
   ]
  },
  {
   "cell_type": "code",
   "execution_count": 2,
   "metadata": {
    "collapsed": false
   },
   "outputs": [
    {
     "name": "stdout",
     "output_type": "stream",
     "text": [
      "Populating the interactive namespace from numpy and matplotlib\n"
     ]
    }
   ],
   "source": [
    "# Generate plots inline\n",
    "%pylab inline\n",
    "\n",
    "# Python modules required by this notebook\n",
    "import json\n",
    "import os"
   ]
  },
  {
   "cell_type": "markdown",
   "metadata": {},
   "source": [
    "# Configuration"
   ]
  },
  {
   "cell_type": "code",
   "execution_count": 16,
   "metadata": {
    "collapsed": false
   },
   "outputs": [
    {
     "name": "stdout",
     "output_type": "stream",
     "text": [
      "/data/work/juno/lisa/results/ExecutorExample/rtapp:eas:rta\r\n",
      "├── 1\r\n",
      "│   ├── energy.json\r\n",
      "│   ├── output.log\r\n",
      "│   ├── rta_00.json\r\n",
      "│   ├── rt-app-task_p20-0.log\r\n",
      "│   ├── trace.dat\r\n",
      "│   └── trace.txt\r\n",
      "├── kernel.config\r\n",
      "├── kernel.version\r\n",
      "└── platform.json\r\n",
      "\r\n",
      "1 directory, 9 files\r\n"
     ]
    }
   ],
   "source": [
    "# Let's use an example trace\n",
    "res_dir = '/data/work/juno/lisa/results/ExecutorExample/rtapp:eas:rta/1'\n",
    "tracefile = os.path.join(res_dir, 'trace.txt')\n",
    "platformfile = os.path.join(res_dir, '../platform.json')\n",
    "!tree {res_dir}"
   ]
  },
  {
   "cell_type": "code",
   "execution_count": 17,
   "metadata": {
    "collapsed": false
   },
   "outputs": [
    {
     "name": "stderr",
     "output_type": "stream",
     "text": [
      "04:39:02  INFO    : CPUs max capacities:\n",
      "04:39:02  INFO    :    big:  1024 (cpus: [1, 2])\n",
      "04:39:02  INFO    : LITTLE:   593 (cpus: [0, 3, 4, 5])\n"
     ]
    }
   ],
   "source": [
    "# Trace events of interest\n",
    "events_to_parse = [\n",
    "    \"sched_switch\",\n",
    "    \"sched_wakeup\",\n",
    "    \"sched_wakeup_new\",\n",
    "    \"sched_contrib_scale_f\",\n",
    "    \"sched_load_avg_cpu\",\n",
    "    \"sched_load_avg_task\",\n",
    "    \"sched_tune_config\",\n",
    "    \"sched_tune_tasks_update\",\n",
    "    \"sched_tune_boostgroup_update\",\n",
    "    \"sched_tune_filter\",\n",
    "    \"sched_boost_cpu\",\n",
    "    \"sched_boost_task\",\n",
    "    \"sched_energy_diff\",\n",
    "    \"cpu_frequency\",\n",
    "    \"cpu_capacity\",\n",
    "]\n",
    "\n",
    "# Platform description\n",
    "with open(platformfile, 'r') as fh:\n",
    "    platform = json.load(fh)\n",
    "\n",
    "logging.info(\"CPUs max capacities:\")\n",
    "logging.info(\"   big: %5d (cpus: %s)\",\n",
    "             platform['nrg_model']['big']['cpu']['cap_max'],\n",
    "             platform['clusters']['big'])\n",
    "logging.info(\"LITTLE: %5d (cpus: %s)\",\n",
    "             platform['nrg_model']['little']['cpu']['cap_max'],\n",
    "             platform['clusters']['little'])\n",
    "\n",
    "# Time range from the analysis\n",
    "(t_min, t_max) = (0, None)"
   ]
  },
  {
   "cell_type": "markdown",
   "metadata": {},
   "source": [
    "# Trace parsing"
   ]
  },
  {
   "cell_type": "code",
   "execution_count": 18,
   "metadata": {
    "collapsed": false
   },
   "outputs": [
    {
     "name": "stderr",
     "output_type": "stream",
     "text": [
      "04:39:06  INFO    : Parsing FTrace format...\n"
     ]
    },
    {
     "ename": "IOError",
     "evalue": "[Errno 2] No such file or directory: '/data/work/juno/lisa/results/ExecutorExample/rtapp:eas:rta/trace.txt'",
     "output_type": "error",
     "traceback": [
      "\u001b[1;31m---------------------------------------------------------------------------\u001b[0m",
      "\u001b[1;31mIOError\u001b[0m                                   Traceback (most recent call last)",
      "\u001b[1;32m<ipython-input-18-b6021941f37e>\u001b[0m in \u001b[0;36m<module>\u001b[1;34m()\u001b[0m\n\u001b[0;32m      6\u001b[0m \u001b[1;31m# allows to keep track of platform specific details to support the generation\u001b[0m\u001b[1;33m\u001b[0m\u001b[1;33m\u001b[0m\u001b[0m\n\u001b[0;32m      7\u001b[0m \u001b[1;31m# of\u001b[0m\u001b[1;33m\u001b[0m\u001b[1;33m\u001b[0m\u001b[0m\n\u001b[1;32m----> 8\u001b[1;33m \u001b[0mtrace\u001b[0m \u001b[1;33m=\u001b[0m \u001b[0mTrace\u001b[0m\u001b[1;33m(\u001b[0m\u001b[0mplatform\u001b[0m\u001b[1;33m,\u001b[0m \u001b[0mres_dir\u001b[0m\u001b[1;33m,\u001b[0m \u001b[0mevents_to_parse\u001b[0m\u001b[1;33m,\u001b[0m \u001b[0mwindow\u001b[0m\u001b[1;33m=\u001b[0m\u001b[1;33m(\u001b[0m\u001b[0mt_min\u001b[0m\u001b[1;33m,\u001b[0m\u001b[0mt_max\u001b[0m\u001b[1;33m)\u001b[0m\u001b[1;33m)\u001b[0m\u001b[1;33m\u001b[0m\u001b[0m\n\u001b[0m",
      "\u001b[1;32m/data/work/juno/lisa/libs/utils/trace.pyc\u001b[0m in \u001b[0;36m__init__\u001b[1;34m(self, platform, datadir, events, tasks, window, normalize_time, trace_format)\u001b[0m\n\u001b[0;32m     78\u001b[0m \u001b[1;33m\u001b[0m\u001b[0m\n\u001b[0;32m     79\u001b[0m         \u001b[0mself\u001b[0m\u001b[1;33m.\u001b[0m\u001b[0m__registerTraceEvents\u001b[0m\u001b[1;33m(\u001b[0m\u001b[0mevents\u001b[0m\u001b[1;33m)\u001b[0m\u001b[1;33m\u001b[0m\u001b[0m\n\u001b[1;32m---> 80\u001b[1;33m         \u001b[0mself\u001b[0m\u001b[1;33m.\u001b[0m\u001b[0m__parseTrace\u001b[0m\u001b[1;33m(\u001b[0m\u001b[0mdatadir\u001b[0m\u001b[1;33m,\u001b[0m \u001b[0mtasks\u001b[0m\u001b[1;33m,\u001b[0m \u001b[0mwindow\u001b[0m\u001b[1;33m,\u001b[0m \u001b[0mnormalize_time\u001b[0m\u001b[1;33m,\u001b[0m \u001b[0mtrace_format\u001b[0m\u001b[1;33m)\u001b[0m\u001b[1;33m\u001b[0m\u001b[0m\n\u001b[0m\u001b[0;32m     81\u001b[0m         \u001b[0mself\u001b[0m\u001b[1;33m.\u001b[0m\u001b[0m__computeTimeSpan\u001b[0m\u001b[1;33m(\u001b[0m\u001b[1;33m)\u001b[0m\u001b[1;33m\u001b[0m\u001b[0m\n\u001b[0;32m     82\u001b[0m \u001b[1;33m\u001b[0m\u001b[0m\n",
      "\u001b[1;32m/data/work/juno/lisa/libs/utils/trace.pyc\u001b[0m in \u001b[0;36m__parseTrace\u001b[1;34m(self, path, tasks, window, normalize_time, trace_format)\u001b[0m\n\u001b[0;32m    106\u001b[0m \u001b[1;33m\u001b[0m\u001b[0m\n\u001b[0;32m    107\u001b[0m         self.ftrace = trace_class(path, scope=\"custom\", events=self.events,\n\u001b[1;32m--> 108\u001b[1;33m                                   window=window, normalize_time=normalize_time)\n\u001b[0m\u001b[0;32m    109\u001b[0m \u001b[1;33m\u001b[0m\u001b[0m\n\u001b[0;32m    110\u001b[0m         \u001b[1;31m# Check for events available on the parsed trace\u001b[0m\u001b[1;33m\u001b[0m\u001b[1;33m\u001b[0m\u001b[0m\n",
      "\u001b[1;32m/data/work/juno/lisa/libs/trappy/trappy/ftrace.pyc\u001b[0m in \u001b[0;36m__init__\u001b[1;34m(self, path, name, normalize_time, scope, events, window, abs_window)\u001b[0m\n\u001b[0;32m    482\u001b[0m         \u001b[0mself\u001b[0m\u001b[1;33m.\u001b[0m\u001b[0mneeds_raw_parsing\u001b[0m \u001b[1;33m=\u001b[0m \u001b[0mTrue\u001b[0m\u001b[1;33m\u001b[0m\u001b[0m\n\u001b[0;32m    483\u001b[0m \u001b[1;33m\u001b[0m\u001b[0m\n\u001b[1;32m--> 484\u001b[1;33m         \u001b[0mself\u001b[0m\u001b[1;33m.\u001b[0m\u001b[0m__populate_metadata\u001b[0m\u001b[1;33m(\u001b[0m\u001b[1;33m)\u001b[0m\u001b[1;33m\u001b[0m\u001b[0m\n\u001b[0m\u001b[0;32m    485\u001b[0m \u001b[1;33m\u001b[0m\u001b[0m\n\u001b[0;32m    486\u001b[0m         super(FTrace, self).__init__(name, normalize_time, scope, events,\n",
      "\u001b[1;32m/data/work/juno/lisa/libs/trappy/trappy/ftrace.pyc\u001b[0m in \u001b[0;36m__populate_metadata\u001b[1;34m(self)\u001b[0m\n\u001b[0;32m    564\u001b[0m             \u001b[0msetattr\u001b[0m\u001b[1;33m(\u001b[0m\u001b[0mself\u001b[0m\u001b[1;33m,\u001b[0m \u001b[1;34m\"_\"\u001b[0m \u001b[1;33m+\u001b[0m \u001b[0mkey\u001b[0m\u001b[1;33m,\u001b[0m \u001b[0mNone\u001b[0m\u001b[1;33m)\u001b[0m\u001b[1;33m\u001b[0m\u001b[0m\n\u001b[0;32m    565\u001b[0m \u001b[1;33m\u001b[0m\u001b[0m\n\u001b[1;32m--> 566\u001b[1;33m         \u001b[1;32mwith\u001b[0m \u001b[0mopen\u001b[0m\u001b[1;33m(\u001b[0m\u001b[0mself\u001b[0m\u001b[1;33m.\u001b[0m\u001b[0mtrace_path\u001b[0m\u001b[1;33m)\u001b[0m \u001b[1;32mas\u001b[0m \u001b[0mfin\u001b[0m\u001b[1;33m:\u001b[0m\u001b[1;33m\u001b[0m\u001b[0m\n\u001b[0m\u001b[0;32m    567\u001b[0m             \u001b[1;32mfor\u001b[0m \u001b[0mline\u001b[0m \u001b[1;32min\u001b[0m \u001b[0mfin\u001b[0m\u001b[1;33m:\u001b[0m\u001b[1;33m\u001b[0m\u001b[0m\n\u001b[0;32m    568\u001b[0m                 \u001b[1;32mif\u001b[0m \u001b[1;32mnot\u001b[0m \u001b[0mmetadata_keys\u001b[0m\u001b[1;33m:\u001b[0m\u001b[1;33m\u001b[0m\u001b[0m\n",
      "\u001b[1;31mIOError\u001b[0m: [Errno 2] No such file or directory: '/data/work/juno/lisa/results/ExecutorExample/rtapp:eas:rta/trace.txt'"
     ]
    }
   ],
   "source": [
    "# Load the LISA::Trace parsing module\n",
    "from trace import Trace\n",
    "\n",
    "\n",
    "# The LISA::Trace module is a wrapper of the TRAPpy FTrace module which\n",
    "# allows to keep track of platform specific details to support the generation\n",
    "# of\n",
    "trace = Trace(platform, res_dir, events_to_parse, window=(t_min,t_max))"
   ]
  },
  {
   "cell_type": "markdown",
   "metadata": {},
   "source": [
    "Notice how some platform specific data are collected and reported by the\n",
    "LISA::Trace module"
   ]
  },
  {
   "cell_type": "code",
   "execution_count": null,
   "metadata": {
    "collapsed": false
   },
   "outputs": [],
   "source": [
    "# This is the standard TRAPpy::FTrace object, already configured for the\n",
    "# analysis related to the events of interest\n",
    "ftrace = trace.ftrace\n",
    "logging.info(\"List of events identified in the trace:\")\n",
    "for event in ftrace.class_definitions.keys():\n",
    "    logging.info(\"   %s\", event)"
   ]
  },
  {
   "cell_type": "code",
   "execution_count": null,
   "metadata": {
    "collapsed": false
   },
   "outputs": [],
   "source": [
    "# Original TRAPpy::FTrace DataSet are still accessible by specifying the\n",
    "# trace event name of interest\n",
    "trace.df('sched_load_avg_task').head()"
   ]
  },
  {
   "cell_type": "markdown",
   "metadata": {},
   "source": [
    "# Predefined LISA Filtering Functions"
   ]
  },
  {
   "cell_type": "code",
   "execution_count": null,
   "metadata": {
    "collapsed": false
   },
   "outputs": [],
   "source": [
    "from filters import Filters\n",
    "\n",
    "fl = Filters(trace)\n",
    "fl.setXTimeRange(t_min, t_max)"
   ]
  },
  {
   "cell_type": "markdown",
   "metadata": {},
   "source": [
    "## Top BIG tasks"
   ]
  },
  {
   "cell_type": "code",
   "execution_count": null,
   "metadata": {
    "collapsed": false
   },
   "outputs": [],
   "source": [
    "# Get a list of tasks which are the most big in the trace\n",
    "top_big_tasks = fl.topBigTasks(\n",
    "    max_tasks=3,          # Maximum number of tasks to report\n",
    "    min_utilization=None, # Minimum utilization to be considered \"big\"\n",
    "                          # default: LITTLE CPUs max capacity\n",
    "    min_samples=100,      # Number of samples over the minimum utilization \n",
    ")"
   ]
  },
  {
   "cell_type": "code",
   "execution_count": null,
   "metadata": {
    "collapsed": false
   },
   "outputs": [],
   "source": [
    "# The collected information is available for further analysis\n",
    "top_big_tasks"
   ]
  },
  {
   "cell_type": "code",
   "execution_count": null,
   "metadata": {
    "collapsed": false,
    "scrolled": false
   },
   "outputs": [],
   "source": [
    "# Plot utilization of \"big\" tasks decorated with platform specific capacity information\n",
    "fl.plotBigTasks()"
   ]
  },
  {
   "cell_type": "markdown",
   "metadata": {},
   "source": [
    "## Top WAKEUP tasks"
   ]
  },
  {
   "cell_type": "code",
   "execution_count": null,
   "metadata": {
    "collapsed": false
   },
   "outputs": [],
   "source": [
    "top_wakeup_tasks = fl.topWakeupTasks(\n",
    "    max_tasks=5,     # Maximum number of tasks to report\n",
    "    min_wakeups=100  # Minimum number of wakeup to be reported\n",
    ")"
   ]
  },
  {
   "cell_type": "markdown",
   "metadata": {},
   "source": [
    "### Wakeup vs Forks"
   ]
  },
  {
   "cell_type": "code",
   "execution_count": null,
   "metadata": {
    "collapsed": false
   },
   "outputs": [],
   "source": [
    "fl.plotWakeupTasks(per_cluster=False)"
   ]
  },
  {
   "cell_type": "markdown",
   "metadata": {},
   "source": [
    "### Wakeup per cluster"
   ]
  },
  {
   "cell_type": "code",
   "execution_count": null,
   "metadata": {
    "collapsed": false
   },
   "outputs": [],
   "source": [
    "fl.plotWakeupTasks(per_cluster=True)"
   ]
  },
  {
   "cell_type": "markdown",
   "metadata": {},
   "source": [
    "## RT Tasks"
   ]
  },
  {
   "cell_type": "code",
   "execution_count": null,
   "metadata": {
    "collapsed": false
   },
   "outputs": [],
   "source": [
    "fl.rtTasks(max_prio=100)"
   ]
  },
  {
   "cell_type": "markdown",
   "metadata": {},
   "source": [
    "# Predefined LISA TraceAnslysis Functions"
   ]
  },
  {
   "cell_type": "code",
   "execution_count": null,
   "metadata": {
    "collapsed": false
   },
   "outputs": [],
   "source": [
    "# Import the LISA::TraceAnalysis module\n",
    "from trace_analysis import TraceAnalysis\n",
    "\n",
    "ta = TraceAnalysis(\n",
    "    trace,               # LISA::Trace object\n",
    "    tasks=top_big_tasks, # (optional) list of tasks to plot\n",
    "    plotsdir=res_dir\n",
    ")"
   ]
  },
  {
   "cell_type": "code",
   "execution_count": null,
   "metadata": {
    "collapsed": false
   },
   "outputs": [],
   "source": [
    "# Define time ranges for all the time based plots\n",
    "ta.setXTimeRange(t_min, t_max)"
   ]
  },
  {
   "cell_type": "code",
   "execution_count": null,
   "metadata": {
    "collapsed": false,
    "scrolled": false
   },
   "outputs": [],
   "source": [
    "ta.plotTasks(top_big_tasks)"
   ]
  },
  {
   "cell_type": "code",
   "execution_count": null,
   "metadata": {
    "collapsed": false
   },
   "outputs": [],
   "source": [
    "# Cluster frequencies\n",
    "ta.plotClusterFrequencies()"
   ]
  },
  {
   "cell_type": "code",
   "execution_count": null,
   "metadata": {
    "collapsed": false
   },
   "outputs": [],
   "source": [
    "# Plots SchedTune's Energy-Diff Space Filtering\n",
    "ta.plotEDiffTime(top_big_tasks)"
   ]
  }
 ],
 "metadata": {
  "kernelspec": {
   "display_name": "Python 2",
   "language": "python",
   "name": "python2"
  },
  "language_info": {
   "codemirror_mode": {
    "name": "ipython",
    "version": 2
   },
   "file_extension": ".py",
   "mimetype": "text/x-python",
   "name": "python",
   "nbconvert_exporter": "python",
   "pygments_lexer": "ipython2",
   "version": "2.7.6"
  }
 },
 "nbformat": 4,
 "nbformat_minor": 0
}
