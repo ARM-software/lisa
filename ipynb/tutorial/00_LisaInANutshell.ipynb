{
 "cells": [
  {
   "cell_type": "markdown",
   "metadata": {
    "heading_collapsed": true
   },
   "source": [
    "# Linux Interactive System Analysis DEMO"
   ]
  },
  {
   "cell_type": "markdown",
   "metadata": {
    "heading_collapsed": true
   },
   "source": [
    "## Get LISA and start the Notebook Server"
   ]
  },
  {
   "cell_type": "markdown",
   "metadata": {},
   "source": [
    "Official repository on GitHub - ARM Software:<br>\n",
    "https://github.com/ARM-software/lisa\n",
    "\n",
    "___\n",
    "Installation dependencies are listed in the main page of the repository:<br>\n",
    "https://github.com/ARM-software/lisa#required-dependencies\n",
    "\n",
    "___\n",
    "Once cloned, source *init_env* to initialized the **LISA Shell**, which provides a convenient set of shell commands for easy access to many LISA related functions.\n",
    "\n",
    "```shell\n",
    "$ source init_env\n",
    "```\n",
    "\n",
    "___\n",
    "To start the IPython Notebook Server required to use this Notebook, on a LISAShell run:\n",
    "```shell\n",
    "[LISAShell lisa] \\> lisa-ipython start\n",
    "\n",
    "Starting IPython Notebooks...\n",
    "Starting IPython Notebook server...\n",
    "  IP Address :  http://127.0.0.1:8888/\n",
    "  Folder     :  /home/derkling/Code/lisa/ipynb\n",
    "  Logfile    :  /home/derkling/Code/lisa/ipynb/server.log\n",
    "  PYTHONPATH : \n",
    "\t/home/derkling/Code/lisa/libs/bart\n",
    "\t/home/derkling/Code/lisa/libs/trappy\n",
    "\t/home/derkling/Code/lisa/libs/devlib\n",
    "\t/home/derkling/Code/lisa/libs/wlgen\n",
    "\t/home/derkling/Code/lisa/libs/utils\n",
    "\t\n",
    "\n",
    "Notebook server task: [1] 24745\n",
    "\n",
    "\n",
    "```\n",
    "\n",
    "The main folder served by the server is:<br>\n",
    "http://127.0.0.1:8888/\n",
    "\n",
    "While the tutorial notebooks are accessible starting from this link:<br>\n",
    "http://127.0.0.1:8888/notebooks/tutorial/00_LisaInANutshell.ipynb\n"
   ]
  },
  {
   "cell_type": "markdown",
   "metadata": {
    "heading_collapsed": true
   },
   "source": [
    "## What is an IPython Notebook?"
   ]
  },
  {
   "cell_type": "markdown",
   "metadata": {},
   "source": [
    "Let's do some example!"
   ]
  },
  {
   "cell_type": "markdown",
   "metadata": {
    "heading_collapsed": true
   },
   "source": [
    "## Logging configuration and support modules import"
   ]
  },
  {
   "cell_type": "code",
   "execution_count": 4,
   "metadata": {
    "collapsed": true
   },
   "outputs": [],
   "source": [
    "import logging\n",
    "from conf import LisaLogging\n",
    "LisaLogging.setup()"
   ]
  },
  {
   "cell_type": "code",
   "execution_count": 5,
   "metadata": {
    "code_folding": [],
    "collapsed": true
   },
   "outputs": [],
   "source": [
    "# Execute this cell to enable verbose SSH commands\n",
    "logging.getLogger('ssh').setLevel(logging.DEBUG)"
   ]
  },
  {
   "cell_type": "code",
   "execution_count": 6,
   "metadata": {
    "code_folding": [],
    "collapsed": false
   },
   "outputs": [],
   "source": [
    "# Other python modules required by this notebook\n",
    "import json\n",
    "import os"
   ]
  },
  {
   "cell_type": "markdown",
   "metadata": {},
   "source": [
    "<br><br><br><br>\n",
    "Advanced usage: get more confident with IPython notebooks and discover some hidden features<br>\n",
    "[notebooks/tutorial/01_IPythonNotebooksUsage.ipynb](01_IPythonNotebooksUsage.ipynb)\n",
    "<br><br><br><br>"
   ]
  },
  {
   "cell_type": "markdown",
   "metadata": {
    "code_folding": [
     0
    ],
    "heading_collapsed": true
   },
   "source": [
    "# Remote target connection and control"
   ]
  },
  {
   "cell_type": "code",
   "execution_count": 4,
   "metadata": {
    "code_folding": [],
    "collapsed": true
   },
   "outputs": [],
   "source": [
    "# Setup a target configuration\n",
    "conf = {\n",
    "    \n",
    "    # Target is localhost\n",
    "    \"platform\"    : 'linux',\n",
    "    \"board\"       : \"juno\",\n",
    "    \n",
    "    # Login credentials\n",
    "    \"host\"        : \"192.168.0.1\",\n",
    "    \"username\"    : \"root\",\n",
    "    \"password\"    : \"\",\n",
    "\n",
    "    # Binary tools required to run this experiment\n",
    "    # These tools must be present in the tools/ folder for the architecture\n",
    "    \"tools\"   : ['rt-app', 'taskset', 'trace-cmd'],\n",
    "    \n",
    "    # Comment the following line to force rt-app calibration on your target\n",
    "    # \"rtapp-calib\" : {\n",
    "    #    \"0\": 355, \"1\": 138, \"2\": 138, \"3\": 355, \"4\": 354, \"5\": 354\n",
    "    # },\n",
    "    \n",
    "    # FTrace events end buffer configuration\n",
    "    \"ftrace\"  : {\n",
    "        \"events\" : [\n",
    "            \"sched_switch\",\n",
    "            \"sched_wakeup\",\n",
    "            \"sched_wakeup_new\",\n",
    "            \"sched_contrib_scale_f\",\n",
    "            \"sched_load_avg_cpu\",\n",
    "            \"sched_load_avg_task\",\n",
    "            \"sched_tune_config\",\n",
    "            \"sched_tune_tasks_update\",\n",
    "            \"sched_tune_boostgroup_update\",\n",
    "            \"sched_tune_filter\",\n",
    "            \"sched_boost_cpu\",\n",
    "            \"sched_boost_task\",\n",
    "            \"sched_energy_diff\",\n",
    "            \"cpu_frequency\",\n",
    "            \"cpu_capacity\",\n",
    "         ],\n",
    "         \"buffsize\" : 10240\n",
    "    },\n",
    "\n",
    "    # Where results are collected\n",
    "    \"results_dir\" : \"LisaInANutshell\",\n",
    "\n",
    "    # Devlib module required (or not required)\n",
    "    'modules' : [ \"cpufreq\", \"cgroups\", \"cpufreq\" ],\n",
    "    #\"exclude_modules\" : [ \"hwmon\" ],\n",
    "}"
   ]
  },
  {
   "cell_type": "code",
   "execution_count": 5,
   "metadata": {
    "code_folding": [],
    "collapsed": false,
    "scrolled": false
   },
   "outputs": [
    {
     "name": "stderr",
     "output_type": "stream",
     "text": [
      "05:28:29  INFO    :         Target - Using base path: /home/derkling/Code/lisa\n",
      "05:28:29  INFO    :         Target - Loading custom (inline) target configuration\n",
      "05:28:29  INFO    :         Target - Devlib modules to load: ['bl', 'cpufreq', 'cgroups', 'hwmon']\n",
      "05:28:29  INFO    :         Target - Connecting linux target:\n",
      "05:28:29  INFO    :         Target -   username : root\n",
      "05:28:29  INFO    :         Target -       host : 192.168.0.1\n",
      "05:28:29  INFO    :         Target -   password : \n",
      "05:28:29  DEBUG   : Logging in root@192.168.0.1\n",
      "05:28:31  DEBUG   : id\n",
      "05:28:31  DEBUG   : if [ -e '/root/devlib-target/bin' ]; then echo 1; else echo 0; fi\n",
      "05:28:31  DEBUG   : ls -1 /root/devlib-target/bin\n",
      "05:28:32  DEBUG   : cat /proc/cpuinfo\n",
      "05:28:32  DEBUG   : sudo -- sh -c 'dmidecode -s system-version'\n",
      "05:28:33  DEBUG   : /root/devlib-target/bin/busybox uname -m\n",
      "05:28:33  DEBUG   : if [ -e '/sys/devices/system/cpu/cpufreq' ]; then echo 1; else echo 0; fi\n",
      "05:28:33  DEBUG   : zcat /proc/config.gz\n",
      "05:28:34  DEBUG   : mount\n",
      "05:28:34  DEBUG   : sudo -- sh -c 'mount -t tmpfs cgroup_root /sys/fs/cgroup'\n",
      "05:28:35  DEBUG   : /root/devlib-target/bin/busybox cat /proc/cgroups\n",
      "05:28:35  DEBUG   : /root/devlib-target/bin/busybox grep cpuset /proc/cgroups\n",
      "05:28:36  DEBUG   : mount\n",
      "05:28:36  DEBUG   : sudo -- sh -c 'mkdir -p /sys/fs/cgroup/devlib_cpuset 2>/dev/null'\n",
      "05:28:36  DEBUG   : sudo -- sh -c 'mount -t cgroup -o cpuset devlib_cpuset /sys/fs/cgroup/devlib_cpuset'\n",
      "05:28:37  DEBUG   : sudo -- sh -c '[ -d /sys/fs/cgroup/devlib_cpuset ] || mkdir -p /sys/fs/cgroup/devlib_cpuset'\n",
      "05:28:37  DEBUG   : /root/devlib-target/bin/busybox grep cpu /proc/cgroups\n",
      "05:28:38  DEBUG   : mount\n",
      "05:28:38  DEBUG   : sudo -- sh -c 'mkdir -p /sys/fs/cgroup/devlib_cpu 2>/dev/null'\n",
      "05:28:39  DEBUG   : sudo -- sh -c 'mount -t cgroup -o cpu devlib_cpu /sys/fs/cgroup/devlib_cpu'\n",
      "05:28:39  DEBUG   : sudo -- sh -c '[ -d /sys/fs/cgroup/devlib_cpu ] || mkdir -p /sys/fs/cgroup/devlib_cpu'\n",
      "05:28:39  DEBUG   : /root/devlib-target/bin/busybox grep cpuacct /proc/cgroups\n",
      "05:28:40  DEBUG   : mount\n",
      "05:28:40  DEBUG   : sudo -- sh -c 'mkdir -p /sys/fs/cgroup/devlib_cpuacct 2>/dev/null'\n",
      "05:28:41  DEBUG   : sudo -- sh -c 'mount -t cgroup -o cpuacct devlib_cpuacct /sys/fs/cgroup/devlib_cpuacct'\n",
      "05:28:41  DEBUG   : sudo -- sh -c '[ -d /sys/fs/cgroup/devlib_cpuacct ] || mkdir -p /sys/fs/cgroup/devlib_cpuacct'\n",
      "05:28:41  DEBUG   : /root/devlib-target/bin/busybox grep schedtune /proc/cgroups\n",
      "05:28:42  DEBUG   : mount\n",
      "05:28:42  DEBUG   : sudo -- sh -c 'mkdir -p /sys/fs/cgroup/devlib_schedtune 2>/dev/null'\n",
      "05:28:43  DEBUG   : sudo -- sh -c 'mount -t cgroup -o schedtune devlib_schedtune /sys/fs/cgroup/devlib_schedtune'\n",
      "05:28:43  DEBUG   : sudo -- sh -c '[ -d /sys/fs/cgroup/devlib_schedtune ] || mkdir -p /sys/fs/cgroup/devlib_schedtune'\n",
      "05:28:44  DEBUG   : /root/devlib-target/bin/busybox grep memory /proc/cgroups\n",
      "05:28:44  DEBUG   : mount\n",
      "05:28:44  DEBUG   : sudo -- sh -c 'mkdir -p /sys/fs/cgroup/devlib_memory 2>/dev/null'\n",
      "05:28:45  DEBUG   : sudo -- sh -c 'mount -t cgroup -o memory devlib_memory /sys/fs/cgroup/devlib_memory'\n",
      "05:28:45  DEBUG   : sudo -- sh -c '[ -d /sys/fs/cgroup/devlib_memory ] || mkdir -p /sys/fs/cgroup/devlib_memory'\n",
      "05:28:46  DEBUG   : /root/devlib-target/bin/busybox grep hugetlb /proc/cgroups\n",
      "05:28:46  DEBUG   : mount\n",
      "05:28:46  DEBUG   : sudo -- sh -c 'mkdir -p /sys/fs/cgroup/devlib_hugetlb 2>/dev/null'\n",
      "05:28:47  DEBUG   : sudo -- sh -c 'mount -t cgroup -o hugetlb devlib_hugetlb /sys/fs/cgroup/devlib_hugetlb'\n",
      "05:28:47  DEBUG   : sudo -- sh -c '[ -d /sys/fs/cgroup/devlib_hugetlb ] || mkdir -p /sys/fs/cgroup/devlib_hugetlb'\n",
      "05:28:48  DEBUG   : if [ -e '/sys/class/hwmon' ]; then echo 1; else echo 0; fi\n",
      "05:28:48  DEBUG   : ls -1 /sys/class/hwmon\n",
      "05:28:49  DEBUG   : if [ -e '/sys/class/hwmon/hwmon0/name' ]; then echo 1; else echo 0; fi\n",
      "05:28:49  DEBUG   : sudo -- sh -c 'cat '\\''/sys/class/hwmon/hwmon0/name'\\'''\n",
      "05:28:50  DEBUG   : ls -1 /sys/class/hwmon/hwmon0/\n",
      "05:28:50  DEBUG   : sudo -- sh -c 'cat '\\''/sys/class/hwmon/hwmon0/curr1_label'\\'''\n",
      "05:28:50  DEBUG   : if [ -e '/sys/class/hwmon/hwmon1/name' ]; then echo 1; else echo 0; fi\n",
      "05:28:51  DEBUG   : sudo -- sh -c 'cat '\\''/sys/class/hwmon/hwmon1/name'\\'''\n",
      "05:28:51  DEBUG   : ls -1 /sys/class/hwmon/hwmon1/\n",
      "05:28:52  DEBUG   : sudo -- sh -c 'cat '\\''/sys/class/hwmon/hwmon1/curr1_label'\\'''\n",
      "05:28:52  DEBUG   : if [ -e '/sys/class/hwmon/hwmon10/name' ]; then echo 1; else echo 0; fi\n",
      "05:28:53  DEBUG   : sudo -- sh -c 'cat '\\''/sys/class/hwmon/hwmon10/name'\\'''\n",
      "05:28:53  DEBUG   : ls -1 /sys/class/hwmon/hwmon10/\n",
      "05:28:53  DEBUG   : sudo -- sh -c 'cat '\\''/sys/class/hwmon/hwmon10/power1_label'\\'''\n",
      "05:28:54  DEBUG   : if [ -e '/sys/class/hwmon/hwmon11/name' ]; then echo 1; else echo 0; fi\n",
      "05:28:54  DEBUG   : sudo -- sh -c 'cat '\\''/sys/class/hwmon/hwmon11/name'\\'''\n",
      "05:28:55  DEBUG   : ls -1 /sys/class/hwmon/hwmon11/\n",
      "05:28:55  DEBUG   : sudo -- sh -c 'cat '\\''/sys/class/hwmon/hwmon11/power1_label'\\'''\n",
      "05:28:55  DEBUG   : if [ -e '/sys/class/hwmon/hwmon12/name' ]; then echo 1; else echo 0; fi\n",
      "05:28:56  DEBUG   : sudo -- sh -c 'cat '\\''/sys/class/hwmon/hwmon12/name'\\'''\n",
      "05:28:56  DEBUG   : ls -1 /sys/class/hwmon/hwmon12/\n",
      "05:28:57  DEBUG   : sudo -- sh -c 'cat '\\''/sys/class/hwmon/hwmon12/energy1_label'\\'''\n",
      "05:28:57  DEBUG   : if [ -e '/sys/class/hwmon/hwmon13/name' ]; then echo 1; else echo 0; fi\n",
      "05:28:57  DEBUG   : sudo -- sh -c 'cat '\\''/sys/class/hwmon/hwmon13/name'\\'''\n",
      "05:28:58  DEBUG   : ls -1 /sys/class/hwmon/hwmon13/\n",
      "05:28:58  DEBUG   : sudo -- sh -c 'cat '\\''/sys/class/hwmon/hwmon13/energy1_label'\\'''\n",
      "05:28:59  DEBUG   : if [ -e '/sys/class/hwmon/hwmon14/name' ]; then echo 1; else echo 0; fi\n",
      "05:28:59  DEBUG   : sudo -- sh -c 'cat '\\''/sys/class/hwmon/hwmon14/name'\\'''\n",
      "05:29:00  DEBUG   : ls -1 /sys/class/hwmon/hwmon14/\n",
      "05:29:00  DEBUG   : sudo -- sh -c 'cat '\\''/sys/class/hwmon/hwmon14/energy1_label'\\'''\n",
      "05:29:00  DEBUG   : if [ -e '/sys/class/hwmon/hwmon15/name' ]; then echo 1; else echo 0; fi\n",
      "05:29:01  DEBUG   : sudo -- sh -c 'cat '\\''/sys/class/hwmon/hwmon15/name'\\'''\n",
      "05:29:01  DEBUG   : ls -1 /sys/class/hwmon/hwmon15/\n",
      "05:29:02  DEBUG   : sudo -- sh -c 'cat '\\''/sys/class/hwmon/hwmon15/energy1_label'\\'''\n",
      "05:29:02  DEBUG   : if [ -e '/sys/class/hwmon/hwmon16/name' ]; then echo 1; else echo 0; fi\n",
      "05:29:03  DEBUG   : sudo -- sh -c 'cat '\\''/sys/class/hwmon/hwmon16/name'\\'''\n",
      "05:29:03  DEBUG   : ls -1 /sys/class/hwmon/hwmon16/\n",
      "05:29:04  DEBUG   : sudo -- sh -c 'cat '\\''/sys/class/hwmon/hwmon16/curr1_label'\\'''\n",
      "05:29:04  DEBUG   : sudo -- sh -c 'cat '\\''/sys/class/hwmon/hwmon16/curr2_label'\\'''\n",
      "05:29:04  DEBUG   : sudo -- sh -c 'cat '\\''/sys/class/hwmon/hwmon16/curr3_label'\\'''\n",
      "05:29:05  DEBUG   : sudo -- sh -c 'cat '\\''/sys/class/hwmon/hwmon16/curr4_label'\\'''\n",
      "05:29:05  DEBUG   : sudo -- sh -c 'cat '\\''/sys/class/hwmon/hwmon16/in0_label'\\'''\n",
      "05:29:06  DEBUG   : sudo -- sh -c 'cat '\\''/sys/class/hwmon/hwmon16/in1_label'\\'''\n",
      "05:29:06  DEBUG   : sudo -- sh -c 'cat '\\''/sys/class/hwmon/hwmon16/in2_label'\\'''\n",
      "05:29:07  DEBUG   : sudo -- sh -c 'cat '\\''/sys/class/hwmon/hwmon16/in3_label'\\'''\n",
      "05:29:08  DEBUG   : sudo -- sh -c 'cat '\\''/sys/class/hwmon/hwmon16/in4_label'\\'''\n",
      "05:29:08  DEBUG   : sudo -- sh -c 'cat '\\''/sys/class/hwmon/hwmon16/in5_label'\\'''\n",
      "05:29:08  DEBUG   : sudo -- sh -c 'cat '\\''/sys/class/hwmon/hwmon16/in6_label'\\'''\n",
      "05:29:09  DEBUG   : sudo -- sh -c 'cat '\\''/sys/class/hwmon/hwmon16/power1_label'\\'''\n",
      "05:29:09  DEBUG   : sudo -- sh -c 'cat '\\''/sys/class/hwmon/hwmon16/power2_label'\\'''\n",
      "05:29:10  DEBUG   : sudo -- sh -c 'cat '\\''/sys/class/hwmon/hwmon16/power3_label'\\'''\n",
      "05:29:10  DEBUG   : sudo -- sh -c 'cat '\\''/sys/class/hwmon/hwmon16/power4_label'\\'''\n",
      "05:29:11  DEBUG   : sudo -- sh -c 'cat '\\''/sys/class/hwmon/hwmon16/temp1_label'\\'''\n",
      "05:29:11  DEBUG   : sudo -- sh -c 'cat '\\''/sys/class/hwmon/hwmon16/temp2_label'\\'''\n",
      "05:29:11  DEBUG   : sudo -- sh -c 'cat '\\''/sys/class/hwmon/hwmon16/temp3_label'\\'''\n",
      "05:29:12  DEBUG   : sudo -- sh -c 'cat '\\''/sys/class/hwmon/hwmon16/temp4_label'\\'''\n",
      "05:29:12  DEBUG   : sudo -- sh -c 'cat '\\''/sys/class/hwmon/hwmon16/temp5_label'\\'''\n",
      "05:29:13  DEBUG   : sudo -- sh -c 'cat '\\''/sys/class/hwmon/hwmon16/temp6_label'\\'''\n",
      "05:29:13  DEBUG   : if [ -e '/sys/class/hwmon/hwmon2/name' ]; then echo 1; else echo 0; fi\n",
      "05:29:13  DEBUG   : sudo -- sh -c 'cat '\\''/sys/class/hwmon/hwmon2/name'\\'''\n",
      "05:29:14  DEBUG   : ls -1 /sys/class/hwmon/hwmon2/\n",
      "05:29:14  DEBUG   : sudo -- sh -c 'cat '\\''/sys/class/hwmon/hwmon2/curr1_label'\\'''\n",
      "05:29:15  DEBUG   : if [ -e '/sys/class/hwmon/hwmon3/name' ]; then echo 1; else echo 0; fi\n",
      "05:29:15  DEBUG   : sudo -- sh -c 'cat '\\''/sys/class/hwmon/hwmon3/name'\\'''\n",
      "05:29:16  DEBUG   : ls -1 /sys/class/hwmon/hwmon3/\n",
      "05:29:16  DEBUG   : sudo -- sh -c 'cat '\\''/sys/class/hwmon/hwmon3/curr1_label'\\'''\n",
      "05:29:16  DEBUG   : if [ -e '/sys/class/hwmon/hwmon4/name' ]; then echo 1; else echo 0; fi\n",
      "05:29:17  DEBUG   : sudo -- sh -c 'cat '\\''/sys/class/hwmon/hwmon4/name'\\'''\n",
      "05:29:17  DEBUG   : ls -1 /sys/class/hwmon/hwmon4/\n",
      "05:29:18  DEBUG   : sudo -- sh -c 'cat '\\''/sys/class/hwmon/hwmon4/in1_label'\\'''\n",
      "05:29:18  DEBUG   : if [ -e '/sys/class/hwmon/hwmon5/name' ]; then echo 1; else echo 0; fi\n",
      "05:29:18  DEBUG   : sudo -- sh -c 'cat '\\''/sys/class/hwmon/hwmon5/name'\\'''\n",
      "05:29:19  DEBUG   : ls -1 /sys/class/hwmon/hwmon5/\n",
      "05:29:19  DEBUG   : sudo -- sh -c 'cat '\\''/sys/class/hwmon/hwmon5/in1_label'\\'''\n",
      "05:29:20  DEBUG   : if [ -e '/sys/class/hwmon/hwmon6/name' ]; then echo 1; else echo 0; fi\n",
      "05:29:20  DEBUG   : sudo -- sh -c 'cat '\\''/sys/class/hwmon/hwmon6/name'\\'''\n",
      "05:29:21  DEBUG   : ls -1 /sys/class/hwmon/hwmon6/\n",
      "05:29:21  DEBUG   : sudo -- sh -c 'cat '\\''/sys/class/hwmon/hwmon6/in1_label'\\'''\n",
      "05:29:21  DEBUG   : if [ -e '/sys/class/hwmon/hwmon7/name' ]; then echo 1; else echo 0; fi\n",
      "05:29:22  DEBUG   : sudo -- sh -c 'cat '\\''/sys/class/hwmon/hwmon7/name'\\'''\n",
      "05:29:22  DEBUG   : ls -1 /sys/class/hwmon/hwmon7/\n",
      "05:29:23  DEBUG   : sudo -- sh -c 'cat '\\''/sys/class/hwmon/hwmon7/in1_label'\\'''\n",
      "05:29:23  DEBUG   : if [ -e '/sys/class/hwmon/hwmon8/name' ]; then echo 1; else echo 0; fi\n",
      "05:29:23  DEBUG   : sudo -- sh -c 'cat '\\''/sys/class/hwmon/hwmon8/name'\\'''\n",
      "05:29:24  DEBUG   : ls -1 /sys/class/hwmon/hwmon8/\n",
      "05:29:24  DEBUG   : sudo -- sh -c 'cat '\\''/sys/class/hwmon/hwmon8/power1_label'\\'''\n",
      "05:29:25  DEBUG   : if [ -e '/sys/class/hwmon/hwmon9/name' ]; then echo 1; else echo 0; fi\n",
      "05:29:25  DEBUG   : sudo -- sh -c 'cat '\\''/sys/class/hwmon/hwmon9/name'\\'''\n",
      "05:29:26  DEBUG   : ls -1 /sys/class/hwmon/hwmon9/\n",
      "05:29:26  DEBUG   : sudo -- sh -c 'cat '\\''/sys/class/hwmon/hwmon9/power1_label'\\'''\n",
      "05:29:27  DEBUG   : sudo -- sh -c 'mount -o remount,rw /'\n",
      "05:29:27  INFO    :         Target - Initializing target workdir:\n",
      "05:29:27  INFO    :         Target -    /root/devlib-target\n",
      "05:29:27  DEBUG   : mkdir -p /root/devlib-target\n",
      "05:29:27  DEBUG   : mkdir -p /root/devlib-target/bin\n",
      "05:29:28  DEBUG   : /usr/bin/scp -r   /home/derkling/Code/lisa/libs/devlib/devlib/bin/arm64/busybox root@192.168.0.1:/root/devlib-target/bin/busybox\n",
      "05:29:28  DEBUG   : chmod a+x /root/devlib-target/bin/busybox\n",
      "05:29:29  DEBUG   : /usr/bin/scp -r   /home/derkling/Code/lisa/libs/devlib/devlib/bin/scripts/shutils root@192.168.0.1:/root/devlib-target/bin/shutils\n",
      "05:29:29  DEBUG   : chmod a+x /root/devlib-target/bin/shutils\n",
      "05:29:29  DEBUG   : /usr/bin/scp -r   /home/derkling/Code/lisa/tools/scripts/cgroup_run_into.sh root@192.168.0.1:/root/devlib-target/bin/cgroup_run_into.sh\n",
      "05:29:30  DEBUG   : chmod a+x /root/devlib-target/bin/cgroup_run_into.sh\n",
      "05:29:30  DEBUG   : /usr/bin/scp -r   /home/derkling/Code/lisa/tools/arm64/perf root@192.168.0.1:/root/devlib-target/bin/perf\n",
      "05:29:34  DEBUG   : chmod a+x /root/devlib-target/bin/perf\n",
      "05:29:35  DEBUG   : /usr/bin/scp -r   /home/derkling/Code/lisa/tools/arm64/taskset root@192.168.0.1:/root/devlib-target/bin/taskset\n",
      "05:29:35  DEBUG   : chmod a+x /root/devlib-target/bin/taskset\n",
      "05:29:36  DEBUG   : /usr/bin/scp -r   /home/derkling/Code/lisa/tools/arm64/rt-app root@192.168.0.1:/root/devlib-target/bin/rt-app\n",
      "05:29:36  DEBUG   : chmod a+x /root/devlib-target/bin/rt-app\n",
      "05:29:36  DEBUG   : /usr/bin/scp -r   /home/derkling/Code/lisa/tools/arm64/trace-cmd root@192.168.0.1:/root/devlib-target/bin/trace-cmd\n",
      "05:29:37  DEBUG   : chmod a+x /root/devlib-target/bin/trace-cmd\n",
      "05:29:37  INFO    :         Target - Topology:\n",
      "05:29:37  INFO    :         Target -    [[0, 3, 4, 5], [1, 2]]\n",
      "05:29:37  DEBUG   : sudo -- sh -c 'cat '\\''/sys/devices/system/cpu/online'\\'''\n",
      "05:29:38  DEBUG   : cat /sys/devices/system/cpu/cpu0/cpufreq/scaling_available_frequencies\n",
      "05:29:38  DEBUG   : sudo -- sh -c 'cat '\\''/sys/devices/system/cpu/online'\\'''\n",
      "05:29:38  DEBUG   : cat /sys/devices/system/cpu/cpu1/cpufreq/scaling_available_frequencies\n",
      "05:29:39  INFO    :       Platform - Loading default EM:\n",
      "05:29:39  INFO    :       Platform -    /home/derkling/Code/lisa/libs/utils/platforms/juno.json\n",
      "05:29:39  DEBUG   : /usr/bin/scp -r   /home/derkling/Code/lisa/libs/devlib/devlib/bin/arm64/trace-cmd root@192.168.0.1:/root/devlib-target/bin/trace-cmd\n",
      "05:29:39  DEBUG   : chmod a+x /root/devlib-target/bin/trace-cmd\n",
      "05:29:40  DEBUG   : cat /sys/kernel/debug/tracing/available_events\n",
      "05:29:40  INFO    :         FTrace - Enabled tracepoints:\n",
      "05:29:40  INFO    :         FTrace -   sched_switch\n",
      "05:29:40  INFO    :         FTrace -   sched_wakeup\n",
      "05:29:40  INFO    :         FTrace -   sched_wakeup_new\n",
      "05:29:40  INFO    :         FTrace -   sched_contrib_scale_f\n",
      "05:29:40  INFO    :         FTrace -   sched_load_avg_cpu\n",
      "05:29:40  INFO    :         FTrace -   sched_load_avg_task\n",
      "05:29:40  INFO    :         FTrace -   sched_tune_config\n",
      "05:29:40  INFO    :         FTrace -   sched_tune_tasks_update\n",
      "05:29:40  INFO    :         FTrace -   sched_tune_boostgroup_update\n",
      "05:29:40  INFO    :         FTrace -   sched_tune_filter\n",
      "05:29:40  INFO    :         FTrace -   sched_boost_cpu\n",
      "05:29:40  INFO    :         FTrace -   sched_boost_task\n",
      "05:29:40  INFO    :         FTrace -   sched_energy_diff\n",
      "05:29:40  INFO    :         FTrace -   cpu_frequency\n",
      "05:29:40  INFO    :         FTrace -   cpu_capacity\n",
      "05:29:40  INFO    :    EnergyMeter - Scanning for HWMON channels, may take some time...\n",
      "05:29:40  INFO    :    EnergyMeter - Channels selected for energy sampling:\n",
      "05:29:40  INFO    :    EnergyMeter -    a57_energy\n",
      "05:29:40  INFO    :    EnergyMeter -    a53_energy\n",
      "05:29:40  WARNING :         Target - Using configuration provided RTApp calibration\n",
      "05:29:40  INFO    :         Target - Using RT-App calibration values:\n",
      "05:29:40  INFO    :         Target -    {\"0\": 355, \"1\": 138, \"2\": 138, \"3\": 355, \"4\": 354, \"5\": 354}\n",
      "05:29:40  WARNING :        TestEnv - Wipe previous contents of the results folder:\n",
      "05:29:40  WARNING :        TestEnv -    /home/derkling/Code/lisa/results/LisaInANutshell\n",
      "05:29:40  INFO    :        TestEnv - Set results folder to:\n",
      "05:29:40  INFO    :        TestEnv -    /home/derkling/Code/lisa/results/LisaInANutshell\n",
      "05:29:40  INFO    :        TestEnv - Experiment results available also in:\n",
      "05:29:40  INFO    :        TestEnv -    /home/derkling/Code/lisa/results_latest\n"
     ]
    },
    {
     "name": "stdout",
     "output_type": "stream",
     "text": [
      "DONE\n"
     ]
    }
   ],
   "source": [
    "# Support to access the remote target\n",
    "from env import TestEnv\n",
    "\n",
    "# Initialize a test environment using:\n",
    "# the provided target configuration (my_target_conf)\n",
    "# the provided test configuration   (my_test_conf)\n",
    "te = TestEnv(conf)\n",
    "target = te.target\n",
    "\n",
    "print \"DONE\""
   ]
  },
  {
   "cell_type": "markdown",
   "metadata": {},
   "source": [
    "## Commands execution on remote target"
   ]
  },
  {
   "cell_type": "code",
   "execution_count": 8,
   "metadata": {
    "code_folding": [],
    "collapsed": false
   },
   "outputs": [
    {
     "name": "stderr",
     "output_type": "stream",
     "text": [
      "05:29:59  DEBUG   : echo ENERGY_AWARE > /sys/kernel/debug/sched_features\n",
      "05:29:59  DEBUG   : sudo -- sh -c 'cat '\\''/sys/kernel/debug/sched_features'\\'''\n"
     ]
    },
    {
     "name": "stdout",
     "output_type": "stream",
     "text": [
      "sched_features:\n",
      "GENTLE_FAIR_SLEEPERS START_DEBIT NO_NEXT_BUDDY LAST_BUDDY CACHE_HOT_BUDDY WAKEUP_PREEMPTION NO_HRTICK NO_DOUBLE_TICK LB_BIAS NONTASK_CAPACITY TTWU_QUEUE RT_PUSH_IPI NO_FORCE_SD_OVERLAP RT_RUNTIME_SHARE NO_LB_MIN ATTACH_AGE_LOAD ENERGY_AWARE NO_UTIL_EST CAP_UTIL_EST\n"
     ]
    }
   ],
   "source": [
    "# Enable Energy-Aware scheduler\n",
    "target.execute(\"echo ENERGY_AWARE > /sys/kernel/debug/sched_features\");\n",
    "\n",
    "# Check which sched_feature are enabled\n",
    "sched_features = target.read_value(\"/sys/kernel/debug/sched_features\");\n",
    "print \"sched_features:\"\n",
    "print sched_features"
   ]
  },
  {
   "cell_type": "code",
   "execution_count": 9,
   "metadata": {
    "code_folding": [
     0
    ],
    "collapsed": false
   },
   "outputs": [],
   "source": [
    "# It's possible also to run custom script\n",
    "# my_script = target.get_installed()\n",
    "# target.execute(my_script)"
   ]
  },
  {
   "cell_type": "markdown",
   "metadata": {},
   "source": [
    "## Example of frameworks configuration on remote target"
   ]
  },
  {
   "cell_type": "markdown",
   "metadata": {},
   "source": [
    "### Configure CPUFreq governor to be \"sched-freq\""
   ]
  },
  {
   "cell_type": "code",
   "execution_count": 10,
   "metadata": {
    "code_folding": [],
    "collapsed": false
   },
   "outputs": [
    {
     "name": "stderr",
     "output_type": "stream",
     "text": [
      "05:30:05  DEBUG   : sudo -- sh -c '/root/devlib-target/bin/shutils cpufreq_set_all_governors sched'\n",
      "05:30:06  DEBUG   : sudo -- sh -c '/root/devlib-target/bin/shutils cpufreq_get_all_governors'\n"
     ]
    },
    {
     "name": "stdout",
     "output_type": "stream",
     "text": [
      "{'1': 'sched', '0': 'sched', '3': 'sched', '2': 'sched', '5': 'sched', '4': 'sched'}\n"
     ]
    }
   ],
   "source": [
    "target.cpufreq.set_all_governors('sched');\n",
    "\n",
    "# Check which governor is enabled on each CPU\n",
    "enabled_governors =  target.cpufreq.get_all_governors()\n",
    "print enabled_governors"
   ]
  },
  {
   "cell_type": "markdown",
   "metadata": {},
   "source": [
    "### Create a big/LITTLE partition using CGroups::CPUSet"
   ]
  },
  {
   "cell_type": "code",
   "execution_count": 11,
   "metadata": {
    "code_folding": [],
    "collapsed": false
   },
   "outputs": [
    {
     "name": "stderr",
     "output_type": "stream",
     "text": [
      "05:30:09  DEBUG   : sudo -- sh -c '[ -d /sys/fs/cgroup/devlib_cpuset/big ] || mkdir -p /sys/fs/cgroup/devlib_cpuset/big'\n",
      "05:30:09  DEBUG   : sudo -- sh -c 'echo 1-2 > '\\''/sys/fs/cgroup/devlib_cpuset/big/cpuset.cpus'\\'''\n",
      "05:30:10  DEBUG   : sudo -- sh -c 'cat '\\''/sys/fs/cgroup/devlib_cpuset/big/cpuset.cpus'\\'''\n",
      "05:30:10  DEBUG   : sudo -- sh -c 'echo 0 > '\\''/sys/fs/cgroup/devlib_cpuset/big/cpuset.mems'\\'''\n",
      "05:30:10  DEBUG   : sudo -- sh -c 'cat '\\''/sys/fs/cgroup/devlib_cpuset/big/cpuset.mems'\\'''\n",
      "05:30:11  DEBUG   : sudo -- sh -c '[ -d /sys/fs/cgroup/devlib_cpuset/LITTLE ] || mkdir -p /sys/fs/cgroup/devlib_cpuset/LITTLE'\n",
      "05:30:11  DEBUG   : sudo -- sh -c 'echo 0,3-5 > '\\''/sys/fs/cgroup/devlib_cpuset/LITTLE/cpuset.cpus'\\'''\n",
      "05:30:11  DEBUG   : sudo -- sh -c 'cat '\\''/sys/fs/cgroup/devlib_cpuset/LITTLE/cpuset.cpus'\\'''\n",
      "05:30:12  DEBUG   : sudo -- sh -c 'echo 0 > '\\''/sys/fs/cgroup/devlib_cpuset/LITTLE/cpuset.mems'\\'''\n",
      "05:30:12  DEBUG   : sudo -- sh -c 'cat '\\''/sys/fs/cgroup/devlib_cpuset/LITTLE/cpuset.mems'\\'''\n",
      "05:30:12  DEBUG   : /root/devlib-target/bin/busybox find /sys/fs/cgroup/devlib_cpuset -type d\n",
      "05:30:13  DEBUG   : /root/devlib-target/bin/shutils cgroups_get_attributes /sys/fs/cgroup/devlib_cpuset cpuset\n",
      "05:30:13  DEBUG   : /root/devlib-target/bin/shutils cgroups_get_attributes /sys/fs/cgroup/devlib_cpuset/big cpuset\n"
     ]
    },
    {
     "name": "stdout",
     "output_type": "stream",
     "text": [
      "cpuset:/               cpus: 0-5\n",
      "cpuset:/big            cpus: 1-2"
     ]
    },
    {
     "name": "stderr",
     "output_type": "stream",
     "text": [
      "05:30:14  DEBUG   : /root/devlib-target/bin/shutils cgroups_get_attributes /sys/fs/cgroup/devlib_cpuset/LITTLE cpuset\n"
     ]
    },
    {
     "name": "stdout",
     "output_type": "stream",
     "text": [
      "\n",
      "cpuset:/LITTLE         cpus: 0,3-5\n"
     ]
    }
   ],
   "source": [
    "cpuset = target.cgroups.controller('cpuset')\n",
    "\n",
    "# Configure a big partition\n",
    "cpuset_bigs = cpuset.cgroup('/big')\n",
    "cpuset_bigs.set(cpus=te.target.bl.bigs, mems=0)\n",
    "\n",
    "# Configure a LITTLE partition\n",
    "cpuset_littles = cpuset.cgroup('/LITTLE')\n",
    "cpuset_littles.set(cpus=te.target.bl.littles, mems=0)\n",
    "\n",
    "# Dump the configuraiton of each controller\n",
    "cgroups = cpuset.list_all()\n",
    "for cgname in cgroups:\n",
    "    cgroup = cpuset.cgroup(cgname)\n",
    "    attrs = cgroup.get()\n",
    "    cpus = attrs['cpus']\n",
    "    print '{}:{:<15} cpus: {}'.format(cpuset.kind, cgroup.name, cpus)"
   ]
  },
  {
   "cell_type": "markdown",
   "metadata": {},
   "source": [
    "<br><br><br><br>\n",
    "Advanced usage: exploring more APIs exposed by TestEnv and Devlib<br>\n",
    "[notebooks/tutorial/02_TestEnvUsage.ipynb](02_TestEnvUsage.ipynb)\n",
    "<br><br><br><br>"
   ]
  },
  {
   "cell_type": "markdown",
   "metadata": {
    "heading_collapsed": true
   },
   "source": [
    "# Using syntethic workloads"
   ]
  },
  {
   "cell_type": "markdown",
   "metadata": {},
   "source": [
    "## Generate an RTApp configuration"
   ]
  },
  {
   "cell_type": "code",
   "execution_count": 12,
   "metadata": {
    "collapsed": false,
    "scrolled": false
   },
   "outputs": [
    {
     "name": "stderr",
     "output_type": "stream",
     "text": [
      "05:30:22  INFO    :          WlGen - Setup new workload test\n",
      "05:30:22  INFO    :          RTApp - Workload duration defined by longest task\n",
      "05:30:22  INFO    :          RTApp - Default policy: SCHED_OTHER\n",
      "05:30:22  INFO    :          RTApp - ------------------------\n",
      "05:30:22  INFO    :          RTApp - task [task_lrh], sched: using default policy\n",
      "05:30:22  INFO    :          RTApp -  | calibration CPU: 0\n",
      "05:30:22  INFO    :          RTApp -  | loops count: 1\n",
      "05:30:22  INFO    :          RTApp - + phase_000001: duration 3.000000 [s] (93 loops)\n",
      "05:30:22  INFO    :          RTApp - |  period    32000 [us], duty_cycle  10 %\n",
      "05:30:22  INFO    :          RTApp - |  run_time   3200 [us], sleep_time  28800 [us]\n",
      "05:30:22  INFO    :          RTApp - + phase_000002: duration 0.500000 [s] (31 loops)\n",
      "05:30:22  INFO    :          RTApp - |  period    16000 [us], duty_cycle  10 %\n",
      "05:30:22  INFO    :          RTApp - |  run_time   1600 [us], sleep_time  14400 [us]\n",
      "05:30:22  INFO    :          RTApp - + phase_000003: duration 0.500000 [s] (31 loops)\n",
      "05:30:22  INFO    :          RTApp - |  period    16000 [us], duty_cycle  30 %\n",
      "05:30:22  INFO    :          RTApp - |  run_time   4800 [us], sleep_time  11200 [us]\n",
      "05:30:22  INFO    :          RTApp - + phase_000004: duration 0.500000 [s] (31 loops)\n",
      "05:30:22  INFO    :          RTApp - |  period    16000 [us], duty_cycle  50 %\n",
      "05:30:22  INFO    :          RTApp - |  run_time   8000 [us], sleep_time   8000 [us]\n",
      "05:30:22  INFO    :          RTApp - + phase_000005: duration 3.000000 [s] (187 loops)\n",
      "05:30:22  INFO    :          RTApp - |  period    16000 [us], duty_cycle  60 %\n",
      "05:30:22  INFO    :          RTApp - |  run_time   9600 [us], sleep_time   6400 [us]\n",
      "05:30:22  DEBUG   : /usr/bin/scp -r   test_00.json root@192.168.0.1:/root/devlib-target\n"
     ]
    }
   ],
   "source": [
    "# RTApp configurator for generation of PERIODIC tasks\n",
    "from wlgen import RTA, Periodic, Ramp\n",
    "\n",
    "# Light workload\n",
    "light  = Periodic(\n",
    "            duty_cycle_pct = 10,\n",
    "            duration_s     =  3,\n",
    "            period_ms      = 32,\n",
    ")\n",
    "\n",
    "# Ramp workload\n",
    "ramp   = Ramp(\n",
    "            start_pct=10,\n",
    "            end_pct=60,\n",
    "            delta_pct=20,\n",
    "            time_s=0.5,\n",
    "            period_ms=16\n",
    ")\n",
    "\n",
    "# Heavy workload\n",
    "heavy  = Periodic(\n",
    "            duty_cycle_pct=60,\n",
    "            duration_s=3,\n",
    "            period_ms=16\n",
    ")\n",
    "\n",
    "# Composed workload\n",
    "lrh_task = light + ramp + heavy\n",
    "\n",
    "\n",
    "# Create a new RTApp workload generator using the calibration values\n",
    "# reported by the TestEnv module\n",
    "rtapp = RTA(target, 'test', calibration=te.calibration())\n",
    "\n",
    "\n",
    "# Configure this RTApp instance to:\n",
    "rtapp.conf(\n",
    "\n",
    "    # 1. generate a \"profile based\" set of tasks\n",
    "    kind = 'profile',\n",
    "    \n",
    "    # 2. define the \"profile\" of each task\n",
    "    params = {\n",
    "        \n",
    "        # 3. Composed task\n",
    "        'task_lrh': lrh_task.get(),\n",
    "    },\n",
    "    \n",
    "    #loadref='big',\n",
    "    loadref='LITTLE',\n",
    "    run_dir=target.working_directory\n",
    "    \n",
    ");"
   ]
  },
  {
   "cell_type": "code",
   "execution_count": 13,
   "metadata": {
    "code_folding": [
     0
    ],
    "collapsed": false,
    "scrolled": true
   },
   "outputs": [
    {
     "name": "stderr",
     "output_type": "stream",
     "text": [
      "05:30:24  INFO    : Generated RTApp JSON file:\n"
     ]
    },
    {
     "name": "stdout",
     "output_type": "stream",
     "text": [
      "{\n",
      "    \"global\": {\n",
      "        \"calibration\": 355, \n",
      "        \"default_policy\": \"SCHED_OTHER\", \n",
      "        \"duration\": -1, \n",
      "        \"logdir\": \"/root/devlib-target\"\n",
      "    }, \n",
      "    \"tasks\": {\n",
      "        \"task_lrh\": {\n",
      "            \"loop\": 1, \n",
      "            \"phases\": {\n",
      "                \"p000001\": {\n",
      "                    \"loop\": 93, \n",
      "                    \"run\": 3200, \n",
      "                    \"timer\": {\n",
      "                        \"period\": 32000, \n",
      "                        \"ref\": \"task_lrh\"\n",
      "                    }\n",
      "                }, \n",
      "                \"p000002\": {\n",
      "                    \"loop\": 31, \n",
      "                    \"run\": 1600, \n",
      "                    \"timer\": {\n",
      "                        \"period\": 16000, \n",
      "                        \"ref\": \"task_lrh\"\n",
      "                    }\n",
      "                }, \n",
      "                \"p000003\": {\n",
      "                    \"loop\": 31, \n",
      "                    \"run\": 4800, \n",
      "                    \"timer\": {\n",
      "                        \"period\": 16000, \n",
      "                        \"ref\": \"task_lrh\"\n",
      "                    }\n",
      "                }, \n",
      "                \"p000004\": {\n",
      "                    \"loop\": 31, \n",
      "                    \"run\": 8000, \n",
      "                    \"timer\": {\n",
      "                        \"period\": 16000, \n",
      "                        \"ref\": \"task_lrh\"\n",
      "                    }\n",
      "                }, \n",
      "                \"p000005\": {\n",
      "                    \"loop\": 187, \n",
      "                    \"run\": 9600, \n",
      "                    \"timer\": {\n",
      "                        \"period\": 16000, \n",
      "                        \"ref\": \"task_lrh\"\n",
      "                    }\n",
      "                }\n",
      "            }, \n",
      "            \"policy\": \"SCHED_OTHER\"\n",
      "        }\n",
      "    }\n",
      "}\n"
     ]
    }
   ],
   "source": [
    "# Inspect the JSON file used to run the application\n",
    "with open('./test_00.json', 'r') as fh:\n",
    "    rtapp_json = json.load(fh)\n",
    "logging.info('Generated RTApp JSON file:')\n",
    "print json.dumps(rtapp_json, indent=4, sort_keys=True)"
   ]
  },
  {
   "cell_type": "markdown",
   "metadata": {},
   "source": [
    "<br><br><br><br>\n",
    "Advanced usage: using WlGen to create more complex RTApp configurations or run other banchmarks (e.g. hackbench)<br>\n",
    "[notebooks/tutorial/03_WlGenUsage.ipynb](03_WlGenUsage.ipynb)\n",
    "<br><br><br><br>"
   ]
  },
  {
   "cell_type": "markdown",
   "metadata": {},
   "source": [
    "## Execution and Energy Sampling"
   ]
  },
  {
   "cell_type": "code",
   "execution_count": 14,
   "metadata": {
    "collapsed": true
   },
   "outputs": [],
   "source": [
    "def execute(te, wload, res_dir):\n",
    "    \n",
    "    logging.info('# Setup FTrace')\n",
    "    te.ftrace.start()\n",
    "\n",
    "    logging.info('## Start energy sampling')\n",
    "    te.emeter.reset()\n",
    "\n",
    "    logging.info('### Start RTApp execution')\n",
    "    wload.run(out_dir=res_dir)\n",
    "\n",
    "    logging.info('## Read energy consumption: %s/energy.json', res_dir)\n",
    "    nrg_report = te.emeter.report(out_dir=res_dir)\n",
    "\n",
    "    logging.info('# Stop FTrace')\n",
    "    te.ftrace.stop()\n",
    "\n",
    "    trace_file = os.path.join(res_dir, 'trace.dat')\n",
    "    logging.info('# Save FTrace: %s', trace_file)\n",
    "    te.ftrace.get_trace(trace_file)\n",
    "\n",
    "    logging.info('# Save platform description: %s/platform.json', res_dir)\n",
    "    plt, plt_file = te.platform_dump(res_dir)\n",
    "    \n",
    "    logging.info('# Report collected data:')\n",
    "    logging.info('   %s', res_dir)\n",
    "    !tree {res_dir}\n",
    "    \n",
    "    return nrg_report, plt, plt_file, trace_file"
   ]
  },
  {
   "cell_type": "code",
   "execution_count": 15,
   "metadata": {
    "collapsed": false
   },
   "outputs": [
    {
     "name": "stderr",
     "output_type": "stream",
     "text": [
      "05:30:27  INFO    : # Setup FTrace\n",
      "05:30:27  DEBUG   : sudo -- sh -c 'echo 10240 > '\\''/sys/kernel/debug/tracing/buffer_size_kb'\\'''\n",
      "05:30:27  DEBUG   : sudo -- sh -c 'cat '\\''/sys/kernel/debug/tracing/buffer_size_kb'\\'''\n",
      "05:30:27  DEBUG   : sudo -- sh -c '/root/devlib-target/bin/trace-cmd reset'\n",
      "05:30:29  DEBUG   : sudo -- sh -c '/root/devlib-target/bin/trace-cmd start -e sched_switch -e sched_wakeup -e sched_wakeup_new -e sched_contrib_scale_f -e sched_load_avg_cpu -e sched_load_avg_task -e sched_tune_config -e sched_tune_tasks_update -e sched_tune_boostgroup_update -e sched_tune_filter -e sched_boost_cpu -e sched_boost_task -e sched_energy_diff -e cpu_frequency -e cpu_capacity'\n",
      "05:30:31  DEBUG   : sudo -- sh -c 'echo TRACE_MARKER_START > '\\''/sys/kernel/debug/tracing/trace_marker'\\'''\n",
      "05:30:31  DEBUG   : sudo -- sh -c '/root/devlib-target/bin/shutils cpufreq_trace_all_frequencies'\n",
      "05:30:32  INFO    : ## Start energy sampling\n",
      "05:30:32  DEBUG   : sudo -- sh -c 'cat '\\''/sys/class/hwmon/hwmon13/energy1_input'\\'''\n",
      "05:30:32  DEBUG   : sudo -- sh -c 'cat '\\''/sys/class/hwmon/hwmon14/energy1_input'\\'''\n",
      "05:30:33  INFO    : ### Start RTApp execution\n",
      "05:30:33  INFO    :          WlGen - Workload execution START:\n",
      "05:30:33  INFO    :          WlGen -    /root/devlib-target/bin/rt-app /root/devlib-target/test_00.json\n",
      "05:30:33  DEBUG   : /root/devlib-target/bin/rt-app /root/devlib-target/test_00.json\n",
      "05:30:40  DEBUG   : /usr/bin/scp -r   root@192.168.0.1:'/root/devlib-target/*task_lrh*.log' /home/derkling/Code/lisa/results/LisaInANutshell\n",
      "05:30:41  DEBUG   : /usr/bin/scp -r   root@192.168.0.1:/root/devlib-target/test_00.json /home/derkling/Code/lisa/results/LisaInANutshell\n",
      "05:30:41  INFO    : ## Read energy consumption: /home/derkling/Code/lisa/results/LisaInANutshell/energy.json\n",
      "05:30:41  DEBUG   : sudo -- sh -c 'cat '\\''/sys/class/hwmon/hwmon13/energy1_input'\\'''\n",
      "05:30:41  DEBUG   : sudo -- sh -c 'cat '\\''/sys/class/hwmon/hwmon14/energy1_input'\\'''\n",
      "05:30:42  INFO    :   EnergyReport - Energy [             a53]: 5.530500\n",
      "05:30:42  INFO    :   EnergyReport - Energy [             a57]: 2.019339\n",
      "05:30:42  WARNING :   EnergyReport - Unable to bind hwmon channel [a57] to a big.LITTLE cluster\n",
      "05:30:42  WARNING :    EnergyMeter - No energy data for big cluster\n",
      "05:30:42  INFO    : # Stop FTrace\n",
      "05:30:42  DEBUG   : sudo -- sh -c '/root/devlib-target/bin/shutils cpufreq_trace_all_frequencies'\n",
      "05:30:42  DEBUG   : sudo -- sh -c 'echo TRACE_MARKER_STOP > '\\''/sys/kernel/debug/tracing/trace_marker'\\'''\n",
      "05:30:42  DEBUG   : sudo -- sh -c '/root/devlib-target/bin/trace-cmd stop'\n",
      "05:30:43  INFO    : # Save FTrace: /home/derkling/Code/lisa/results/LisaInANutshell/trace.dat\n",
      "05:30:43  DEBUG   : sudo -- sh -c '/root/devlib-target/bin/trace-cmd extract -o /root/devlib-target/trace.dat'\n",
      "05:30:45  DEBUG   : /usr/bin/scp -r   root@192.168.0.1:/root/devlib-target/trace.dat /home/derkling/Code/lisa/results/LisaInANutshell/trace.dat\n",
      "05:30:46  INFO    : # Save platform description: /home/derkling/Code/lisa/results/LisaInANutshell/platform.json\n",
      "05:30:46  INFO    : # Report collected data:\n",
      "05:30:46  INFO    :    /home/derkling/Code/lisa/results/LisaInANutshell\n"
     ]
    },
    {
     "name": "stdout",
     "output_type": "stream",
     "text": [
      "\u001b[01;34m/home/derkling/Code/lisa/results/LisaInANutshell\u001b[00m\r\n",
      "├── energy.json\r\n",
      "├── output.log\r\n",
      "├── platform.json\r\n",
      "├── rt-app-task_lrh-0.log\r\n",
      "├── test_00.json\r\n",
      "└── trace.dat\r\n",
      "\r\n",
      "0 directories, 6 files\r\n"
     ]
    }
   ],
   "source": [
    "nrg_report, plt, plt_file, trace_file = execute(te, rtapp, te.res_dir)"
   ]
  },
  {
   "cell_type": "markdown",
   "metadata": {},
   "source": [
    "## Example of energy collected data"
   ]
  },
  {
   "cell_type": "code",
   "execution_count": 16,
   "metadata": {
    "collapsed": false
   },
   "outputs": [
    {
     "data": {
      "text/html": [
       "<div>\n",
       "<table border=\"1\" class=\"dataframe\">\n",
       "  <thead>\n",
       "    <tr style=\"text-align: right;\">\n",
       "      <th></th>\n",
       "      <th>Energy</th>\n",
       "    </tr>\n",
       "    <tr>\n",
       "      <th>Cluster</th>\n",
       "      <th></th>\n",
       "    </tr>\n",
       "  </thead>\n",
       "  <tbody>\n",
       "    <tr>\n",
       "      <th>LITTLE</th>\n",
       "      <td>5.530500</td>\n",
       "    </tr>\n",
       "    <tr>\n",
       "      <th>a57</th>\n",
       "      <td>2.019339</td>\n",
       "    </tr>\n",
       "  </tbody>\n",
       "</table>\n",
       "</div>"
      ],
      "text/plain": [
       "           Energy\n",
       "Cluster          \n",
       "LITTLE   5.530500\n",
       "a57      2.019339"
      ]
     },
     "execution_count": 16,
     "metadata": {},
     "output_type": "execute_result"
    }
   ],
   "source": [
    "import pandas as pd\n",
    "\n",
    "df = pd.DataFrame(list(nrg_report.channels.iteritems()),\n",
    "                  columns=['Cluster', 'Energy'])\n",
    "df = df.set_index('Cluster')\n",
    "df"
   ]
  },
  {
   "cell_type": "markdown",
   "metadata": {},
   "source": [
    "## Example of platform description"
   ]
  },
  {
   "cell_type": "code",
   "execution_count": 17,
   "metadata": {
    "collapsed": false,
    "scrolled": true
   },
   "outputs": [
    {
     "name": "stderr",
     "output_type": "stream",
     "text": [
      "05:30:46  INFO    : LITTLE cluster max capacity: 447\n"
     ]
    },
    {
     "name": "stdout",
     "output_type": "stream",
     "text": [
      "{\n",
      "    \"nrg_model\": {\n",
      "        \"big\": {\n",
      "            \"cluster\": {\n",
      "                \"nrg_max\": 64\n",
      "            }, \n",
      "            \"cpu\": {\n",
      "                \"cap_max\": 1024, \n",
      "                \"nrg_max\": 616\n",
      "            }\n",
      "        }, \n",
      "        \"little\": {\n",
      "            \"cluster\": {\n",
      "                \"nrg_max\": 57\n",
      "            }, \n",
      "            \"cpu\": {\n",
      "                \"cap_max\": 447, \n",
      "                \"nrg_max\": 93\n",
      "            }\n",
      "        }\n",
      "    }, \n",
      "    \"clusters\": {\n",
      "        \"big\": [\n",
      "            1, \n",
      "            2\n",
      "        ], \n",
      "        \"little\": [\n",
      "            0, \n",
      "            3, \n",
      "            4, \n",
      "            5\n",
      "        ]\n",
      "    }, \n",
      "    \"cpus_count\": 6, \n",
      "    \"freqs\": {\n",
      "        \"big\": [\n",
      "            600000, \n",
      "            1000000, \n",
      "            1200000\n",
      "        ], \n",
      "        \"little\": [\n",
      "            450000, \n",
      "            800000, \n",
      "            950000\n",
      "        ]\n",
      "    }, \n",
      "    \"topology\": [\n",
      "        [\n",
      "            0, \n",
      "            3, \n",
      "            4, \n",
      "            5\n",
      "        ], \n",
      "        [\n",
      "            1, \n",
      "            2\n",
      "        ]\n",
      "    ]\n",
      "}\n"
     ]
    }
   ],
   "source": [
    "# Show the collected platform description\n",
    "with open(os.path.join(te.res_dir, 'platform.json'), 'r') as fh:\n",
    "    platform = json.load(fh)\n",
    "print json.dumps(platform, indent=4)\n",
    "logging.info('LITTLE cluster max capacity: %d',\n",
    "             platform['nrg_model']['little']['cpu']['cap_max'])"
   ]
  },
  {
   "cell_type": "markdown",
   "metadata": {},
   "source": [
    "<br><br><br><br>\n",
    "Advanced Workload Execution: using the Executor module to automate data collection for multiple tests<br>\n",
    "[notebooks/tutorial/04_ExecutorUsage.ipynb](04_ExecutorUsage.ipynb)\n",
    "<br><br><br><br>"
   ]
  },
  {
   "cell_type": "markdown",
   "metadata": {
    "heading_collapsed": true
   },
   "source": [
    "# Trace Visualization (the kernelshark way)"
   ]
  },
  {
   "cell_type": "markdown",
   "metadata": {},
   "source": [
    "## Using kernelshark"
   ]
  },
  {
   "cell_type": "code",
   "execution_count": 18,
   "metadata": {
    "collapsed": false
   },
   "outputs": [
    {
     "name": "stdout",
     "output_type": "stream",
     "text": [
      "version = 6\r\n"
     ]
    }
   ],
   "source": [
    "# Let's look at the trace using kernelshark...\n",
    "trace_file = te.res_dir + '/trace.dat'\n",
    "!kernelshark {trace_file} 2>/dev/null"
   ]
  },
  {
   "cell_type": "markdown",
   "metadata": {},
   "source": [
    "## Using the TRAPpy Trace Plotter"
   ]
  },
  {
   "cell_type": "code",
   "execution_count": 19,
   "metadata": {
    "code_folding": [],
    "collapsed": false
   },
   "outputs": [
    {
     "data": {
      "text/html": [
       "<style>\n",
       "/*\n",
       "\n",
       " *    Copyright 2015-2016 ARM Limited\n",
       "\n",
       " *\n",
       "\n",
       " * Licensed under the Apache License, Version 2.0 (the \"License\");\n",
       "\n",
       " * you may not use this file except in compliance with the License.\n",
       "\n",
       " * You may obtain a copy of the License at\n",
       "\n",
       " *\n",
       "\n",
       " *     http://www.apache.org/licenses/LICENSE-2.0\n",
       "\n",
       " *\n",
       "\n",
       " * Unless required by applicable law or agreed to in writing, software\n",
       "\n",
       " * distributed under the License is distributed on an \"AS IS\" BASIS,\n",
       "\n",
       " * WITHOUT WARRANTIES OR CONDITIONS OF ANY KIND, either express or implied.\n",
       "\n",
       " * See the License for the specific language governing permissions and\n",
       "\n",
       " * limitations under the License.\n",
       "\n",
       " */\n",
       "\n",
       "\n",
       "\n",
       ".d3-tip {\n",
       "\n",
       "  line-height: 1;\n",
       "\n",
       "  padding: 12px;\n",
       "\n",
       "  background: rgba(0, 0, 0, 0.6);\n",
       "\n",
       "  color: #fff;\n",
       "\n",
       "  border-radius: 2px;\n",
       "\n",
       "  position: absolute !important;\n",
       "\n",
       "  z-index: 99999;\n",
       "\n",
       "}\n",
       "\n",
       "\n",
       "\n",
       ".d3-tip:after {\n",
       "\n",
       "  box-sizing: border-box;\n",
       "\n",
       "  pointer-events: none;\n",
       "\n",
       "  display: inline;\n",
       "\n",
       "  font-size: 10px;\n",
       "\n",
       "  width: 100%;\n",
       "\n",
       "  line-height: 1;\n",
       "\n",
       "  color: rgba(0, 0, 0, 0.6);\n",
       "\n",
       "  content: \"\\25BC\";\n",
       "\n",
       "  position: absolute !important;\n",
       "\n",
       "  z-index: 99999;\n",
       "\n",
       "  text-align: center;\n",
       "\n",
       "}\n",
       "\n",
       "\n",
       "\n",
       ".d3-tip.n:after {\n",
       "\n",
       "  margin: -1px 0 0 0;\n",
       "\n",
       "  top: 100%;\n",
       "\n",
       "  left: 0;\n",
       "\n",
       "}\n",
       "\n",
       "\n",
       "\n",
       ".contextRect {\n",
       "\n",
       "  fill: lightgray;\n",
       "\n",
       "  fill-opacity: 0.5;\n",
       "\n",
       "  stroke: black;\n",
       "\n",
       "  stroke-width: 1;\n",
       "\n",
       "  stroke-opacity: 1;\n",
       "\n",
       "  pointer-events: none;\n",
       "\n",
       "  shape-rendering: crispEdges;\n",
       "\n",
       "}\n",
       "\n",
       "\n",
       "\n",
       ".chart {\n",
       "\n",
       "  shape-rendering: crispEdges;\n",
       "\n",
       "}\n",
       "\n",
       "\n",
       "\n",
       ".mini text {\n",
       "\n",
       "  font: 9px sans-serif;\n",
       "\n",
       "}\n",
       "\n",
       "\n",
       "\n",
       ".main text {\n",
       "\n",
       "  font: 12px sans-serif;\n",
       "\n",
       "}\n",
       "\n",
       "\n",
       "\n",
       ".axis line, .axis path {\n",
       "\n",
       "  stroke: black;\n",
       "\n",
       "}\n",
       "\n",
       "\n",
       "\n",
       ".miniItem {\n",
       "\n",
       "  stroke-width: 8;\n",
       "\n",
       "}\n",
       "\n",
       "\n",
       "\n",
       ".brush .extent {\n",
       "\n",
       "\n",
       "\n",
       "  stroke: #000;\n",
       "\n",
       "  fill-opacity: .125;\n",
       "\n",
       "  shape-rendering: crispEdges;\n",
       "\n",
       "}\n",
       "\n",
       "</style>\n",
       "<div id=\"fig_519ab73f1a9c4d0997f53219bbe58335\" class=\"eventplot\">\n",
       "        <script>\n",
       "            var req = require.config( {\n",
       "\n",
       "                paths: {\n",
       "\n",
       "                    \"EventPlot\": '/nbextensions/plotter_scripts/EventPlot/EventPlot',\n",
       "                    \"d3-tip\": '/nbextensions/plotter_scripts/EventPlot/d3.tip.v0.6.3',\n",
       "                    \"d3-plotter\": '/nbextensions/plotter_scripts/EventPlot/d3.min'\n",
       "                },\n",
       "                shim: {\n",
       "                    \"d3-plotter\" : {\n",
       "                        \"exports\" : \"d3\"\n",
       "                    },\n",
       "                    \"d3-tip\": [\"d3-plotter\"],\n",
       "                    \"EventPlot\": {\n",
       "\n",
       "                        \"deps\": [\"d3-tip\", \"d3-plotter\" ],\n",
       "                        \"exports\":  \"EventPlot\"\n",
       "                    }\n",
       "                }\n",
       "            });\n",
       "            req([\"require\", \"EventPlot\"], function() {\n",
       "               EventPlot.generate('fig_519ab73f1a9c4d0997f53219bbe58335', '/nbextensions/');\n",
       "            });\n",
       "        </script>\n",
       "        </div>"
      ],
      "text/plain": [
       "<IPython.core.display.HTML object>"
      ]
     },
     "metadata": {},
     "output_type": "display_data"
    }
   ],
   "source": [
    "# Suport for FTrace events parsing and visualization\n",
    "import trappy\n",
    "\n",
    "# NOTE: The interactive trace visualization is available only if you run\n",
    "#       the workload to generate a new trace-file\n",
    "trappy.plotter.plot_trace(trace_file)"
   ]
  },
  {
   "cell_type": "markdown",
   "metadata": {
    "heading_collapsed": true
   },
   "source": [
    "# Example of Trace Analysis"
   ]
  },
  {
   "cell_type": "markdown",
   "metadata": {},
   "source": [
    "## Generate DataFrames from Trace Events"
   ]
  },
  {
   "cell_type": "code",
   "execution_count": 20,
   "metadata": {
    "collapsed": false
   },
   "outputs": [
    {
     "name": "stderr",
     "output_type": "stream",
     "text": [
      "05:30:58  INFO    : Collected events spans a 11.783 [s] time interval\n"
     ]
    }
   ],
   "source": [
    "# Load the LISA::Trace parsing module\n",
    "from trace import Trace\n",
    "\n",
    "# Define which event we are interested into\n",
    "trace = Trace(te.platform, te.res_dir, [\n",
    "            \"sched_switch\",\n",
    "            \"sched_load_avg_cpu\",\n",
    "            \"sched_load_avg_task\",\n",
    "            \"sched_boost_cpu\",\n",
    "            \"sched_boost_task\",\n",
    "            \"cpu_frequency\",\n",
    "            \"cpu_capacity\",\n",
    "    ])"
   ]
  },
  {
   "cell_type": "code",
   "execution_count": 21,
   "metadata": {
    "collapsed": false
   },
   "outputs": [
    {
     "name": "stderr",
     "output_type": "stream",
     "text": [
      "05:30:58  INFO    : List of events identified in the trace:\n",
      "05:30:58  INFO    :    sched_load_avg_task\n",
      "05:30:58  INFO    :    cpu_frequency\n",
      "05:30:58  INFO    :    cpu_capacity\n",
      "05:30:58  INFO    :    sched_load_avg_cpu\n",
      "05:30:58  INFO    :    sched_boost_cpu\n",
      "05:30:58  INFO    :    sched_boost_task\n",
      "05:30:58  INFO    :    sched_switch\n"
     ]
    }
   ],
   "source": [
    "# Let's have a look at the set of events collected from the trace\n",
    "ftrace = trace.ftrace\n",
    "logging.info(\"List of events identified in the trace:\")\n",
    "for event in ftrace.class_definitions.keys():\n",
    "    logging.info(\"   %s\", event)"
   ]
  },
  {
   "cell_type": "code",
   "execution_count": 22,
   "metadata": {
    "collapsed": false
   },
   "outputs": [
    {
     "data": {
      "text/html": [
       "<div>\n",
       "<table border=\"1\" class=\"dataframe\">\n",
       "  <thead>\n",
       "    <tr style=\"text-align: right;\">\n",
       "      <th></th>\n",
       "      <th>__comm</th>\n",
       "      <th>__cpu</th>\n",
       "      <th>__pid</th>\n",
       "      <th>comm</th>\n",
       "      <th>cpu</th>\n",
       "      <th>load_avg</th>\n",
       "      <th>load_sum</th>\n",
       "      <th>period_contrib</th>\n",
       "      <th>pid</th>\n",
       "      <th>util_avg</th>\n",
       "      <th>util_est</th>\n",
       "      <th>util_sum</th>\n",
       "      <th>cluster</th>\n",
       "    </tr>\n",
       "    <tr>\n",
       "      <th>Time</th>\n",
       "      <th></th>\n",
       "      <th></th>\n",
       "      <th></th>\n",
       "      <th></th>\n",
       "      <th></th>\n",
       "      <th></th>\n",
       "      <th></th>\n",
       "      <th></th>\n",
       "      <th></th>\n",
       "      <th></th>\n",
       "      <th></th>\n",
       "      <th></th>\n",
       "      <th></th>\n",
       "    </tr>\n",
       "  </thead>\n",
       "  <tbody>\n",
       "    <tr>\n",
       "      <th>0.000135</th>\n",
       "      <td>trace-cmd</td>\n",
       "      <td>0</td>\n",
       "      <td>1377</td>\n",
       "      <td>trace-cmd</td>\n",
       "      <td>0</td>\n",
       "      <td>222</td>\n",
       "      <td>10616291</td>\n",
       "      <td>272</td>\n",
       "      <td>1377</td>\n",
       "      <td>87</td>\n",
       "      <td>87</td>\n",
       "      <td>4176248</td>\n",
       "      <td>LITTLE</td>\n",
       "    </tr>\n",
       "    <tr>\n",
       "      <th>0.000151</th>\n",
       "      <td>&lt;idle&gt;</td>\n",
       "      <td>1</td>\n",
       "      <td>0</td>\n",
       "      <td>sudo</td>\n",
       "      <td>1</td>\n",
       "      <td>0</td>\n",
       "      <td>655</td>\n",
       "      <td>66</td>\n",
       "      <td>1376</td>\n",
       "      <td>0</td>\n",
       "      <td>900</td>\n",
       "      <td>655</td>\n",
       "      <td>big</td>\n",
       "    </tr>\n",
       "    <tr>\n",
       "      <th>0.000170</th>\n",
       "      <td>trace-cmd</td>\n",
       "      <td>0</td>\n",
       "      <td>1377</td>\n",
       "      <td>trace-cmd</td>\n",
       "      <td>0</td>\n",
       "      <td>222</td>\n",
       "      <td>10616291</td>\n",
       "      <td>272</td>\n",
       "      <td>1377</td>\n",
       "      <td>87</td>\n",
       "      <td>87</td>\n",
       "      <td>4176248</td>\n",
       "      <td>LITTLE</td>\n",
       "    </tr>\n",
       "    <tr>\n",
       "      <th>0.001500</th>\n",
       "      <td>sudo</td>\n",
       "      <td>1</td>\n",
       "      <td>1376</td>\n",
       "      <td>sudo</td>\n",
       "      <td>1</td>\n",
       "      <td>14</td>\n",
       "      <td>687474</td>\n",
       "      <td>404</td>\n",
       "      <td>1376</td>\n",
       "      <td>14</td>\n",
       "      <td>900</td>\n",
       "      <td>687474</td>\n",
       "      <td>big</td>\n",
       "    </tr>\n",
       "    <tr>\n",
       "      <th>0.001504</th>\n",
       "      <td>&lt;idle&gt;</td>\n",
       "      <td>2</td>\n",
       "      <td>0</td>\n",
       "      <td>sh</td>\n",
       "      <td>2</td>\n",
       "      <td>0</td>\n",
       "      <td>91</td>\n",
       "      <td>561</td>\n",
       "      <td>1074</td>\n",
       "      <td>0</td>\n",
       "      <td>153</td>\n",
       "      <td>87</td>\n",
       "      <td>big</td>\n",
       "    </tr>\n",
       "  </tbody>\n",
       "</table>\n",
       "</div>"
      ],
      "text/plain": [
       "             __comm  __cpu  __pid       comm  cpu  load_avg  load_sum  \\\n",
       "Time                                                                    \n",
       "0.000135  trace-cmd      0   1377  trace-cmd    0       222  10616291   \n",
       "0.000151     <idle>      1      0       sudo    1         0       655   \n",
       "0.000170  trace-cmd      0   1377  trace-cmd    0       222  10616291   \n",
       "0.001500       sudo      1   1376       sudo    1        14    687474   \n",
       "0.001504     <idle>      2      0         sh    2         0        91   \n",
       "\n",
       "          period_contrib   pid  util_avg  util_est  util_sum cluster  \n",
       "Time                                                                  \n",
       "0.000135             272  1377        87        87   4176248  LITTLE  \n",
       "0.000151              66  1376         0       900       655     big  \n",
       "0.000170             272  1377        87        87   4176248  LITTLE  \n",
       "0.001500             404  1376        14       900    687474     big  \n",
       "0.001504             561  1074         0       153        87     big  "
      ]
     },
     "execution_count": 22,
     "metadata": {},
     "output_type": "execute_result"
    }
   ],
   "source": [
    "# Trace events are converted into tables, let's have a look at one\n",
    "# of such tables\n",
    "df = trace.data_frame.trace_event('sched_load_avg_task')\n",
    "df.head()"
   ]
  },
  {
   "cell_type": "code",
   "execution_count": 23,
   "metadata": {
    "code_folding": [
     0
    ],
    "collapsed": false
   },
   "outputs": [],
   "source": [
    "# Simple selection of events based on conditional values\n",
    "#df[df.comm == 'task_lrh'].head()\n",
    "\n",
    "# Simple selection of specific signals\n",
    "#df[df.comm == 'task_lrh'][['util_avg']].head()\n",
    "\n",
    "# Simple statistics reporting\n",
    "#df[df.comm == 'task_lrh'][['util_avg']].describe()"
   ]
  },
  {
   "cell_type": "markdown",
   "metadata": {},
   "source": [
    "<br><br><br><br>\n",
    "Advanced DataFrame usage: filtering by columns/rows, merging tables, plotting data<br>\n",
    "[notebooks/tutorial/05_TrappyUsage.ipynb](05_TrappyUsage.ipynb)\n",
    "<br><br><br><br>"
   ]
  },
  {
   "cell_type": "markdown",
   "metadata": {},
   "source": [
    "## Easy plot signals from DataFrams"
   ]
  },
  {
   "cell_type": "code",
   "execution_count": 24,
   "metadata": {
    "collapsed": false
   },
   "outputs": [
    {
     "data": {
      "text/html": [
       "<table style=\"border-style: hidden;\">\n",
       "<tr>\n",
       "<td style=\"border-style: hidden;\"><div class=\"ilineplot\" id=\"fig_33a2ba1bb9fb4c9d8d5112c650cf3fe2\">\n",
       "            <script>\n",
       "            var ilp_req = require.config( {\n",
       "\n",
       "                paths: {\n",
       "                    \"dygraph-sync\": '/nbextensions/plotter_scripts/ILinePlot/synchronizer',\n",
       "                    \"dygraph\": '/nbextensions/plotter_scripts/ILinePlot/dygraph-combined',\n",
       "                    \"ILinePlot\": '/nbextensions/plotter_scripts/ILinePlot/ILinePlot',\n",
       "                    \"underscore\": '/nbextensions/plotter_scripts/ILinePlot/underscore-min',\n",
       "                },\n",
       "\n",
       "                shim: {\n",
       "                    \"dygraph-sync\": [\"dygraph\"],\n",
       "                    \"ILinePlot\": {\n",
       "\n",
       "                        \"deps\": [\"dygraph-sync\", \"dygraph\", \"underscore\"],\n",
       "                        \"exports\":  \"ILinePlot\"\n",
       "                    }\n",
       "                }\n",
       "            });\n",
       "                ilp_req([\"require\", \"ILinePlot\"], function() {\n",
       "                ILinePlot.generate('fig_33a2ba1bb9fb4c9d8d5112c650cf3fe2', '/nbextensions/');\n",
       "            });\n",
       "            </script>\n",
       "        </div></td>\n",
       "</tr>\n",
       "<tr>\n",
       "<td style=\"border-style: hidden;\"><div style=\"text-align:center\" id=\"fig_33a2ba1bb9fb4c9d8d5112c650cf3fe2_legend\"></div></td>\n",
       "</tr>\n",
       "</table>"
      ],
      "text/plain": [
       "<IPython.core.display.HTML object>"
      ]
     },
     "metadata": {},
     "output_type": "display_data"
    }
   ],
   "source": [
    "# Signals can be easily plot using the ILinePlotter\n",
    "trappy.ILinePlot(\n",
    "    \n",
    "    # FTrace object\n",
    "    ftrace,\n",
    "    \n",
    "    # Signals to be plotted\n",
    "    signals=[\n",
    "      'sched_load_avg_cpu:util_avg',\n",
    "      'sched_load_avg_task:util_avg'\n",
    "    ],\n",
    "    \n",
    "#     # Generate one plot for each value of the specified column\n",
    "#      pivot='cpu',\n",
    "    \n",
    "#     # Generate only plots which satisfy these filters\n",
    "#     filters={\n",
    "#         'comm': ['task_lrh'],\n",
    "#         'cpu' : [0,5]\n",
    "#     },\n",
    "    \n",
    "    # Formatting style\n",
    "    per_line=2,\n",
    "    drawstyle='steps-post',\n",
    "    marker = '+'\n",
    "\n",
    ").view()"
   ]
  },
  {
   "cell_type": "markdown",
   "metadata": {
    "heading_collapsed": true
   },
   "source": [
    "# Example of Behavioral Analysis"
   ]
  },
  {
   "cell_type": "code",
   "execution_count": 25,
   "metadata": {
    "collapsed": true
   },
   "outputs": [],
   "source": [
    "from bart.sched.SchedMultiAssert import SchedAssert\n",
    "\n",
    "# Create an object to get/assert scheduling pbehaviors\n",
    "sa = SchedAssert(ftrace, te.topology,  execname='task_lrh')"
   ]
  },
  {
   "cell_type": "markdown",
   "metadata": {},
   "source": [
    "## Get tasks behaviors"
   ]
  },
  {
   "cell_type": "code",
   "execution_count": 26,
   "metadata": {
    "collapsed": false
   },
   "outputs": [
    {
     "name": "stdout",
     "output_type": "stream",
     "text": [
      "Task residency [%] on LITTLE cluster: 99.7034764921\n"
     ]
    }
   ],
   "source": [
    "# Check the residency of a task on the LITTLE cluster\n",
    "print \"Task residency [%] on LITTLE cluster:\",\\\n",
    "sa.getResidency(\n",
    "    \"cluster\",\n",
    "    te.target.bl.littles,\n",
    "    percent=True\n",
    ")"
   ]
  },
  {
   "cell_type": "code",
   "execution_count": 27,
   "metadata": {
    "collapsed": false
   },
   "outputs": [
    {
     "name": "stdout",
     "output_type": "stream",
     "text": [
      "Task initial CPU: 1\n"
     ]
    }
   ],
   "source": [
    "# Check on which CPU the task start its execution\n",
    "print \"Task initial CPU:\",\\\n",
    "sa.getFirstCpu()"
   ]
  },
  {
   "cell_type": "markdown",
   "metadata": {},
   "source": [
    "## Check for expected behaviros"
   ]
  },
  {
   "cell_type": "code",
   "execution_count": 28,
   "metadata": {
    "collapsed": false
   },
   "outputs": [
    {
     "name": "stdout",
     "output_type": "stream",
     "text": [
      "Task running 99 [%] of its time on LITTLE? True\n"
     ]
    }
   ],
   "source": [
    "import operator\n",
    "\n",
    "# Define the time window where we want focus our assertions\n",
    "start_s = sa.getStartTime()\n",
    "little_residency_window = (start_s, start_s + 10)\n",
    "\n",
    "# Defined the expected task residency \n",
    "EXPECTED_RESIDENCY_PCT=99\n",
    "\n",
    "result = sa.assertResidency(\n",
    "    \"cluster\",\n",
    "    te.target.bl.littles,\n",
    "    EXPECTED_RESIDENCY_PCT,\n",
    "    operator.ge,\n",
    "    window=little_residency_window,\n",
    "    percent=True\n",
    ")\n",
    "print \"Task running {} [%] of its time on LITTLE? {}\"\\\n",
    "      .format(EXPECTED_RESIDENCY_PCT, result)"
   ]
  },
  {
   "cell_type": "code",
   "execution_count": 29,
   "metadata": {
    "collapsed": false
   },
   "outputs": [
    {
     "name": "stdout",
     "output_type": "stream",
     "text": [
      "Task starting on a big CPU? True\n"
     ]
    }
   ],
   "source": [
    "result = sa.assertFirstCpu(te.target.bl.bigs)\n",
    "print \"Task starting on a big CPU? {}\".format(result)"
   ]
  },
  {
   "cell_type": "markdown",
   "metadata": {
    "heading_collapsed": true
   },
   "source": [
    "# Examples of Data analysis"
   ]
  },
  {
   "cell_type": "markdown",
   "metadata": {},
   "source": [
    "## Which task is the most active switcher?"
   ]
  },
  {
   "cell_type": "code",
   "execution_count": 30,
   "metadata": {
    "collapsed": false
   },
   "outputs": [
    {
     "data": {
      "text/html": [
       "<div>\n",
       "<table border=\"1\" class=\"dataframe\">\n",
       "  <thead>\n",
       "    <tr style=\"text-align: right;\">\n",
       "      <th></th>\n",
       "      <th>__comm</th>\n",
       "      <th>__cpu</th>\n",
       "      <th>__pid</th>\n",
       "      <th>next_comm</th>\n",
       "      <th>next_pid</th>\n",
       "      <th>next_prio</th>\n",
       "      <th>prev_comm</th>\n",
       "      <th>prev_pid</th>\n",
       "      <th>prev_prio</th>\n",
       "      <th>prev_state</th>\n",
       "    </tr>\n",
       "    <tr>\n",
       "      <th>Time</th>\n",
       "      <th></th>\n",
       "      <th></th>\n",
       "      <th></th>\n",
       "      <th></th>\n",
       "      <th></th>\n",
       "      <th></th>\n",
       "      <th></th>\n",
       "      <th></th>\n",
       "      <th></th>\n",
       "      <th></th>\n",
       "    </tr>\n",
       "  </thead>\n",
       "  <tbody>\n",
       "    <tr>\n",
       "      <th>0.000156</th>\n",
       "      <td>&lt;idle&gt;</td>\n",
       "      <td>1</td>\n",
       "      <td>0</td>\n",
       "      <td>sudo</td>\n",
       "      <td>1376</td>\n",
       "      <td>120</td>\n",
       "      <td>swapper/1</td>\n",
       "      <td>0</td>\n",
       "      <td>120</td>\n",
       "      <td>0</td>\n",
       "    </tr>\n",
       "    <tr>\n",
       "      <th>0.000217</th>\n",
       "      <td>trace-cmd</td>\n",
       "      <td>0</td>\n",
       "      <td>1377</td>\n",
       "      <td>swapper/0</td>\n",
       "      <td>0</td>\n",
       "      <td>120</td>\n",
       "      <td>trace-cmd</td>\n",
       "      <td>1377</td>\n",
       "      <td>120</td>\n",
       "      <td>64</td>\n",
       "    </tr>\n",
       "    <tr>\n",
       "      <th>0.001509</th>\n",
       "      <td>&lt;idle&gt;</td>\n",
       "      <td>2</td>\n",
       "      <td>0</td>\n",
       "      <td>sh</td>\n",
       "      <td>1074</td>\n",
       "      <td>120</td>\n",
       "      <td>swapper/2</td>\n",
       "      <td>0</td>\n",
       "      <td>120</td>\n",
       "      <td>0</td>\n",
       "    </tr>\n",
       "    <tr>\n",
       "      <th>0.001524</th>\n",
       "      <td>sudo</td>\n",
       "      <td>1</td>\n",
       "      <td>1376</td>\n",
       "      <td>swapper/1</td>\n",
       "      <td>0</td>\n",
       "      <td>120</td>\n",
       "      <td>sudo</td>\n",
       "      <td>1376</td>\n",
       "      <td>120</td>\n",
       "      <td>64</td>\n",
       "    </tr>\n",
       "    <tr>\n",
       "      <th>0.001885</th>\n",
       "      <td>sh</td>\n",
       "      <td>2</td>\n",
       "      <td>1074</td>\n",
       "      <td>swapper/2</td>\n",
       "      <td>0</td>\n",
       "      <td>120</td>\n",
       "      <td>sh</td>\n",
       "      <td>1074</td>\n",
       "      <td>120</td>\n",
       "      <td>1</td>\n",
       "    </tr>\n",
       "  </tbody>\n",
       "</table>\n",
       "</div>"
      ],
      "text/plain": [
       "             __comm  __cpu  __pid  next_comm  next_pid  next_prio  prev_comm  \\\n",
       "Time                                                                           \n",
       "0.000156     <idle>      1      0       sudo      1376        120  swapper/1   \n",
       "0.000217  trace-cmd      0   1377  swapper/0         0        120  trace-cmd   \n",
       "0.001509     <idle>      2      0         sh      1074        120  swapper/2   \n",
       "0.001524       sudo      1   1376  swapper/1         0        120       sudo   \n",
       "0.001885         sh      2   1074  swapper/2         0        120         sh   \n",
       "\n",
       "          prev_pid  prev_prio  prev_state  \n",
       "Time                                       \n",
       "0.000156         0        120           0  \n",
       "0.000217      1377        120          64  \n",
       "0.001509         0        120           0  \n",
       "0.001524      1376        120          64  \n",
       "0.001885      1074        120           1  "
      ]
     },
     "execution_count": 30,
     "metadata": {},
     "output_type": "execute_result"
    }
   ],
   "source": [
    "# Focus on sched_switch events\n",
    "df = ftrace.sched_switch.data_frame\n",
    "\n",
    "# # Select only interesting columns\n",
    "# df = df.ix[:,'next_comm':'prev_state']\n",
    "\n",
    "# # Group sched_switch event by task switching into the CPU\n",
    "# df = df.groupby('next_pid').describe(include=['object'])\n",
    "# df = df.unstack()\n",
    "\n",
    "# # Sort sched_switch events by number of time a task switch into the CPU\n",
    "# df = df['next_comm'].sort_values(by=['count'], ascending=False)\n",
    "\n",
    "df.head()\n",
    "\n",
    "# # Get topmost task name and PID\n",
    "# most_switching_pid  = df.index[1]\n",
    "# most_switching_task = df.values[1][2]\n",
    "# task_name = \"{}:{}\".format(most_switching_pid, most_switching_task)\n",
    "\n",
    "# # Print result\n",
    "# logging.info(\"The most swithing task is: [%s]\", task_name)"
   ]
  },
  {
   "cell_type": "markdown",
   "metadata": {},
   "source": [
    "## What are the relative residency on different OPPs?"
   ]
  },
  {
   "cell_type": "code",
   "execution_count": 42,
   "metadata": {
    "collapsed": false
   },
   "outputs": [
    {
     "name": "stderr",
     "output_type": "stream",
     "text": [
      "05:43:41  INFO    : Residency time per OPP:\n",
      "05:43:41  INFO    : Freq     450000Hz :  61.1%\n",
      "05:43:41  INFO    : Freq     800000Hz :  33.1%\n",
      "05:43:41  INFO    : Freq     950000Hz :   5.8%\n"
     ]
    }
   ],
   "source": [
    "# Focus on cpu_frequency events for CPU0\n",
    "df = ftrace.cpu_frequency.data_frame\n",
    "df = df[df.cpu == 0]\n",
    "\n",
    "# # Compute the residency on each OPP before switching to the next one\n",
    "# df.loc[:,'start'] = df.index\n",
    "# df.loc[:,'delta'] = (df['start'] - df['start'].shift()).fillna(0).shift(-1)\n",
    "\n",
    "# # Group by frequency and sum-up the deltas\n",
    "# freq_residencies = df.groupby('frequency')['delta'].sum()\n",
    "# logging.info(\"Residency time per OPP:\")\n",
    "# df = pd.DataFrame(freq_residencies)\n",
    "\n",
    "df.head()\n",
    "\n",
    "# # Compute the relative residency time\n",
    "# tot = sum(freq_residencies)\n",
    "# #df = df.apply(lambda delta : 100*delta/tot)\n",
    "# for f in freq_residencies.index:\n",
    "#     logging.info(\"Freq %10dHz : %5.1f%%\", f, 100*freq_residencies[f]/tot)"
   ]
  },
  {
   "cell_type": "code",
   "execution_count": 47,
   "metadata": {
    "collapsed": false
   },
   "outputs": [
    {
     "name": "stdout",
     "output_type": "stream",
     "text": [
      "Populating the interactive namespace from numpy and matplotlib\n"
     ]
    },
    {
     "name": "stderr",
     "output_type": "stream",
     "text": [
      "WARNING: pylab import has clobbered these variables: ['axes']\n",
      "`%matplotlib` prevents importing * from pylab and numpy\n"
     ]
    },
    {
     "data": {
      "image/png": "[encoded data removed]",
      "text/plain": [
       "<matplotlib.figure.Figure at 0x7fa24e11d710>"
      ]
     },
     "metadata": {},
     "output_type": "display_data"
    }
   ],
   "source": [
    "# Plot residency time\n",
    "import matplotlib.pyplot as plt\n",
    "# Enable generation of Notebook emebedded plots\n",
    "%matplotlib inline\n",
    "\n",
    "fig, axes = plt.subplots(1, 1, figsize=(16, 5));\n",
    "df.plot(kind='bar', ax=axes);"
   ]
  },
  {
   "cell_type": "markdown",
   "metadata": {},
   "source": [
    "# Example of Custom Plotting"
   ]
  },
  {
   "cell_type": "code",
   "execution_count": 31,
   "metadata": {
    "collapsed": false
   },
   "outputs": [],
   "source": [
    "from perf_analysis import PerfAnalysis\n",
    "\n",
    "# Full analysis function\n",
    "def analysis(t_min=None, t_max=None):\n",
    "    test_dir = te.res_dir\n",
    "    platform_json = '{}/platform.json'.format(test_dir)\n",
    "    trace_file = '{}/trace.dat'.format(test_dir)\n",
    "    \n",
    "    # Load platform description data\n",
    "    with open(platform_json, 'r') as fh:\n",
    "        platform = json.load(fh)\n",
    "\n",
    "    # Load RTApp Performance data\n",
    "    pa = PerfAnalysis(test_dir)\n",
    "    logging.info(\"Loaded performance data for tasks: %s\", pa.tasks())\n",
    "    \n",
    "    # Load Trace data\n",
    "    #events = my_tests_conf['ftrace']['events']\n",
    "    events = [\n",
    "            \"sched_switch\",\n",
    "            \"sched_contrib_scale_f\",\n",
    "            \"sched_load_avg_cpu\",\n",
    "            \"sched_load_avg_task\",\n",
    "            \"cpu_frequency\",\n",
    "            \"cpu_capacity\",\n",
    "    ]\n",
    "    trace = Trace(platform, test_dir, events, tasks=pa.tasks())\n",
    "    \n",
    "    # Define time ranges for all the temporal plots\n",
    "    trace.setXTimeRange(t_min, t_max)\n",
    "    \n",
    "    # Tasks performances plots\n",
    "    for task in pa.tasks():\n",
    "        pa.plotPerf(task)\n",
    "    \n",
    "    # Tasks plots\n",
    "    trace.analysis.tasks.plotTasks()\n",
    "\n",
    "    # Cluster and CPUs plots\n",
    "    trace.analysis.frequency.plotClusterFrequencies()"
   ]
  },
  {
   "cell_type": "code",
   "execution_count": 32,
   "metadata": {
    "collapsed": false,
    "scrolled": false
   },
   "outputs": [
    {
     "name": "stderr",
     "output_type": "stream",
     "text": [
      "06:30:36  INFO    : Loaded performance data for tasks: ['task_lrh']\n",
      "06:30:37  INFO    :   task         task_lrh found, pid: [1388]\n",
      "06:30:37  INFO    : Collected events spans a 11.783 [s] time interval\n",
      "06:30:37  INFO    : Set plots time range to (0.000000, 11.782671)[s]\n",
      "06:30:37  INFO    : Set plots time range to (0.000000, 11.782671)[s]\n",
      "06:30:37  INFO    : PerfIndex, Task [task_lrh] avg: 0.80, std: 0.12\n",
      "06:30:38  INFO    :   task         task_lrh found, pid: [1388]\n",
      "06:30:38  WARNING : Events [sched_overutilized] not found, plot DISABLED!\n",
      "06:30:38  WARNING : Events [sched_overutilized] not found, plot DISABLED!\n",
      "06:30:38  WARNING : Events [sched_overutilized] not found, plot DISABLED!\n",
      "06:30:38  WARNING : Events [sched_overutilized] not found, plot DISABLED!\n",
      "06:30:38  WARNING : Events [sched_overutilized] not found, plot DISABLED!\n",
      "06:30:39  INFO    : LITTLE cluster average frequency: 0.595 GHz\n",
      "06:30:39  INFO    : big    cluster average frequency: 0.628 GHz\n"
     ]
    },
    {
     "data": {
      "image/png": "[encoded data removed]",
      "text/plain": [
       "<matplotlib.figure.Figure at 0x7f9affccd990>"
      ]
     },
     "metadata": {},
     "output_type": "display_data"
    },
    {
     "data": {
      "image/png": "[encoded data removed]",
      "text/plain": [
       "<matplotlib.figure.Figure at 0x7f9aff0a02d0>"
      ]
     },
     "metadata": {},
     "output_type": "display_data"
    },
    {
     "data": {
      "image/png": "[encoded data removed]",
      "text/plain": [
       "<matplotlib.figure.Figure at 0x7f9afdcd3cd0>"
      ]
     },
     "metadata": {},
     "output_type": "display_data"
    }
   ],
   "source": [
    "analysis()"
   ]
  },
  {
   "cell_type": "markdown",
   "metadata": {},
   "source": [
    "<br><br><br><br>\n",
    "Advanced TraceAnalysis and PerfAnalysis usage: use pre-defined functions to plot trace data and RTApp performance metrics<br>\n",
    "[notebooks/tutorial/06_TraceAnalysis.ipynb](06_TraceAnalysis.ipynb)\n",
    "<br>\n",
    "[notebooks/tutorial/07_PerfAnalysis.ipynb](07_PerfAnalysis.ipynb)\n",
    "<br><br><br><br>"
   ]
  }
 ],
 "metadata": {
  "kernelspec": {
   "display_name": "Python 2",
   "language": "python",
   "name": "python2"
  },
  "language_info": {
   "codemirror_mode": {
    "name": "ipython",
    "version": 2
   },
   "file_extension": ".py",
   "mimetype": "text/x-python",
   "name": "python",
   "nbconvert_exporter": "python",
   "pygments_lexer": "ipython2",
   "version": "2.7.9"
  },
  "toc": {
   "toc_cell": false,
   "toc_number_sections": true,
   "toc_threshold": 6,
   "toc_window_display": false
  }
 },
 "nbformat": 4,
 "nbformat_minor": 0
}
