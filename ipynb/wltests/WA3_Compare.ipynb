{
 "cells": [
  {
   "cell_type": "markdown",
   "metadata": {},
   "source": [
    "# Example use of `WaResultsCollector`\n",
    "`WaResultsCollector` collects, analyses and visualises results from Workload Automation 3. Let's look at its docstring."
   ]
  },
  {
   "cell_type": "code",
   "execution_count": null,
   "metadata": {
    "collapsed": true
   },
   "outputs": [],
   "source": [
    "import logging\n",
    "from IPython.display import display\n",
    "\n",
    "from wa_results_collector import WaResultsCollector"
   ]
  },
  {
   "cell_type": "code",
   "execution_count": null,
   "metadata": {},
   "outputs": [],
   "source": [
    "from conf import LisaLogging\n",
    "LisaLogging.setup()"
   ]
  },
  {
   "cell_type": "code",
   "execution_count": null,
   "metadata": {},
   "outputs": [],
   "source": [
    "print WaResultsCollector.__doc__"
   ]
  },
  {
   "cell_type": "code",
   "execution_count": null,
   "metadata": {
    "collapsed": true
   },
   "outputs": [],
   "source": [
    "# You can configure the logging level for the WaResultsCollector\n",
    "# by tuning its loglevel setting in the LISA_HOME/config.log"
   ]
  },
  {
   "cell_type": "markdown",
   "metadata": {},
   "source": [
    "# Results collection\n",
    "\n",
    "If you have a LISA platform description for the platform the tests were run on, you can set it here to get extra metrics from trace analysis. If you set it to `None` you will still be able to anlyse all the non-trace-derived metrics."
   ]
  },
  {
   "cell_type": "code",
   "execution_count": null,
   "metadata": {
    "collapsed": true
   },
   "outputs": [],
   "source": [
    "from libs.utils.platforms import hikey960\n",
    "# platform = hikey960\n",
    "platform = None"
   ]
  },
  {
   "cell_type": "code",
   "execution_count": null,
   "metadata": {
    "scrolled": false
   },
   "outputs": [],
   "source": [
    "collector = WaResultsCollector(base_dir='../../results/wltests/', # Base path of your results folders\n",
    "                               #wa_dirs='(substring_to_match)',   # Parse only folder matching this regexp\n",
    "                               #parse_traces=False,               # Disable traces parsing if you don't care about trace metrics\n",
    "                               platform=platform,\n",
    "                               kernel_repo_path='~/sources/linux')"
   ]
  },
  {
   "cell_type": "markdown",
   "metadata": {},
   "source": [
    "# Collected Metrics"
   ]
  },
  {
   "cell_type": "code",
   "execution_count": null,
   "metadata": {},
   "outputs": [],
   "source": [
    "df = collector.results_df\n",
    "logging.info(\"Metrics available for plots and analysis:\")\n",
    "for metric in df.metric.unique().tolist():\n",
    "    logging.info(\"   %s\", metric)"
   ]
  },
  {
   "cell_type": "markdown",
   "metadata": {},
   "source": [
    "# Jankbench"
   ]
  },
  {
   "cell_type": "markdown",
   "metadata": {},
   "source": [
    "## Total Frame Duration"
   ]
  },
  {
   "cell_type": "code",
   "execution_count": null,
   "metadata": {
    "collapsed": true
   },
   "outputs": [],
   "source": [
    "for test in collector.tests(workload='jankbench'):\n",
    "    logging.info(\"Results for: %s\", test)\n",
    "    collector.report(workload='jankbench', metric='frame_total_duration',\n",
    "                     test=test, sort_on='99%', ascending=True)"
   ]
  },
  {
   "cell_type": "markdown",
   "metadata": {},
   "source": [
    "## Energy"
   ]
  },
  {
   "cell_type": "code",
   "execution_count": null,
   "metadata": {
    "scrolled": false
   },
   "outputs": [],
   "source": [
    "for test in collector.tests(workload='jankbench'):\n",
    "    logging.info(\"Results for: %s\", test)\n",
    "    collector.report(workload='jankbench', metric='device_total_energy',\n",
    "                     test=test, sort_on='99%', ascending=True)"
   ]
  },
  {
   "cell_type": "markdown",
   "metadata": {},
   "source": [
    "## Frames Duration CDF"
   ]
  },
  {
   "cell_type": "code",
   "execution_count": null,
   "metadata": {
    "scrolled": false
   },
   "outputs": [],
   "source": [
    "for test in collector.tests(workload='jankbench'):\n",
    "    logging.info(\"Results for: %s\", test)\n",
    "    collector.plot_cdf(workload='jankbench', metric='frame_total_duration', test=test, threshold=16)"
   ]
  },
  {
   "cell_type": "markdown",
   "metadata": {},
   "source": [
    "# Exoplayer"
   ]
  },
  {
   "cell_type": "markdown",
   "metadata": {},
   "source": [
    "## Dropper Frames"
   ]
  },
  {
   "cell_type": "code",
   "execution_count": null,
   "metadata": {},
   "outputs": [],
   "source": [
    "for test in collector.tests(workload='exoplayer'):\n",
    "    logging.info(\"Results for: %s\", test)\n",
    "    collector.report(workload='exoplayer', metric='exoplayer_dropped_frames',\n",
    "                     test=test, sort_on='99%', ascending=True)"
   ]
  },
  {
   "cell_type": "markdown",
   "metadata": {},
   "source": [
    "## Energy"
   ]
  },
  {
   "cell_type": "code",
   "execution_count": null,
   "metadata": {},
   "outputs": [],
   "source": [
    "for test in collector.tests(workload='exoplayer'):\n",
    "    logging.info(\"Results for: %s\", test)\n",
    "    collector.report(workload='exoplayer', metric='device_total_energy',\n",
    "                     test=test, sort_on='99%', ascending=True)"
   ]
  },
  {
   "cell_type": "markdown",
   "metadata": {},
   "source": [
    "# Generic comparison plots\n",
    "`plot_comparisons` can be used to automatically discover metrics that changed between different kernel versions or tags. "
   ]
  },
  {
   "cell_type": "code",
   "execution_count": null,
   "metadata": {
    "scrolled": false
   },
   "outputs": [],
   "source": [
    "collector.plot_comparisons(base_id=df['kernel'].iloc[0], by='kernel')"
   ]
  }
 ],
 "metadata": {
  "kernelspec": {
   "display_name": "Python 2",
   "language": "python",
   "name": "python2"
  },
  "language_info": {
   "codemirror_mode": {
    "name": "ipython",
    "version": 2
   },
   "file_extension": ".py",
   "mimetype": "text/x-python",
   "name": "python",
   "nbconvert_exporter": "python",
   "pygments_lexer": "ipython2",
   "version": "2.7.12"
  },
  "toc": {
   "colors": {
    "hover_highlight": "#DAA520",
    "running_highlight": "#FF0000",
    "selected_highlight": "#FFD700"
   },
   "moveMenuLeft": true,
   "nav_menu": {
    "height": "100px",
    "width": "252px"
   },
   "navigate_menu": true,
   "number_sections": true,
   "sideBar": true,
   "threshold": 4,
   "toc_cell": false,
   "toc_section_display": "block",
   "toc_window_display": false
  }
 },
 "nbformat": 4,
 "nbformat_minor": 2
}
