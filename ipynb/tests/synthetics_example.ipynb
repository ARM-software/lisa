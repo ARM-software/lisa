{
 "cells": [
  {
   "cell_type": "markdown",
   "metadata": {},
   "source": [
    "# Synthetic test example"
   ]
  },
  {
   "cell_type": "code",
   "execution_count": 1,
   "metadata": {},
   "outputs": [
    {
     "name": "stderr",
     "output_type": "stream",
     "text": [
      "2019-02-25 18:48:50,380 INFO    : root         : Using LISA logging configuration:\n",
      "2019-02-25 18:48:50,380 INFO    : root         :   lisa/remove_testenv/logging.conf\n"
     ]
    }
   ],
   "source": [
    "import logging\n",
    "from lisa.utils import setup_logging\n",
    "setup_logging()"
   ]
  },
  {
   "cell_type": "markdown",
   "metadata": {},
   "source": [
    "# Target configuration"
   ]
  },
  {
   "cell_type": "code",
   "execution_count": 2,
   "metadata": {},
   "outputs": [],
   "source": [
    "from lisa.target import Target, TargetConf"
   ]
  },
  {
   "cell_type": "code",
   "execution_count": 3,
   "metadata": {},
   "outputs": [
    {
     "name": "stderr",
     "output_type": "stream",
     "text": [
      "2019-02-25 18:48:50,919 INFO    : lisa.target.Target : Creating result directory: lisa/remove_testenv/results/Target-myhikey960-20190225_184850.919127\n",
      "2019-02-25 18:48:50,921 INFO    : lisa.target.Target : linux myhikey960 target connection settings:\n",
      "2019-02-25 18:48:50,921 INFO    : lisa.target.Target :   username : root\n",
      "2019-02-25 18:48:50,922 INFO    : lisa.target.Target :       port : 22\n",
      "2019-02-25 18:48:50,923 INFO    : lisa.target.Target :       host : pwrsft-hikey960-1\n",
      "2019-02-25 18:48:50,923 INFO    : lisa.target.Target :   password : root\n",
      "2019-02-25 18:48:50,930 INFO    : lisa.target.Target : Devlib modules to load: bl, cgroups, cpufreq, cpuidle, devfreq, fastboot, gem5stats, gpufreq, hotplug, hwmon, mbed-fan, odroidxu3-fan, sched, thermal\n",
      "2019-02-25 18:48:55,551 WARNING : LinuxTarget  : Module devfreq is not supported by the target\n",
      "2019-02-25 18:48:55,553 WARNING : LinuxTarget  : Module fastboot is not supported by the target\n",
      "2019-02-25 18:48:55,554 WARNING : LinuxTarget  : Module gem5stats is not supported by the target\n",
      "2019-02-25 18:48:55,718 WARNING : LinuxTarget  : Module gpufreq is not supported by the target\n",
      "2019-02-25 18:48:56,410 WARNING : LinuxTarget  : Module odroidxu3-fan is not supported by the target\n",
      "2019-02-25 18:48:58,336 INFO    : CGroups      : Available controllers:\n",
      "2019-02-25 18:48:58,837 INFO    : CGroups      :   cpuset       : /root/devlib-target/cgroups/devlib_cgh1\n",
      "2019-02-25 18:48:59,341 INFO    : CGroups      :   cpu          : /root/devlib-target/cgroups/devlib_cgh1\n",
      "2019-02-25 18:48:59,841 INFO    : CGroups      :   cpuacct      : /root/devlib-target/cgroups/devlib_cgh1\n",
      "2019-02-25 18:49:00,343 INFO    : CGroups      :   blkio        : /root/devlib-target/cgroups/devlib_cgh1\n",
      "2019-02-25 18:49:00,845 INFO    : CGroups      :   memory       : /root/devlib-target/cgroups/devlib_cgh1\n",
      "2019-02-25 18:49:01,348 INFO    : CGroups      :   devices      : /root/devlib-target/cgroups/devlib_cgh1\n",
      "2019-02-25 18:49:01,851 INFO    : CGroups      :   freezer      : /root/devlib-target/cgroups/devlib_cgh1\n",
      "2019-02-25 18:49:02,352 INFO    : CGroups      :   perf_event   : /root/devlib-target/cgroups/devlib_cgh1\n",
      "2019-02-25 18:49:02,853 INFO    : CGroups      :   hugetlb      : /root/devlib-target/cgroups/devlib_cgh1\n",
      "2019-02-25 18:49:03,354 INFO    : CGroups      :   pids         : /root/devlib-target/cgroups/devlib_cgh1\n",
      "2019-02-25 18:49:03,521 WARNING : lisa.target.Target : Failed to initialized \"devfreq\" devlib Module\n",
      "2019-02-25 18:49:03,523 WARNING : lisa.target.Target : Failed to initialized \"fastboot\" devlib Module\n",
      "2019-02-25 18:49:03,523 WARNING : lisa.target.Target : Failed to initialized \"gem5stats\" devlib Module\n",
      "2019-02-25 18:49:03,524 WARNING : lisa.target.Target : Failed to initialized \"gpufreq\" devlib Module\n",
      "2019-02-25 18:49:03,524 WARNING : lisa.target.Target : Failed to initialized \"mbed-fan\" devlib Module\n",
      "2019-02-25 18:49:03,525 WARNING : lisa.target.Target : Failed to initialized \"odroidxu3-fan\" devlib Module\n",
      "2019-02-25 18:49:03,526 INFO    : lisa.platforms.platinfo.PlatformInfo : Attempting to read energy model from target\n",
      "2019-02-25 18:49:04,186 INFO    : lisa.energy_model.EnergyModel.EMReader : Attempting to load EM using from_debugfsEM_target\n",
      "2019-02-25 18:49:09,844 INFO    : lisa.target.Target : Effective platform information:\n",
      "|- abi from target (str): arm64\n",
      "|- cpu-capacities from target (dict): {0: 462, 1: 462, 2: 462, 3: 462, 4: 1024, 5: 1024, 6: 1024, 7: 1024}\n",
      "|- cpus-count from target (int): 8\n",
      "|- freq-domains from target (list): [[0, 1, 2, 3], [4, 5, 6, 7]]\n",
      "|- freqs from target (dict): {0: [533000, 999000, 1402000, 1709000, 1844000], 1: [533000, 999000, 1402000, 1709000, 1844000], 2: [533000, 999000, 1402000, 1709000, 1844000], 3: [533000, 999000, 1402000, 1709000, 1844000], 4: [903000, 1421000, 1805000, 2112000, 2362000], 5: [903000, 1421000, 1805000, 2112000, 2362000], 6: [903000, 1421000, 1805000, 2112000, 2362000], 7: [903000, 1421000, 1805000, 2112000, 2362000]}\n",
      "+- kernel:\n",
      "    |- config from target (TypedKernelConfig): <kernel config>\n",
      "    |- version from target (KernelVersion): 5.0.0-rc6 27 SMP PREEMPT Tue Feb 19 17:28:19 GMT 2019\n",
      "|- name from target-conf (str): myhikey960\n",
      "|- nrg-model from target (EnergyModel): <lisa.energy_model.EnergyModel object at 0x7f1a4e2ce7b8>\n",
      "|- os from target (str): linux\n",
      "+- rtapp:\n",
      "    |- calib from target (DeferredValue): <lazy value of RTA.get_cpu_calibrations>\n",
      "|- capacity-classes from target(platform-info/cpu-capacities) (list): [[0, 1, 2, 3], [4, 5, 6, 7]]\n"
     ]
    }
   ],
   "source": [
    "# target = Target(\n",
    "#     kind='linux',\n",
    "#     name='myhikey960',    \n",
    "#     host='192.168.0.1',\n",
    "#     username='root',\n",
    "#     password='root',\n",
    "# )\n",
    "# Uses settings from target_conf.yml\n",
    "target = Target.from_default_conf()"
   ]
  },
  {
   "cell_type": "markdown",
   "metadata": {},
   "source": [
    "# Live target experimentation"
   ]
  },
  {
   "cell_type": "code",
   "execution_count": 4,
   "metadata": {},
   "outputs": [],
   "source": [
    "from lisa.tests.scheduler.eas_behaviour import EnergyModelWakeMigration"
   ]
  },
  {
   "cell_type": "markdown",
   "metadata": {},
   "source": [
    "We want to create a TestBundle from a live target, so we can use the **from_target** alternative constructor:"
   ]
  },
  {
   "cell_type": "code",
   "execution_count": 5,
   "metadata": {
    "scrolled": true
   },
   "outputs": [
    {
     "name": "stderr",
     "output_type": "stream",
     "text": [
      "2019-02-25 18:49:10,599 INFO    : lisa.target.Target : Creating result directory: lisa/remove_testenv/results/Target-myhikey960-20190225_184850.919127/EnergyModelWakeMigration-20190225_184910.599696\n",
      "2019-02-25 18:49:23,489 INFO    : lisa.wlgen.rta.RTA : CPU0 calibration...\n",
      "2019-02-25 18:49:23,801 INFO    : lisa.wlgen.rta.RTA : Calibration value: CPU0\n",
      "2019-02-25 18:49:23,802 INFO    : lisa.wlgen.rta.RTA : Default policy: SCHED_OTHER\n",
      "2019-02-25 18:49:23,803 INFO    : lisa.wlgen.rta.RTA : ------------------------\n",
      "2019-02-25 18:49:23,804 INFO    : lisa.wlgen.rta.RTA : task [task1], sched: using default policy\n",
      "2019-02-25 18:49:23,805 INFO    : lisa.wlgen.rta.RTA :  | start delay: 0.000000 [s]\n",
      "2019-02-25 18:49:23,806 INFO    : lisa.wlgen.rta.RTA :  | loops count: 1\n",
      "2019-02-25 18:49:23,807 INFO    : lisa.wlgen.rta.RTA :  + phase_000001\n",
      "2019-02-25 18:49:23,808 INFO    : lisa.wlgen.rta.Phase :  | batch 0.001000 [s]\n",
      "2019-02-25 18:49:23,995 INFO    : lisa.wlgen.rta.RTA : Execution start: /root/devlib-target/bin/rt-app /root/devlib-target/rta_calib_cpu0.json 2>&1\n",
      "2019-02-25 18:49:30,503 INFO    : lisa.wlgen.rta.RTA : Execution complete\n",
      "2019-02-25 18:49:30,695 INFO    : lisa.wlgen.rta.RTA : CPU1 calibration...\n",
      "2019-02-25 18:49:31,008 INFO    : lisa.wlgen.rta.RTA : Calibration value: CPU1\n",
      "2019-02-25 18:49:31,009 INFO    : lisa.wlgen.rta.RTA : Default policy: SCHED_OTHER\n",
      "2019-02-25 18:49:31,009 INFO    : lisa.wlgen.rta.RTA : ------------------------\n",
      "2019-02-25 18:49:31,010 INFO    : lisa.wlgen.rta.RTA : task [task1], sched: using default policy\n",
      "2019-02-25 18:49:31,011 INFO    : lisa.wlgen.rta.RTA :  | start delay: 0.000000 [s]\n",
      "2019-02-25 18:49:31,011 INFO    : lisa.wlgen.rta.RTA :  | loops count: 1\n",
      "2019-02-25 18:49:31,012 INFO    : lisa.wlgen.rta.RTA :  + phase_000001\n",
      "2019-02-25 18:49:31,013 INFO    : lisa.wlgen.rta.Phase :  | batch 0.001000 [s]\n",
      "2019-02-25 18:49:31,207 INFO    : lisa.wlgen.rta.RTA : Execution start: /root/devlib-target/bin/rt-app /root/devlib-target/rta_calib_cpu1.json 2>&1\n",
      "2019-02-25 18:49:38,781 INFO    : lisa.wlgen.rta.RTA : Execution complete\n",
      "2019-02-25 18:49:38,963 INFO    : lisa.wlgen.rta.RTA : CPU2 calibration...\n",
      "2019-02-25 18:49:39,275 INFO    : lisa.wlgen.rta.RTA : Calibration value: CPU2\n",
      "2019-02-25 18:49:39,277 INFO    : lisa.wlgen.rta.RTA : Default policy: SCHED_OTHER\n",
      "2019-02-25 18:49:39,278 INFO    : lisa.wlgen.rta.RTA : ------------------------\n",
      "2019-02-25 18:49:39,280 INFO    : lisa.wlgen.rta.RTA : task [task1], sched: using default policy\n",
      "2019-02-25 18:49:39,281 INFO    : lisa.wlgen.rta.RTA :  | start delay: 0.000000 [s]\n",
      "2019-02-25 18:49:39,281 INFO    : lisa.wlgen.rta.RTA :  | loops count: 1\n",
      "2019-02-25 18:49:39,282 INFO    : lisa.wlgen.rta.RTA :  + phase_000001\n",
      "2019-02-25 18:49:39,282 INFO    : lisa.wlgen.rta.Phase :  | batch 0.001000 [s]\n",
      "2019-02-25 18:49:39,461 INFO    : lisa.wlgen.rta.RTA : Execution start: /root/devlib-target/bin/rt-app /root/devlib-target/rta_calib_cpu2.json 2>&1\n",
      "2019-02-25 18:49:45,968 INFO    : lisa.wlgen.rta.RTA : Execution complete\n",
      "2019-02-25 18:49:46,153 INFO    : lisa.wlgen.rta.RTA : CPU3 calibration...\n",
      "2019-02-25 18:49:46,465 INFO    : lisa.wlgen.rta.RTA : Calibration value: CPU3\n",
      "2019-02-25 18:49:46,466 INFO    : lisa.wlgen.rta.RTA : Default policy: SCHED_OTHER\n",
      "2019-02-25 18:49:46,466 INFO    : lisa.wlgen.rta.RTA : ------------------------\n",
      "2019-02-25 18:49:46,467 INFO    : lisa.wlgen.rta.RTA : task [task1], sched: using default policy\n",
      "2019-02-25 18:49:46,468 INFO    : lisa.wlgen.rta.RTA :  | start delay: 0.000000 [s]\n",
      "2019-02-25 18:49:46,468 INFO    : lisa.wlgen.rta.RTA :  | loops count: 1\n",
      "2019-02-25 18:49:46,469 INFO    : lisa.wlgen.rta.RTA :  + phase_000001\n",
      "2019-02-25 18:49:46,470 INFO    : lisa.wlgen.rta.Phase :  | batch 0.001000 [s]\n",
      "2019-02-25 18:49:46,661 INFO    : lisa.wlgen.rta.RTA : Execution start: /root/devlib-target/bin/rt-app /root/devlib-target/rta_calib_cpu3.json 2>&1\n",
      "2019-02-25 18:49:53,170 INFO    : lisa.wlgen.rta.RTA : Execution complete\n",
      "2019-02-25 18:49:53,363 INFO    : lisa.wlgen.rta.RTA : CPU4 calibration...\n",
      "2019-02-25 18:49:53,677 INFO    : lisa.wlgen.rta.RTA : Calibration value: CPU4\n",
      "2019-02-25 18:49:53,679 INFO    : lisa.wlgen.rta.RTA : Default policy: SCHED_OTHER\n",
      "2019-02-25 18:49:53,681 INFO    : lisa.wlgen.rta.RTA : ------------------------\n",
      "2019-02-25 18:49:53,683 INFO    : lisa.wlgen.rta.RTA : task [task1], sched: using default policy\n",
      "2019-02-25 18:49:53,685 INFO    : lisa.wlgen.rta.RTA :  | start delay: 0.000000 [s]\n",
      "2019-02-25 18:49:53,686 INFO    : lisa.wlgen.rta.RTA :  | loops count: 1\n",
      "2019-02-25 18:49:53,688 INFO    : lisa.wlgen.rta.RTA :  + phase_000001\n",
      "2019-02-25 18:49:53,690 INFO    : lisa.wlgen.rta.Phase :  | batch 0.001000 [s]\n",
      "2019-02-25 18:49:53,881 INFO    : lisa.wlgen.rta.RTA : Execution start: /root/devlib-target/bin/rt-app /root/devlib-target/rta_calib_cpu4.json 2>&1\n",
      "2019-02-25 18:50:01,255 INFO    : lisa.wlgen.rta.RTA : Execution complete\n",
      "2019-02-25 18:50:01,450 INFO    : lisa.wlgen.rta.RTA : CPU5 calibration...\n",
      "2019-02-25 18:50:01,763 INFO    : lisa.wlgen.rta.RTA : Calibration value: CPU5\n",
      "2019-02-25 18:50:01,763 INFO    : lisa.wlgen.rta.RTA : Default policy: SCHED_OTHER\n",
      "2019-02-25 18:50:01,764 INFO    : lisa.wlgen.rta.RTA : ------------------------\n",
      "2019-02-25 18:50:01,765 INFO    : lisa.wlgen.rta.RTA : task [task1], sched: using default policy\n",
      "2019-02-25 18:50:01,766 INFO    : lisa.wlgen.rta.RTA :  | start delay: 0.000000 [s]\n",
      "2019-02-25 18:50:01,767 INFO    : lisa.wlgen.rta.RTA :  | loops count: 1\n",
      "2019-02-25 18:50:01,768 INFO    : lisa.wlgen.rta.RTA :  + phase_000001\n",
      "2019-02-25 18:50:01,769 INFO    : lisa.wlgen.rta.Phase :  | batch 0.001000 [s]\n",
      "2019-02-25 18:50:01,957 INFO    : lisa.wlgen.rta.RTA : Execution start: /root/devlib-target/bin/rt-app /root/devlib-target/rta_calib_cpu5.json 2>&1\n",
      "2019-02-25 18:50:09,334 INFO    : lisa.wlgen.rta.RTA : Execution complete\n",
      "2019-02-25 18:50:09,522 INFO    : lisa.wlgen.rta.RTA : CPU6 calibration...\n",
      "2019-02-25 18:50:09,835 INFO    : lisa.wlgen.rta.RTA : Calibration value: CPU6\n",
      "2019-02-25 18:50:09,836 INFO    : lisa.wlgen.rta.RTA : Default policy: SCHED_OTHER\n",
      "2019-02-25 18:50:09,837 INFO    : lisa.wlgen.rta.RTA : ------------------------\n",
      "2019-02-25 18:50:09,838 INFO    : lisa.wlgen.rta.RTA : task [task1], sched: using default policy\n",
      "2019-02-25 18:50:09,840 INFO    : lisa.wlgen.rta.RTA :  | start delay: 0.000000 [s]\n",
      "2019-02-25 18:50:09,841 INFO    : lisa.wlgen.rta.RTA :  | loops count: 1\n",
      "2019-02-25 18:50:09,843 INFO    : lisa.wlgen.rta.RTA :  + phase_000001\n",
      "2019-02-25 18:50:09,844 INFO    : lisa.wlgen.rta.Phase :  | batch 0.001000 [s]\n",
      "2019-02-25 18:50:10,024 INFO    : lisa.wlgen.rta.RTA : Execution start: /root/devlib-target/bin/rt-app /root/devlib-target/rta_calib_cpu6.json 2>&1\n",
      "2019-02-25 18:50:17,401 INFO    : lisa.wlgen.rta.RTA : Execution complete\n",
      "2019-02-25 18:50:17,597 INFO    : lisa.wlgen.rta.RTA : CPU7 calibration...\n",
      "2019-02-25 18:50:17,909 INFO    : lisa.wlgen.rta.RTA : Calibration value: CPU7\n",
      "2019-02-25 18:50:17,911 INFO    : lisa.wlgen.rta.RTA : Default policy: SCHED_OTHER\n",
      "2019-02-25 18:50:17,912 INFO    : lisa.wlgen.rta.RTA : ------------------------\n",
      "2019-02-25 18:50:17,913 INFO    : lisa.wlgen.rta.RTA : task [task1], sched: using default policy\n",
      "2019-02-25 18:50:17,915 INFO    : lisa.wlgen.rta.RTA :  | start delay: 0.000000 [s]\n",
      "2019-02-25 18:50:17,916 INFO    : lisa.wlgen.rta.RTA :  | loops count: 1\n",
      "2019-02-25 18:50:17,917 INFO    : lisa.wlgen.rta.RTA :  + phase_000001\n",
      "2019-02-25 18:50:17,919 INFO    : lisa.wlgen.rta.Phase :  | batch 0.001000 [s]\n",
      "2019-02-25 18:50:18,108 INFO    : lisa.wlgen.rta.RTA : Execution start: /root/devlib-target/bin/rt-app /root/devlib-target/rta_calib_cpu7.json 2>&1\n",
      "2019-02-25 18:50:25,485 INFO    : lisa.wlgen.rta.RTA : Execution complete\n",
      "2019-02-25 18:50:25,684 INFO    : lisa.wlgen.rta.RTA : Target RT-App calibration: {0: 305, 1: 305, 2: 302, 3: 302, 4: 137, 5: 137, 6: 137, 7: 137}\n",
      "2019-02-25 18:50:28,750 INFO    : lisa.wlgen.rta.RTA : Calibration value: 137\n",
      "2019-02-25 18:50:28,751 INFO    : lisa.wlgen.rta.RTA : Default policy: SCHED_OTHER\n",
      "2019-02-25 18:50:28,751 INFO    : lisa.wlgen.rta.RTA : ------------------------\n",
      "2019-02-25 18:50:28,752 INFO    : lisa.wlgen.rta.RTA : task [emwm_0], sched: using default policy\n",
      "2019-02-25 18:50:28,752 INFO    : lisa.wlgen.rta.RTA :  | start delay: 0.000000 [s]\n",
      "2019-02-25 18:50:28,753 INFO    : lisa.wlgen.rta.RTA :  | loops count: 2\n",
      "2019-02-25 18:50:28,754 INFO    : lisa.wlgen.rta.RTA :  + phase_000001\n",
      "2019-02-25 18:50:28,754 INFO    : lisa.wlgen.rta.Phase :  | duration 2.000000 [s] (125 loops)\n",
      "2019-02-25 18:50:28,755 INFO    : lisa.wlgen.rta.Phase :  |  period    16000 [us], duty_cycle   9 %\n",
      "2019-02-25 18:50:28,755 INFO    : lisa.wlgen.rta.Phase :  |  run_time   1440 [us], sleep_time  14560 [us]\n",
      "2019-02-25 18:50:28,756 INFO    : lisa.wlgen.rta.RTA :  + phase_000002\n",
      "2019-02-25 18:50:28,756 INFO    : lisa.wlgen.rta.Phase :  | duration 2.000000 [s] (125 loops)\n",
      "2019-02-25 18:50:28,757 INFO    : lisa.wlgen.rta.Phase :  |  period    16000 [us], duty_cycle  70 %\n",
      "2019-02-25 18:50:28,757 INFO    : lisa.wlgen.rta.Phase :  |  run_time  11200 [us], sleep_time   4800 [us]\n",
      "2019-02-25 18:50:28,758 INFO    : lisa.wlgen.rta.RTA : ------------------------\n",
      "2019-02-25 18:50:28,758 INFO    : lisa.wlgen.rta.RTA : task [emwm_1], sched: using default policy\n",
      "2019-02-25 18:50:28,759 INFO    : lisa.wlgen.rta.RTA :  | start delay: 0.000000 [s]\n",
      "2019-02-25 18:50:28,759 INFO    : lisa.wlgen.rta.RTA :  | loops count: 2\n",
      "2019-02-25 18:50:28,760 INFO    : lisa.wlgen.rta.RTA :  + phase_000001\n",
      "2019-02-25 18:50:28,760 INFO    : lisa.wlgen.rta.Phase :  | duration 2.000000 [s] (125 loops)\n",
      "2019-02-25 18:50:28,761 INFO    : lisa.wlgen.rta.Phase :  |  period    16000 [us], duty_cycle   9 %\n",
      "2019-02-25 18:50:28,762 INFO    : lisa.wlgen.rta.Phase :  |  run_time   1440 [us], sleep_time  14560 [us]\n",
      "2019-02-25 18:50:28,762 INFO    : lisa.wlgen.rta.RTA :  + phase_000002\n",
      "2019-02-25 18:50:28,763 INFO    : lisa.wlgen.rta.Phase :  | duration 2.000000 [s] (125 loops)\n",
      "2019-02-25 18:50:28,763 INFO    : lisa.wlgen.rta.Phase :  |  period    16000 [us], duty_cycle  70 %\n",
      "2019-02-25 18:50:28,764 INFO    : lisa.wlgen.rta.Phase :  |  run_time  11200 [us], sleep_time   4800 [us]\n",
      "2019-02-25 18:50:28,764 INFO    : lisa.wlgen.rta.RTA : ------------------------\n",
      "2019-02-25 18:50:28,765 INFO    : lisa.wlgen.rta.RTA : task [emwm_2], sched: using default policy\n",
      "2019-02-25 18:50:28,765 INFO    : lisa.wlgen.rta.RTA :  | start delay: 0.000000 [s]\n",
      "2019-02-25 18:50:28,765 INFO    : lisa.wlgen.rta.RTA :  | loops count: 2\n",
      "2019-02-25 18:50:28,766 INFO    : lisa.wlgen.rta.RTA :  + phase_000001\n",
      "2019-02-25 18:50:28,766 INFO    : lisa.wlgen.rta.Phase :  | duration 2.000000 [s] (125 loops)\n",
      "2019-02-25 18:50:28,767 INFO    : lisa.wlgen.rta.Phase :  |  period    16000 [us], duty_cycle   9 %\n",
      "2019-02-25 18:50:28,767 INFO    : lisa.wlgen.rta.Phase :  |  run_time   1440 [us], sleep_time  14560 [us]\n",
      "2019-02-25 18:50:28,768 INFO    : lisa.wlgen.rta.RTA :  + phase_000002\n",
      "2019-02-25 18:50:28,768 INFO    : lisa.wlgen.rta.Phase :  | duration 2.000000 [s] (125 loops)\n",
      "2019-02-25 18:50:28,768 INFO    : lisa.wlgen.rta.Phase :  |  period    16000 [us], duty_cycle  70 %\n",
      "2019-02-25 18:50:28,769 INFO    : lisa.wlgen.rta.Phase :  |  run_time  11200 [us], sleep_time   4800 [us]\n",
      "2019-02-25 18:50:28,770 INFO    : lisa.wlgen.rta.RTA : ------------------------\n",
      "2019-02-25 18:50:28,770 INFO    : lisa.wlgen.rta.RTA : task [emwm_3], sched: using default policy\n",
      "2019-02-25 18:50:28,770 INFO    : lisa.wlgen.rta.RTA :  | start delay: 0.000000 [s]\n",
      "2019-02-25 18:50:28,771 INFO    : lisa.wlgen.rta.RTA :  | loops count: 2\n",
      "2019-02-25 18:50:28,771 INFO    : lisa.wlgen.rta.RTA :  + phase_000001\n",
      "2019-02-25 18:50:28,772 INFO    : lisa.wlgen.rta.Phase :  | duration 2.000000 [s] (125 loops)\n",
      "2019-02-25 18:50:28,772 INFO    : lisa.wlgen.rta.Phase :  |  period    16000 [us], duty_cycle   9 %\n",
      "2019-02-25 18:50:28,773 INFO    : lisa.wlgen.rta.Phase :  |  run_time   1440 [us], sleep_time  14560 [us]\n",
      "2019-02-25 18:50:28,773 INFO    : lisa.wlgen.rta.RTA :  + phase_000002\n",
      "2019-02-25 18:50:28,774 INFO    : lisa.wlgen.rta.Phase :  | duration 2.000000 [s] (125 loops)\n",
      "2019-02-25 18:50:28,774 INFO    : lisa.wlgen.rta.Phase :  |  period    16000 [us], duty_cycle  70 %\n",
      "2019-02-25 18:50:28,775 INFO    : lisa.wlgen.rta.Phase :  |  run_time  11200 [us], sleep_time   4800 [us]\n",
      "2019-02-25 18:50:29,033 INFO    : lisa.trace.FtraceCollector : Ftrace configuration:\n",
      "|- buffer-size from default (int): 10240\n",
      "|- events from RTATestBundle (list): ['sched_switch']\n",
      "|- functions from default (list): []\n",
      "2019-02-25 18:50:34,982 INFO    : lisa.target.Target : Freezing all tasks except: init,systemd,dbus,sh,ssh,rsyslogd,jbd2\n",
      "2019-02-25 18:50:36,522 INFO    : lisa.wlgen.rta.RTA : Execution start: /root/devlib-target/bin/rt-app /root/devlib-target/rta_energymodelwakemigration.json 2>&1\n",
      "2019-02-25 18:50:44,777 INFO    : lisa.wlgen.rta.RTA : Execution complete\n",
      "2019-02-25 18:50:45,753 INFO    : lisa.target.Target : Un-freezing userspace tasks\n"
     ]
    }
   ],
   "source": [
    "bundle = EnergyModelWakeMigration.from_target(target)"
   ]
  },
  {
   "cell_type": "markdown",
   "metadata": {},
   "source": [
    "We now have a **Target** instance. We're free to play around with its data, more specifically to execute some tests related to this data:"
   ]
  },
  {
   "cell_type": "code",
   "execution_count": 6,
   "metadata": {},
   "outputs": [
    {
     "name": "stdout",
     "output_type": "stream",
     "text": [
      "PASSED: emwm_2 delayed activations=1.2 %, emwm_0 delayed activations=1.2 %, emwm_1 delayed activations=1.2 %, emwm_3 delayed activations=1.2 %\n"
     ]
    },
    {
     "name": "stderr",
     "output_type": "stream",
     "text": [
      "lisa/remove_testenv/lisa/perf_analysis.py:133: FutureWarning: read_table is deprecated, use read_csv instead.\n",
      "  'Slack', 'CRun', 'CPeriod', 'WKPLatency'\n"
     ]
    }
   ],
   "source": [
    "print(bundle.test_slack())"
   ]
  },
  {
   "cell_type": "markdown",
   "metadata": {},
   "source": [
    "Whenever possible, we want to expose test margins to the end user. Here, we can change the failure threshold, and for the sake of demonstration we'll set it way too low (and expect a failure)"
   ]
  },
  {
   "cell_type": "code",
   "execution_count": 7,
   "metadata": {},
   "outputs": [
    {
     "name": "stdout",
     "output_type": "stream",
     "text": [
      "FAILED: emwm_2 delayed activations=1.2 %, emwm_0 delayed activations=1.2 %, emwm_1 delayed activations=1.2 %, emwm_3 delayed activations=1.2 %\n"
     ]
    }
   ],
   "source": [
    "print(bundle.test_slack(negative_slack_allowed_pct=1))"
   ]
  },
  {
   "cell_type": "markdown",
   "metadata": {},
   "source": [
    "This test also produces a plot, let's run it and have a look"
   ]
  },
  {
   "cell_type": "code",
   "execution_count": 8,
   "metadata": {},
   "outputs": [
    {
     "name": "stdout",
     "output_type": "stream",
     "text": [
      "PASSED: estimated energy=11747.642996651268 bogo-joules, energy threshold=12697.384476751002 bogo-joules\n"
     ]
    }
   ],
   "source": [
    "print(bundle.test_task_placement())"
   ]
  },
  {
   "cell_type": "code",
   "execution_count": 9,
   "metadata": {},
   "outputs": [],
   "source": [
    "bundle.trace.df_all_events()"
   ]
  },
  {
   "cell_type": "code",
   "execution_count": 11,
   "metadata": {},
   "outputs": [],
   "source": [
    "import os\n",
    "from IPython.display import Image"
   ]
  },
  {
   "cell_type": "code",
   "execution_count": 12,
   "metadata": {},
   "outputs": [
    {
     "data": {
      "image/png": "[encoded data removed]",
      "text/plain": [
       "<IPython.core.display.Image object>"
      ]
     },
     "execution_count": 12,
     "metadata": {},
     "output_type": "execute_result"
    }
   ],
   "source": [
    "image_path = os.path.join(bundle.res_dir, \"expected_placement.png\")\n",
    "Image(image_path)"
   ]
  },
  {
   "cell_type": "markdown",
   "metadata": {},
   "source": [
    "# Offline replaying"
   ]
  },
  {
   "cell_type": "markdown",
   "metadata": {},
   "source": [
    "Say someone executed some tests, and ran into some issues. They can create an archive of the results directory and send it your way, and you'll be able to reload it automagically. This also works if you are working on the test code itself, and don't want to re-execute the workload every single time you change the code."
   ]
  },
  {
   "cell_type": "code",
   "execution_count": 13,
   "metadata": {},
   "outputs": [],
   "source": [
    "# Let's just reuse what was generated in the previous run\n",
    "archive_dir = bundle.res_dir"
   ]
  },
  {
   "cell_type": "code",
   "execution_count": 14,
   "metadata": {},
   "outputs": [],
   "source": [
    "reloaded_bundle = EnergyModelWakeMigration.from_dir(archive_dir)"
   ]
  },
  {
   "cell_type": "code",
   "execution_count": 15,
   "metadata": {},
   "outputs": [
    {
     "data": {
      "text/plain": [
       "False"
      ]
     },
     "execution_count": 15,
     "metadata": {},
     "output_type": "execute_result"
    }
   ],
   "source": [
    "# Just to prove we're not cheating!\n",
    "reloaded_bundle == bundle"
   ]
  },
  {
   "cell_type": "code",
   "execution_count": 16,
   "metadata": {},
   "outputs": [
    {
     "name": "stdout",
     "output_type": "stream",
     "text": [
      "PASSED: estimated energy=11747.642996651268 bogo-joules, energy threshold=12697.384476751002 bogo-joules\n"
     ]
    }
   ],
   "source": [
    "print(reloaded_bundle.test_task_placement())"
   ]
  }
 ],
 "metadata": {
  "kernelspec": {
   "display_name": "Python 3",
   "language": "python",
   "name": "python3"
  },
  "language_info": {
   "codemirror_mode": {
    "name": "ipython",
    "version": 3
   },
   "file_extension": ".py",
   "mimetype": "text/x-python",
   "name": "python",
   "nbconvert_exporter": "python",
   "pygments_lexer": "ipython3",
   "version": "3.8.2"
  }
 },
 "nbformat": 4,
 "nbformat_minor": 4
}
