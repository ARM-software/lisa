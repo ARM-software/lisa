{
 "cells": [
  {
   "cell_type": "code",
   "execution_count": null,
   "metadata": {
    "ExecuteTime": {
     "end_time": "2018-09-14T11:05:48.279832Z",
     "start_time": "2018-09-14T11:05:48.267179Z"
    }
   },
   "outputs": [],
   "source": [
    "import logging\n",
    "from lisa.conf import LisaLogging\n",
    "LisaLogging.setup()"
   ]
  },
  {
   "cell_type": "code",
   "execution_count": null,
   "metadata": {
    "ExecuteTime": {
     "end_time": "2018-09-14T11:05:49.114736Z",
     "start_time": "2018-09-14T11:05:49.105978Z"
    }
   },
   "outputs": [],
   "source": [
    "%load_ext autoreload\n",
    "%autoreload 2"
   ]
  },
  {
   "cell_type": "code",
   "execution_count": null,
   "metadata": {
    "ExecuteTime": {
     "end_time": "2018-09-14T11:05:50.056931Z",
     "start_time": "2018-09-14T11:05:49.576296Z"
    }
   },
   "outputs": [],
   "source": [
    "%pylab inline\n",
    "\n",
    "import json\n",
    "import os\n",
    "\n",
    "# Support to access the remote target\n",
    "import devlib\n",
    "from lisa.env import TestEnv\n",
    "\n",
    "# Import support for Android devices\n",
    "from lisa.android import Screen, Workload\n",
    "\n",
    "# Support for trace events analysis\n",
    "from lisa.trace import Trace\n",
    "\n",
    "# Suport for FTrace events parsing and visualization\n",
    "import trappy\n",
    "import pandas as pd\n",
    "\n",
    "from lisa.wlgen.rta import RTA, Periodic, Ramp\n",
    "from time import sleep\n",
    "\n",
    "from IPython.display import display"
   ]
  },
  {
   "cell_type": "code",
   "execution_count": null,
   "metadata": {
    "ExecuteTime": {
     "end_time": "2018-09-14T11:05:55.605591Z",
     "start_time": "2018-09-14T11:05:55.593797Z"
    }
   },
   "outputs": [],
   "source": [
    "linux_hikey = {\n",
    "    \"platform\" : \"linux\",\n",
    "    \"board\" : \"hikey\",\n",
    "    \"host\": \"pwrsft-hikey620-1\",\n",
    "    #\"username\" : \"root\",\n",
    "    #\"password\" : \"root\",\n",
    "    \"modules\" : [\"sched\", \"cgroups\", \"hotplug\"],\n",
    "    \"tools\" : [\"taskset\", \"rt-app\"],\n",
    "    \"rtapp-calib\" :  {\n",
    "        \"0\": 302, \"1\": 302, \"2\": 302, \"3\": 302, \"4\": 136, \"5\": 136, \"6\": 136, \"7\": 136\n",
    "     }\n",
    "}"
   ]
  },
  {
   "cell_type": "code",
   "execution_count": null,
   "metadata": {
    "ExecuteTime": {
     "end_time": "2018-09-14T11:05:59.375478Z",
     "start_time": "2018-09-14T11:05:59.363286Z"
    }
   },
   "outputs": [],
   "source": [
    "linux_juno = {\n",
    "    \"platform\" : \"linux\",\n",
    "    \"board\" : \"juno\",\n",
    "    \"host\": \"192.168.0.1\",\n",
    "    \"username\" : \"root\",\n",
    "    \"password\" : \"root\",\n",
    "    \"modules\" : [\"sched\", \"cgroups\", \"hotplug\"],\n",
    "    \"tools\" : [\"taskset\", \"rt-app\"]\n",
    "}"
   ]
  },
  {
   "cell_type": "code",
   "execution_count": null,
   "metadata": {
    "ExecuteTime": {
     "end_time": "2018-09-14T11:05:59.488205Z",
     "start_time": "2018-09-14T11:05:59.377033Z"
    }
   },
   "outputs": [],
   "source": [
    "android_hikey = {\n",
    "    \"platform\" : \"android\",\n",
    "    \"board\" : \"hikey960\",\n",
    "    \"modules\" : [\"sched\", \"hotplug\"],\n",
    "    \"tools\" : [\"taskset\", \"rt-app\"]\n",
    "}"
   ]
  },
  {
   "cell_type": "code",
   "execution_count": null,
   "metadata": {
    "ExecuteTime": {
     "end_time": "2018-09-14T11:06:14.700821Z",
     "start_time": "2018-09-14T11:05:59.489718Z"
    }
   },
   "outputs": [],
   "source": [
    "te = TestEnv(linux_hikey)\n",
    "target = te.target"
   ]
  },
  {
   "cell_type": "markdown",
   "metadata": {},
   "source": [
    "### Generics"
   ]
  },
  {
   "cell_type": "code",
   "execution_count": null,
   "metadata": {
    "ExecuteTime": {
     "end_time": "2018-09-14T11:06:14.720005Z",
     "start_time": "2018-09-14T11:06:14.703522Z"
    }
   },
   "outputs": [],
   "source": [
    "from lisa.tests.kernel.scheduler.eas_behaviour import *"
   ]
  },
  {
   "cell_type": "code",
   "execution_count": null,
   "metadata": {
    "ExecuteTime": {
     "end_time": "2018-09-14T11:06:14.846990Z",
     "start_time": "2018-09-14T11:06:14.721540Z"
    }
   },
   "outputs": [],
   "source": [
    "tests = [OneSmallTask, ThreeSmallTasks, TwoBigTasks, TwoBigThreeSmall, RampUp, RampDown, EnergyModelWakeMigration]"
   ]
  },
  {
   "cell_type": "code",
   "execution_count": null,
   "metadata": {
    "ExecuteTime": {
     "end_time": "2018-09-14T11:09:45.137204Z",
     "start_time": "2018-09-14T11:06:14.848357Z"
    }
   },
   "outputs": [],
   "source": [
    "res = {}\n",
    "\n",
    "for test in tests:\n",
    "    bundle = test.from_target(te)\n",
    "    res[test.__name__] = bundle"
   ]
  },
  {
   "cell_type": "code",
   "execution_count": null,
   "metadata": {
    "ExecuteTime": {
     "end_time": "2018-09-14T11:13:01.176344Z",
     "start_time": "2018-09-14T11:09:45.138598Z"
    }
   },
   "outputs": [],
   "source": [
    "for test_name, bundle in res.items():\n",
    "    print(test_name)\n",
    "    print(\"---\")\n",
    "    print(\"test_slack: {}\".format(\"PASSED\" if bundle.test_slack() else \"FAILED\"))\n",
    "    print(\"test_task_placement: {}\".format(\"PASSED\" if bundle.test_task_placement() else \"FAILED\"))\n",
    "    print(bundle.test_task_placement())\n",
    "    print()"
   ]
  },
  {
   "cell_type": "markdown",
   "metadata": {},
   "source": [
    "### CPU sanity check"
   ]
  },
  {
   "cell_type": "code",
   "execution_count": null,
   "metadata": {
    "ExecuteTime": {
     "end_time": "2018-09-14T11:13:17.575868Z",
     "start_time": "2018-09-14T11:13:17.560289Z"
    }
   },
   "outputs": [],
   "source": [
    "from lisa.tests.kernel.misc.capacity_sanity import CapacitySanityCheck"
   ]
  },
  {
   "cell_type": "code",
   "execution_count": null,
   "metadata": {
    "ExecuteTime": {
     "end_time": "2018-09-14T11:13:36.799009Z",
     "start_time": "2018-09-14T11:13:18.399151Z"
    }
   },
   "outputs": [],
   "source": [
    "bundle = CapacitySanityCheck.from_target(te)"
   ]
  },
  {
   "cell_type": "code",
   "execution_count": null,
   "metadata": {
    "ExecuteTime": {
     "end_time": "2018-09-14T11:14:47.709381Z",
     "start_time": "2018-09-14T11:14:47.694428Z"
    }
   },
   "outputs": [],
   "source": [
    "if bundle.test_capacity_sanity():\n",
    "    print(\"PASSED\")\n",
    "else:\n",
    "    print(\"FAILED\")\n",
    "\n",
    "print(bundle.test_capacity_sanity())"
   ]
  },
  {
   "cell_type": "markdown",
   "metadata": {},
   "source": [
    "### Hotplug"
   ]
  },
  {
   "cell_type": "code",
   "execution_count": null,
   "metadata": {
    "ExecuteTime": {
     "end_time": "2018-09-14T11:14:51.142866Z",
     "start_time": "2018-09-14T11:14:51.130774Z"
    }
   },
   "outputs": [],
   "source": [
    "from lisa.tests.kernel.hotplug.torture import HotplugTorture"
   ]
  },
  {
   "cell_type": "code",
   "execution_count": null,
   "metadata": {
    "ExecuteTime": {
     "start_time": "2018-09-14T11:14:51.876Z"
    }
   },
   "outputs": [],
   "source": [
    "bundle = HotplugTorture.from_target(te)"
   ]
  },
  {
   "cell_type": "code",
   "execution_count": null,
   "metadata": {
    "ExecuteTime": {
     "start_time": "2018-09-14T11:14:54.547Z"
    }
   },
   "outputs": [],
   "source": [
    "bundle.test_cpus_alive().passed"
   ]
  },
  {
   "cell_type": "code",
   "execution_count": null,
   "metadata": {
    "ExecuteTime": {
     "start_time": "2018-09-14T11:14:55.081Z"
    }
   },
   "outputs": [],
   "source": [
    "bundle.test_cpus_alive().metrics"
   ]
  },
  {
   "cell_type": "code",
   "execution_count": null,
   "metadata": {
    "ExecuteTime": {
     "start_time": "2018-09-14T11:14:55.362Z"
    }
   },
   "outputs": [],
   "source": [
    "bundle.test_target_alive().passed"
   ]
  },
  {
   "cell_type": "code",
   "execution_count": null,
   "metadata": {},
   "outputs": [],
   "source": []
  }
 ],
 "metadata": {
  "kernelspec": {
   "display_name": "Python 2",
   "language": "python",
   "name": "python2"
  },
  "language_info": {
   "codemirror_mode": {
    "name": "ipython",
    "version": 2
   },
   "file_extension": ".py",
   "mimetype": "text/x-python",
   "name": "python",
   "nbconvert_exporter": "python",
   "pygments_lexer": "ipython2",
   "version": "2.7.15rc1"
  },
  "toc": {
   "nav_menu": {},
   "number_sections": true,
   "sideBar": true,
   "skip_h1_title": false,
   "title_cell": "Table of Contents",
   "title_sidebar": "Contents",
   "toc_cell": false,
   "toc_position": {},
   "toc_section_display": true,
   "toc_window_display": false
  },
  "varInspector": {
   "cols": {
    "lenName": 16,
    "lenType": 16,
    "lenVar": 40
   },
   "kernels_config": {
    "python": {
     "delete_cmd_postfix": "",
     "delete_cmd_prefix": "del ",
     "library": "var_list.py",
     "varRefreshCmd": "print(var_dic_list())"
    },
    "r": {
     "delete_cmd_postfix": ") ",
     "delete_cmd_prefix": "rm(",
     "library": "var_list.r",
     "varRefreshCmd": "cat(var_dic_list()) "
    }
   },
   "types_to_exclude": [
    "module",
    "function",
    "builtin_function_or_method",
    "instance",
    "_Feature"
   ],
   "window_display": false
  }
 },
 "nbformat": 4,
 "nbformat_minor": 2
}
