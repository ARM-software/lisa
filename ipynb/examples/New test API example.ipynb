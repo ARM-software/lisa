{
 "cells": [
  {
   "cell_type": "code",
   "execution_count": 1,
   "metadata": {
    "ExecuteTime": {
     "end_time": "2018-09-18T15:01:16.648476Z",
     "start_time": "2018-09-18T15:01:16.629204Z"
    }
   },
   "outputs": [
    {
     "name": "stderr",
     "output_type": "stream",
     "text": [
      "2018-09-18 16:01:16,645 INFO    : root         : Using LISA logging configuration:\n",
      "2018-09-18 16:01:16,646 INFO    : root         :   /home/dourai01/Data/Git/lisa/py3k/logging.conf\n"
     ]
    }
   ],
   "source": [
    "import logging\n",
    "from lisa.conf import LisaLogging\n",
    "LisaLogging.setup()"
   ]
  },
  {
   "cell_type": "code",
   "execution_count": 2,
   "metadata": {
    "ExecuteTime": {
     "end_time": "2018-09-18T15:01:16.975404Z",
     "start_time": "2018-09-18T15:01:16.965582Z"
    }
   },
   "outputs": [],
   "source": [
    "%load_ext autoreload\n",
    "%autoreload 2"
   ]
  },
  {
   "cell_type": "code",
   "execution_count": 3,
   "metadata": {
    "ExecuteTime": {
     "end_time": "2018-09-18T15:01:18.194881Z",
     "start_time": "2018-09-18T15:01:17.523536Z"
    }
   },
   "outputs": [
    {
     "name": "stdout",
     "output_type": "stream",
     "text": [
      "Populating the interactive namespace from numpy and matplotlib\n"
     ]
    }
   ],
   "source": [
    "%pylab inline\n",
    "\n",
    "import json\n",
    "import os\n",
    "\n",
    "# Support to access the remote target\n",
    "import devlib\n",
    "from lisa.env import TestEnv\n",
    "\n",
    "# Import support for Android devices\n",
    "from lisa.android import Screen, Workload\n",
    "\n",
    "# Support for trace events analysis\n",
    "from lisa.trace import Trace\n",
    "\n",
    "# Suport for FTrace events parsing and visualization\n",
    "import trappy\n",
    "import pandas as pd\n",
    "\n",
    "from lisa.wlgen.rta import RTA, Periodic, Ramp\n",
    "from time import sleep\n",
    "\n",
    "from IPython.display import display"
   ]
  },
  {
   "cell_type": "code",
   "execution_count": 4,
   "metadata": {
    "ExecuteTime": {
     "end_time": "2018-09-18T15:01:20.514840Z",
     "start_time": "2018-09-18T15:01:20.499255Z"
    }
   },
   "outputs": [],
   "source": [
    "linux_hikey = {\n",
    "    \"platform\" : \"linux\",\n",
    "    \"board\" : \"hikey\",\n",
    "    \"host\": \"pwrsft-hikey620-1\",\n",
    "    #\"username\" : \"root\",\n",
    "    #\"password\" : \"root\",\n",
    "    \"modules\" : [\"sched\", \"cgroups\", \"hotplug\"],\n",
    "    \"tools\" : [\"taskset\", \"rt-app\"],\n",
    "    \"rtapp-calib\" :  {\n",
    "        \"0\": 302, \"1\": 302, \"2\": 302, \"3\": 302, \"4\": 136, \"5\": 136, \"6\": 136, \"7\": 136\n",
    "     }\n",
    "}"
   ]
  },
  {
   "cell_type": "code",
   "execution_count": null,
   "metadata": {
    "ExecuteTime": {
     "end_time": "2018-09-18T12:39:16.735953Z",
     "start_time": "2018-09-18T12:39:16.724322Z"
    }
   },
   "outputs": [],
   "source": [
    "linux_juno = {\n",
    "    \"platform\" : \"linux\",\n",
    "    \"board\" : \"juno\",\n",
    "    \"host\": \"192.168.0.1\",\n",
    "    \"username\" : \"root\",\n",
    "    \"password\" : \"root\",\n",
    "    \"modules\" : [\"sched\", \"cgroups\", \"hotplug\"],\n",
    "    \"tools\" : [\"taskset\", \"rt-app\"]\n",
    "}"
   ]
  },
  {
   "cell_type": "code",
   "execution_count": null,
   "metadata": {
    "ExecuteTime": {
     "end_time": "2018-09-18T12:39:16.890758Z",
     "start_time": "2018-09-18T12:39:16.879519Z"
    }
   },
   "outputs": [],
   "source": [
    "android_hikey = {\n",
    "    \"platform\" : \"android\",\n",
    "    \"board\" : \"hikey960\",\n",
    "    \"modules\" : [\"sched\", \"hotplug\"],\n",
    "    \"tools\" : [\"taskset\", \"rt-app\"]\n",
    "}"
   ]
  },
  {
   "cell_type": "code",
   "execution_count": 5,
   "metadata": {
    "ExecuteTime": {
     "end_time": "2018-09-18T15:01:36.863179Z",
     "start_time": "2018-09-18T15:01:24.067215Z"
    }
   },
   "outputs": [
    {
     "name": "stderr",
     "output_type": "stream",
     "text": [
      "2018-09-18 16:01:24,081 INFO    : TestEnv      : Using base path: /home/dourai01/Data/Git/lisa/py3k\n",
      "2018-09-18 16:01:24,082 INFO    : TestEnv      : Loading custom (inline) target configuration\n",
      "2018-09-18 16:01:24,083 INFO    : TestEnv      : Devlib modules to load: ['sched', 'hotplug', 'cpufreq', 'cgroups', 'cpuidle']\n",
      "2018-09-18 16:01:24,083 INFO    : TestEnv      : Connecting linux target:\n",
      "2018-09-18 16:01:24,084 INFO    : TestEnv      :   username : root\n",
      "2018-09-18 16:01:24,084 INFO    : TestEnv      :   password : \n",
      "2018-09-18 16:01:24,085 INFO    : TestEnv      :       host : pwrsft-hikey620-1\n",
      "2018-09-18 16:01:24,086 INFO    : TestEnv      : Connection settings:\n",
      "2018-09-18 16:01:24,086 INFO    : TestEnv      :    {'username': 'root', 'password': '', 'host': 'pwrsft-hikey620-1'}\n",
      "2018-09-18 16:01:29,183 INFO    : TestEnv      : Initializing target workdir:\n",
      "2018-09-18 16:01:29,184 INFO    : TestEnv      :    /root/devlib-target\n",
      "2018-09-18 16:01:29,979 INFO    : CGroups      : Available controllers:\n",
      "2018-09-18 16:01:30,499 INFO    : CGroups      :   cpuset       : /root/devlib-target/cgroups/devlib_cgh8\n",
      "2018-09-18 16:01:31,016 INFO    : CGroups      :   cpu          : /root/devlib-target/cgroups/devlib_cgh3\n",
      "2018-09-18 16:01:31,533 INFO    : CGroups      :   cpuacct      : /root/devlib-target/cgroups/devlib_cgh3\n",
      "2018-09-18 16:01:32,049 INFO    : CGroups      :   blkio        : /root/devlib-target/cgroups/devlib_cgh5\n",
      "2018-09-18 16:01:32,564 INFO    : CGroups      :   memory       : /root/devlib-target/cgroups/devlib_cgh2\n",
      "2018-09-18 16:01:33,078 INFO    : CGroups      :   devices      : /root/devlib-target/cgroups/devlib_cgh6\n",
      "2018-09-18 16:01:33,596 INFO    : CGroups      :   freezer      : /root/devlib-target/cgroups/devlib_cgh4\n",
      "2018-09-18 16:01:34,112 INFO    : CGroups      :   perf_event   : /root/devlib-target/cgroups/devlib_cgh9\n",
      "2018-09-18 16:01:34,630 INFO    : CGroups      :   hugetlb      : /root/devlib-target/cgroups/devlib_cgh7\n",
      "2018-09-18 16:01:35,147 INFO    : CGroups      :   pids         : /root/devlib-target/cgroups/devlib_cgh10\n",
      "2018-09-18 16:01:36,684 INFO    : TestEnv      : Topology:\n",
      "2018-09-18 16:01:36,686 INFO    : TestEnv      :    [[0, 1, 2, 3, 4, 5, 6, 7]]\n",
      "2018-09-18 16:01:36,855 INFO    : TestEnv      : Loading default EM:\n",
      "2018-09-18 16:01:36,856 INFO    : TestEnv      :    /home/dourai01/Data/Git/lisa/py3k/lisa/platforms/hikey.json\n"
     ]
    }
   ],
   "source": [
    "te = TestEnv(linux_hikey)\n",
    "target = te.target"
   ]
  },
  {
   "cell_type": "markdown",
   "metadata": {},
   "source": [
    "### Generics"
   ]
  },
  {
   "cell_type": "code",
   "execution_count": 10,
   "metadata": {
    "ExecuteTime": {
     "end_time": "2018-09-18T15:45:51.218926Z",
     "start_time": "2018-09-18T15:45:51.194501Z"
    }
   },
   "outputs": [],
   "source": [
    "from lisa.tests.kernel.scheduler.eas_behaviour import *"
   ]
  },
  {
   "cell_type": "code",
   "execution_count": 11,
   "metadata": {
    "ExecuteTime": {
     "end_time": "2018-09-18T15:45:52.098697Z",
     "start_time": "2018-09-18T15:45:52.076643Z"
    }
   },
   "outputs": [],
   "source": [
    "tests = [OneSmallTask]#, ThreeSmallTasks, TwoBigTasks, TwoBigThreeSmall, RampUp, RampDown, EnergyModelWakeMigration]"
   ]
  },
  {
   "cell_type": "code",
   "execution_count": 12,
   "metadata": {
    "ExecuteTime": {
     "end_time": "2018-09-18T15:46:19.369220Z",
     "start_time": "2018-09-18T15:45:53.324910Z"
    }
   },
   "outputs": [
    {
     "name": "stderr",
     "output_type": "stream",
     "text": [
      "2018-09-18 16:45:57,309 INFO    : TestEnv      : Using configuration provided RTApp calibration\n",
      "2018-09-18 16:45:57,310 INFO    : TestEnv      : Using RT-App calibration values:\n",
      "2018-09-18 16:45:57,312 INFO    : TestEnv      :    {\"0\": 302, \"1\": 302, \"2\": 302, \"3\": 302, \"4\": 136, \"5\": 136, \"6\": 136, \"7\": 136}\n",
      "2018-09-18 16:45:57,707 INFO    : RTA          : Calibration value: 136\n",
      "2018-09-18 16:45:57,709 INFO    : RTA          : Default policy: SCHED_OTHER\n",
      "2018-09-18 16:45:57,710 INFO    : RTA          : ------------------------\n",
      "2018-09-18 16:45:57,711 INFO    : RTA          : task [small], sched: using default policy\n",
      "2018-09-18 16:45:57,713 INFO    : RTA          :  | start delay: 0.000000 [s]\n",
      "2018-09-18 16:45:57,715 INFO    : RTA          :  | loops count: 1\n",
      "2018-09-18 16:45:57,717 INFO    : RTA          :  + phase_000001\n",
      "2018-09-18 16:45:57,718 INFO    : Phase        :  | duration 1.000000 [s] (62 loops)\n",
      "2018-09-18 16:45:57,718 INFO    : Phase        :  |  period    16000 [us], duty_cycle  50 %\n",
      "2018-09-18 16:45:57,719 INFO    : Phase        :  |  run_time   8000 [us], sleep_time   8000 [us]\n",
      "2018-09-18 16:46:00,219 INFO    : TestEnv      : Enabled tracepoints:\n",
      "2018-09-18 16:46:00,221 INFO    : TestEnv      :    sched_switch\n",
      "2018-09-18 16:46:05,176 INFO    : TestEnv      : Freezing all tasks except: init,systemd,dbus,sh,ssh,rsyslogd,jbd2\n",
      "2018-09-18 16:46:11,425 INFO    : RTA          : Execution start: /root/devlib-target/bin/rt-app /root/devlib-target/rta_onesmalltask.json 2>&1\n",
      "2018-09-18 16:46:12,633 INFO    : RTA          : Execution complete\n",
      "2018-09-18 16:46:13,087 INFO    : TestEnv      : Un-freezing userspace tasks\n"
     ]
    }
   ],
   "source": [
    "res = {}\n",
    "\n",
    "for test in tests:\n",
    "    bundle = test.from_target(te)\n",
    "    res[test.__name__] = bundle"
   ]
  },
  {
   "cell_type": "code",
   "execution_count": 14,
   "metadata": {
    "ExecuteTime": {
     "end_time": "2018-09-18T15:48:55.081629Z",
     "start_time": "2018-09-18T15:48:53.454478Z"
    }
   },
   "outputs": [
    {
     "name": "stdout",
     "output_type": "stream",
     "text": [
      "OneSmallTask\n",
      "---\n",
      "test_slack: PASSED\n"
     ]
    },
    {
     "name": "stderr",
     "output_type": "stream",
     "text": [
      "2018-09-18 16:48:54,019 WARNING : Trace        : Kernel version not available from platform data\n",
      "2018-09-18 16:48:54,019 INFO    : Trace        : Parsing trace assuming kernel v3.18\n"
     ]
    },
    {
     "name": "stdout",
     "output_type": "stream",
     "text": [
      "test_task_placement: PASSED\n",
      "estimated_energy = 229.98293056713615 bogo-joules, energy_threshold = 245.74051446945342 bogo-joules\n",
      "\n"
     ]
    }
   ],
   "source": [
    "for test_name, bundle in res.items():\n",
    "    print(test_name)\n",
    "    print(\"---\")\n",
    "    print(\"test_slack: {}\".format(\"PASSED\" if bundle.test_slack() else \"FAILED\"))\n",
    "    print(\"test_task_placement: {}\".format(\"PASSED\" if bundle.test_task_placement() else \"FAILED\"))\n",
    "    print(bundle.test_task_placement())\n",
    "    print()"
   ]
  },
  {
   "cell_type": "markdown",
   "metadata": {},
   "source": [
    "### CPU sanity check"
   ]
  },
  {
   "cell_type": "code",
   "execution_count": 16,
   "metadata": {
    "ExecuteTime": {
     "end_time": "2018-09-18T15:49:23.121361Z",
     "start_time": "2018-09-18T15:49:23.104172Z"
    }
   },
   "outputs": [],
   "source": [
    "from lisa.tests.kernel.misc.capacity_sanity import CapacitySanityCheck"
   ]
  },
  {
   "cell_type": "code",
   "execution_count": 17,
   "metadata": {
    "ExecuteTime": {
     "end_time": "2018-09-18T15:49:42.517829Z",
     "start_time": "2018-09-18T15:49:26.257522Z"
    }
   },
   "outputs": [
    {
     "name": "stderr",
     "output_type": "stream",
     "text": [
      "2018-09-18 16:49:29,986 INFO    : Sysbench     : Execution start: /root/devlib-target/bin/taskset 0x1 /root/devlib-target/bin/sysbench --test=cpu --max-time=1 run\n",
      "2018-09-18 16:49:31,165 INFO    : Sysbench     : Execution complete\n",
      "2018-09-18 16:49:31,498 INFO    : Sysbench     : Execution start: /root/devlib-target/bin/taskset 0x2 /root/devlib-target/bin/sysbench --test=cpu --max-time=1 run\n",
      "2018-09-18 16:49:32,675 INFO    : Sysbench     : Execution complete\n",
      "2018-09-18 16:49:33,008 INFO    : Sysbench     : Execution start: /root/devlib-target/bin/taskset 0x4 /root/devlib-target/bin/sysbench --test=cpu --max-time=1 run\n",
      "2018-09-18 16:49:34,186 INFO    : Sysbench     : Execution complete\n",
      "2018-09-18 16:49:34,519 INFO    : Sysbench     : Execution start: /root/devlib-target/bin/taskset 0x8 /root/devlib-target/bin/sysbench --test=cpu --max-time=1 run\n",
      "2018-09-18 16:49:35,698 INFO    : Sysbench     : Execution complete\n",
      "2018-09-18 16:49:36,032 INFO    : Sysbench     : Execution start: /root/devlib-target/bin/taskset 0x10 /root/devlib-target/bin/sysbench --test=cpu --max-time=1 run\n",
      "2018-09-18 16:49:37,210 INFO    : Sysbench     : Execution complete\n",
      "2018-09-18 16:49:37,541 INFO    : Sysbench     : Execution start: /root/devlib-target/bin/taskset 0x20 /root/devlib-target/bin/sysbench --test=cpu --max-time=1 run\n",
      "2018-09-18 16:49:38,719 INFO    : Sysbench     : Execution complete\n",
      "2018-09-18 16:49:39,054 INFO    : Sysbench     : Execution start: /root/devlib-target/bin/taskset 0x40 /root/devlib-target/bin/sysbench --test=cpu --max-time=1 run\n",
      "2018-09-18 16:49:40,233 INFO    : Sysbench     : Execution complete\n",
      "2018-09-18 16:49:40,567 INFO    : Sysbench     : Execution start: /root/devlib-target/bin/taskset 0x80 /root/devlib-target/bin/sysbench --test=cpu --max-time=1 run\n",
      "2018-09-18 16:49:41,746 INFO    : Sysbench     : Execution complete\n"
     ]
    }
   ],
   "source": [
    "bundle = CapacitySanityCheck.from_target(te)"
   ]
  },
  {
   "cell_type": "code",
   "execution_count": 18,
   "metadata": {
    "ExecuteTime": {
     "end_time": "2018-09-18T15:49:42.738668Z",
     "start_time": "2018-09-18T15:49:42.726350Z"
    }
   },
   "outputs": [
    {
     "name": "stdout",
     "output_type": "stream",
     "text": [
      "PASSED\n",
      "Performance @1024 capacity = 227\n"
     ]
    }
   ],
   "source": [
    "if bundle.test_capacity_sanity():\n",
    "    print(\"PASSED\")\n",
    "else:\n",
    "    print(\"FAILED\")\n",
    "\n",
    "print(bundle.test_capacity_sanity())"
   ]
  },
  {
   "cell_type": "markdown",
   "metadata": {},
   "source": [
    "### Hotplug"
   ]
  },
  {
   "cell_type": "code",
   "execution_count": 20,
   "metadata": {
    "ExecuteTime": {
     "end_time": "2018-09-18T15:50:04.850190Z",
     "start_time": "2018-09-18T15:50:04.829817Z"
    }
   },
   "outputs": [],
   "source": [
    "from lisa.tests.kernel.hotplug.torture import HotplugTorture"
   ]
  },
  {
   "cell_type": "code",
   "execution_count": null,
   "metadata": {
    "ExecuteTime": {
     "start_time": "2018-09-18T15:50:06.159Z"
    }
   },
   "outputs": [],
   "source": [
    "bundle = HotplugTorture.from_target(te)"
   ]
  },
  {
   "cell_type": "code",
   "execution_count": null,
   "metadata": {
    "ExecuteTime": {
     "start_time": "2018-09-18T15:50:08.853Z"
    }
   },
   "outputs": [],
   "source": [
    "bundle.test_cpus_alive().passed"
   ]
  },
  {
   "cell_type": "code",
   "execution_count": null,
   "metadata": {
    "ExecuteTime": {
     "start_time": "2018-09-18T15:50:09.097Z"
    }
   },
   "outputs": [],
   "source": [
    "bundle.test_cpus_alive().metrics"
   ]
  },
  {
   "cell_type": "code",
   "execution_count": null,
   "metadata": {
    "ExecuteTime": {
     "start_time": "2018-09-18T15:50:09.263Z"
    }
   },
   "outputs": [],
   "source": [
    "bundle.test_target_alive().passed"
   ]
  },
  {
   "cell_type": "code",
   "execution_count": null,
   "metadata": {},
   "outputs": [],
   "source": []
  },
  {
   "cell_type": "code",
   "execution_count": null,
   "metadata": {},
   "outputs": [],
   "source": []
  },
  {
   "cell_type": "code",
   "execution_count": null,
   "metadata": {},
   "outputs": [],
   "source": []
  },
  {
   "cell_type": "code",
   "execution_count": null,
   "metadata": {},
   "outputs": [],
   "source": []
  },
  {
   "cell_type": "code",
   "execution_count": null,
   "metadata": {},
   "outputs": [],
   "source": []
  },
  {
   "cell_type": "code",
   "execution_count": null,
   "metadata": {},
   "outputs": [],
   "source": []
  },
  {
   "cell_type": "code",
   "execution_count": null,
   "metadata": {},
   "outputs": [],
   "source": []
  },
  {
   "cell_type": "code",
   "execution_count": null,
   "metadata": {},
   "outputs": [],
   "source": []
  },
  {
   "cell_type": "code",
   "execution_count": null,
   "metadata": {},
   "outputs": [],
   "source": []
  }
 ],
 "metadata": {
  "kernelspec": {
   "display_name": "Python 3",
   "language": "python",
   "name": "python3"
  },
  "language_info": {
   "codemirror_mode": {
    "name": "ipython",
    "version": 3
   },
   "file_extension": ".py",
   "mimetype": "text/x-python",
   "name": "python",
   "nbconvert_exporter": "python",
   "pygments_lexer": "ipython3",
   "version": "3.7.0"
  },
  "toc": {
   "nav_menu": {},
   "number_sections": true,
   "sideBar": true,
   "skip_h1_title": false,
   "title_cell": "Table of Contents",
   "title_sidebar": "Contents",
   "toc_cell": false,
   "toc_position": {},
   "toc_section_display": true,
   "toc_window_display": false
  },
  "varInspector": {
   "cols": {
    "lenName": 16,
    "lenType": 16,
    "lenVar": 40
   },
   "kernels_config": {
    "python": {
     "delete_cmd_postfix": "",
     "delete_cmd_prefix": "del ",
     "library": "var_list.py",
     "varRefreshCmd": "print(var_dic_list())"
    },
    "r": {
     "delete_cmd_postfix": ") ",
     "delete_cmd_prefix": "rm(",
     "library": "var_list.r",
     "varRefreshCmd": "cat(var_dic_list()) "
    }
   },
   "types_to_exclude": [
    "module",
    "function",
    "builtin_function_or_method",
    "instance",
    "_Feature"
   ],
   "window_display": false
  }
 },
 "nbformat": 4,
 "nbformat_minor": 2
}
