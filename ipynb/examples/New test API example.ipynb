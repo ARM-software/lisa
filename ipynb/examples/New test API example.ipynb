{
 "cells": [
  {
   "cell_type": "code",
   "execution_count": 1,
   "metadata": {
    "ExecuteTime": {
     "end_time": "2018-09-17T16:44:33.721734Z",
     "start_time": "2018-09-17T16:44:33.705765Z"
    }
   },
   "outputs": [
    {
     "name": "stderr",
     "output_type": "stream",
     "text": [
      "2018-09-17 17:44:33,719 INFO    : root         : Using LISA logging configuration:\n",
      "2018-09-17 17:44:33,719 INFO    : root         :   /home/dourai01/Data/Git/lisa/py3k/logging.conf\n"
     ]
    }
   ],
   "source": [
    "import logging\n",
    "from lisa.conf import LisaLogging\n",
    "LisaLogging.setup()"
   ]
  },
  {
   "cell_type": "code",
   "execution_count": 2,
   "metadata": {
    "ExecuteTime": {
     "end_time": "2018-09-17T16:44:34.820959Z",
     "start_time": "2018-09-17T16:44:34.808264Z"
    }
   },
   "outputs": [],
   "source": [
    "%load_ext autoreload\n",
    "%autoreload 2"
   ]
  },
  {
   "cell_type": "code",
   "execution_count": 3,
   "metadata": {
    "ExecuteTime": {
     "end_time": "2018-09-17T16:44:35.976316Z",
     "start_time": "2018-09-17T16:44:35.314517Z"
    }
   },
   "outputs": [
    {
     "name": "stdout",
     "output_type": "stream",
     "text": [
      "Populating the interactive namespace from numpy and matplotlib\n"
     ]
    }
   ],
   "source": [
    "%pylab inline\n",
    "\n",
    "import json\n",
    "import os\n",
    "\n",
    "# Support to access the remote target\n",
    "import devlib\n",
    "from lisa.env import TestEnv\n",
    "\n",
    "# Import support for Android devices\n",
    "from lisa.android import Screen, Workload\n",
    "\n",
    "# Support for trace events analysis\n",
    "from lisa.trace import Trace\n",
    "\n",
    "# Suport for FTrace events parsing and visualization\n",
    "import trappy\n",
    "import pandas as pd\n",
    "\n",
    "from lisa.wlgen.rta import RTA, Periodic, Ramp\n",
    "from time import sleep\n",
    "\n",
    "from IPython.display import display"
   ]
  },
  {
   "cell_type": "code",
   "execution_count": 4,
   "metadata": {
    "ExecuteTime": {
     "end_time": "2018-09-17T16:44:37.134565Z",
     "start_time": "2018-09-17T16:44:37.119573Z"
    }
   },
   "outputs": [],
   "source": [
    "linux_hikey = {\n",
    "    \"platform\" : \"linux\",\n",
    "    \"board\" : \"hikey\",\n",
    "    \"host\": \"pwrsft-hikey620-1\",\n",
    "    #\"username\" : \"root\",\n",
    "    #\"password\" : \"root\",\n",
    "    \"modules\" : [\"sched\", \"cgroups\", \"hotplug\"],\n",
    "    \"tools\" : [\"taskset\", \"rt-app\"],\n",
    "    \"rtapp-calib\" :  {\n",
    "        \"0\": 302, \"1\": 302, \"2\": 302, \"3\": 302, \"4\": 136, \"5\": 136, \"6\": 136, \"7\": 136\n",
    "     }\n",
    "}"
   ]
  },
  {
   "cell_type": "code",
   "execution_count": null,
   "metadata": {
    "ExecuteTime": {
     "end_time": "2018-09-14T11:05:59.375478Z",
     "start_time": "2018-09-14T11:05:59.363286Z"
    }
   },
   "outputs": [],
   "source": [
    "linux_juno = {\n",
    "    \"platform\" : \"linux\",\n",
    "    \"board\" : \"juno\",\n",
    "    \"host\": \"192.168.0.1\",\n",
    "    \"username\" : \"root\",\n",
    "    \"password\" : \"root\",\n",
    "    \"modules\" : [\"sched\", \"cgroups\", \"hotplug\"],\n",
    "    \"tools\" : [\"taskset\", \"rt-app\"]\n",
    "}"
   ]
  },
  {
   "cell_type": "code",
   "execution_count": null,
   "metadata": {
    "ExecuteTime": {
     "end_time": "2018-09-14T11:05:59.488205Z",
     "start_time": "2018-09-14T11:05:59.377033Z"
    }
   },
   "outputs": [],
   "source": [
    "android_hikey = {\n",
    "    \"platform\" : \"android\",\n",
    "    \"board\" : \"hikey960\",\n",
    "    \"modules\" : [\"sched\", \"hotplug\"],\n",
    "    \"tools\" : [\"taskset\", \"rt-app\"]\n",
    "}"
   ]
  },
  {
   "cell_type": "code",
   "execution_count": 5,
   "metadata": {
    "ExecuteTime": {
     "end_time": "2018-09-17T16:44:52.435419Z",
     "start_time": "2018-09-17T16:44:39.654149Z"
    }
   },
   "outputs": [
    {
     "name": "stderr",
     "output_type": "stream",
     "text": [
      "2018-09-17 17:44:39,671 INFO    : TestEnv      : Using base path: /home/dourai01/Data/Git/lisa/py3k\n",
      "2018-09-17 17:44:39,672 INFO    : TestEnv      : Loading custom (inline) target configuration\n",
      "2018-09-17 17:44:39,675 INFO    : TestEnv      : Devlib modules to load: ['cpufreq', 'sched', 'cpuidle', 'cgroups', 'hotplug']\n",
      "2018-09-17 17:44:39,676 INFO    : TestEnv      : Connecting linux target:\n",
      "2018-09-17 17:44:39,676 INFO    : TestEnv      :   username : root\n",
      "2018-09-17 17:44:39,677 INFO    : TestEnv      :   password : \n",
      "2018-09-17 17:44:39,677 INFO    : TestEnv      :       host : pwrsft-hikey620-1\n",
      "2018-09-17 17:44:39,678 INFO    : TestEnv      : Connection settings:\n",
      "2018-09-17 17:44:39,678 INFO    : TestEnv      :    {'username': 'root', 'password': '', 'host': 'pwrsft-hikey620-1'}\n",
      "2018-09-17 17:44:44,809 INFO    : TestEnv      : Initializing target workdir:\n",
      "2018-09-17 17:44:44,811 INFO    : TestEnv      :    /root/devlib-target\n",
      "2018-09-17 17:44:45,603 INFO    : CGroups      : Available controllers:\n",
      "2018-09-17 17:44:46,117 INFO    : CGroups      :   cpuset       : /root/devlib-target/cgroups/devlib_cgh8\n",
      "2018-09-17 17:44:46,631 INFO    : CGroups      :   cpu          : /root/devlib-target/cgroups/devlib_cgh3\n",
      "2018-09-17 17:44:47,144 INFO    : CGroups      :   cpuacct      : /root/devlib-target/cgroups/devlib_cgh3\n",
      "2018-09-17 17:44:47,658 INFO    : CGroups      :   blkio        : /root/devlib-target/cgroups/devlib_cgh5\n",
      "2018-09-17 17:44:48,174 INFO    : CGroups      :   memory       : /root/devlib-target/cgroups/devlib_cgh2\n",
      "2018-09-17 17:44:48,687 INFO    : CGroups      :   devices      : /root/devlib-target/cgroups/devlib_cgh6\n",
      "2018-09-17 17:44:49,201 INFO    : CGroups      :   freezer      : /root/devlib-target/cgroups/devlib_cgh4\n",
      "2018-09-17 17:44:49,715 INFO    : CGroups      :   perf_event   : /root/devlib-target/cgroups/devlib_cgh9\n",
      "2018-09-17 17:44:50,230 INFO    : CGroups      :   hugetlb      : /root/devlib-target/cgroups/devlib_cgh7\n",
      "2018-09-17 17:44:50,745 INFO    : CGroups      :   pids         : /root/devlib-target/cgroups/devlib_cgh10\n",
      "2018-09-17 17:44:52,261 INFO    : TestEnv      : Topology:\n",
      "2018-09-17 17:44:52,263 INFO    : TestEnv      :    [[0, 1, 2, 3, 4, 5, 6, 7]]\n",
      "2018-09-17 17:44:52,431 INFO    : TestEnv      : Loading default EM:\n",
      "2018-09-17 17:44:52,431 INFO    : TestEnv      :    /home/dourai01/Data/Git/lisa/py3k/lisa/platforms/hikey.json\n"
     ]
    }
   ],
   "source": [
    "te = TestEnv(linux_hikey)\n",
    "target = te.target"
   ]
  },
  {
   "cell_type": "markdown",
   "metadata": {},
   "source": [
    "### Generics"
   ]
  },
  {
   "cell_type": "code",
   "execution_count": 6,
   "metadata": {
    "ExecuteTime": {
     "end_time": "2018-09-17T16:44:52.496442Z",
     "start_time": "2018-09-17T16:44:52.482199Z"
    }
   },
   "outputs": [],
   "source": [
    "from lisa.tests.kernel.scheduler.eas_behaviour import *"
   ]
  },
  {
   "cell_type": "code",
   "execution_count": 7,
   "metadata": {
    "ExecuteTime": {
     "end_time": "2018-09-17T16:44:58.929480Z",
     "start_time": "2018-09-17T16:44:58.917468Z"
    }
   },
   "outputs": [],
   "source": [
    "tests = [OneSmallTask, ThreeSmallTasks, TwoBigTasks, TwoBigThreeSmall, RampUp, RampDown, EnergyModelWakeMigration]"
   ]
  },
  {
   "cell_type": "code",
   "execution_count": null,
   "metadata": {
    "ExecuteTime": {
     "end_time": "2018-09-14T11:09:45.137204Z",
     "start_time": "2018-09-14T11:06:14.848357Z"
    }
   },
   "outputs": [],
   "source": [
    "res = {}\n",
    "\n",
    "for test in tests:\n",
    "    bundle = test.from_target(te)\n",
    "    res[test.__name__] = bundle"
   ]
  },
  {
   "cell_type": "code",
   "execution_count": null,
   "metadata": {
    "ExecuteTime": {
     "end_time": "2018-09-14T11:13:01.176344Z",
     "start_time": "2018-09-14T11:09:45.138598Z"
    }
   },
   "outputs": [],
   "source": [
    "for test_name, bundle in res.items():\n",
    "    print(test_name)\n",
    "    print(\"---\")\n",
    "    print(\"test_slack: {}\".format(\"PASSED\" if bundle.test_slack() else \"FAILED\"))\n",
    "    print(\"test_task_placement: {}\".format(\"PASSED\" if bundle.test_task_placement() else \"FAILED\"))\n",
    "    print(bundle.test_task_placement())\n",
    "    print()"
   ]
  },
  {
   "cell_type": "markdown",
   "metadata": {},
   "source": [
    "### CPU sanity check"
   ]
  },
  {
   "cell_type": "code",
   "execution_count": null,
   "metadata": {
    "ExecuteTime": {
     "end_time": "2018-09-14T11:13:17.575868Z",
     "start_time": "2018-09-14T11:13:17.560289Z"
    }
   },
   "outputs": [],
   "source": [
    "from lisa.tests.kernel.misc.capacity_sanity import CapacitySanityCheck"
   ]
  },
  {
   "cell_type": "code",
   "execution_count": null,
   "metadata": {
    "ExecuteTime": {
     "end_time": "2018-09-14T11:13:36.799009Z",
     "start_time": "2018-09-14T11:13:18.399151Z"
    }
   },
   "outputs": [],
   "source": [
    "bundle = CapacitySanityCheck.from_target(te)"
   ]
  },
  {
   "cell_type": "code",
   "execution_count": null,
   "metadata": {
    "ExecuteTime": {
     "end_time": "2018-09-14T11:14:47.709381Z",
     "start_time": "2018-09-14T11:14:47.694428Z"
    }
   },
   "outputs": [],
   "source": [
    "if bundle.test_capacity_sanity():\n",
    "    print(\"PASSED\")\n",
    "else:\n",
    "    print(\"FAILED\")\n",
    "\n",
    "print(bundle.test_capacity_sanity())"
   ]
  },
  {
   "cell_type": "markdown",
   "metadata": {},
   "source": [
    "### Hotplug"
   ]
  },
  {
   "cell_type": "code",
   "execution_count": null,
   "metadata": {
    "ExecuteTime": {
     "end_time": "2018-09-14T11:14:51.142866Z",
     "start_time": "2018-09-14T11:14:51.130774Z"
    }
   },
   "outputs": [],
   "source": [
    "from lisa.tests.kernel.hotplug.torture import HotplugTorture"
   ]
  },
  {
   "cell_type": "code",
   "execution_count": null,
   "metadata": {
    "ExecuteTime": {
     "start_time": "2018-09-14T11:14:51.876Z"
    }
   },
   "outputs": [],
   "source": [
    "bundle = HotplugTorture.from_target(te)"
   ]
  },
  {
   "cell_type": "code",
   "execution_count": null,
   "metadata": {
    "ExecuteTime": {
     "start_time": "2018-09-14T11:14:54.547Z"
    }
   },
   "outputs": [],
   "source": [
    "bundle.test_cpus_alive().passed"
   ]
  },
  {
   "cell_type": "code",
   "execution_count": null,
   "metadata": {
    "ExecuteTime": {
     "start_time": "2018-09-14T11:14:55.081Z"
    }
   },
   "outputs": [],
   "source": [
    "bundle.test_cpus_alive().metrics"
   ]
  },
  {
   "cell_type": "code",
   "execution_count": null,
   "metadata": {
    "ExecuteTime": {
     "start_time": "2018-09-14T11:14:55.362Z"
    }
   },
   "outputs": [],
   "source": [
    "bundle.test_target_alive().passed"
   ]
  },
  {
   "cell_type": "code",
   "execution_count": null,
   "metadata": {},
   "outputs": [],
   "source": []
  }
 ],
 "metadata": {
  "kernelspec": {
   "display_name": "Python 3",
   "language": "python",
   "name": "python3"
  },
  "language_info": {
   "codemirror_mode": {
    "name": "ipython",
    "version": 3
   },
   "file_extension": ".py",
   "mimetype": "text/x-python",
   "name": "python",
   "nbconvert_exporter": "python",
   "pygments_lexer": "ipython3",
   "version": "3.7.0"
  },
  "toc": {
   "nav_menu": {},
   "number_sections": true,
   "sideBar": true,
   "skip_h1_title": false,
   "title_cell": "Table of Contents",
   "title_sidebar": "Contents",
   "toc_cell": false,
   "toc_position": {},
   "toc_section_display": true,
   "toc_window_display": false
  },
  "varInspector": {
   "cols": {
    "lenName": 16,
    "lenType": 16,
    "lenVar": 40
   },
   "kernels_config": {
    "python": {
     "delete_cmd_postfix": "",
     "delete_cmd_prefix": "del ",
     "library": "var_list.py",
     "varRefreshCmd": "print(var_dic_list())"
    },
    "r": {
     "delete_cmd_postfix": ") ",
     "delete_cmd_prefix": "rm(",
     "library": "var_list.r",
     "varRefreshCmd": "cat(var_dic_list()) "
    }
   },
   "types_to_exclude": [
    "module",
    "function",
    "builtin_function_or_method",
    "instance",
    "_Feature"
   ],
   "window_display": false
  }
 },
 "nbformat": 4,
 "nbformat_minor": 2
}
