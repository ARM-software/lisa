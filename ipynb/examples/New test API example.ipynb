{
 "cells": [
  {
   "cell_type": "code",
   "execution_count": 1,
   "metadata": {
    "ExecuteTime": {
     "end_time": "2018-09-21T16:24:16.843906Z",
     "start_time": "2018-09-21T16:24:16.832296Z"
    }
   },
   "outputs": [
    {
     "name": "stderr",
     "output_type": "stream",
     "text": [
      "2018-09-21 17:24:16,841 INFO    : root         : Using LISA logging configuration:\n",
      "2018-09-21 17:24:16,842 INFO    : root         :   /home/dourai01/Data/Git/lisa/py3k/logging.conf\n"
     ]
    }
   ],
   "source": [
    "import logging\n",
    "from lisa.utils import setup_logging\n",
    "setup_logging()"
   ]
  },
  {
   "cell_type": "code",
   "execution_count": 2,
   "metadata": {
    "ExecuteTime": {
     "end_time": "2018-09-21T16:24:16.990593Z",
     "start_time": "2018-09-21T16:24:16.845370Z"
    }
   },
   "outputs": [],
   "source": [
    "%load_ext autoreload\n",
    "%autoreload 2"
   ]
  },
  {
   "cell_type": "code",
   "execution_count": 3,
   "metadata": {
    "ExecuteTime": {
     "end_time": "2018-09-21T16:24:17.516760Z",
     "start_time": "2018-09-21T16:24:16.992560Z"
    }
   },
   "outputs": [
    {
     "name": "stdout",
     "output_type": "stream",
     "text": [
      "Populating the interactive namespace from numpy and matplotlib\n"
     ]
    }
   ],
   "source": [
    "%pylab inline\n",
    "\n",
    "import json\n",
    "import os\n",
    "\n",
    "# Support to access the remote target\n",
    "import devlib\n",
    "from lisa.env import TestEnv, TargetConfig\n",
    "\n",
    "# Import support for Android devices\n",
    "from lisa.android import Screen, Workload\n",
    "\n",
    "# Support for trace events analysis\n",
    "from lisa.trace import Trace\n",
    "\n",
    "# Suport for FTrace events parsing and visualization\n",
    "import trappy\n",
    "import pandas as pd\n",
    "\n",
    "from lisa.wlgen.rta import RTA, Periodic, Ramp\n",
    "from time import sleep\n",
    "\n",
    "from IPython.display import display"
   ]
  },
  {
   "cell_type": "code",
   "execution_count": 4,
   "metadata": {
    "ExecuteTime": {
     "end_time": "2018-09-21T16:24:17.529943Z",
     "start_time": "2018-09-21T16:24:17.518146Z"
    }
   },
   "outputs": [],
   "source": [
    "linux_hikey = {\n",
    "    \"platform\" : \"linux\",\n",
    "    \"board\" : \"hikey\",\n",
    "    \"host\": \"pwrsft-hikey620-1\",\n",
    "    #\"username\" : \"root\",\n",
    "    #\"password\" : \"root\",\n",
    "    \"modules\" : [\"sched\", \"cgroups\", \"hotplug\"],\n",
    "    \"tools\" : [\"taskset\", \"rt-app\"],\n",
    "    \"rtapp-calib\" :  {\n",
    "        \"0\": 302, \"1\": 302, \"2\": 302, \"3\": 302, \"4\": 136, \"5\": 136, \"6\": 136, \"7\": 136\n",
    "     }\n",
    "}"
   ]
  },
  {
   "cell_type": "code",
   "execution_count": 5,
   "metadata": {
    "ExecuteTime": {
     "end_time": "2018-09-21T16:24:17.590995Z",
     "start_time": "2018-09-21T16:24:17.531405Z"
    }
   },
   "outputs": [],
   "source": [
    "linux_juno = {\n",
    "    \"platform\" : \"linux\",\n",
    "    \"board\" : \"juno\",\n",
    "    \"host\": \"192.168.0.1\",\n",
    "    \"username\" : \"root\",\n",
    "    \"password\" : \"root\",\n",
    "    \"modules\" : [\"sched\", \"cgroups\", \"hotplug\"],\n",
    "    \"tools\" : [\"taskset\", \"rt-app\"]\n",
    "}"
   ]
  },
  {
   "cell_type": "code",
   "execution_count": 6,
   "metadata": {
    "ExecuteTime": {
     "end_time": "2018-09-21T16:24:17.665751Z",
     "start_time": "2018-09-21T16:24:17.592231Z"
    }
   },
   "outputs": [],
   "source": [
    "android_hikey = {\n",
    "    \"platform\" : \"android\",\n",
    "    \"board\" : \"hikey960\",\n",
    "    \"modules\" : [\"sched\", \"hotplug\"],\n",
    "    \"tools\" : [\"taskset\", \"rt-app\"]\n",
    "}"
   ]
  },
  {
   "cell_type": "code",
   "execution_count": 7,
   "metadata": {
    "ExecuteTime": {
     "end_time": "2018-09-21T16:24:33.107785Z",
     "start_time": "2018-09-21T16:24:17.667030Z"
    }
   },
   "outputs": [
    {
     "name": "stderr",
     "output_type": "stream",
     "text": [
      "2018-09-21 17:24:17,730 INFO    : lisa.env.TestEnv : Using base path: /home/dourai01/Data/Git/lisa/py3k\n",
      "2018-09-21 17:24:17,731 INFO    : lisa.env.TestEnv : Devlib modules to load: ['hotplug', 'sched', 'cpufreq', 'cpuidle', 'cgroups']\n",
      "2018-09-21 17:24:17,732 INFO    : lisa.env.TestEnv : Connecting linux target:\n",
      "2018-09-21 17:24:17,733 INFO    : lisa.env.TestEnv :   username : root\n",
      "2018-09-21 17:24:17,733 INFO    : lisa.env.TestEnv :   password : \n",
      "2018-09-21 17:24:17,734 INFO    : lisa.env.TestEnv :       host : pwrsft-hikey620-1\n",
      "2018-09-21 17:24:17,734 INFO    : lisa.env.TestEnv : Connection settings:\n",
      "2018-09-21 17:24:17,734 INFO    : lisa.env.TestEnv :    {'username': 'root', 'password': '', 'host': 'pwrsft-hikey620-1'}\n",
      "2018-09-21 17:24:23,869 INFO    : lisa.env.TestEnv : Initializing target workdir:\n",
      "2018-09-21 17:24:23,870 INFO    : lisa.env.TestEnv :    /root/devlib-target\n",
      "2018-09-21 17:24:24,844 INFO    : CGroups      : Available controllers:\n",
      "2018-09-21 17:24:25,454 INFO    : CGroups      :   cpuset       : /root/devlib-target/cgroups/devlib_cgh3\n",
      "2018-09-21 17:24:26,070 INFO    : CGroups      :   cpu          : /root/devlib-target/cgroups/devlib_cgh2\n",
      "2018-09-21 17:24:26,686 INFO    : CGroups      :   cpuacct      : /root/devlib-target/cgroups/devlib_cgh2\n",
      "2018-09-21 17:24:27,310 INFO    : CGroups      :   blkio        : /root/devlib-target/cgroups/devlib_cgh4\n",
      "2018-09-21 17:24:27,939 INFO    : CGroups      :   memory       : /root/devlib-target/cgroups/devlib_cgh7\n",
      "2018-09-21 17:24:28,567 INFO    : CGroups      :   devices      : /root/devlib-target/cgroups/devlib_cgh8\n",
      "2018-09-21 17:24:29,187 INFO    : CGroups      :   freezer      : /root/devlib-target/cgroups/devlib_cgh5\n",
      "2018-09-21 17:24:29,793 INFO    : CGroups      :   perf_event   : /root/devlib-target/cgroups/devlib_cgh9\n",
      "2018-09-21 17:24:30,406 INFO    : CGroups      :   hugetlb      : /root/devlib-target/cgroups/devlib_cgh10\n",
      "2018-09-21 17:24:31,019 INFO    : CGroups      :   pids         : /root/devlib-target/cgroups/devlib_cgh6\n",
      "2018-09-21 17:24:32,897 INFO    : lisa.env.TestEnv : Topology:\n",
      "2018-09-21 17:24:32,898 INFO    : lisa.env.TestEnv :    [[0, 1, 2, 3, 4, 5, 6, 7]]\n",
      "2018-09-21 17:24:33,102 INFO    : lisa.env.TestEnv : Loading default EM:\n",
      "2018-09-21 17:24:33,103 INFO    : lisa.env.TestEnv :    /home/dourai01/Data/Git/lisa/py3k/lisa/platforms/hikey.json\n"
     ]
    }
   ],
   "source": [
    "te = TestEnv(TargetConfig(linux_hikey))\n",
    "target = te.target"
   ]
  },
  {
   "cell_type": "markdown",
   "metadata": {},
   "source": [
    "### Generics"
   ]
  },
  {
   "cell_type": "code",
   "execution_count": 8,
   "metadata": {
    "ExecuteTime": {
     "end_time": "2018-09-21T16:24:33.126433Z",
     "start_time": "2018-09-21T16:24:33.109728Z"
    }
   },
   "outputs": [],
   "source": [
    "from lisa.tests.kernel.scheduler.eas_behaviour import *"
   ]
  },
  {
   "cell_type": "code",
   "execution_count": 9,
   "metadata": {
    "ExecuteTime": {
     "end_time": "2018-09-21T16:24:33.198008Z",
     "start_time": "2018-09-21T16:24:33.127714Z"
    }
   },
   "outputs": [],
   "source": [
    "tests = [OneSmallTask]#, ThreeSmallTasks, TwoBigTasks, TwoBigThreeSmall, RampUp, RampDown, EnergyModelWakeMigration]"
   ]
  },
  {
   "cell_type": "code",
   "execution_count": 10,
   "metadata": {
    "ExecuteTime": {
     "end_time": "2018-09-21T16:25:01.726466Z",
     "start_time": "2018-09-21T16:24:33.199384Z"
    }
   },
   "outputs": [
    {
     "name": "stderr",
     "output_type": "stream",
     "text": [
      "2018-09-21 17:24:37,770 INFO    : lisa.env.TestEnv : Using configuration provided RTApp calibration\n",
      "2018-09-21 17:24:37,772 INFO    : lisa.env.TestEnv : Using RT-App calibration values:\n",
      "2018-09-21 17:24:37,773 INFO    : lisa.env.TestEnv :    {\"0\": 302, \"1\": 302, \"2\": 302, \"3\": 302, \"4\": 136, \"5\": 136, \"6\": 136, \"7\": 136}\n",
      "2018-09-21 17:24:38,164 INFO    : lisa.wlgen.rta.RTA : Calibration value: 136\n",
      "2018-09-21 17:24:38,164 INFO    : lisa.wlgen.rta.RTA : Default policy: SCHED_OTHER\n",
      "2018-09-21 17:24:38,165 INFO    : lisa.wlgen.rta.RTA : ------------------------\n",
      "2018-09-21 17:24:38,165 INFO    : lisa.wlgen.rta.RTA : task [small], sched: using default policy\n",
      "2018-09-21 17:24:38,166 INFO    : lisa.wlgen.rta.RTA :  | start delay: 0.000000 [s]\n",
      "2018-09-21 17:24:38,166 INFO    : lisa.wlgen.rta.RTA :  | loops count: 1\n",
      "2018-09-21 17:24:38,167 INFO    : lisa.wlgen.rta.RTA :  + phase_000001\n",
      "2018-09-21 17:24:38,167 INFO    : lisa.wlgen.rta.Phase :  | duration 1.000000 [s] (62 loops)\n",
      "2018-09-21 17:24:38,168 INFO    : lisa.wlgen.rta.Phase :  |  period    16000 [us], duty_cycle  50 %\n",
      "2018-09-21 17:24:38,168 INFO    : lisa.wlgen.rta.Phase :  |  run_time   8000 [us], sleep_time   8000 [us]\n",
      "2018-09-21 17:24:40,853 INFO    : lisa.env.TestEnv : Enabled tracepoints:\n",
      "2018-09-21 17:24:40,855 INFO    : lisa.env.TestEnv :    sched_switch\n",
      "2018-09-21 17:24:45,754 INFO    : lisa.env.TestEnv : Freezing all tasks except: init,systemd,dbus,sh,ssh,rsyslogd,jbd2\n",
      "2018-09-21 17:24:51,854 INFO    : lisa.wlgen.rta.RTA : Execution start: /root/devlib-target/bin/rt-app /root/devlib-target/rta_onesmalltask.json 2>&1\n",
      "2018-09-21 17:24:53,828 INFO    : lisa.wlgen.rta.RTA : Execution complete\n",
      "2018-09-21 17:24:54,293 INFO    : lisa.env.TestEnv : Un-freezing userspace tasks\n"
     ]
    }
   ],
   "source": [
    "res = {}\n",
    "\n",
    "for test in tests:\n",
    "    bundle = test.from_target(te)\n",
    "    res[test.__name__] = bundle"
   ]
  },
  {
   "cell_type": "code",
   "execution_count": 11,
   "metadata": {
    "ExecuteTime": {
     "end_time": "2018-09-21T16:25:02.823231Z",
     "start_time": "2018-09-21T16:25:01.727972Z"
    }
   },
   "outputs": [
    {
     "name": "stdout",
     "output_type": "stream",
     "text": [
      "OneSmallTask\n",
      "---\n",
      "test_slack: FAILED: slack_small_0 = 0.0 %, slack_small_1 = 0.0 %, slack_small_2 = 0.0 %, slack_small = 100.0 %\n"
     ]
    },
    {
     "name": "stderr",
     "output_type": "stream",
     "text": [
      "2018-09-21 17:25:02,302 WARNING : lisa.trace.Trace : Kernel version not available from platform data\n",
      "2018-09-21 17:25:02,303 INFO    : lisa.trace.Trace : Parsing trace assuming kernel v3.18\n"
     ]
    },
    {
     "name": "stdout",
     "output_type": "stream",
     "text": [
      "test_task_placement: PASSED: estimated_energy = 144.34142511858244 bogo-joules, energy_threshold = 245.74051446945342 bogo-joules\n",
      "\n"
     ]
    }
   ],
   "source": [
    "for test_name, bundle in res.items():\n",
    "    print(test_name)\n",
    "    print(\"---\")\n",
    "    print(\"test_slack: {}\".format(bundle.test_slack()))\n",
    "    print(\"test_task_placement: {}\".format(bundle.test_task_placement()))\n",
    "    print()"
   ]
  },
  {
   "cell_type": "markdown",
   "metadata": {},
   "source": [
    "### CPU sanity check"
   ]
  },
  {
   "cell_type": "code",
   "execution_count": 12,
   "metadata": {
    "ExecuteTime": {
     "end_time": "2018-09-21T16:25:02.836776Z",
     "start_time": "2018-09-21T16:25:02.824794Z"
    }
   },
   "outputs": [],
   "source": [
    "from lisa.tests.kernel.misc.capacity_sanity import CapacitySanityCheck"
   ]
  },
  {
   "cell_type": "code",
   "execution_count": 13,
   "metadata": {
    "ExecuteTime": {
     "end_time": "2018-09-21T16:25:21.346729Z",
     "start_time": "2018-09-21T16:25:02.838148Z"
    }
   },
   "outputs": [
    {
     "name": "stderr",
     "output_type": "stream",
     "text": [
      "2018-09-21 17:25:07,820 INFO    : lisa.wlgen.sysbench.Sysbench : Execution start: /root/devlib-target/bin/taskset 0x1 /root/devlib-target/bin/sysbench --test=cpu --max-time=1 run\n",
      "2018-09-21 17:25:09,002 INFO    : lisa.wlgen.sysbench.Sysbench : Execution complete\n",
      "2018-09-21 17:25:09,337 INFO    : lisa.wlgen.sysbench.Sysbench : Execution start: /root/devlib-target/bin/taskset 0x2 /root/devlib-target/bin/sysbench --test=cpu --max-time=1 run\n",
      "2018-09-21 17:25:10,516 INFO    : lisa.wlgen.sysbench.Sysbench : Execution complete\n",
      "2018-09-21 17:25:10,850 INFO    : lisa.wlgen.sysbench.Sysbench : Execution start: /root/devlib-target/bin/taskset 0x4 /root/devlib-target/bin/sysbench --test=cpu --max-time=1 run\n",
      "2018-09-21 17:25:12,027 INFO    : lisa.wlgen.sysbench.Sysbench : Execution complete\n",
      "2018-09-21 17:25:12,361 INFO    : lisa.wlgen.sysbench.Sysbench : Execution start: /root/devlib-target/bin/taskset 0x8 /root/devlib-target/bin/sysbench --test=cpu --max-time=1 run\n",
      "2018-09-21 17:25:13,539 INFO    : lisa.wlgen.sysbench.Sysbench : Execution complete\n",
      "2018-09-21 17:25:13,871 INFO    : lisa.wlgen.sysbench.Sysbench : Execution start: /root/devlib-target/bin/taskset 0x10 /root/devlib-target/bin/sysbench --test=cpu --max-time=1 run\n",
      "2018-09-21 17:25:15,048 INFO    : lisa.wlgen.sysbench.Sysbench : Execution complete\n",
      "2018-09-21 17:25:15,381 INFO    : lisa.wlgen.sysbench.Sysbench : Execution start: /root/devlib-target/bin/taskset 0x20 /root/devlib-target/bin/sysbench --test=cpu --max-time=1 run\n",
      "2018-09-21 17:25:16,557 INFO    : lisa.wlgen.sysbench.Sysbench : Execution complete\n",
      "2018-09-21 17:25:16,889 INFO    : lisa.wlgen.sysbench.Sysbench : Execution start: /root/devlib-target/bin/taskset 0x40 /root/devlib-target/bin/sysbench --test=cpu --max-time=1 run\n",
      "2018-09-21 17:25:18,069 INFO    : lisa.wlgen.sysbench.Sysbench : Execution complete\n",
      "2018-09-21 17:25:18,406 INFO    : lisa.wlgen.sysbench.Sysbench : Execution start: /root/devlib-target/bin/taskset 0x80 /root/devlib-target/bin/sysbench --test=cpu --max-time=1 run\n",
      "2018-09-21 17:25:19,584 INFO    : lisa.wlgen.sysbench.Sysbench : Execution complete\n"
     ]
    }
   ],
   "source": [
    "bundle = CapacitySanityCheck.from_target(te)"
   ]
  },
  {
   "cell_type": "code",
   "execution_count": 14,
   "metadata": {
    "ExecuteTime": {
     "end_time": "2018-09-21T16:25:21.366713Z",
     "start_time": "2018-09-21T16:25:21.351798Z"
    }
   },
   "outputs": [
    {
     "name": "stdout",
     "output_type": "stream",
     "text": [
      "PASSED: Performance @1024 capacity = 227\n"
     ]
    }
   ],
   "source": [
    "print(str(bundle.test_capacity_sanity()))"
   ]
  },
  {
   "cell_type": "markdown",
   "metadata": {},
   "source": [
    "### Hotplug"
   ]
  },
  {
   "cell_type": "code",
   "execution_count": 15,
   "metadata": {
    "ExecuteTime": {
     "end_time": "2018-09-21T16:25:21.455193Z",
     "start_time": "2018-09-21T16:25:21.368362Z"
    }
   },
   "outputs": [],
   "source": [
    "from lisa.tests.kernel.hotplug.torture import HotplugTorture"
   ]
  },
  {
   "cell_type": "code",
   "execution_count": 16,
   "metadata": {
    "ExecuteTime": {
     "end_time": "2018-09-21T16:25:34.940206Z",
     "start_time": "2018-09-21T16:25:21.456916Z"
    }
   },
   "outputs": [],
   "source": [
    "bundle = HotplugTorture.from_target(te)"
   ]
  },
  {
   "cell_type": "code",
   "execution_count": 20,
   "metadata": {
    "ExecuteTime": {
     "end_time": "2018-09-21T16:25:48.538456Z",
     "start_time": "2018-09-21T16:25:48.526819Z"
    }
   },
   "outputs": [
    {
     "name": "stdout",
     "output_type": "stream",
     "text": [
      "PASSED\n"
     ]
    }
   ],
   "source": [
    "print(bundle.test_cpus_alive().result.name)"
   ]
  },
  {
   "cell_type": "code",
   "execution_count": 18,
   "metadata": {
    "ExecuteTime": {
     "end_time": "2018-09-21T16:25:35.137759Z",
     "start_time": "2018-09-21T16:25:34.959131Z"
    }
   },
   "outputs": [
    {
     "name": "stdout",
     "output_type": "stream",
     "text": [
      "{'hotpluggable CPUs': TestMetric([0, 1, 2, 3, 4, 5, 6, 7], None), 'Online CPUs': TestMetric([0, 1, 2, 3, 4, 5, 6, 7], None)}\n"
     ]
    }
   ],
   "source": [
    "print(bundle.test_cpus_alive().metrics)"
   ]
  },
  {
   "cell_type": "code",
   "execution_count": 21,
   "metadata": {
    "ExecuteTime": {
     "end_time": "2018-09-21T16:25:52.892836Z",
     "start_time": "2018-09-21T16:25:52.880691Z"
    }
   },
   "outputs": [
    {
     "name": "stdout",
     "output_type": "stream",
     "text": [
      "PASSED\n"
     ]
    }
   ],
   "source": [
    "print(bundle.test_target_alive().result.name)"
   ]
  },
  {
   "cell_type": "code",
   "execution_count": null,
   "metadata": {},
   "outputs": [],
   "source": []
  },
  {
   "cell_type": "code",
   "execution_count": null,
   "metadata": {},
   "outputs": [],
   "source": []
  },
  {
   "cell_type": "code",
   "execution_count": null,
   "metadata": {},
   "outputs": [],
   "source": []
  },
  {
   "cell_type": "code",
   "execution_count": null,
   "metadata": {},
   "outputs": [],
   "source": []
  },
  {
   "cell_type": "code",
   "execution_count": null,
   "metadata": {},
   "outputs": [],
   "source": []
  },
  {
   "cell_type": "code",
   "execution_count": null,
   "metadata": {},
   "outputs": [],
   "source": []
  },
  {
   "cell_type": "code",
   "execution_count": null,
   "metadata": {},
   "outputs": [],
   "source": []
  },
  {
   "cell_type": "code",
   "execution_count": null,
   "metadata": {},
   "outputs": [],
   "source": []
  },
  {
   "cell_type": "code",
   "execution_count": null,
   "metadata": {},
   "outputs": [],
   "source": []
  }
 ],
 "metadata": {
  "kernelspec": {
   "display_name": "Python 3",
   "language": "python",
   "name": "python3"
  },
  "language_info": {
   "codemirror_mode": {
    "name": "ipython",
    "version": 3
   },
   "file_extension": ".py",
   "mimetype": "text/x-python",
   "name": "python",
   "nbconvert_exporter": "python",
   "pygments_lexer": "ipython3",
   "version": "3.7.0"
  },
  "toc": {
   "nav_menu": {},
   "number_sections": true,
   "sideBar": true,
   "skip_h1_title": false,
   "title_cell": "Table of Contents",
   "title_sidebar": "Contents",
   "toc_cell": false,
   "toc_position": {},
   "toc_section_display": true,
   "toc_window_display": false
  },
  "varInspector": {
   "cols": {
    "lenName": 16,
    "lenType": 16,
    "lenVar": 40
   },
   "kernels_config": {
    "python": {
     "delete_cmd_postfix": "",
     "delete_cmd_prefix": "del ",
     "library": "var_list.py",
     "varRefreshCmd": "print(var_dic_list())"
    },
    "r": {
     "delete_cmd_postfix": ") ",
     "delete_cmd_prefix": "rm(",
     "library": "var_list.r",
     "varRefreshCmd": "cat(var_dic_list()) "
    }
   },
   "types_to_exclude": [
    "module",
    "function",
    "builtin_function_or_method",
    "instance",
    "_Feature"
   ],
   "window_display": false
  }
 },
 "nbformat": 4,
 "nbformat_minor": 2
}
