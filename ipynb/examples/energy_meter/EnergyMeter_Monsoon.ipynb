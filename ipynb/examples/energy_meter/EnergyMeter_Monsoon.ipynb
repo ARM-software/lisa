{
 "cells": [
  {
   "cell_type": "markdown",
   "metadata": {},
   "source": [
    "# Energy Meter Examples\n",
    "\n",
    "## Monsoon Power Monitor\n",
    "\n",
    "*NOTE*: the **monsoon.py** tool is required to collect data from the power monitor.\n",
    "\n",
    "Instructions on how to install it can be found here:\n",
    "\n",
    "https://github.com/ARM-software/lisa/wiki/Energy-Meters-Requirements#monsoon-power-monitor."
   ]
  },
  {
   "cell_type": "code",
   "execution_count": 1,
   "metadata": {},
   "outputs": [
    {
     "name": "stderr",
     "output_type": "stream",
     "text": [
      "2017-05-10 16:00:38,824 INFO    : root         : Using LISA logging configuration:\n",
      "2017-05-10 16:00:38,826 INFO    : root         :   /data/Code/lisa/logging.conf\n"
     ]
    }
   ],
   "source": [
    "import logging\n",
    "from conf import LisaLogging\n",
    "LisaLogging.setup()"
   ]
  },
  {
   "cell_type": "markdown",
   "metadata": {},
   "source": [
    "#### Import required modules"
   ]
  },
  {
   "cell_type": "code",
   "execution_count": 2,
   "metadata": {},
   "outputs": [
    {
     "name": "stderr",
     "output_type": "stream",
     "text": [
      "2017-05-10 16:00:39,606 WARNING : EnergyModel  : Unusual max capacity (1023), overriding capacity_scale\n"
     ]
    }
   ],
   "source": [
    "# Generate plots inline\n",
    "%matplotlib inline\n",
    "\n",
    "import os\n",
    "\n",
    "# Support to access the remote target\n",
    "import devlib\n",
    "from env import TestEnv\n",
    "\n",
    "# RTApp configurator for generation of PERIODIC tasks\n",
    "from wlgen import RTA, Ramp"
   ]
  },
  {
   "cell_type": "markdown",
   "metadata": {},
   "source": [
    "## Target Configuration\n",
    "The target configuration is used to describe and configure your test environment.\n",
    "You can find more details in **examples/utils/testenv_example.ipynb**."
   ]
  },
  {
   "cell_type": "code",
   "execution_count": 3,
   "metadata": {
    "collapsed": true
   },
   "outputs": [],
   "source": [
    "# Let's assume the monsoon binary is installed in the following path\n",
    "MONSOON_BIN = os.path.join(os.getenv('LISA_HOME'), 'tools', 'scripts', 'monsoon.py')"
   ]
  },
  {
   "cell_type": "code",
   "execution_count": 4,
   "metadata": {},
   "outputs": [],
   "source": [
    "# Setup target configuration\n",
    "my_conf = {\n",
    "\n",
    "    # Target platform and board\n",
    "    \"platform\"    : 'android',\n",
    "    \"board\"       : 'wahoo',\n",
    "    \n",
    "    # Android tools\n",
    "    \"ANDROID_HOME\" : \"/home/derkling/Code/lisa/tools/android-sdk-linux\",\n",
    "    \n",
    "    # Folder where all the results will be collected\n",
    "    \"results_dir\" : \"EnergyMeter_Monsoon\",\n",
    "\n",
    "    # Define devlib modules to load\n",
    "    \"exclude_modules\" : [ 'hwmon' ],\n",
    "\n",
    "    # Energy Meters Configuration for ARM Energy Probe\n",
    "    \"emeter\" : {\n",
    "        \"instrument\" : \"monsoon\",\n",
    "        \"conf\" : {\n",
    "            'monsoon_bin' : MONSOON_BIN,\n",
    "        },\n",
    "    },\n",
    "    \n",
    "    # Tools required by the experiments\n",
    "    \"tools\"   : [ 'trace-cmd', 'rt-app' ],\n",
    "    \n",
    "    # Comment this line to calibrate RTApp in your own platform\n",
    "    \"rtapp-calib\" :  {\"0\": 360, \"1\": 142, \"2\": 138, \"3\": 352, \"4\": 352, \"5\": 353},\n",
    "}"
   ]
  },
  {
   "cell_type": "code",
   "execution_count": 5,
   "metadata": {
    "collapsed": true
   },
   "outputs": [],
   "source": [
    "# Once powered the Monsoon Power Monitor does not enable the output voltage.\n",
    "# Since the devlib's API expects that the device is powered and available for\n",
    "# an ADB connection, let's manually power on the device before initializing the TestEnv\n",
    "\n",
    "# Power on the device\n",
    "!$MONSOON_BIN --device /dev/ttyACM1 --voltage 4.2\n",
    "\n",
    "# Enable USB passthrough to be able to connect the device\n",
    "!$MONSOON_BIN --usbpassthrough on"
   ]
  },
  {
   "cell_type": "code",
   "execution_count": 6,
   "metadata": {
    "scrolled": false
   },
   "outputs": [
    {
     "name": "stderr",
     "output_type": "stream",
     "text": [
      "2017-05-10 16:00:46,506 INFO    : TestEnv      : Using base path: /data/Code/lisa\n",
      "2017-05-10 16:00:46,509 INFO    : TestEnv      : Loading custom (inline) target configuration\n",
      "2017-05-10 16:00:46,510 INFO    : TestEnv      : External tools using:\n",
      "2017-05-10 16:00:46,511 INFO    : TestEnv      :    ANDROID_HOME: /home/derkling/Code/lisa/tools/android-sdk-linux\n",
      "2017-05-10 16:00:46,512 INFO    : TestEnv      :    CATAPULT_HOME: /data/Code/lisa/tools/catapult\n",
      "2017-05-10 16:00:46,514 INFO    : TestEnv      : Loading board:\n",
      "2017-05-10 16:00:46,515 INFO    : TestEnv      :    /data/Code/lisa/libs/utils/platforms/wahoo.json\n",
      "2017-05-10 16:00:46,517 INFO    : TestEnv      : Devlib modules to load: [u'bl', u'cpuidle', u'cpufreq']\n",
      "2017-05-10 16:00:46,519 INFO    : TestEnv      : Connecting Android target [DEFAULT]\n",
      "2017-05-10 16:00:46,520 INFO    : TestEnv      : Connection settings:\n",
      "2017-05-10 16:00:46,521 INFO    : TestEnv      :    None\n",
      "2017-05-10 16:00:46,683 INFO    : android      : ls command is set to ls -1\n",
      "2017-05-10 16:00:48,056 INFO    : TestEnv      : Initializing target workdir:\n",
      "2017-05-10 16:00:48,059 INFO    : TestEnv      :    /data/local/tmp/devlib-target\n",
      "2017-05-10 16:00:50,883 INFO    : TestEnv      : Attempting to read energy model from target\n",
      "2017-05-10 16:00:52,939 ERROR   : TestEnv      : Couldn't read target energy model: Active states powers are expected to be monotonically increasing. Values: [56, 76, 91, 105, 118, 135, 150, 162, 181, 196, 214, 229, 248, 280, 316, 354, 392, 439, 495, 565, 622, 691, 792, 889, 1024, 1141, 1138]\n",
      "2017-05-10 16:00:52,942 INFO    : TestEnv      : Topology:\n",
      "2017-05-10 16:00:52,943 INFO    : TestEnv      :    [[0, 1, 2, 3], [4, 5, 6, 7]]\n",
      "2017-05-10 16:00:53,142 INFO    : TestEnv      : Loading default EM:\n",
      "2017-05-10 16:00:53,144 INFO    : TestEnv      :    /data/Code/lisa/libs/utils/platforms/wahoo.json\n",
      "2017-05-10 16:00:53,203 WARNING : TestEnv      : Using configuration provided RTApp calibration\n",
      "2017-05-10 16:00:53,204 INFO    : TestEnv      : Using RT-App calibration values:\n",
      "2017-05-10 16:00:53,205 INFO    : TestEnv      :    {\"0\": 360, \"1\": 142, \"2\": 138, \"3\": 352, \"4\": 352, \"5\": 353}\n",
      "2017-05-10 16:00:53,207 INFO    : TestEnv      : Set results folder to:\n",
      "2017-05-10 16:00:53,208 INFO    : TestEnv      :    /data/Code/lisa/results/EnergyMeter_Monsoon\n",
      "2017-05-10 16:00:53,208 INFO    : TestEnv      : Experiment results available also in:\n",
      "2017-05-10 16:00:53,209 INFO    : TestEnv      :    /data/Code/lisa/results_latest\n"
     ]
    }
   ],
   "source": [
    "# Initialize a test environment using:\n",
    "te = TestEnv(my_conf, wipe=False, force_new=True)\n",
    "target = te.target"
   ]
  },
  {
   "cell_type": "code",
   "execution_count": 8,
   "metadata": {},
   "outputs": [],
   "source": [
    "# If your device support charge via USB, let's disable it in order\n",
    "# to read the overall power consumption from the main output channel\n",
    "\n",
    "# For example, this is the API for a Pixel phone:\n",
    "te.target.write_value('/sys/class/power_supply/battery/charging_enabled', 0)"
   ]
  },
  {
   "cell_type": "markdown",
   "metadata": {},
   "source": [
    "## Workload Execution and Power Consumptions Samping\n",
    "\n",
    "Detailed information on RTApp can be found in **examples/wlgen/rtapp_example.ipynb**.\n",
    "\n",
    "Each **EnergyMeter** derived class has two main methods: **reset** and **report**.\n",
    " - The **reset** method will reset the energy meter and start sampling from channels specified in the target configuration. <br>\n",
    " - The **report** method will stop capture and will retrieve the energy consumption data. This returns an EnergyReport composed of the measured channels energy and the report file. Each of the samples can also be obtained, as you can see below."
   ]
  },
  {
   "cell_type": "code",
   "execution_count": 9,
   "metadata": {},
   "outputs": [
    {
     "name": "stderr",
     "output_type": "stream",
     "text": [
      "2017-05-10 16:01:02,532 INFO    : Workload     : Setup new workload ramp\n",
      "2017-05-10 16:01:02,639 INFO    : Workload     : Workload duration defined by longest task\n",
      "2017-05-10 16:01:02,641 INFO    : Workload     : Default policy: SCHED_OTHER\n",
      "2017-05-10 16:01:02,643 INFO    : Workload     : ------------------------\n",
      "2017-05-10 16:01:02,644 INFO    : Workload     : task [ramp], sched: using default policy\n",
      "2017-05-10 16:01:02,646 INFO    : Workload     :  | calibration CPU: 4\n",
      "2017-05-10 16:01:02,647 INFO    : Workload     :  | loops count: 1\n",
      "2017-05-10 16:01:02,648 INFO    : Workload     : + phase_000001: duration 0.500000 [s] (5 loops)\n",
      "2017-05-10 16:01:02,650 INFO    : Workload     : |  period   100000 [us], duty_cycle  60 %\n",
      "2017-05-10 16:01:02,651 INFO    : Workload     : |  run_time  60000 [us], sleep_time  40000 [us]\n",
      "2017-05-10 16:01:02,652 INFO    : Workload     : + phase_000002: duration 0.500000 [s] (5 loops)\n",
      "2017-05-10 16:01:02,653 INFO    : Workload     : |  period   100000 [us], duty_cycle  55 %\n",
      "2017-05-10 16:01:02,655 INFO    : Workload     : |  run_time  55000 [us], sleep_time  45000 [us]\n",
      "2017-05-10 16:01:02,656 INFO    : Workload     : + phase_000003: duration 0.500000 [s] (5 loops)\n",
      "2017-05-10 16:01:02,658 INFO    : Workload     : |  period   100000 [us], duty_cycle  50 %\n",
      "2017-05-10 16:01:02,659 INFO    : Workload     : |  run_time  50000 [us], sleep_time  50000 [us]\n",
      "2017-05-10 16:01:02,661 INFO    : Workload     : + phase_000004: duration 0.500000 [s] (5 loops)\n",
      "2017-05-10 16:01:02,663 INFO    : Workload     : |  period   100000 [us], duty_cycle  45 %\n",
      "2017-05-10 16:01:02,664 INFO    : Workload     : |  run_time  45000 [us], sleep_time  55000 [us]\n",
      "2017-05-10 16:01:02,666 INFO    : Workload     : + phase_000005: duration 0.500000 [s] (5 loops)\n",
      "2017-05-10 16:01:02,667 INFO    : Workload     : |  period   100000 [us], duty_cycle  40 %\n",
      "2017-05-10 16:01:02,668 INFO    : Workload     : |  run_time  40000 [us], sleep_time  60000 [us]\n",
      "2017-05-10 16:01:02,670 INFO    : Workload     : + phase_000006: duration 0.500000 [s] (5 loops)\n",
      "2017-05-10 16:01:02,671 INFO    : Workload     : |  period   100000 [us], duty_cycle  35 %\n",
      "2017-05-10 16:01:02,672 INFO    : Workload     : |  run_time  35000 [us], sleep_time  65000 [us]\n",
      "2017-05-10 16:01:02,674 INFO    : Workload     : + phase_000007: duration 0.500000 [s] (5 loops)\n",
      "2017-05-10 16:01:02,675 INFO    : Workload     : |  period   100000 [us], duty_cycle  30 %\n",
      "2017-05-10 16:01:02,677 INFO    : Workload     : |  run_time  30000 [us], sleep_time  70000 [us]\n",
      "2017-05-10 16:01:02,678 INFO    : Workload     : + phase_000008: duration 0.500000 [s] (5 loops)\n",
      "2017-05-10 16:01:02,679 INFO    : Workload     : |  period   100000 [us], duty_cycle  25 %\n",
      "2017-05-10 16:01:02,680 INFO    : Workload     : |  run_time  25000 [us], sleep_time  75000 [us]\n",
      "2017-05-10 16:01:02,682 INFO    : Workload     : + phase_000009: duration 0.500000 [s] (5 loops)\n",
      "2017-05-10 16:01:02,683 INFO    : Workload     : |  period   100000 [us], duty_cycle  20 %\n",
      "2017-05-10 16:01:02,684 INFO    : Workload     : |  run_time  20000 [us], sleep_time  80000 [us]\n",
      "2017-05-10 16:01:02,737 INFO    : Workload     : Workload execution START:\n",
      "2017-05-10 16:01:02,740 INFO    : Workload     :    /data/local/tmp/bin/rt-app /data/local/tmp/devlib-target/ramp_00.json 2>&1\n"
     ]
    }
   ],
   "source": [
    "# Create and RTApp RAMP task\n",
    "rtapp = RTA(te.target, 'ramp', calibration=te.calibration())\n",
    "rtapp.conf(kind='profile',\n",
    "           params={\n",
    "                'ramp' : Ramp(\n",
    "                    start_pct =  60,\n",
    "                    end_pct   =  20,\n",
    "                    delta_pct =   5,\n",
    "                    time_s    =   0.5).get()\n",
    "          })\n",
    "\n",
    "# EnergyMeter Start\n",
    "te.emeter.reset()\n",
    "\n",
    "rtapp.run(out_dir=te.res_dir)\n",
    "\n",
    "# EnergyMeter Stop and samples collection\n",
    "nrg_report = te.emeter.report(te.res_dir)"
   ]
  },
  {
   "cell_type": "code",
   "execution_count": 10,
   "metadata": {},
   "outputs": [
    {
     "name": "stderr",
     "output_type": "stream",
     "text": [
      "2017-05-10 16:01:07,581 INFO    : root         : Collected data:\n"
     ]
    },
    {
     "name": "stdout",
     "output_type": "stream",
     "text": [
      "\u001b[01;34m/data/Code/lisa/results/EnergyMeter_Monsoon\u001b[00m\r\n",
      "├── energy.json\r\n",
      "├── output.log\r\n",
      "├── ramp_00.json\r\n",
      "├── rt-app-ramp-0.log\r\n",
      "└── samples.csv\r\n",
      "\r\n",
      "0 directories, 5 files\r\n"
     ]
    }
   ],
   "source": [
    "logging.info(\"Collected data:\")\n",
    "!tree $te.res_dir"
   ]
  },
  {
   "cell_type": "markdown",
   "metadata": {},
   "source": [
    "## Power Measurements Data"
   ]
  },
  {
   "cell_type": "code",
   "execution_count": 11,
   "metadata": {},
   "outputs": [
    {
     "name": "stderr",
     "output_type": "stream",
     "text": [
      "2017-05-10 16:01:08,994 INFO    : root         : Measured channels energy:\n",
      "2017-05-10 16:01:08,996 INFO    : root         : {'output': 0.20335059300000002, 'USB': 0.0021446260000000002}\n"
     ]
    }
   ],
   "source": [
    "logging.info(\"Measured channels energy:\")\n",
    "logging.info(\"%s\", nrg_report.channels)"
   ]
  },
  {
   "cell_type": "code",
   "execution_count": 12,
   "metadata": {},
   "outputs": [
    {
     "name": "stderr",
     "output_type": "stream",
     "text": [
      "2017-05-10 16:01:09,538 INFO    : root         : Generated energy file:\n",
      "2017-05-10 16:01:09,540 INFO    : root         :   /data/Code/lisa/results/EnergyMeter_Monsoon/energy.json\n"
     ]
    },
    {
     "name": "stdout",
     "output_type": "stream",
     "text": [
      "{\r\n",
      "    \"USB\": 0.0021446260000000002, \r\n",
      "    \"output\": 0.20335059300000002\r\n",
      "}"
     ]
    }
   ],
   "source": [
    "logging.info(\"Generated energy file:\")\n",
    "logging.info(\"  %s\", nrg_report.report_file)\n",
    "!cat $nrg_report.report_file"
   ]
  },
  {
   "cell_type": "code",
   "execution_count": 13,
   "metadata": {},
   "outputs": [
    {
     "name": "stderr",
     "output_type": "stream",
     "text": [
      "2017-05-10 16:01:09,996 INFO    : root         : Samples collected for the Output and Battery channels (only first 10)\n"
     ]
    },
    {
     "name": "stdout",
     "output_type": "stream",
     "text": [
      "output_power,USB_power\r",
      "\r\n",
      "0.081740,0.000463\r",
      "\r\n",
      "0.084564,0.000463\r",
      "\r\n",
      "0.082917,0.000455\r",
      "\r\n",
      "0.081374,0.000461\r",
      "\r\n",
      "0.075255,0.000464\r",
      "\r\n",
      "0.038471,0.000465\r",
      "\r\n",
      "0.030640,0.000458\r",
      "\r\n",
      "0.033728,0.000461\r",
      "\r\n",
      "0.031777,0.000468\r",
      "\r\n"
     ]
    }
   ],
   "source": [
    "logging.info(\"Samples collected for the Output and Battery channels (only first 10)\")\n",
    "samples_file = os.path.join(te.res_dir, 'samples.csv')\n",
    "!head $samples_file"
   ]
  },
  {
   "cell_type": "code",
   "execution_count": 14,
   "metadata": {},
   "outputs": [
    {
     "name": "stderr",
     "output_type": "stream",
     "text": [
      "2017-05-10 16:01:10,595 INFO    : root         : DataFrame of collected samples (only first 5)\n"
     ]
    },
    {
     "data": {
      "text/html": [
       "<div>\n",
       "<table border=\"1\" class=\"dataframe\">\n",
       "  <thead>\n",
       "    <tr>\n",
       "      <th></th>\n",
       "      <th>output</th>\n",
       "      <th>USB</th>\n",
       "    </tr>\n",
       "    <tr>\n",
       "      <th></th>\n",
       "      <th>power</th>\n",
       "      <th>power</th>\n",
       "    </tr>\n",
       "  </thead>\n",
       "  <tbody>\n",
       "    <tr>\n",
       "      <th>0.000</th>\n",
       "      <td>0.081740</td>\n",
       "      <td>0.000463</td>\n",
       "    </tr>\n",
       "    <tr>\n",
       "      <th>0.002</th>\n",
       "      <td>0.084564</td>\n",
       "      <td>0.000463</td>\n",
       "    </tr>\n",
       "    <tr>\n",
       "      <th>0.004</th>\n",
       "      <td>0.082917</td>\n",
       "      <td>0.000455</td>\n",
       "    </tr>\n",
       "    <tr>\n",
       "      <th>0.006</th>\n",
       "      <td>0.081374</td>\n",
       "      <td>0.000461</td>\n",
       "    </tr>\n",
       "    <tr>\n",
       "      <th>0.008</th>\n",
       "      <td>0.075255</td>\n",
       "      <td>0.000464</td>\n",
       "    </tr>\n",
       "  </tbody>\n",
       "</table>\n",
       "</div>"
      ],
      "text/plain": [
       "         output       USB\n",
       "          power     power\n",
       "0.000  0.081740  0.000463\n",
       "0.002  0.084564  0.000463\n",
       "0.004  0.082917  0.000455\n",
       "0.006  0.081374  0.000461\n",
       "0.008  0.075255  0.000464"
      ]
     },
     "execution_count": 14,
     "metadata": {},
     "output_type": "execute_result"
    }
   ],
   "source": [
    "logging.info(\"DataFrame of collected samples (only first 5)\")\n",
    "nrg_report.data_frame.head()"
   ]
  },
  {
   "cell_type": "code",
   "execution_count": 16,
   "metadata": {},
   "outputs": [
    {
     "name": "stderr",
     "output_type": "stream",
     "text": [
      "2017-05-10 16:01:16,701 INFO    : root         : Plot of collected power samples\n"
     ]
    },
    {
     "data": {
      "image/png": "[encoded data removed]",
      "text/plain": [
       "<matplotlib.figure.Figure at 0x7f45d4cc15d0>"
      ]
     },
     "metadata": {},
     "output_type": "display_data"
    }
   ],
   "source": [
    "logging.info(\"Plot of collected power samples\")\n",
    "axes = nrg_report.data_frame[('output', 'power')].plot(\n",
    "                    figsize=(16,8), drawstyle='steps-post');\n",
    "axes.set_title('Power samples');\n",
    "axes.set_xlabel('Time [s]');\n",
    "axes.set_ylabel('Output power [W]');"
   ]
  },
  {
   "cell_type": "code",
   "execution_count": 17,
   "metadata": {},
   "outputs": [
    {
     "name": "stderr",
     "output_type": "stream",
     "text": [
      "2017-05-10 16:01:18,356 INFO    : root         : Plot of collected power samples\n"
     ]
    },
    {
     "data": {
      "text/html": [
       "<div>\n",
       "<table border=\"1\" class=\"dataframe\">\n",
       "  <thead>\n",
       "    <tr style=\"text-align: right;\">\n",
       "      <th></th>\n",
       "      <th></th>\n",
       "      <th>count</th>\n",
       "      <th>mean</th>\n",
       "      <th>std</th>\n",
       "      <th>min</th>\n",
       "      <th>50%</th>\n",
       "      <th>90%</th>\n",
       "      <th>95%</th>\n",
       "      <th>99%</th>\n",
       "      <th>max</th>\n",
       "    </tr>\n",
       "  </thead>\n",
       "  <tbody>\n",
       "    <tr>\n",
       "      <th>output</th>\n",
       "      <th>power</th>\n",
       "      <td>2250.0</td>\n",
       "      <td>0.045218</td>\n",
       "      <td>0.022001</td>\n",
       "      <td>0.029505</td>\n",
       "      <td>0.034054</td>\n",
       "      <td>0.076411</td>\n",
       "      <td>0.085983</td>\n",
       "      <td>0.110465</td>\n",
       "      <td>0.258452</td>\n",
       "    </tr>\n",
       "    <tr>\n",
       "      <th>USB</th>\n",
       "      <th>power</th>\n",
       "      <td>2250.0</td>\n",
       "      <td>0.000477</td>\n",
       "      <td>0.000046</td>\n",
       "      <td>0.000449</td>\n",
       "      <td>0.000466</td>\n",
       "      <td>0.000478</td>\n",
       "      <td>0.000503</td>\n",
       "      <td>0.000703</td>\n",
       "      <td>0.000734</td>\n",
       "    </tr>\n",
       "  </tbody>\n",
       "</table>\n",
       "</div>"
      ],
      "text/plain": [
       "               count      mean       std       min       50%       90%  \\\n",
       "output power  2250.0  0.045218  0.022001  0.029505  0.034054  0.076411   \n",
       "USB    power  2250.0  0.000477  0.000046  0.000449  0.000466  0.000478   \n",
       "\n",
       "                   95%       99%       max  \n",
       "output power  0.085983  0.110465  0.258452  \n",
       "USB    power  0.000503  0.000703  0.000734  "
      ]
     },
     "execution_count": 17,
     "metadata": {},
     "output_type": "execute_result"
    }
   ],
   "source": [
    "logging.info(\"Plot of collected power samples\")\n",
    "nrg_report.data_frame.describe(percentiles=[0.90, 0.95, 0.99]).T"
   ]
  },
  {
   "cell_type": "code",
   "execution_count": 18,
   "metadata": {},
   "outputs": [
    {
     "name": "stderr",
     "output_type": "stream",
     "text": [
      "2017-05-10 16:01:19,645 INFO    : root         : Power distribution\n"
     ]
    },
    {
     "data": {
      "image/png": "[encoded data removed]",
      "text/plain": [
       "<matplotlib.figure.Figure at 0x7f45d4d20d50>"
      ]
     },
     "metadata": {},
     "output_type": "display_data"
    }
   ],
   "source": [
    "logging.info(\"Power distribution\")\n",
    "axes = nrg_report.data_frame[('output', 'power')].plot(\n",
    "                    kind='hist', bins=32,\n",
    "                    figsize=(16,8));\n",
    "axes.set_title('Power Histogram');\n",
    "axes.set_xlabel('Output power [W] buckets');\n",
    "axes.set_ylabel('Samples per bucket');"
   ]
  }
 ],
 "metadata": {
  "kernelspec": {
   "display_name": "Python 2",
   "language": "python",
   "name": "python2"
  },
  "language_info": {
   "codemirror_mode": {
    "name": "ipython",
    "version": 2
   },
   "file_extension": ".py",
   "mimetype": "text/x-python",
   "name": "python",
   "nbconvert_exporter": "python",
   "pygments_lexer": "ipython2",
   "version": "2.7.12"
  },
  "toc": {
   "colors": {
    "hover_highlight": "#DAA520",
    "running_highlight": "#FF0000",
    "selected_highlight": "#FFD700"
   },
   "moveMenuLeft": true,
   "nav_menu": {
    "height": "136px",
    "width": "253px"
   },
   "navigate_menu": true,
   "number_sections": true,
   "sideBar": true,
   "threshold": 4,
   "toc_cell": false,
   "toc_number_sections": true,
   "toc_section_display": "block",
   "toc_threshold": 6,
   "toc_window_display": false
  }
 },
 "nbformat": 4,
 "nbformat_minor": 1
}
