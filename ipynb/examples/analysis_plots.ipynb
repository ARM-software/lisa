{
 "cells": [
  {
   "cell_type": "markdown",
   "id": "94324427-d939-4415-bc59-44bc270f7003",
   "metadata": {},
   "source": [
    "## Analysis plots"
   ]
  },
  {
   "cell_type": "code",
   "execution_count": null,
   "id": "94324427-d939-4415-bc59-44bc270f7002",
   "metadata": {},
   "outputs": [],
   "source": [
    "import os\n",
    "from pathlib import Path\n",
    "\n",
    "import holoviews as hv\n",
    "\n",
    "from lisa.trace import Trace\n",
    "from lisa.analysis.tasks import TaskID\n",
    "from lisa.platforms.platinfo import PlatformInfo"
   ]
  },
  {
   "cell_type": "code",
   "execution_count": null,
   "id": "8c96cff3-0bb9-4822-97b9-0330f9e12333",
   "metadata": {},
   "outputs": [],
   "source": [
    "# Enable bokeh as default backend, for interactive plots.\n",
    "\n",
    "# THIS MUST BE DONE AFTER ALL IMPORTS.\n",
    "# Otherwise there might be issues that lead to\n",
    "# not displaying plots until hv.extension() is called again.\n",
    "\n",
    "hv.extension('bokeh')"
   ]
  },
  {
   "cell_type": "markdown",
   "id": "1ce1442a-27ec-4b96-985b-294540c6906b",
   "metadata": {},
   "source": [
    "# Load the trace"
   ]
  },
  {
   "cell_type": "code",
   "execution_count": null,
   "id": "4b2e2dc8-fe24-4437-bafb-6f66557c75a0",
   "metadata": {},
   "outputs": [],
   "source": [
    "base_path = Path(os.getenv('LISA_HOME'))\n",
    "doc_path = Path(\n",
    "    base_path,\n",
    "    'doc',\n",
    "    'traces'\n",
    ")\n",
    "\n",
    "# Load a trace.dat ftrace binary file, see typical_experiment.ipynb on how to collect one using LISA\n",
    "trace = Trace(\n",
    "    doc_path / 'trace.dat',\n",
    "    # Platform information contain all the knowledge that LISA means about the plaform,\n",
    "    # such as CPU max frequencies, kernel symbols etc\n",
    "    plat_info=PlatformInfo.from_yaml_map(doc_path / 'plat_info.yml')\n",
    ")"
   ]
  },
  {
   "cell_type": "markdown",
   "id": "1de9251f-600c-4c4e-aaf7-9a1960911237",
   "metadata": {},
   "source": [
    "# DataFrame libraries\n",
    "LISA supports two dataframe (table) libraries:\n",
    "* polars: https://docs.pola.rs/api/python/stable/reference/index.html\n",
    "* pandas: https://pandas.pydata.org/docs/index.html\n",
    "\n",
    "Polars is a more modern alternative to pandas and most of the internal machinery of LISA has been moved to polars. At this point, pandas is available for backward compatibility and some internal code still has not been converted, but eventually there will not be any direct dependencies on pandas anymore. Since most dataframe-producing APIs are related to the Trace class, the switch between the two libraries can be achieved at that level:"
   ]
  },
  {
   "cell_type": "code",
   "execution_count": null,
   "id": "30e1c1ef-ea1e-4e65-9174-6f2f8216cb4d",
   "metadata": {},
   "outputs": [],
   "source": [
    "import polars as pl\n",
    "\n",
    "# This creates a view of the trace that will provide polars.LazyFrame dataframes.\n",
    "# It is also possible to create the trace object for polars directly with\n",
    "# Trace(..., df_fmt='polars-lazyframe'). The result is the same.\n",
    "trace = trace.get_view(df_fmt='polars-lazyframe')"
   ]
  },
  {
   "cell_type": "markdown",
   "id": "cbf760d4-7351-4af3-bf68-7c07f01def48",
   "metadata": {},
   "source": [
    "List of tasks in the trace, defined as a unique combination of a PID and a task name.\n",
    "\n",
    "It is also possible to create name-only and pid-only `TaskID` in the analysis APIs \n",
    "by assigning None to the other field. "
   ]
  },
  {
   "cell_type": "code",
   "execution_count": null,
   "id": "70b21582-0bab-4530-930a-9bc5930f9641",
   "metadata": {},
   "outputs": [],
   "source": [
    "trace.ana.tasks.task_ids"
   ]
  },
  {
   "cell_type": "code",
   "execution_count": null,
   "id": "49e249f4-0dd7-4bf8-843c-d5ae419bc082",
   "metadata": {},
   "outputs": [],
   "source": [
    "task = TaskID(pid=None, comm='small_2-4')\n",
    "\n",
    "# Default values for all all analysis methods parameters can be changed on the analysis proxy object. \n",
    "# This can de-clutter the code, but the result could be changed after an update in case a plot method gains a parameter. \n",
    "ana = trace.ana(\n",
    "    #tasks=[task],\n",
    "    #task=task,\n",
    ")"
   ]
  },
  {
   "cell_type": "markdown",
   "id": "a79da042-5967-432d-8d28-a067030e3907",
   "metadata": {},
   "source": [
    "# Holoviews\n",
    "All plot methods are implemented using the holoviews library:\n",
    "https://holoviews.org/getting_started/index.html\n",
    "\n",
    "For more advanced plot customizations \n",
    "https://holoviews.org/user_guide/Applying_Customizations.html\n",
    "\n",
    "Holoviews is an abstraction layer on top of matplotlib and bokeh (and plotly, but this backend is not supported in LISA). This means that all the styling options are backend specific."
   ]
  },
  {
   "cell_type": "code",
   "execution_count": null,
   "id": "d6a3175c-e33c-4d54-87a2-66f2580080e6",
   "metadata": {},
   "outputs": [],
   "source": [
    "# Call a plot method that will return a holoviews object.\n",
    "util_fig = ana.load_tracking.plot_task_signals(task, signals=['util'])\n",
    "util_fig"
   ]
  },
  {
   "cell_type": "markdown",
   "id": "e4490e8c-de3a-42de-9dd1-f525357f64fe",
   "metadata": {},
   "source": [
    "# Set a style option\n",
    "... on the Curve elements of the plot. Style options are backend-specific.\n",
    "\n",
    "The recommended backend is \"bokeh\", as it will provide the best interactivity."
   ]
  },
  {
   "cell_type": "code",
   "execution_count": null,
   "id": "f2f83800-aabf-4577-a9f6-824d0f71925d",
   "metadata": {},
   "outputs": [],
   "source": [
    "util_fig.options('Curve', color='red')"
   ]
  },
  {
   "cell_type": "markdown",
   "id": "935ddebd-ad9a-4bf3-895c-4e2d90cc69b8",
   "metadata": {},
   "source": [
    "# Save plot to a file"
   ]
  },
  {
   "cell_type": "code",
   "execution_count": null,
   "id": "9bf1057d-7239-490e-b113-ec60a49b38ac",
   "metadata": {},
   "outputs": [],
   "source": [
    "path = base_path / 'util.html'\n",
    "ana.load_tracking.plot_task_signals(task, signals=['util'], filepath=path)\n",
    "print(path)"
   ]
  },
  {
   "cell_type": "markdown",
   "id": "9e8f6f2d-cf31-460f-bf4a-f1cb4dcda4d9",
   "metadata": {},
   "source": [
    "# Kernelshark-like plot. \n",
    "\n",
    "Using `output='ui'` allows displaying dataframes under the plot,\n",
    "with scrolling synchronised with the cursor.\n",
    "\n",
    "**Caveat**: The object created attempts to emulate the holoviews plot API,\n",
    "but if you get some unexpected exceptions when combining plots, revert to output=None.\n",
    "\n",
    "**Note**: Dataframes can be costly to create, but most of them are then cached on disk for later use,\n",
    "so repeated creation of the same plot should be quick."
   ]
  },
  {
   "cell_type": "code",
   "execution_count": null,
   "id": "7411c4c6-68d5-4153-8965-7bcaaf0c4f99",
   "metadata": {},
   "outputs": [],
   "source": [
    "activation_fig = ana.tasks.plot_tasks_activation(output='ui')\n",
    "activation_fig"
   ]
  },
  {
   "cell_type": "markdown",
   "id": "5c42e56c-a9de-40b3-be69-0215b9c21088",
   "metadata": {},
   "source": [
    "# Create a Layout\n",
    "\n",
    "* If you don't want the X axis range to be synchronise, use `.options(shared_axes=False)`.\n",
    "* `.cols(1)` allows getting the plots on top of eachother, rather than side by side.\n"
   ]
  },
  {
   "cell_type": "code",
   "execution_count": null,
   "id": "723e79b7-f188-4363-a185-19130ba18e95",
   "metadata": {},
   "outputs": [],
   "source": [
    "layout = activation_fig + util_fig\n",
    "layout.cols(1)"
   ]
  },
  {
   "cell_type": "code",
   "execution_count": null,
   "id": "c2428fcc-9108-4bcf-a1c8-9348fb6c9617",
   "metadata": {},
   "outputs": [],
   "source": []
  },
  {
   "cell_type": "markdown",
   "id": "9754b9ac-d3ef-4968-aed0-f7c88fc2eaaf",
   "metadata": {},
   "source": [
    "# Create an Overlay\n",
    "\n",
    "It only works well if the axes have the same units, otherwise there will be scaling issues"
   ]
  },
  {
   "cell_type": "code",
   "execution_count": null,
   "id": "24295073-3b30-45a2-8835-99354f3d1470",
   "metadata": {},
   "outputs": [],
   "source": [
    "capa_fig = ana.load_tracking.plot_task_required_capacity(task=task)\n",
    "capa_fig * util_fig"
   ]
  },
  {
   "cell_type": "markdown",
   "id": "d9eafc96-a838-4bda-8457-1b7065ae143f",
   "metadata": {},
   "source": [
    "# Display custom DataFrame\n",
    "\n",
    "Any number of dataframes can be linked to the plot. They will each get their marker and tab."
   ]
  },
  {
   "cell_type": "code",
   "execution_count": null,
   "id": "202fd708-8a6f-4c2a-9cfb-e409e9c4b490",
   "metadata": {},
   "outputs": [],
   "source": [
    "util_df = ana.load_tracking.df_task_signal(task=task, signal='util')\n",
    "events_df = ana.notebook.df_all_events()\n",
    "\n",
    "ana.load_tracking.plot_task_signals(\n",
    "    task=task,\n",
    "    signals=['util'],\n",
    "    link_dataframes={'util': util_df, 'all events': events_df},\n",
    "    output='ui',\n",
    ")"
   ]
  },
  {
   "cell_type": "code",
   "execution_count": null,
   "id": "de513b05-7136-416f-b283-9c9a12e38da7",
   "metadata": {},
   "outputs": [],
   "source": []
  }
 ],
 "metadata": {
  "kernelspec": {
   "display_name": "Python 3 (ipykernel)",
   "language": "python",
   "name": "python3"
  },
  "language_info": {
   "codemirror_mode": {
    "name": "ipython",
    "version": 3
   },
   "file_extension": ".py",
   "mimetype": "text/x-python",
   "name": "python",
   "nbconvert_exporter": "python",
   "pygments_lexer": "ipython3",
   "version": "3.12.3"
  }
 },
 "nbformat": 4,
 "nbformat_minor": 5
}
