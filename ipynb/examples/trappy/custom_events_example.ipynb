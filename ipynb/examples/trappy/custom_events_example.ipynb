{
 "cells": [
  {
   "cell_type": "markdown",
   "metadata": {},
   "source": [
    "# TRAPpy custom events\n",
    "\n",
    "Detailed information on Trappy can be found at **examples/trappy/trappy_example.ipynb**."
   ]
  },
  {
   "cell_type": "code",
   "execution_count": 1,
   "metadata": {
    "collapsed": false
   },
   "outputs": [
    {
     "name": "stderr",
     "output_type": "stream",
     "text": [
      "2016-12-12 12:37:47,136 INFO    : root         : Using LISA logging configuration:\n",
      "2016-12-12 12:37:47,136 INFO    : root         :   /home/vagrant/lisa/logging.conf\n"
     ]
    }
   ],
   "source": [
    "import logging\n",
    "from conf import LisaLogging\n",
    "LisaLogging.setup()"
   ]
  },
  {
   "cell_type": "code",
   "execution_count": 2,
   "metadata": {
    "collapsed": false
   },
   "outputs": [],
   "source": [
    "# Generate plots inline\n",
    "%matplotlib inline\n",
    "\n",
    "import copy\n",
    "import json\n",
    "import os\n",
    "import time\n",
    "import math\n",
    "import logging\n",
    "\n",
    "# Support to access the remote target\n",
    "import devlib\n",
    "from env import TestEnv\n",
    "\n",
    "# Support to configure and run RTApp based workloads\n",
    "from wlgen import RTA\n",
    "\n",
    "# Support for performance analysis of RTApp workloads\n",
    "from perf_analysis import PerfAnalysis\n",
    "\n",
    "# Support for trace events analysis\n",
    "from trace import Trace\n",
    "\n",
    "# Suport for FTrace events parsing and visualization\n",
    "import trappy"
   ]
  },
  {
   "cell_type": "markdown",
   "metadata": {},
   "source": [
    "## Test environment setup\n",
    "\n",
    "For more details on this please check out **examples/utils/testenv_example.ipynb**."
   ]
  },
  {
   "cell_type": "code",
   "execution_count": 3,
   "metadata": {
    "collapsed": false
   },
   "outputs": [],
   "source": [
    "# Setup a target configuration\n",
    "my_target_conf = {\n",
    "    \n",
    "    # Define the kind of target platform to use for the experiments\n",
    "    \"platform\"    : 'linux',  # Linux system, valid other options are:\n",
    "                              # android - access via ADB\n",
    "                              # linux   - access via SSH\n",
    "                              # host    - direct access\n",
    "    \n",
    "    # Preload settings for a specific target\n",
    "    \"board\"       : 'juno',  # juno - JUNO board with mainline hwmon\n",
    "    \n",
    "    # Define devlib module to load\n",
    "    \"modules\"     : [\n",
    "        'bl',           # enable big.LITTLE support\n",
    "        'cpufreq'       # enable CPUFreq support\n",
    "    ],\n",
    "\n",
    "    # Account to access the remote target\n",
    "    \"host\"        : '192.168.0.1',\n",
    "    \"username\"    : 'root',\n",
    "    \"password\"    : 'juno',\n",
    "\n",
    "    # Comment the following line to force rt-app calibration on your target\n",
    "    \"rtapp-calib\" : {\n",
    "        '0': 361, '1': 138, '2': 138, '3': 352, '4': 360, '5': 353\n",
    "    }\n",
    "\n",
    "}\n",
    "\n",
    "# Setup the required Test Environment supports\n",
    "my_tests_conf = {\n",
    "        \n",
    "    # Binary tools required to run this experiment\n",
    "    # These tools must be present in the tools/ folder for the architecture\n",
    "    \"tools\"   : ['trace-cmd'],\n",
    "    \n",
    "    # FTrace events buffer configuration\n",
    "    # events listed here MUST be \n",
    "    \"ftrace\"  : {\n",
    "        \n",
    "        \n",
    "##############################################################################\n",
    "# EVENTS SPECIFICATIPON\n",
    "##############################################################################\n",
    "# Here is where we specify the list of events we are interested into:\n",
    "# Events are of two types:\n",
    "# 1. FTrace tracepoints that _must_ be supported by the target's kernel in use.\n",
    "#    These events will be enabled at ftrace start time, thus if the kernel does\n",
    "#    not support one of them, ftrace starting will fails.\n",
    "\n",
    "        \"events\" : [\n",
    "            \"sched_switch\",\n",
    "            \"cpu_frequency\",\n",
    "        ],\n",
    "\n",
    "# 2. FTrace events generated via trace_printk, from either kernel or user\n",
    "#    space. These events are different from the previous because they do not\n",
    "#    need to be explicitely enabled at ftrace start time.\n",
    "#    It's up to the user to ensure that the generated events satisfies these\n",
    "#    formatting requirements:\n",
    "#    a) the name must be a unique word into the trace\n",
    "#    b) values must be reported as a sequence of key=value paires\n",
    "#    For example, a valid custom event string is:\n",
    "#      my_math_event: kay1=val1 key2=val2 key3=val3\n",
    "\n",
    "        \"custom\" : [\n",
    "            \"my_math_event\",\n",
    "        ],\n",
    "        \n",
    "# For each of these events, TRAPpy will generate a Pandas dataframe accessible\n",
    "# via a TRAPpy::FTrace object, whith the same name of the event.\n",
    "# Thus for example, ftrace.my_math_event will be the object exposing the\n",
    "# dataframe with all the event matching the \"my_math_event\" unique word.\n",
    "        \n",
    "##############################################################################\n",
    "        \n",
    "         \"buffsize\" : 10240,\n",
    "    },\n",
    "\n",
    "}"
   ]
  },
  {
   "cell_type": "code",
   "execution_count": 4,
   "metadata": {
    "collapsed": false,
    "scrolled": false
   },
   "outputs": [
    {
     "name": "stderr",
     "output_type": "stream",
     "text": [
      "2016-12-12 12:37:50,978 INFO    : TestEnv      : Using base path: /home/vagrant/lisa\n",
      "2016-12-12 12:37:50,980 INFO    : TestEnv      : Loading custom (inline) target configuration\n",
      "2016-12-12 12:37:50,981 INFO    : TestEnv      : Loading custom (inline) test configuration\n",
      "2016-12-12 12:37:50,982 INFO    : TestEnv      : Devlib modules to load: ['bl', 'cpufreq', 'hwmon']\n",
      "2016-12-12 12:37:50,983 INFO    : TestEnv      : Connecting linux target:\n",
      "2016-12-12 12:37:50,983 INFO    : TestEnv      :   username : root\n",
      "2016-12-12 12:37:50,984 INFO    : TestEnv      :       host : 192.168.0.1\n",
      "2016-12-12 12:37:50,984 INFO    : TestEnv      :   password : juno\n",
      "2016-12-12 12:37:50,985 INFO    : TestEnv      : Connection settings:\n",
      "2016-12-12 12:37:50,985 INFO    : TestEnv      :    {'username': 'root', 'host': '192.168.0.1', 'password': 'juno'}\n",
      "2016-12-12 12:38:07,171 INFO    : TestEnv      : Initializing target workdir:\n",
      "2016-12-12 12:38:07,171 INFO    : TestEnv      :    /root/devlib-target\n",
      "2016-12-12 12:38:16,815 INFO    : TestEnv      : Topology:\n",
      "2016-12-12 12:38:16,816 INFO    : TestEnv      :    [[0, 3, 4, 5], [1, 2]]\n",
      "2016-12-12 12:38:18,066 INFO    : TestEnv      : Loading default EM:\n",
      "2016-12-12 12:38:18,068 INFO    : TestEnv      :    /home/vagrant/lisa/libs/utils/platforms/juno.json\n",
      "2016-12-12 12:38:21,639 INFO    : TestEnv      : Enabled tracepoints:\n",
      "2016-12-12 12:38:21,640 INFO    : TestEnv      :    sched_switch\n",
      "2016-12-12 12:38:21,641 INFO    : TestEnv      :    cpu_frequency\n",
      "2016-12-12 12:38:21,642 INFO    : EnergyMeter  : Scanning for HWMON channels, may take some time...\n",
      "2016-12-12 12:38:21,644 INFO    : EnergyMeter  : Channels selected for energy sampling:\n",
      "2016-12-12 12:38:21,645 INFO    : EnergyMeter  :    BOARDBIG_energy\n",
      "2016-12-12 12:38:21,645 INFO    : EnergyMeter  :    BOARDLITTLE_energy\n",
      "2016-12-12 12:38:21,646 INFO    : TestEnv      : Set results folder to:\n",
      "2016-12-12 12:38:21,647 INFO    : TestEnv      :    /home/vagrant/lisa/results/20161212_123821\n",
      "2016-12-12 12:38:21,647 INFO    : TestEnv      : Experiment results available also in:\n",
      "2016-12-12 12:38:21,648 INFO    : TestEnv      :    /home/vagrant/lisa/results_latest\n"
     ]
    }
   ],
   "source": [
    "# Initialize a test environment using:\n",
    "#  - the provided target configuration (my_target_conf)\n",
    "#  - the provided test configuration (my_test_conf)\n",
    "te = TestEnv(target_conf=my_target_conf, test_conf=my_tests_conf)\n",
    "target = te.target"
   ]
  },
  {
   "cell_type": "code",
   "execution_count": 5,
   "metadata": {
    "collapsed": false
   },
   "outputs": [
    {
     "name": "stderr",
     "output_type": "stream",
     "text": [
      "2016-12-12 12:38:25,875 INFO    : root         : Target ABI: arm64, CPus: ['A53', 'A57', 'A57', 'A53', 'A53', 'A53']\n"
     ]
    }
   ],
   "source": [
    "logging.info(\"Target ABI: %s, CPus: %s\",\n",
    "             target.abi,\n",
    "             target.cpuinfo.cpu_names)"
   ]
  },
  {
   "cell_type": "markdown",
   "metadata": {},
   "source": [
    "## Example of custom event definition"
   ]
  },
  {
   "cell_type": "code",
   "execution_count": 6,
   "metadata": {
    "collapsed": false
   },
   "outputs": [
    {
     "name": "stderr",
     "output_type": "stream",
     "text": [
      "2016-12-12 12:38:33,871 INFO    : root         : Generating events from user-space (will take ~140[s])...\n"
     ]
    }
   ],
   "source": [
    "# Define the format string for the custom events we will inject from user-space\n",
    "my_math_event_fmt = \"my_math_event: sin={} cos={}\"\n",
    "\n",
    "# Start FTrace\n",
    "te.ftrace.start()\n",
    "\n",
    "# Let's generate some interesting \"custom\" events from userspace\n",
    "logging.info('Generating events from user-space (will take ~140[s])...')\n",
    "for angle in range(360):\n",
    "    v_sin = int(1e6 * math.sin(math.radians(angle)))\n",
    "    v_cos = int(1e6 * math.cos(math.radians(angle)))\n",
    "    my_math_event = my_math_event_fmt.format(v_sin, v_cos)\n",
    "    # custom events can be generated either from userspace, like in this\n",
    "    # example, or also from kernelspace (using a trace_printk call)\n",
    "    target.execute('echo {} > /sys/kernel/debug/tracing/trace_marker'\\\n",
    "                   .format(my_math_event))\n",
    "\n",
    "# Stop FTrace\n",
    "te.ftrace.stop()"
   ]
  },
  {
   "cell_type": "code",
   "execution_count": 7,
   "metadata": {
    "collapsed": false
   },
   "outputs": [],
   "source": [
    "# Collect the generate trace\n",
    "trace_file = '/tmp/trace.dat'\n",
    "te.ftrace.get_trace(trace_file)"
   ]
  },
  {
   "cell_type": "code",
   "execution_count": 8,
   "metadata": {
    "collapsed": false
   },
   "outputs": [
    {
     "name": "stderr",
     "output_type": "stream",
     "text": [
      "2016-12-12 12:44:50,076 INFO    : Trace        : Parsing FTrace format...\n",
      "2016-12-12 12:44:51,500 INFO    : Trace        : Platform clusters verified to be Frequency coherent\n",
      "2016-12-12 12:44:51,682 INFO    : Trace        : Collected events spans a 113.228 [s] time interval\n",
      "2016-12-12 12:44:51,682 INFO    : Trace        : Set plots time range to (0.000000, 113.227578)[s]\n",
      "2016-12-12 12:44:51,683 INFO    : Analysis     : Registering trace analysis modules:\n",
      "2016-12-12 12:44:51,684 INFO    : Analysis     :    tasks\n",
      "2016-12-12 12:44:51,684 INFO    : Analysis     :    status\n",
      "2016-12-12 12:44:51,687 INFO    : Analysis     :    frequency\n",
      "2016-12-12 12:44:51,688 INFO    : Analysis     :    cpus\n",
      "2016-12-12 12:44:51,690 INFO    : Analysis     :    latency\n",
      "2016-12-12 12:44:51,693 INFO    : Analysis     :    idle\n",
      "2016-12-12 12:44:51,694 INFO    : Analysis     :    functions\n",
      "2016-12-12 12:44:51,695 INFO    : Analysis     :    eas\n"
     ]
    }
   ],
   "source": [
    "# Parse trace\n",
    "events_to_parse = my_tests_conf['ftrace']['events'] + my_tests_conf['ftrace']['custom']\n",
    "trace = Trace(te.platform, '/tmp', events_to_parse)"
   ]
  },
  {
   "cell_type": "markdown",
   "metadata": {},
   "source": [
    "## Inspection of the generated TRAPpy FTrace object"
   ]
  },
  {
   "cell_type": "code",
   "execution_count": 9,
   "metadata": {
    "collapsed": true
   },
   "outputs": [],
   "source": [
    "# Get the TRAPpy FTrace object which has been generated from the trace parsing\n",
    "ftrace = trace.ftrace"
   ]
  },
  {
   "cell_type": "code",
   "execution_count": 10,
   "metadata": {
    "collapsed": false
   },
   "outputs": [
    {
     "name": "stderr",
     "output_type": "stream",
     "text": [
      "2016-12-12 12:44:55,642 INFO    : root         : List of events identified in the trace:\n",
      "['cpu_frequency', 'my_math_event', 'sched_switch', 'cpu_idle']\n"
     ]
    }
   ],
   "source": [
    "# The FTrace object allows to verify which (of the registered) events have been\n",
    "# identified into the trace\n",
    "logging.info(\"List of events identified in the trace:\\n%s\",\n",
    "             ftrace.class_definitions.keys())"
   ]
  },
  {
   "cell_type": "code",
   "execution_count": 11,
   "metadata": {
    "collapsed": false
   },
   "outputs": [
    {
     "name": "stderr",
     "output_type": "stream",
     "text": [
      "2016-12-12 12:44:57,476 INFO    : root         : First 10 events of our 'my_math_event' custom event:\n"
     ]
    },
    {
     "data": {
      "text/html": [
       "<div>\n",
       "<table border=\"1\" class=\"dataframe\">\n",
       "  <thead>\n",
       "    <tr style=\"text-align: right;\">\n",
       "      <th></th>\n",
       "      <th>__comm</th>\n",
       "      <th>__cpu</th>\n",
       "      <th>__pid</th>\n",
       "      <th>cos</th>\n",
       "      <th>sin</th>\n",
       "    </tr>\n",
       "    <tr>\n",
       "      <th>Time</th>\n",
       "      <th></th>\n",
       "      <th></th>\n",
       "      <th></th>\n",
       "      <th></th>\n",
       "      <th></th>\n",
       "    </tr>\n",
       "  </thead>\n",
       "  <tbody>\n",
       "    <tr>\n",
       "      <th>0.000000</th>\n",
       "      <td>bash</td>\n",
       "      <td>2</td>\n",
       "      <td>608</td>\n",
       "      <td>1000000</td>\n",
       "      <td>0</td>\n",
       "    </tr>\n",
       "    <tr>\n",
       "      <th>0.309391</th>\n",
       "      <td>bash</td>\n",
       "      <td>2</td>\n",
       "      <td>608</td>\n",
       "      <td>999847</td>\n",
       "      <td>17452</td>\n",
       "    </tr>\n",
       "    <tr>\n",
       "      <th>0.621478</th>\n",
       "      <td>bash</td>\n",
       "      <td>2</td>\n",
       "      <td>608</td>\n",
       "      <td>999390</td>\n",
       "      <td>34899</td>\n",
       "    </tr>\n",
       "    <tr>\n",
       "      <th>0.932506</th>\n",
       "      <td>bash</td>\n",
       "      <td>1</td>\n",
       "      <td>608</td>\n",
       "      <td>998629</td>\n",
       "      <td>52335</td>\n",
       "    </tr>\n",
       "    <tr>\n",
       "      <th>1.242157</th>\n",
       "      <td>bash</td>\n",
       "      <td>2</td>\n",
       "      <td>608</td>\n",
       "      <td>997564</td>\n",
       "      <td>69756</td>\n",
       "    </tr>\n",
       "    <tr>\n",
       "      <th>1.551930</th>\n",
       "      <td>bash</td>\n",
       "      <td>1</td>\n",
       "      <td>608</td>\n",
       "      <td>996194</td>\n",
       "      <td>87155</td>\n",
       "    </tr>\n",
       "    <tr>\n",
       "      <th>1.863359</th>\n",
       "      <td>bash</td>\n",
       "      <td>2</td>\n",
       "      <td>608</td>\n",
       "      <td>994521</td>\n",
       "      <td>104528</td>\n",
       "    </tr>\n",
       "    <tr>\n",
       "      <th>2.173332</th>\n",
       "      <td>bash</td>\n",
       "      <td>1</td>\n",
       "      <td>608</td>\n",
       "      <td>992546</td>\n",
       "      <td>121869</td>\n",
       "    </tr>\n",
       "    <tr>\n",
       "      <th>2.484736</th>\n",
       "      <td>bash</td>\n",
       "      <td>2</td>\n",
       "      <td>608</td>\n",
       "      <td>990268</td>\n",
       "      <td>139173</td>\n",
       "    </tr>\n",
       "    <tr>\n",
       "      <th>2.795345</th>\n",
       "      <td>bash</td>\n",
       "      <td>1</td>\n",
       "      <td>608</td>\n",
       "      <td>987688</td>\n",
       "      <td>156434</td>\n",
       "    </tr>\n",
       "  </tbody>\n",
       "</table>\n",
       "</div>"
      ],
      "text/plain": [
       "         __comm  __cpu  __pid      cos     sin\n",
       "Time                                          \n",
       "0.000000   bash      2    608  1000000       0\n",
       "0.309391   bash      2    608   999847   17452\n",
       "0.621478   bash      2    608   999390   34899\n",
       "0.932506   bash      1    608   998629   52335\n",
       "1.242157   bash      2    608   997564   69756\n",
       "1.551930   bash      1    608   996194   87155\n",
       "1.863359   bash      2    608   994521  104528\n",
       "2.173332   bash      1    608   992546  121869\n",
       "2.484736   bash      2    608   990268  139173\n",
       "2.795345   bash      1    608   987688  156434"
      ]
     },
     "execution_count": 11,
     "metadata": {},
     "output_type": "execute_result"
    }
   ],
   "source": [
    "# Each event identified in the trace is appended to a table (i.e. data_frame)\n",
    "# which has the same name of the event\n",
    "logging.info(\"First 10 events of our 'my_math_event' custom event:\")\n",
    "ftrace.my_math_event.data_frame.head(10)"
   ]
  },
  {
   "cell_type": "code",
   "execution_count": 12,
   "metadata": {
    "collapsed": false
   },
   "outputs": [
    {
     "name": "stderr",
     "output_type": "stream",
     "text": [
      "2016-12-12 12:44:58,945 INFO    : root         : First 10 events of our 'cpu_frequency' tracepoint:\n"
     ]
    },
    {
     "data": {
      "text/html": [
       "<div>\n",
       "<table border=\"1\" class=\"dataframe\">\n",
       "  <thead>\n",
       "    <tr style=\"text-align: right;\">\n",
       "      <th></th>\n",
       "      <th>__comm</th>\n",
       "      <th>__cpu</th>\n",
       "      <th>__pid</th>\n",
       "      <th>cpu</th>\n",
       "      <th>frequency</th>\n",
       "    </tr>\n",
       "    <tr>\n",
       "      <th>Time</th>\n",
       "      <th></th>\n",
       "      <th></th>\n",
       "      <th></th>\n",
       "      <th></th>\n",
       "      <th></th>\n",
       "    </tr>\n",
       "  </thead>\n",
       "  <tbody>\n",
       "    <tr>\n",
       "      <th>111.728239</th>\n",
       "      <td>cfinteractive</td>\n",
       "      <td>2</td>\n",
       "      <td>44</td>\n",
       "      <td>1</td>\n",
       "      <td>625000</td>\n",
       "    </tr>\n",
       "    <tr>\n",
       "      <th>111.728245</th>\n",
       "      <td>cfinteractive</td>\n",
       "      <td>2</td>\n",
       "      <td>44</td>\n",
       "      <td>2</td>\n",
       "      <td>625000</td>\n",
       "    </tr>\n",
       "    <tr>\n",
       "      <th>111.868680</th>\n",
       "      <td>cfinteractive</td>\n",
       "      <td>2</td>\n",
       "      <td>44</td>\n",
       "      <td>1</td>\n",
       "      <td>450000</td>\n",
       "    </tr>\n",
       "    <tr>\n",
       "      <th>111.868690</th>\n",
       "      <td>cfinteractive</td>\n",
       "      <td>2</td>\n",
       "      <td>44</td>\n",
       "      <td>2</td>\n",
       "      <td>450000</td>\n",
       "    </tr>\n",
       "  </tbody>\n",
       "</table>\n",
       "</div>"
      ],
      "text/plain": [
       "                   __comm  __cpu  __pid  cpu  frequency\n",
       "Time                                                   \n",
       "111.728239  cfinteractive      2     44    1     625000\n",
       "111.728245  cfinteractive      2     44    2     625000\n",
       "111.868680  cfinteractive      2     44    1     450000\n",
       "111.868690  cfinteractive      2     44    2     450000"
      ]
     },
     "execution_count": 12,
     "metadata": {},
     "output_type": "execute_result"
    }
   ],
   "source": [
    "logging.info(\"First 10 events of our 'cpu_frequency' tracepoint:\")\n",
    "ftrace.cpu_frequency.data_frame.head(10)"
   ]
  },
  {
   "cell_type": "markdown",
   "metadata": {},
   "source": [
    "## Plotting tracepoint and/or custom events"
   ]
  },
  {
   "cell_type": "code",
   "execution_count": 13,
   "metadata": {
    "code_folding": [],
    "collapsed": false
   },
   "outputs": [
    {
     "data": {
      "image/png": "[encoded data removed]",
      "text/plain": [
       "<matplotlib.figure.Figure at 0x7f72339dd750>"
      ]
     },
     "metadata": {},
     "output_type": "display_data"
    }
   ],
   "source": [
    "# It is possible to mix in the same plot tracepoints and custom events\n",
    "\n",
    "# The LinePlot module requires to specify a list of signals to plot.\n",
    "# Each signal is defined as:\n",
    "#       <event>:<column>\n",
    "# where:\n",
    "#  <event>   is one of the events collected from the trace by the FTrace object\n",
    "#  <column>  is one of the column of the previously defined event\n",
    "my_signals = [\n",
    "    'cpu_frequency:frequency',\n",
    "    'my_math_event:sin',\n",
    "    'my_math_event:cos'\n",
    "]\n",
    "\n",
    "# These two paramatere are passed to the LinePlot call as long with the\n",
    "# TRAPpy FTrace object\n",
    "trappy.LinePlot(\n",
    "    ftrace,                      # FTrace object\n",
    "    signals=my_signals,          # Signals to be plotted\n",
    "    drawstyle='steps-post',      # Plot style options\n",
    "    marker = '+'\n",
    ").view()"
   ]
  }
 ],
 "metadata": {
  "kernelspec": {
   "display_name": "Python 2",
   "language": "python",
   "name": "python2"
  },
  "language_info": {
   "codemirror_mode": {
    "name": "ipython",
    "version": 2
   },
   "file_extension": ".py",
   "mimetype": "text/x-python",
   "name": "python",
   "nbconvert_exporter": "python",
   "pygments_lexer": "ipython2",
   "version": "2.7.6"
  }
 },
 "nbformat": 4,
 "nbformat_minor": 0
}
