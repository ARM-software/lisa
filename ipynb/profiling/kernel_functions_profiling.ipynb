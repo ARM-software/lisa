{
 "cells": [
  {
   "cell_type": "markdown",
   "metadata": {},
   "source": [
    "# Kernel Functions Profiling"
   ]
  },
  {
   "cell_type": "markdown",
   "metadata": {},
   "source": [
    "This notebook is there to show how to do some simple function profiling using LISA.\n",
    "\n",
    "We'll be using the Ftrace function profiler (See \"Function profiling\" in https://lwn.net/Articles/370423/) for that, and will present the relevant Python APIs from Devlib & LISA that make it easier to use."
   ]
  },
  {
   "cell_type": "code",
   "execution_count": 1,
   "metadata": {},
   "outputs": [
    {
     "name": "stderr",
     "output_type": "stream",
     "text": [
      "2019-02-26 16:55:21,469 INFO    : root         : Using LISA logging configuration:\n",
      "2019-02-26 16:55:21,470 INFO    : root         :   /data/work/lisa/logging.conf\n"
     ]
    }
   ],
   "source": [
    "import logging\n",
    "from lisa.utils import setup_logging\n",
    "setup_logging()"
   ]
  },
  {
   "cell_type": "code",
   "execution_count": 2,
   "metadata": {},
   "outputs": [
    {
     "name": "stderr",
     "output_type": "stream",
     "text": [
      "2019-02-26 16:55:21,487 INFO    : root         : Generating grammar tables from /usr/lib/python3.5/lib2to3/Grammar.txt\n",
      "2019-02-26 16:55:21,510 INFO    : root         : Generating grammar tables from /usr/lib/python3.5/lib2to3/PatternGrammar.txt\n"
     ]
    }
   ],
   "source": [
    "import os\n",
    "from lisa.target import Target, TargetConf"
   ]
  },
  {
   "cell_type": "markdown",
   "metadata": {},
   "source": [
    "## Target configuration"
   ]
  },
  {
   "cell_type": "markdown",
   "metadata": {},
   "source": [
    "The only target requirement here is to have enough Ftrace goodies enabled (look at the requirements for **CONFIG_FUNCTION_PROFILER**)"
   ]
  },
  {
   "cell_type": "code",
   "execution_count": 3,
   "metadata": {},
   "outputs": [
    {
     "name": "stderr",
     "output_type": "stream",
     "text": [
      "2019-02-26 16:55:22,134 INFO    : lisa.target.Target : Creating result directory: /data/work/lisa/results/Target-myhikey960-20190226_165522.134327\n",
      "2019-02-26 16:55:22,137 INFO    : lisa.target.Target : linux myhikey960 target connection settings:\n",
      "2019-02-26 16:55:22,138 INFO    : lisa.target.Target :       host : 192.168.0.1\n",
      "2019-02-26 16:55:22,140 INFO    : lisa.target.Target :   password : root\n",
      "2019-02-26 16:55:22,141 INFO    : lisa.target.Target :       port : 22\n",
      "2019-02-26 16:55:22,142 INFO    : lisa.target.Target :   username : root\n",
      "2019-02-26 16:55:22,160 INFO    : lisa.target.Target : Devlib modules to load: bl, cgroups, cpufreq, cpuidle, devfreq, fastboot, gem5stats, gpufreq, hotplug, hwmon, mbed-fan, odroidxu3-fan, sched, thermal\n",
      "2019-02-26 16:55:26,735 WARNING : LinuxTarget  : Module devfreq is not supported by the target\n",
      "2019-02-26 16:55:26,738 WARNING : LinuxTarget  : Module fastboot is not supported by the target\n",
      "2019-02-26 16:55:26,739 WARNING : LinuxTarget  : Module gem5stats is not supported by the target\n",
      "2019-02-26 16:55:26,904 WARNING : LinuxTarget  : Module gpufreq is not supported by the target\n",
      "2019-02-26 16:55:27,581 WARNING : LinuxTarget  : Module odroidxu3-fan is not supported by the target\n",
      "2019-02-26 16:55:29,475 INFO    : CGroups      : Available controllers:\n",
      "2019-02-26 16:55:29,988 INFO    : CGroups      :   cpuset       : /root/devlib-target/cgroups/devlib_cgh3\n",
      "2019-02-26 16:55:30,494 INFO    : CGroups      :   cpu          : /root/devlib-target/cgroups/devlib_cgh2\n",
      "2019-02-26 16:55:30,991 INFO    : CGroups      :   cpuacct      : /root/devlib-target/cgroups/devlib_cgh2\n",
      "2019-02-26 16:55:31,496 INFO    : CGroups      :   blkio        : /root/devlib-target/cgroups/devlib_cgh4\n",
      "2019-02-26 16:55:32,005 INFO    : CGroups      :   memory       : /root/devlib-target/cgroups/devlib_cgh6\n",
      "2019-02-26 16:55:32,516 INFO    : CGroups      :   devices      : /root/devlib-target/cgroups/devlib_cgh10\n",
      "2019-02-26 16:55:33,020 INFO    : CGroups      :   freezer      : /root/devlib-target/cgroups/devlib_cgh7\n",
      "2019-02-26 16:55:33,527 INFO    : CGroups      :   perf_event   : /root/devlib-target/cgroups/devlib_cgh5\n",
      "2019-02-26 16:55:34,031 INFO    : CGroups      :   hugetlb      : /root/devlib-target/cgroups/devlib_cgh8\n",
      "2019-02-26 16:55:34,544 INFO    : CGroups      :   pids         : /root/devlib-target/cgroups/devlib_cgh9\n",
      "2019-02-26 16:55:34,713 WARNING : lisa.target.Target : Failed to initialized \"devfreq\" devlib Module\n",
      "2019-02-26 16:55:34,714 WARNING : lisa.target.Target : Failed to initialized \"fastboot\" devlib Module\n",
      "2019-02-26 16:55:34,715 WARNING : lisa.target.Target : Failed to initialized \"gem5stats\" devlib Module\n",
      "2019-02-26 16:55:34,715 WARNING : lisa.target.Target : Failed to initialized \"gpufreq\" devlib Module\n",
      "2019-02-26 16:55:34,716 WARNING : lisa.target.Target : Failed to initialized \"mbed-fan\" devlib Module\n",
      "2019-02-26 16:55:34,717 WARNING : lisa.target.Target : Failed to initialized \"odroidxu3-fan\" devlib Module\n",
      "2019-02-26 16:55:34,718 INFO    : lisa.platforms.platinfo.PlatformInfo : Attempting to read energy model from target\n",
      "2019-02-26 16:55:35,378 INFO    : lisa.energy_model.EnergyModel.EMReader : Attempting to load EM using from_debugfsEM_target\n",
      "2019-02-26 16:55:40,913 INFO    : lisa.target.Target : Effective platform information:\n",
      "|- abi from target (str): arm64\n",
      "|- cpu-capacities from target (dict): {0: 462, 1: 462, 2: 462, 3: 462, 4: 1024, 5: 1024, 6: 1024, 7: 1024}\n",
      "|- cpus-count from target (int): 8\n",
      "|- freq-domains from target (list): [[0, 1, 2, 3], [4, 5, 6, 7]]\n",
      "|- freqs from target (dict): {0: [533000, 999000, 1402000, 1709000, 1844000], 1: [533000, 999000, 1402000, 1709000, 1844000], 2: [533000, 999000, 1402000, 1709000, 1844000], 3: [533000, 999000, 1402000, 1709000, 1844000], 4: [903000, 1421000, 1805000, 2112000, 2362000], 5: [903000, 1421000, 1805000, 2112000, 2362000], 6: [903000, 1421000, 1805000, 2112000, 2362000], 7: [903000, 1421000, 1805000, 2112000, 2362000]}\n",
      "+- kernel:\n",
      "    |- config from target (TypedKernelConfig): <kernel config>\n",
      "    |- version from target (KernelVersion): 5.0.0-rc6-00099-g5441513e6c1c 29 SMP PREEMPT Tue Feb 26 16:27:53 GMT 2019\n",
      "|- name from target-conf (str): myhikey960\n",
      "|- nrg-model from target (EnergyModel): <lisa.energy_model.EnergyModel object at 0x7fcd3f7b62e8>\n",
      "|- os from target (str): linux\n",
      "+- rtapp:\n",
      "    |- calib from target (DeferredValue): <lazy value of RTA.get_cpu_calibrations>\n",
      "|- capacity-classes from target(platform-info/cpu-capacities) (list): [[0, 1, 2, 3], [4, 5, 6, 7]]\n"
     ]
    }
   ],
   "source": [
    "target = Target(\n",
    "    kind='linux',\n",
    "    name='myhikey960',\n",
    "    host='192.168.0.1',\n",
    "    username='root',\n",
    "    password='root',\n",
    ")"
   ]
  },
  {
   "cell_type": "markdown",
   "metadata": {},
   "source": [
    "## Experiment setup"
   ]
  },
  {
   "cell_type": "markdown",
   "metadata": {},
   "source": [
    "We can run whatever we want here, let's just build a simple ((1 20% task) x NR_CPUS) workload"
   ]
  },
  {
   "cell_type": "code",
   "execution_count": 4,
   "metadata": {},
   "outputs": [],
   "source": [
    "from lisa.wlgen.rta import RTA, Periodic"
   ]
  },
  {
   "cell_type": "code",
   "execution_count": 5,
   "metadata": {},
   "outputs": [],
   "source": [
    "rtapp_profile = {}\n",
    "\n",
    "for cpu in range(target.number_of_cpus):\n",
    "    rtapp_profile[\"task{}\".format(cpu)] = Periodic(duty_cycle_pct=20)"
   ]
  },
  {
   "cell_type": "code",
   "execution_count": 6,
   "metadata": {},
   "outputs": [
    {
     "name": "stderr",
     "output_type": "stream",
     "text": [
      "2019-02-26 16:55:41,167 INFO    : lisa.target.Target : Creating result directory: /data/work/lisa/results/Target-myhikey960-20190226_165522.134327/RTA-profiling_wload-20190226_165541.167219\n",
      "2019-02-26 16:55:47,120 INFO    : lisa.wlgen.rta.RTA : CPU0 calibration...\n",
      "2019-02-26 16:55:47,451 INFO    : lisa.wlgen.rta.RTA : Calibration value: CPU0\n",
      "2019-02-26 16:55:47,453 INFO    : lisa.wlgen.rta.RTA : Default policy: SCHED_OTHER\n",
      "2019-02-26 16:55:47,454 INFO    : lisa.wlgen.rta.RTA : ------------------------\n",
      "2019-02-26 16:55:47,456 INFO    : lisa.wlgen.rta.RTA : task [task1], sched: using default policy\n",
      "2019-02-26 16:55:47,457 INFO    : lisa.wlgen.rta.RTA :  | start delay: 0.000000 [s]\n",
      "2019-02-26 16:55:47,459 INFO    : lisa.wlgen.rta.RTA :  | loops count: 1\n",
      "2019-02-26 16:55:47,461 INFO    : lisa.wlgen.rta.RTA :  + phase_000001\n",
      "2019-02-26 16:55:47,462 INFO    : lisa.wlgen.rta.Phase :  | batch 0.001000 [s]\n",
      "2019-02-26 16:55:47,707 INFO    : lisa.wlgen.rta.RTA : Execution start: /root/devlib-target/bin/rt-app /root/devlib-target/rta_calib_cpu0.json 2>&1\n",
      "2019-02-26 16:55:54,238 INFO    : lisa.wlgen.rta.RTA : Execution complete\n",
      "2019-02-26 16:55:54,495 INFO    : lisa.wlgen.rta.RTA : CPU1 calibration...\n",
      "2019-02-26 16:55:54,834 INFO    : lisa.wlgen.rta.RTA : Calibration value: CPU1\n",
      "2019-02-26 16:55:54,836 INFO    : lisa.wlgen.rta.RTA : Default policy: SCHED_OTHER\n",
      "2019-02-26 16:55:54,837 INFO    : lisa.wlgen.rta.RTA : ------------------------\n",
      "2019-02-26 16:55:54,839 INFO    : lisa.wlgen.rta.RTA : task [task1], sched: using default policy\n",
      "2019-02-26 16:55:54,840 INFO    : lisa.wlgen.rta.RTA :  | start delay: 0.000000 [s]\n",
      "2019-02-26 16:55:54,841 INFO    : lisa.wlgen.rta.RTA :  | loops count: 1\n",
      "2019-02-26 16:55:54,843 INFO    : lisa.wlgen.rta.RTA :  + phase_000001\n",
      "2019-02-26 16:55:54,844 INFO    : lisa.wlgen.rta.Phase :  | batch 0.001000 [s]\n",
      "2019-02-26 16:55:55,136 INFO    : lisa.wlgen.rta.RTA : Execution start: /root/devlib-target/bin/rt-app /root/devlib-target/rta_calib_cpu1.json 2>&1\n",
      "2019-02-26 16:56:01,658 INFO    : lisa.wlgen.rta.RTA : Execution complete\n",
      "2019-02-26 16:56:01,917 INFO    : lisa.wlgen.rta.RTA : CPU2 calibration...\n",
      "2019-02-26 16:56:02,250 INFO    : lisa.wlgen.rta.RTA : Calibration value: CPU2\n",
      "2019-02-26 16:56:02,252 INFO    : lisa.wlgen.rta.RTA : Default policy: SCHED_OTHER\n",
      "2019-02-26 16:56:02,253 INFO    : lisa.wlgen.rta.RTA : ------------------------\n",
      "2019-02-26 16:56:02,255 INFO    : lisa.wlgen.rta.RTA : task [task1], sched: using default policy\n",
      "2019-02-26 16:56:02,256 INFO    : lisa.wlgen.rta.RTA :  | start delay: 0.000000 [s]\n",
      "2019-02-26 16:56:02,258 INFO    : lisa.wlgen.rta.RTA :  | loops count: 1\n",
      "2019-02-26 16:56:02,260 INFO    : lisa.wlgen.rta.RTA :  + phase_000001\n",
      "2019-02-26 16:56:02,262 INFO    : lisa.wlgen.rta.Phase :  | batch 0.001000 [s]\n",
      "2019-02-26 16:56:02,506 INFO    : lisa.wlgen.rta.RTA : Execution start: /root/devlib-target/bin/rt-app /root/devlib-target/rta_calib_cpu2.json 2>&1\n",
      "2019-02-26 16:56:09,032 INFO    : lisa.wlgen.rta.RTA : Execution complete\n",
      "2019-02-26 16:56:09,320 INFO    : lisa.wlgen.rta.RTA : CPU3 calibration...\n",
      "2019-02-26 16:56:09,654 INFO    : lisa.wlgen.rta.RTA : Calibration value: CPU3\n",
      "2019-02-26 16:56:09,656 INFO    : lisa.wlgen.rta.RTA : Default policy: SCHED_OTHER\n",
      "2019-02-26 16:56:09,657 INFO    : lisa.wlgen.rta.RTA : ------------------------\n",
      "2019-02-26 16:56:09,659 INFO    : lisa.wlgen.rta.RTA : task [task1], sched: using default policy\n",
      "2019-02-26 16:56:09,660 INFO    : lisa.wlgen.rta.RTA :  | start delay: 0.000000 [s]\n",
      "2019-02-26 16:56:09,661 INFO    : lisa.wlgen.rta.RTA :  | loops count: 1\n",
      "2019-02-26 16:56:09,662 INFO    : lisa.wlgen.rta.RTA :  + phase_000001\n",
      "2019-02-26 16:56:09,664 INFO    : lisa.wlgen.rta.Phase :  | batch 0.001000 [s]\n",
      "2019-02-26 16:56:09,906 INFO    : lisa.wlgen.rta.RTA : Execution start: /root/devlib-target/bin/rt-app /root/devlib-target/rta_calib_cpu3.json 2>&1\n",
      "2019-02-26 16:56:16,435 INFO    : lisa.wlgen.rta.RTA : Execution complete\n",
      "2019-02-26 16:56:16,686 INFO    : lisa.wlgen.rta.RTA : CPU4 calibration...\n",
      "2019-02-26 16:56:17,020 INFO    : lisa.wlgen.rta.RTA : Calibration value: CPU4\n",
      "2019-02-26 16:56:17,021 INFO    : lisa.wlgen.rta.RTA : Default policy: SCHED_OTHER\n",
      "2019-02-26 16:56:17,023 INFO    : lisa.wlgen.rta.RTA : ------------------------\n",
      "2019-02-26 16:56:17,024 INFO    : lisa.wlgen.rta.RTA : task [task1], sched: using default policy\n",
      "2019-02-26 16:56:17,025 INFO    : lisa.wlgen.rta.RTA :  | start delay: 0.000000 [s]\n",
      "2019-02-26 16:56:17,027 INFO    : lisa.wlgen.rta.RTA :  | loops count: 1\n",
      "2019-02-26 16:56:17,028 INFO    : lisa.wlgen.rta.RTA :  + phase_000001\n",
      "2019-02-26 16:56:17,029 INFO    : lisa.wlgen.rta.Phase :  | batch 0.001000 [s]\n",
      "2019-02-26 16:56:17,274 INFO    : lisa.wlgen.rta.RTA : Execution start: /root/devlib-target/bin/rt-app /root/devlib-target/rta_calib_cpu4.json 2>&1\n",
      "2019-02-26 16:56:22,613 INFO    : lisa.wlgen.rta.RTA : Execution complete\n",
      "2019-02-26 16:56:22,863 INFO    : lisa.wlgen.rta.RTA : CPU5 calibration...\n",
      "2019-02-26 16:56:23,197 INFO    : lisa.wlgen.rta.RTA : Calibration value: CPU5\n",
      "2019-02-26 16:56:23,199 INFO    : lisa.wlgen.rta.RTA : Default policy: SCHED_OTHER\n",
      "2019-02-26 16:56:23,200 INFO    : lisa.wlgen.rta.RTA : ------------------------\n",
      "2019-02-26 16:56:23,201 INFO    : lisa.wlgen.rta.RTA : task [task1], sched: using default policy\n",
      "2019-02-26 16:56:23,202 INFO    : lisa.wlgen.rta.RTA :  | start delay: 0.000000 [s]\n",
      "2019-02-26 16:56:23,204 INFO    : lisa.wlgen.rta.RTA :  | loops count: 1\n",
      "2019-02-26 16:56:23,206 INFO    : lisa.wlgen.rta.RTA :  + phase_000001\n",
      "2019-02-26 16:56:23,207 INFO    : lisa.wlgen.rta.Phase :  | batch 0.001000 [s]\n",
      "2019-02-26 16:56:23,458 INFO    : lisa.wlgen.rta.RTA : Execution start: /root/devlib-target/bin/rt-app /root/devlib-target/rta_calib_cpu5.json 2>&1\n",
      "2019-02-26 16:56:27,768 INFO    : lisa.wlgen.rta.RTA : Execution complete\n",
      "2019-02-26 16:56:28,020 INFO    : lisa.wlgen.rta.RTA : CPU6 calibration...\n",
      "2019-02-26 16:56:28,356 INFO    : lisa.wlgen.rta.RTA : Calibration value: CPU6\n",
      "2019-02-26 16:56:28,357 INFO    : lisa.wlgen.rta.RTA : Default policy: SCHED_OTHER\n",
      "2019-02-26 16:56:28,359 INFO    : lisa.wlgen.rta.RTA : ------------------------\n",
      "2019-02-26 16:56:28,360 INFO    : lisa.wlgen.rta.RTA : task [task1], sched: using default policy\n",
      "2019-02-26 16:56:28,361 INFO    : lisa.wlgen.rta.RTA :  | start delay: 0.000000 [s]\n",
      "2019-02-26 16:56:28,363 INFO    : lisa.wlgen.rta.RTA :  | loops count: 1\n",
      "2019-02-26 16:56:28,364 INFO    : lisa.wlgen.rta.RTA :  + phase_000001\n",
      "2019-02-26 16:56:28,366 INFO    : lisa.wlgen.rta.Phase :  | batch 0.001000 [s]\n",
      "2019-02-26 16:56:28,609 INFO    : lisa.wlgen.rta.RTA : Execution start: /root/devlib-target/bin/rt-app /root/devlib-target/rta_calib_cpu6.json 2>&1\n",
      "2019-02-26 16:56:33,947 INFO    : lisa.wlgen.rta.RTA : Execution complete\n",
      "2019-02-26 16:56:34,239 INFO    : lisa.wlgen.rta.RTA : CPU7 calibration...\n",
      "2019-02-26 16:56:34,571 INFO    : lisa.wlgen.rta.RTA : Calibration value: CPU7\n",
      "2019-02-26 16:56:34,573 INFO    : lisa.wlgen.rta.RTA : Default policy: SCHED_OTHER\n",
      "2019-02-26 16:56:34,575 INFO    : lisa.wlgen.rta.RTA : ------------------------\n",
      "2019-02-26 16:56:34,576 INFO    : lisa.wlgen.rta.RTA : task [task1], sched: using default policy\n",
      "2019-02-26 16:56:34,577 INFO    : lisa.wlgen.rta.RTA :  | start delay: 0.000000 [s]\n",
      "2019-02-26 16:56:34,579 INFO    : lisa.wlgen.rta.RTA :  | loops count: 1\n",
      "2019-02-26 16:56:34,580 INFO    : lisa.wlgen.rta.RTA :  + phase_000001\n",
      "2019-02-26 16:56:34,581 INFO    : lisa.wlgen.rta.Phase :  | batch 0.001000 [s]\n",
      "2019-02-26 16:56:34,823 INFO    : lisa.wlgen.rta.RTA : Execution start: /root/devlib-target/bin/rt-app /root/devlib-target/rta_calib_cpu7.json 2>&1\n",
      "2019-02-26 16:56:40,162 INFO    : lisa.wlgen.rta.RTA : Execution complete\n",
      "2019-02-26 16:56:40,407 INFO    : lisa.wlgen.rta.RTA : Target RT-App calibration: {0: 302, 1: 302, 2: 302, 3: 302, 4: 155, 5: 155, 6: 155, 7: 155}\n",
      "2019-02-26 16:56:41,962 INFO    : lisa.wlgen.rta.RTA : Calibration value: 155\n",
      "2019-02-26 16:56:41,963 INFO    : lisa.wlgen.rta.RTA : Default policy: SCHED_OTHER\n",
      "2019-02-26 16:56:41,964 INFO    : lisa.wlgen.rta.RTA : ------------------------\n",
      "2019-02-26 16:56:41,965 INFO    : lisa.wlgen.rta.RTA : task [task2], sched: using default policy\n"
     ]
    },
    {
     "name": "stderr",
     "output_type": "stream",
     "text": [
      "2019-02-26 16:56:41,966 INFO    : lisa.wlgen.rta.RTA :  | start delay: 0.000000 [s]\n",
      "2019-02-26 16:56:41,967 INFO    : lisa.wlgen.rta.RTA :  | loops count: 1\n",
      "2019-02-26 16:56:41,968 INFO    : lisa.wlgen.rta.RTA :  + phase_000001\n",
      "2019-02-26 16:56:41,969 INFO    : lisa.wlgen.rta.Phase :  | duration 1.000000 [s] (10 loops)\n",
      "2019-02-26 16:56:41,970 INFO    : lisa.wlgen.rta.Phase :  |  period   100000 [us], duty_cycle  20 %\n",
      "2019-02-26 16:56:41,971 INFO    : lisa.wlgen.rta.Phase :  |  run_time  20000 [us], sleep_time  80000 [us]\n",
      "2019-02-26 16:56:41,972 INFO    : lisa.wlgen.rta.RTA : ------------------------\n",
      "2019-02-26 16:56:41,974 INFO    : lisa.wlgen.rta.RTA : task [task7], sched: using default policy\n",
      "2019-02-26 16:56:41,979 INFO    : lisa.wlgen.rta.RTA :  | start delay: 0.000000 [s]\n",
      "2019-02-26 16:56:41,979 INFO    : lisa.wlgen.rta.RTA :  | loops count: 1\n",
      "2019-02-26 16:56:41,981 INFO    : lisa.wlgen.rta.RTA :  + phase_000001\n",
      "2019-02-26 16:56:41,982 INFO    : lisa.wlgen.rta.Phase :  | duration 1.000000 [s] (10 loops)\n",
      "2019-02-26 16:56:41,983 INFO    : lisa.wlgen.rta.Phase :  |  period   100000 [us], duty_cycle  20 %\n",
      "2019-02-26 16:56:41,984 INFO    : lisa.wlgen.rta.Phase :  |  run_time  20000 [us], sleep_time  80000 [us]\n",
      "2019-02-26 16:56:41,985 INFO    : lisa.wlgen.rta.RTA : ------------------------\n",
      "2019-02-26 16:56:41,987 INFO    : lisa.wlgen.rta.RTA : task [task5], sched: using default policy\n",
      "2019-02-26 16:56:41,988 INFO    : lisa.wlgen.rta.RTA :  | start delay: 0.000000 [s]\n",
      "2019-02-26 16:56:41,989 INFO    : lisa.wlgen.rta.RTA :  | loops count: 1\n",
      "2019-02-26 16:56:41,990 INFO    : lisa.wlgen.rta.RTA :  + phase_000001\n",
      "2019-02-26 16:56:41,990 INFO    : lisa.wlgen.rta.Phase :  | duration 1.000000 [s] (10 loops)\n",
      "2019-02-26 16:56:41,991 INFO    : lisa.wlgen.rta.Phase :  |  period   100000 [us], duty_cycle  20 %\n",
      "2019-02-26 16:56:41,992 INFO    : lisa.wlgen.rta.Phase :  |  run_time  20000 [us], sleep_time  80000 [us]\n",
      "2019-02-26 16:56:41,993 INFO    : lisa.wlgen.rta.RTA : ------------------------\n",
      "2019-02-26 16:56:41,994 INFO    : lisa.wlgen.rta.RTA : task [task3], sched: using default policy\n",
      "2019-02-26 16:56:41,994 INFO    : lisa.wlgen.rta.RTA :  | start delay: 0.000000 [s]\n",
      "2019-02-26 16:56:41,995 INFO    : lisa.wlgen.rta.RTA :  | loops count: 1\n",
      "2019-02-26 16:56:41,996 INFO    : lisa.wlgen.rta.RTA :  + phase_000001\n",
      "2019-02-26 16:56:41,996 INFO    : lisa.wlgen.rta.Phase :  | duration 1.000000 [s] (10 loops)\n",
      "2019-02-26 16:56:42,002 INFO    : lisa.wlgen.rta.Phase :  |  period   100000 [us], duty_cycle  20 %\n",
      "2019-02-26 16:56:42,003 INFO    : lisa.wlgen.rta.Phase :  |  run_time  20000 [us], sleep_time  80000 [us]\n",
      "2019-02-26 16:56:42,004 INFO    : lisa.wlgen.rta.RTA : ------------------------\n",
      "2019-02-26 16:56:42,004 INFO    : lisa.wlgen.rta.RTA : task [task6], sched: using default policy\n",
      "2019-02-26 16:56:42,005 INFO    : lisa.wlgen.rta.RTA :  | start delay: 0.000000 [s]\n",
      "2019-02-26 16:56:42,007 INFO    : lisa.wlgen.rta.RTA :  | loops count: 1\n",
      "2019-02-26 16:56:42,008 INFO    : lisa.wlgen.rta.RTA :  + phase_000001\n",
      "2019-02-26 16:56:42,009 INFO    : lisa.wlgen.rta.Phase :  | duration 1.000000 [s] (10 loops)\n",
      "2019-02-26 16:56:42,010 INFO    : lisa.wlgen.rta.Phase :  |  period   100000 [us], duty_cycle  20 %\n",
      "2019-02-26 16:56:42,011 INFO    : lisa.wlgen.rta.Phase :  |  run_time  20000 [us], sleep_time  80000 [us]\n",
      "2019-02-26 16:56:42,012 INFO    : lisa.wlgen.rta.RTA : ------------------------\n",
      "2019-02-26 16:56:42,012 INFO    : lisa.wlgen.rta.RTA : task [task0], sched: using default policy\n",
      "2019-02-26 16:56:42,014 INFO    : lisa.wlgen.rta.RTA :  | start delay: 0.000000 [s]\n",
      "2019-02-26 16:56:42,015 INFO    : lisa.wlgen.rta.RTA :  | loops count: 1\n",
      "2019-02-26 16:56:42,016 INFO    : lisa.wlgen.rta.RTA :  + phase_000001\n",
      "2019-02-26 16:56:42,017 INFO    : lisa.wlgen.rta.Phase :  | duration 1.000000 [s] (10 loops)\n",
      "2019-02-26 16:56:42,019 INFO    : lisa.wlgen.rta.Phase :  |  period   100000 [us], duty_cycle  20 %\n",
      "2019-02-26 16:56:42,020 INFO    : lisa.wlgen.rta.Phase :  |  run_time  20000 [us], sleep_time  80000 [us]\n",
      "2019-02-26 16:56:42,021 INFO    : lisa.wlgen.rta.RTA : ------------------------\n",
      "2019-02-26 16:56:42,022 INFO    : lisa.wlgen.rta.RTA : task [task1], sched: using default policy\n",
      "2019-02-26 16:56:42,023 INFO    : lisa.wlgen.rta.RTA :  | start delay: 0.000000 [s]\n",
      "2019-02-26 16:56:42,025 INFO    : lisa.wlgen.rta.RTA :  | loops count: 1\n",
      "2019-02-26 16:56:42,025 INFO    : lisa.wlgen.rta.RTA :  + phase_000001\n",
      "2019-02-26 16:56:42,026 INFO    : lisa.wlgen.rta.Phase :  | duration 1.000000 [s] (10 loops)\n",
      "2019-02-26 16:56:42,027 INFO    : lisa.wlgen.rta.Phase :  |  period   100000 [us], duty_cycle  20 %\n",
      "2019-02-26 16:56:42,027 INFO    : lisa.wlgen.rta.Phase :  |  run_time  20000 [us], sleep_time  80000 [us]\n",
      "2019-02-26 16:56:42,028 INFO    : lisa.wlgen.rta.RTA : ------------------------\n",
      "2019-02-26 16:56:42,029 INFO    : lisa.wlgen.rta.RTA : task [task4], sched: using default policy\n",
      "2019-02-26 16:56:42,030 INFO    : lisa.wlgen.rta.RTA :  | start delay: 0.000000 [s]\n",
      "2019-02-26 16:56:42,031 INFO    : lisa.wlgen.rta.RTA :  | loops count: 1\n",
      "2019-02-26 16:56:42,032 INFO    : lisa.wlgen.rta.RTA :  + phase_000001\n",
      "2019-02-26 16:56:42,033 INFO    : lisa.wlgen.rta.Phase :  | duration 1.000000 [s] (10 loops)\n",
      "2019-02-26 16:56:42,035 INFO    : lisa.wlgen.rta.Phase :  |  period   100000 [us], duty_cycle  20 %\n",
      "2019-02-26 16:56:42,036 INFO    : lisa.wlgen.rta.Phase :  |  run_time  20000 [us], sleep_time  80000 [us]\n"
     ]
    }
   ],
   "source": [
    "wload = RTA.by_profile(target, \"profiling_wload\", rtapp_profile)"
   ]
  },
  {
   "cell_type": "markdown",
   "metadata": {},
   "source": [
    "Now, let's define the functions we want to do some profiling on. Do keep in mind all functions might not be profilable - that can happen if they are inline."
   ]
  },
  {
   "cell_type": "code",
   "execution_count": 7,
   "metadata": {},
   "outputs": [],
   "source": [
    "functions = [\n",
    "    \"scheduler_tick\",\n",
    "    \"run_rebalance_domains\"\n",
    "]"
   ]
  },
  {
   "cell_type": "markdown",
   "metadata": {},
   "source": [
    "We're using an FtraceCollector so might as well record some basic events to get a meaningful trace"
   ]
  },
  {
   "cell_type": "code",
   "execution_count": 8,
   "metadata": {},
   "outputs": [],
   "source": [
    "events = [\n",
    "    \"sched_switch\",\n",
    "    \"sched_wakeup\",\n",
    "    \"sched_wakeup_new\"\n",
    "]"
   ]
  },
  {
   "cell_type": "markdown",
   "metadata": {},
   "source": [
    "## Running the experiment"
   ]
  },
  {
   "cell_type": "code",
   "execution_count": 9,
   "metadata": {},
   "outputs": [],
   "source": [
    "from lisa.trace import FtraceCollector"
   ]
  },
  {
   "cell_type": "code",
   "execution_count": 10,
   "metadata": {},
   "outputs": [
    {
     "name": "stderr",
     "output_type": "stream",
     "text": [
      "2019-02-26 16:56:50,587 INFO    : lisa.wlgen.rta.RTA : Execution start: /root/devlib-target/bin/rt-app /root/devlib-target/profiling_wload.json 2>&1\n",
      "2019-02-26 16:56:51,763 INFO    : lisa.wlgen.rta.RTA : Execution complete\n"
     ]
    },
    {
     "data": {
      "text/plain": [
       "{0: {'run_rebalance_domains': {'avg': 23.607,\n",
       "   'hits': 49,\n",
       "   's_2': 461.905,\n",
       "   'time': 1156.778},\n",
       "  'scheduler_tick': {'avg': 14.732,\n",
       "   'hits': 129,\n",
       "   's_2': 73.636,\n",
       "   'time': 1900.519}},\n",
       " 1: {'run_rebalance_domains': {'avg': 13.903,\n",
       "   'hits': 36,\n",
       "   's_2': 26.722,\n",
       "   'time': 500.522},\n",
       "  'scheduler_tick': {'avg': 17.21,\n",
       "   'hits': 68,\n",
       "   's_2': 129.603,\n",
       "   'time': 1170.315}},\n",
       " 2: {'run_rebalance_domains': {'avg': 14.326,\n",
       "   'hits': 136,\n",
       "   's_2': 73.246,\n",
       "   'time': 1948.428},\n",
       "  'scheduler_tick': {'avg': 6.395,\n",
       "   'hits': 226,\n",
       "   's_2': 33.393,\n",
       "   'time': 1445.303}},\n",
       " 3: {'run_rebalance_domains': {'avg': 6.534,\n",
       "   'hits': 11,\n",
       "   's_2': 3.545,\n",
       "   'time': 71.875},\n",
       "  'scheduler_tick': {'avg': 10.807,\n",
       "   'hits': 32,\n",
       "   's_2': 10.798,\n",
       "   'time': 345.836}},\n",
       " 4: {'run_rebalance_domains': {'avg': 9.157,\n",
       "   'hits': 67,\n",
       "   's_2': 35.776,\n",
       "   'time': 613.537},\n",
       "  'scheduler_tick': {'avg': 6.605,\n",
       "   'hits': 236,\n",
       "   's_2': 9.492,\n",
       "   'time': 1558.855}},\n",
       " 5: {'run_rebalance_domains': {'avg': 9.699,\n",
       "   'hits': 77,\n",
       "   's_2': 61.791,\n",
       "   'time': 746.874},\n",
       "  'scheduler_tick': {'avg': 6.464,\n",
       "   'hits': 170,\n",
       "   's_2': 9.395,\n",
       "   'time': 1098.95}},\n",
       " 6: {'run_rebalance_domains': {'avg': 7.854,\n",
       "   'hits': 62,\n",
       "   's_2': 39.207,\n",
       "   'time': 486.978},\n",
       "  'scheduler_tick': {'avg': 5.931,\n",
       "   'hits': 152,\n",
       "   's_2': 6.032,\n",
       "   'time': 901.571}},\n",
       " 7: {'run_rebalance_domains': {'avg': 9.505,\n",
       "   'hits': 72,\n",
       "   's_2': 45.281,\n",
       "   'time': 684.375},\n",
       "  'scheduler_tick': {'avg': 6.776,\n",
       "   'hits': 177,\n",
       "   's_2': 14.189,\n",
       "   'time': 1199.471}}}"
      ]
     },
     "execution_count": 10,
     "metadata": {},
     "output_type": "execute_result"
    }
   ],
   "source": [
    "ftrace_coll = FtraceCollector(target, events=events, functions=functions, buffer_size=10240)\n",
    "trace_path = os.path.join(wload.res_dir, \"trace.dat\")\n",
    "\n",
    "with ftrace_coll:\n",
    "    wload.run()\n",
    "ftrace_coll.get_trace(trace_path)\n",
    "\n",
    "# Save the profiling stats\n",
    "ftrace_coll.get_stats(os.path.join(wload.res_dir, \"stats.json\"))"
   ]
  },
  {
   "cell_type": "code",
   "execution_count": 11,
   "metadata": {},
   "outputs": [
    {
     "name": "stdout",
     "output_type": "stream",
     "text": [
      "\u001b[01;34m/data/work/lisa/results/Target-myhikey960-20190226_165522.134327/RTA-profiling_wload-20190226_165541.167219\u001b[00m\r\n",
      "├── output.log\r\n",
      "├── profiling_wload.json\r\n",
      "├── rt-app-task0-0.log\r\n",
      "├── rt-app-task0-4.log\r\n",
      "├── rt-app-task0-5.log\r\n",
      "├── rt-app-task1-0.log\r\n",
      "├── rt-app-task1-3.log\r\n",
      "├── rt-app-task1-6.log\r\n",
      "├── rt-app-task1-7.log\r\n",
      "├── rt-app-task2-0.log\r\n",
      "├── rt-app-task2-2.log\r\n",
      "├── rt-app-task2-6.log\r\n",
      "├── rt-app-task3-3.log\r\n",
      "├── rt-app-task3-5.log\r\n",
      "├── rt-app-task3-6.log\r\n",
      "├── rt-app-task3-7.log\r\n",
      "├── rt-app-task4-1.log\r\n",
      "├── rt-app-task4-4.log\r\n",
      "├── rt-app-task4-7.log\r\n",
      "├── rt-app-task5-1.log\r\n",
      "├── rt-app-task5-2.log\r\n",
      "├── rt-app-task5-5.log\r\n",
      "├── rt-app-task6-0.log\r\n",
      "├── rt-app-task6-1.log\r\n",
      "├── rt-app-task6-4.log\r\n",
      "├── rt-app-task7-0.log\r\n",
      "├── rt-app-task7-1.log\r\n",
      "├── rt-app-task7-3.log\r\n",
      "├── rt-app-task7-6.log\r\n",
      "├── stats.json\r\n",
      "└── trace.dat\r\n",
      "\r\n",
      "0 directories, 31 files\r\n"
     ]
    }
   ],
   "source": [
    "!tree {wload.res_dir}"
   ]
  },
  {
   "cell_type": "markdown",
   "metadata": {},
   "source": [
    "## Loading the trace"
   ]
  },
  {
   "cell_type": "code",
   "execution_count": 12,
   "metadata": {},
   "outputs": [],
   "source": [
    "from lisa.trace import Trace"
   ]
  },
  {
   "cell_type": "code",
   "execution_count": 13,
   "metadata": {},
   "outputs": [],
   "source": [
    "trace_path = os.path.join(wload.res_dir, 'trace.dat')\n",
    "trace = Trace(trace_path, target.plat_info, events=events)"
   ]
  },
  {
   "cell_type": "markdown",
   "metadata": {},
   "source": [
    "## Loading the function profiling"
   ]
  },
  {
   "cell_type": "markdown",
   "metadata": {},
   "source": [
    "The profiling stats are JSON so let's load it up into a dict"
   ]
  },
  {
   "cell_type": "code",
   "execution_count": 14,
   "metadata": {},
   "outputs": [],
   "source": [
    "import json"
   ]
  },
  {
   "cell_type": "code",
   "execution_count": 15,
   "metadata": {},
   "outputs": [],
   "source": [
    "stats_path = os.path.join(wload.res_dir, \"stats.json\")\n",
    "\n",
    "with open(stats_path, \"r\") as fh:\n",
    "    # That ';' is just there to prevent Jupyter from dumping the dict in stdout\n",
    "    stats = json.load(fh);"
   ]
  },
  {
   "cell_type": "markdown",
   "metadata": {},
   "source": [
    "The data in the file is arranged like so:\n",
    "\n",
    "- For each CPU\n",
    "    - For each function\n",
    "       - time (µs)\n",
    "       - hits (#)\n",
    "       - s_2, AKA variance - apply sqrt() to get standard deviation\n",
    "       - avg (µs)\n",
    "       \n",
    "To make it a bit simpler to manipulate, we're going to turn this data into a pandas DataFrame."
   ]
  },
  {
   "cell_type": "code",
   "execution_count": 16,
   "metadata": {},
   "outputs": [],
   "source": [
    "import pandas as pd\n",
    "\n",
    "def stats_to_df(stats_dict):\n",
    "    \"\"\"\n",
    "    Turn Ftrace function profiling stats into a pandas DataFtrame\n",
    "    \n",
    "    :param stats_dict: The stats dictionnary generated by FtraceCollector\n",
    "    :type stats_dict: dict\n",
    "    \"\"\"\n",
    "    data = []\n",
    "    index = []\n",
    "    \n",
    "    for cpu, functions in stats_dict.items():\n",
    "        index.append(int(cpu))\n",
    "        columns = []\n",
    "        line = []\n",
    "        \n",
    "        for function, stats in functions.items():\n",
    "            \n",
    "            for name, stat in stats.items():\n",
    "                columns.append((function, name))\n",
    "                line.append(stat)\n",
    "\n",
    "        data.append(line)\n",
    "        \n",
    "    df = pd.DataFrame(data, index=index, columns=columns)\n",
    "    df.columns = pd.MultiIndex.from_tuples(df.columns, names=[\"function\", \"cpu\"])\n",
    "    df = df.sort_index()\n",
    "    return df"
   ]
  },
  {
   "cell_type": "code",
   "execution_count": 17,
   "metadata": {},
   "outputs": [],
   "source": [
    "df = stats_to_df(stats)"
   ]
  },
  {
   "cell_type": "markdown",
   "metadata": {},
   "source": [
    "Here's how the Dataframe looks like:"
   ]
  },
  {
   "cell_type": "code",
   "execution_count": 18,
   "metadata": {},
   "outputs": [
    {
     "data": {
      "text/html": [
       "<div>\n",
       "<style scoped>\n",
       "    .dataframe tbody tr th:only-of-type {\n",
       "        vertical-align: middle;\n",
       "    }\n",
       "\n",
       "    .dataframe tbody tr th {\n",
       "        vertical-align: top;\n",
       "    }\n",
       "\n",
       "    .dataframe thead tr th {\n",
       "        text-align: left;\n",
       "    }\n",
       "</style>\n",
       "<table border=\"1\" class=\"dataframe\">\n",
       "  <thead>\n",
       "    <tr>\n",
       "      <th>function</th>\n",
       "      <th colspan=\"4\" halign=\"left\">scheduler_tick</th>\n",
       "      <th colspan=\"4\" halign=\"left\">run_rebalance_domains</th>\n",
       "    </tr>\n",
       "    <tr>\n",
       "      <th>cpu</th>\n",
       "      <th>hits</th>\n",
       "      <th>avg</th>\n",
       "      <th>time</th>\n",
       "      <th>s_2</th>\n",
       "      <th>hits</th>\n",
       "      <th>avg</th>\n",
       "      <th>time</th>\n",
       "      <th>s_2</th>\n",
       "    </tr>\n",
       "  </thead>\n",
       "  <tbody>\n",
       "    <tr>\n",
       "      <th>0</th>\n",
       "      <td>129</td>\n",
       "      <td>14.732</td>\n",
       "      <td>1900.519</td>\n",
       "      <td>73.636</td>\n",
       "      <td>49</td>\n",
       "      <td>23.607</td>\n",
       "      <td>1156.778</td>\n",
       "      <td>461.905</td>\n",
       "    </tr>\n",
       "    <tr>\n",
       "      <th>1</th>\n",
       "      <td>68</td>\n",
       "      <td>17.210</td>\n",
       "      <td>1170.315</td>\n",
       "      <td>129.603</td>\n",
       "      <td>36</td>\n",
       "      <td>13.903</td>\n",
       "      <td>500.522</td>\n",
       "      <td>26.722</td>\n",
       "    </tr>\n",
       "    <tr>\n",
       "      <th>2</th>\n",
       "      <td>226</td>\n",
       "      <td>6.395</td>\n",
       "      <td>1445.303</td>\n",
       "      <td>33.393</td>\n",
       "      <td>136</td>\n",
       "      <td>14.326</td>\n",
       "      <td>1948.428</td>\n",
       "      <td>73.246</td>\n",
       "    </tr>\n",
       "    <tr>\n",
       "      <th>3</th>\n",
       "      <td>32</td>\n",
       "      <td>10.807</td>\n",
       "      <td>345.836</td>\n",
       "      <td>10.798</td>\n",
       "      <td>11</td>\n",
       "      <td>6.534</td>\n",
       "      <td>71.875</td>\n",
       "      <td>3.545</td>\n",
       "    </tr>\n",
       "    <tr>\n",
       "      <th>4</th>\n",
       "      <td>236</td>\n",
       "      <td>6.605</td>\n",
       "      <td>1558.855</td>\n",
       "      <td>9.492</td>\n",
       "      <td>67</td>\n",
       "      <td>9.157</td>\n",
       "      <td>613.537</td>\n",
       "      <td>35.776</td>\n",
       "    </tr>\n",
       "    <tr>\n",
       "      <th>5</th>\n",
       "      <td>170</td>\n",
       "      <td>6.464</td>\n",
       "      <td>1098.950</td>\n",
       "      <td>9.395</td>\n",
       "      <td>77</td>\n",
       "      <td>9.699</td>\n",
       "      <td>746.874</td>\n",
       "      <td>61.791</td>\n",
       "    </tr>\n",
       "    <tr>\n",
       "      <th>6</th>\n",
       "      <td>152</td>\n",
       "      <td>5.931</td>\n",
       "      <td>901.571</td>\n",
       "      <td>6.032</td>\n",
       "      <td>62</td>\n",
       "      <td>7.854</td>\n",
       "      <td>486.978</td>\n",
       "      <td>39.207</td>\n",
       "    </tr>\n",
       "    <tr>\n",
       "      <th>7</th>\n",
       "      <td>177</td>\n",
       "      <td>6.776</td>\n",
       "      <td>1199.471</td>\n",
       "      <td>14.189</td>\n",
       "      <td>72</td>\n",
       "      <td>9.505</td>\n",
       "      <td>684.375</td>\n",
       "      <td>45.281</td>\n",
       "    </tr>\n",
       "  </tbody>\n",
       "</table>\n",
       "</div>"
      ],
      "text/plain": [
       "function scheduler_tick                            run_rebalance_domains  \\\n",
       "cpu                hits     avg      time      s_2                  hits   \n",
       "0                   129  14.732  1900.519   73.636                    49   \n",
       "1                    68  17.210  1170.315  129.603                    36   \n",
       "2                   226   6.395  1445.303   33.393                   136   \n",
       "3                    32  10.807   345.836   10.798                    11   \n",
       "4                   236   6.605  1558.855    9.492                    67   \n",
       "5                   170   6.464  1098.950    9.395                    77   \n",
       "6                   152   5.931   901.571    6.032                    62   \n",
       "7                   177   6.776  1199.471   14.189                    72   \n",
       "\n",
       "function                             \n",
       "cpu          avg      time      s_2  \n",
       "0         23.607  1156.778  461.905  \n",
       "1         13.903   500.522   26.722  \n",
       "2         14.326  1948.428   73.246  \n",
       "3          6.534    71.875    3.545  \n",
       "4          9.157   613.537   35.776  \n",
       "5          9.699   746.874   61.791  \n",
       "6          7.854   486.978   39.207  \n",
       "7          9.505   684.375   45.281  "
      ]
     },
     "execution_count": 18,
     "metadata": {},
     "output_type": "execute_result"
    }
   ],
   "source": [
    "df"
   ]
  },
  {
   "cell_type": "markdown",
   "metadata": {},
   "source": [
    "We can easily have a look at a specific function:"
   ]
  },
  {
   "cell_type": "code",
   "execution_count": 19,
   "metadata": {},
   "outputs": [
    {
     "data": {
      "text/html": [
       "<div>\n",
       "<style scoped>\n",
       "    .dataframe tbody tr th:only-of-type {\n",
       "        vertical-align: middle;\n",
       "    }\n",
       "\n",
       "    .dataframe tbody tr th {\n",
       "        vertical-align: top;\n",
       "    }\n",
       "\n",
       "    .dataframe thead th {\n",
       "        text-align: right;\n",
       "    }\n",
       "</style>\n",
       "<table border=\"1\" class=\"dataframe\">\n",
       "  <thead>\n",
       "    <tr style=\"text-align: right;\">\n",
       "      <th>cpu</th>\n",
       "      <th>hits</th>\n",
       "      <th>avg</th>\n",
       "      <th>time</th>\n",
       "      <th>s_2</th>\n",
       "    </tr>\n",
       "  </thead>\n",
       "  <tbody>\n",
       "    <tr>\n",
       "      <th>0</th>\n",
       "      <td>49</td>\n",
       "      <td>23.607</td>\n",
       "      <td>1156.778</td>\n",
       "      <td>461.905</td>\n",
       "    </tr>\n",
       "    <tr>\n",
       "      <th>1</th>\n",
       "      <td>36</td>\n",
       "      <td>13.903</td>\n",
       "      <td>500.522</td>\n",
       "      <td>26.722</td>\n",
       "    </tr>\n",
       "    <tr>\n",
       "      <th>2</th>\n",
       "      <td>136</td>\n",
       "      <td>14.326</td>\n",
       "      <td>1948.428</td>\n",
       "      <td>73.246</td>\n",
       "    </tr>\n",
       "    <tr>\n",
       "      <th>3</th>\n",
       "      <td>11</td>\n",
       "      <td>6.534</td>\n",
       "      <td>71.875</td>\n",
       "      <td>3.545</td>\n",
       "    </tr>\n",
       "    <tr>\n",
       "      <th>4</th>\n",
       "      <td>67</td>\n",
       "      <td>9.157</td>\n",
       "      <td>613.537</td>\n",
       "      <td>35.776</td>\n",
       "    </tr>\n",
       "    <tr>\n",
       "      <th>5</th>\n",
       "      <td>77</td>\n",
       "      <td>9.699</td>\n",
       "      <td>746.874</td>\n",
       "      <td>61.791</td>\n",
       "    </tr>\n",
       "    <tr>\n",
       "      <th>6</th>\n",
       "      <td>62</td>\n",
       "      <td>7.854</td>\n",
       "      <td>486.978</td>\n",
       "      <td>39.207</td>\n",
       "    </tr>\n",
       "    <tr>\n",
       "      <th>7</th>\n",
       "      <td>72</td>\n",
       "      <td>9.505</td>\n",
       "      <td>684.375</td>\n",
       "      <td>45.281</td>\n",
       "    </tr>\n",
       "  </tbody>\n",
       "</table>\n",
       "</div>"
      ],
      "text/plain": [
       "cpu  hits     avg      time      s_2\n",
       "0      49  23.607  1156.778  461.905\n",
       "1      36  13.903   500.522   26.722\n",
       "2     136  14.326  1948.428   73.246\n",
       "3      11   6.534    71.875    3.545\n",
       "4      67   9.157   613.537   35.776\n",
       "5      77   9.699   746.874   61.791\n",
       "6      62   7.854   486.978   39.207\n",
       "7      72   9.505   684.375   45.281"
      ]
     },
     "execution_count": 19,
     "metadata": {},
     "output_type": "execute_result"
    }
   ],
   "source": [
    "df.run_rebalance_domains"
   ]
  },
  {
   "cell_type": "markdown",
   "metadata": {},
   "source": [
    "It's also easy to get overall stats for one function. For instance, if we want the total number of hits for a function (summing up the number of hits over all CPUs), that can be done like so:"
   ]
  },
  {
   "cell_type": "code",
   "execution_count": 20,
   "metadata": {},
   "outputs": [
    {
     "data": {
      "text/plain": [
       "510"
      ]
     },
     "execution_count": 20,
     "metadata": {},
     "output_type": "execute_result"
    }
   ],
   "source": [
    "df.run_rebalance_domains.hits.sum()"
   ]
  },
  {
   "cell_type": "markdown",
   "metadata": {},
   "source": [
    "You can also get stats recorded on a single CPU like so:"
   ]
  },
  {
   "cell_type": "code",
   "execution_count": 21,
   "metadata": {},
   "outputs": [
    {
     "data": {
      "text/plain": [
       "cpu\n",
       "hits     136.000\n",
       "avg       14.326\n",
       "time    1948.428\n",
       "s_2       73.246\n",
       "Name: 2, dtype: float64"
      ]
     },
     "execution_count": 21,
     "metadata": {},
     "output_type": "execute_result"
    }
   ],
   "source": [
    "df.run_rebalance_domains.loc[2]"
   ]
  },
  {
   "cell_type": "markdown",
   "metadata": {},
   "source": [
    "## Visual profiling"
   ]
  },
  {
   "cell_type": "markdown",
   "metadata": {},
   "source": [
    "Now that we have all of the relevant data in Dataframe format, it's very easy to make plots out of it"
   ]
  },
  {
   "cell_type": "code",
   "execution_count": 22,
   "metadata": {},
   "outputs": [],
   "source": [
    "import matplotlib.pyplot as plt\n",
    "import numpy as np"
   ]
  },
  {
   "cell_type": "code",
   "execution_count": 23,
   "metadata": {},
   "outputs": [],
   "source": [
    "def plot_hits(df, function):\n",
    "    fig, ax = plt.subplots(figsize=(16, 5))\n",
    "    \n",
    "    df[function].hits.plot.bar(ax=ax)    \n",
    "    ax.set_title(\"Per-CPU hits of \\\"{}\\\"\".format(function))\n",
    "    ax.set_xlabel(\"CPU\")\n",
    "    ax.set_ylabel(\"# of hits\")\n",
    "    ax.grid(True)"
   ]
  },
  {
   "cell_type": "code",
   "execution_count": 24,
   "metadata": {},
   "outputs": [],
   "source": [
    "def plot_time_avg(df, function):\n",
    "    fig, ax = plt.subplots(figsize=(16, 5))\n",
    "    \n",
    "    # Let's compute the standard deviation to plot error bars\n",
    "    stddev = df[function].s_2.apply(np.sqrt)\n",
    "    \n",
    "    df[function].avg.plot.bar(ax=ax, yerr=stddev, capsize=10)    \n",
    "    ax.set_title(\"Per-CPU average time of \\\"{}\\\"\".format(function))\n",
    "    ax.set_xlabel(\"CPU\")\n",
    "    ax.set_ylabel(\"Average time (µs)\")\n",
    "    ax.grid(True)"
   ]
  },
  {
   "cell_type": "code",
   "execution_count": 25,
   "metadata": {},
   "outputs": [
    {
     "data": {
      "image/png": "[encoded data removed]",
      "text/plain": [
       "<Figure size 1152x360 with 1 Axes>"
      ]
     },
     "metadata": {
      "needs_background": "light"
     },
     "output_type": "display_data"
    },
    {
     "data": {
      "image/png": "[encoded data removed]",
      "text/plain": [
       "<Figure size 1152x360 with 1 Axes>"
      ]
     },
     "metadata": {
      "needs_background": "light"
     },
     "output_type": "display_data"
    },
    {
     "data": {
      "image/png": "[encoded data removed]",
      "text/plain": [
       "<Figure size 1152x360 with 1 Axes>"
      ]
     },
     "metadata": {
      "needs_background": "light"
     },
     "output_type": "display_data"
    },
    {
     "data": {
      "image/png": "[encoded data removed]",
      "text/plain": [
       "<Figure size 1152x360 with 1 Axes>"
      ]
     },
     "metadata": {
      "needs_background": "light"
     },
     "output_type": "display_data"
    }
   ],
   "source": [
    "for function in functions:\n",
    "    plot_hits(df, function)\n",
    "    plot_time_avg(df, function)"
   ]
  }
 ],
 "metadata": {
  "kernelspec": {
   "display_name": "Python 3",
   "language": "python",
   "name": "python3"
  },
  "language_info": {
   "codemirror_mode": {
    "name": "ipython",
    "version": 3
   },
   "file_extension": ".py",
   "mimetype": "text/x-python",
   "name": "python",
   "nbconvert_exporter": "python",
   "pygments_lexer": "ipython3",
   "version": "3.5.2"
  }
 },
 "nbformat": 4,
 "nbformat_minor": 2
}
