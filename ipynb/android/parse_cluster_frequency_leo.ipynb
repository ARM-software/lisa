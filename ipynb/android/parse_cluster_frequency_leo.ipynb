{
 "cells": [
  {
   "cell_type": "markdown",
   "metadata": {},
   "source": [
    "# 1. Prepare SSH connection"
   ]
  },
  {
   "cell_type": "code",
   "execution_count": 1,
   "metadata": {
    "collapsed": false
   },
   "outputs": [],
   "source": [
    "import logging\n",
    "reload(logging)\n",
    "logging.basicConfig(\n",
    "    format='%(asctime)-9s %(levelname)-8s: %(message)s',\n",
    "    datefmt='%I:%M:%S')\n",
    "\n",
    "# Enable logging at INFO level\n",
    "logging.getLogger().setLevel(logging.DEBUG)\n",
    "# Comment the follwing line to disable devlib debugging statements\n",
    "logging.getLogger('ssh').setLevel(logging.DEBUG)"
   ]
  },
  {
   "cell_type": "code",
   "execution_count": 2,
   "metadata": {
    "collapsed": false,
    "scrolled": true
   },
   "outputs": [
    {
     "name": "stderr",
     "output_type": "stream",
     "text": [
      "/home/lubaoquan/anaconda2/lib/python2.7/site-packages/matplotlib/font_manager.py:273: UserWarning: Matplotlib is building the font cache using fc-list. This may take a moment.\n",
      "  warnings.warn('Matplotlib is building the font cache using fc-list. This may take a moment.')\n"
     ]
    },
    {
     "name": "stdout",
     "output_type": "stream",
     "text": [
      "Populating the interactive namespace from numpy and matplotlib\n"
     ]
    }
   ],
   "source": [
    "# Generate plots inline\n",
    "%pylab inline\n",
    "\n",
    "import json\n",
    "import os\n",
    "import subprocess\n",
    "\n",
    "# Support to access the remote target\n",
    "import devlib\n",
    "from env import TestEnv\n",
    "\n",
    "# Support for trace events analysis\n",
    "from trace import Trace\n",
    "#from trace_analysis import TraceAnalysis\n",
    "\n",
    "# Support to configure and run RTApp based workloads\n",
    "from wlgen import RTA, Ramp, Step, Pulse, Periodic\n",
    "\n",
    "# Support for performance analysis of RTApp workloads\n",
    "from perf_analysis import PerfAnalysis\n",
    "\n",
    "# Suport for FTrace events parsing and visualization\n",
    "import trappy"
   ]
  },
  {
   "cell_type": "code",
   "execution_count": 3,
   "metadata": {
    "collapsed": false
   },
   "outputs": [],
   "source": [
    "# Let's use an example trace\n",
    "\n",
    "#tracefile = os.path.join(res_dir, 'trace.dat')\n",
    "platformfile = os.path.join(\"/home/lubaoquan/tools/lisa/lisa/results_latest/rtapp:eas:10_pct\", 'platform.json')\n",
    "#!tree {res_dir}"
   ]
  },
  {
   "cell_type": "code",
   "execution_count": 4,
   "metadata": {
    "collapsed": false
   },
   "outputs": [
    {
     "name": "stderr",
     "output_type": "stream",
     "text": [
      "03:34:28  INFO    : CPUs max capacities:\n",
      "03:34:28  INFO    :    big:  1024 (cpus: [4, 5, 6, 7])\n",
      "03:34:28  INFO    : LITTLE:  1024 (cpus: [0, 1, 2, 3])\n"
     ]
    }
   ],
   "source": [
    "# Trace events of interest\n",
    "events_to_parse = [\n",
    "    \"sched_switch\",\n",
    "    \"sched_wakeup\",\n",
    "    \"sched_wakeup_new\",\n",
    "    \"sched_contrib_scale_f\",\n",
    "    \"sched_load_avg_cpu\",\n",
    "    \"sched_load_avg_task\",\n",
    "    \"sched_tune_config\",\n",
    "    \"sched_tune_tasks_update\",\n",
    "    \"sched_tune_boostgroup_update\",\n",
    "    \"sched_tune_filter\",\n",
    "    \"sched_boost_cpu\",\n",
    "    \"sched_boost_task\",\n",
    "    \"sched_energy_diff\",\n",
    "    \"cpu_frequency\",\n",
    "    \"cpu_capacity\",\n",
    "    \"cpu_idle\",\n",
    "]\n",
    "\n",
    "# Platform description\n",
    "with open(platformfile, 'r') as fh:\n",
    "    platform = json.load(fh)\n",
    "\n",
    "# Time range from the analysis\n",
    "(t_min, t_max) = (0, None)\n",
    "\n",
    "platform['nrg_model']['little']['cpu']['cap_max'] = 1024\n",
    "platform['clusters']['little'] = [0, 1, 2, 3]\n",
    "        \n",
    "platform['nrg_model']['big']['cpu']['cap_max'] = 1024\n",
    "platform['clusters']['big'] = [4, 5, 6, 7]\n",
    "platform['cpus_count'] = 8\n",
    "\n",
    "logging.info(\"CPUs max capacities:\")\n",
    "logging.info(\"   big: %5d (cpus: %s)\",\n",
    "             platform['nrg_model']['big']['cpu']['cap_max'],\n",
    "             platform['clusters']['big'])\n",
    "logging.info(\"LITTLE: %5d (cpus: %s)\",\n",
    "             platform['nrg_model']['little']['cpu']['cap_max'],\n",
    "             platform['clusters']['little'])"
   ]
  },
  {
   "cell_type": "code",
   "execution_count": 6,
   "metadata": {
    "collapsed": false,
    "scrolled": true
   },
   "outputs": [
    {
     "name": "stderr",
     "output_type": "stream",
     "text": [
      "03:36:21  DEBUG   : Loading [sched] events from trace in [/home/lubaoquan/tools/lisa/lisa/results_latest/rtapp:eas:10_pct/1]...\n",
      "03:36:21  DEBUG   : Parsing events: ['sched_switch', 'sched_wakeup', 'sched_wakeup_new', 'sched_contrib_scale_f', 'sched_load_avg_cpu', 'sched_load_avg_task', 'sched_tune_config', 'sched_tune_tasks_update', 'sched_tune_boostgroup_update', 'sched_tune_filter', 'sched_boost_cpu', 'sched_boost_task', 'sched_energy_diff', 'cpu_frequency', 'cpu_capacity', 'cpu_idle']\n",
      "03:36:21  INFO    : Parsing FTrace format...\n"
     ]
    },
    {
     "ename": "IOError",
     "evalue": "[Errno 2] No such file or directory: '/home/lubaoquan/tools/lisa/lisa/results_latest/rtapp:eas:10_pct/1/trace.txt'",
     "output_type": "error",
     "traceback": [
      "\u001b[0;31m\u001b[0m",
      "\u001b[0;31mIOError\u001b[0mTraceback (most recent call last)",
      "\u001b[0;32m<ipython-input-6-55a871afed5f>\u001b[0m in \u001b[0;36m<module>\u001b[0;34m()\u001b[0m\n\u001b[1;32m      9\u001b[0m     \u001b[0mfilepath\u001b[0m\u001b[0;34m=\u001b[0m\u001b[0mos\u001b[0m\u001b[0;34m.\u001b[0m\u001b[0mpath\u001b[0m\u001b[0;34m.\u001b[0m\u001b[0mjoin\u001b[0m\u001b[0;34m(\u001b[0m\u001b[0mresults_dir\u001b[0m\u001b[0;34m,\u001b[0m \u001b[0mfilename\u001b[0m\u001b[0;34m)\u001b[0m\u001b[0;34m\u001b[0m\u001b[0m\n\u001b[1;32m     10\u001b[0m     \u001b[0mres_dir\u001b[0m\u001b[0;34m=\u001b[0m\u001b[0mfilepath\u001b[0m\u001b[0;34m+\u001b[0m\u001b[0;34m\"/1\"\u001b[0m\u001b[0;34m\u001b[0m\u001b[0m\n\u001b[0;32m---> 11\u001b[0;31m     \u001b[0mtrace\u001b[0m \u001b[0;34m=\u001b[0m \u001b[0mTrace\u001b[0m\u001b[0;34m(\u001b[0m\u001b[0mplatform\u001b[0m\u001b[0;34m,\u001b[0m \u001b[0mres_dir\u001b[0m\u001b[0;34m,\u001b[0m \u001b[0mevents_to_parse\u001b[0m\u001b[0;34m,\u001b[0m \u001b[0mwindow\u001b[0m\u001b[0;34m=\u001b[0m\u001b[0;34m(\u001b[0m\u001b[0mt_min\u001b[0m\u001b[0;34m,\u001b[0m\u001b[0mt_max\u001b[0m\u001b[0;34m)\u001b[0m\u001b[0;34m)\u001b[0m\u001b[0;34m\u001b[0m\u001b[0m\n\u001b[0m\u001b[1;32m     12\u001b[0m     \u001b[0mtrace\u001b[0m\u001b[0;34m.\u001b[0m\u001b[0msetXTimeRange\u001b[0m\u001b[0;34m(\u001b[0m\u001b[0mt_min\u001b[0m\u001b[0;34m,\u001b[0m \u001b[0mt_max\u001b[0m\u001b[0;34m)\u001b[0m\u001b[0;34m\u001b[0m\u001b[0m\n\u001b[1;32m     13\u001b[0m     \u001b[0;31m#trace.analysis.frequency.plotClusterFrequencies(filename)\u001b[0m\u001b[0;34m\u001b[0m\u001b[0;34m\u001b[0m\u001b[0m\n",
      "\u001b[0;32m/home/lubaoquan/tools/lisa/lisa/libs/utils/trace.pyc\u001b[0m in \u001b[0;36m__init__\u001b[0;34m(self, platform, data_dir, events, tasks, window, normalize_time, trace_format, plots_dir, plots_prefix)\u001b[0m\n\u001b[1;32m    132\u001b[0m         \u001b[0mself\u001b[0m\u001b[0;34m.\u001b[0m\u001b[0m__registerTraceEvents\u001b[0m\u001b[0;34m(\u001b[0m\u001b[0mevents\u001b[0m\u001b[0;34m)\u001b[0m\u001b[0;34m\u001b[0m\u001b[0m\n\u001b[1;32m    133\u001b[0m         self.__parseTrace(data_dir, tasks, window, normalize_time,\n\u001b[0;32m--> 134\u001b[0;31m                           trace_format)\n\u001b[0m\u001b[1;32m    135\u001b[0m         \u001b[0mself\u001b[0m\u001b[0;34m.\u001b[0m\u001b[0m__computeTimeSpan\u001b[0m\u001b[0;34m(\u001b[0m\u001b[0;34m)\u001b[0m\u001b[0;34m\u001b[0m\u001b[0m\n\u001b[1;32m    136\u001b[0m \u001b[0;34m\u001b[0m\u001b[0m\n",
      "\u001b[0;32m/home/lubaoquan/tools/lisa/lisa/libs/utils/trace.pyc\u001b[0m in \u001b[0;36m__parseTrace\u001b[0;34m(self, path, tasks, window, normalize_time, trace_format)\u001b[0m\n\u001b[1;32m    237\u001b[0m \u001b[0;34m\u001b[0m\u001b[0m\n\u001b[1;32m    238\u001b[0m         self.ftrace = trace_class(path, scope=\"custom\", events=self.events,\n\u001b[0;32m--> 239\u001b[0;31m                                   window=window, normalize_time=normalize_time)\n\u001b[0m\u001b[1;32m    240\u001b[0m \u001b[0;34m\u001b[0m\u001b[0m\n\u001b[1;32m    241\u001b[0m         \u001b[0;31m# Load Functions profiling data\u001b[0m\u001b[0;34m\u001b[0m\u001b[0;34m\u001b[0m\u001b[0m\n",
      "\u001b[0;32m/home/lubaoquan/tools/lisa/lisa/libs/trappy/trappy/ftrace.pyc\u001b[0m in \u001b[0;36m__init__\u001b[0;34m(self, path, name, normalize_time, scope, events, window, abs_window)\u001b[0m\n\u001b[1;32m    482\u001b[0m         \u001b[0mself\u001b[0m\u001b[0;34m.\u001b[0m\u001b[0mneeds_raw_parsing\u001b[0m \u001b[0;34m=\u001b[0m \u001b[0mTrue\u001b[0m\u001b[0;34m\u001b[0m\u001b[0m\n\u001b[1;32m    483\u001b[0m \u001b[0;34m\u001b[0m\u001b[0m\n\u001b[0;32m--> 484\u001b[0;31m         \u001b[0mself\u001b[0m\u001b[0;34m.\u001b[0m\u001b[0m__populate_metadata\u001b[0m\u001b[0;34m(\u001b[0m\u001b[0;34m)\u001b[0m\u001b[0;34m\u001b[0m\u001b[0m\n\u001b[0m\u001b[1;32m    485\u001b[0m \u001b[0;34m\u001b[0m\u001b[0m\n\u001b[1;32m    486\u001b[0m         super(FTrace, self).__init__(name, normalize_time, scope, events,\n",
      "\u001b[0;32m/home/lubaoquan/tools/lisa/lisa/libs/trappy/trappy/ftrace.pyc\u001b[0m in \u001b[0;36m__populate_metadata\u001b[0;34m(self)\u001b[0m\n\u001b[1;32m    564\u001b[0m             \u001b[0msetattr\u001b[0m\u001b[0;34m(\u001b[0m\u001b[0mself\u001b[0m\u001b[0;34m,\u001b[0m \u001b[0;34m\"_\"\u001b[0m \u001b[0;34m+\u001b[0m \u001b[0mkey\u001b[0m\u001b[0;34m,\u001b[0m \u001b[0mNone\u001b[0m\u001b[0;34m)\u001b[0m\u001b[0;34m\u001b[0m\u001b[0m\n\u001b[1;32m    565\u001b[0m \u001b[0;34m\u001b[0m\u001b[0m\n\u001b[0;32m--> 566\u001b[0;31m         \u001b[0;32mwith\u001b[0m \u001b[0mopen\u001b[0m\u001b[0;34m(\u001b[0m\u001b[0mself\u001b[0m\u001b[0;34m.\u001b[0m\u001b[0mtrace_path\u001b[0m\u001b[0;34m)\u001b[0m \u001b[0;32mas\u001b[0m \u001b[0mfin\u001b[0m\u001b[0;34m:\u001b[0m\u001b[0;34m\u001b[0m\u001b[0m\n\u001b[0m\u001b[1;32m    567\u001b[0m             \u001b[0;32mfor\u001b[0m \u001b[0mline\u001b[0m \u001b[0;32min\u001b[0m \u001b[0mfin\u001b[0m\u001b[0;34m:\u001b[0m\u001b[0;34m\u001b[0m\u001b[0m\n\u001b[1;32m    568\u001b[0m                 \u001b[0;32mif\u001b[0m \u001b[0;32mnot\u001b[0m \u001b[0mmetadata_keys\u001b[0m\u001b[0;34m:\u001b[0m\u001b[0;34m\u001b[0m\u001b[0m\n",
      "\u001b[0;31mIOError\u001b[0m: [Errno 2] No such file or directory: '/home/lubaoquan/tools/lisa/lisa/results_latest/rtapp:eas:10_pct/1/trace.txt'"
     ]
    }
   ],
   "source": [
    "# Load the LISA::Trace parsing module\n",
    "from trace import Trace\n",
    "\n",
    "results_dir=\"/home/lubaoquan/tools/lisa/lisa/results_latest\"\n",
    "dirlist=os.listdir(results_dir)\n",
    "\n",
    "for filename in dirlist:\n",
    "    #print filename\n",
    "    filepath=os.path.join(results_dir, filename)\n",
    "    res_dir=filepath+\"/1\"\n",
    "    trace = Trace(platform, res_dir, events_to_parse, window=(t_min,t_max))\n",
    "    trace.setXTimeRange(t_min, t_max)\n",
    "    #trace.analysis.frequency.plotClusterFrequencies(filename)\n",
    "    #trace.analysis.frequency.plotCPUFrequencyResidency(cpus=1)\n",
    "    #trace.analysis.frequency.plotClusterFrequencyResidency(clusters='LITTLE')\n",
    "    #trace.analysis.tasks.plotBigTasks(max_tasks=10, min_samples=100, min_utilization=10)\n",
    "    #trace.analysis.tasks.plotTasks(tasks='rt-app-task0')\n",
    "    trace.analysis.tasks.plotBigTasks(max_tasks=10, min_samples=100, min_utilization=10)"
   ]
  },
  {
   "cell_type": "code",
   "execution_count": null,
   "metadata": {
    "collapsed": true
   },
   "outputs": [],
   "source": []
  },
  {
   "cell_type": "code",
   "execution_count": null,
   "metadata": {
    "collapsed": true
   },
   "outputs": [],
   "source": []
  }
 ],
 "metadata": {
  "anaconda-cloud": {},
  "kernelspec": {
   "display_name": "Python [default]",
   "language": "python",
   "name": "python2"
  },
  "language_info": {
   "codemirror_mode": {
    "name": "ipython",
    "version": 2
   },
   "file_extension": ".py",
   "mimetype": "text/x-python",
   "name": "python",
   "nbconvert_exporter": "python",
   "pygments_lexer": "ipython2",
   "version": "2.7.12"
  }
 },
 "nbformat": 4,
 "nbformat_minor": 0
}
