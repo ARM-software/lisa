{
 "cells": [
  {
   "cell_type": "markdown",
   "metadata": {},
   "source": [
    "# 1. Prepare SSH connection"
   ]
  },
  {
   "cell_type": "code",
   "execution_count": 1,
   "metadata": {
    "collapsed": false
   },
   "outputs": [],
   "source": [
    "import logging\n",
    "reload(logging)\n",
    "logging.basicConfig(\n",
    "    format='%(asctime)-9s %(levelname)-8s: %(message)s',\n",
    "    datefmt='%I:%M:%S')\n",
    "\n",
    "# Enable logging at INFO level\n",
    "logging.getLogger().setLevel(logging.DEBUG)\n",
    "# Comment the follwing line to disable devlib debugging statements\n",
    "logging.getLogger('ssh').setLevel(logging.DEBUG)"
   ]
  },
  {
   "cell_type": "code",
   "execution_count": 2,
   "metadata": {
    "collapsed": false
   },
   "outputs": [
    {
     "name": "stderr",
     "output_type": "stream",
     "text": [
      "/home/lubaoquan/anaconda2/lib/python2.7/site-packages/matplotlib/font_manager.py:273: UserWarning: Matplotlib is building the font cache using fc-list. This may take a moment.\n",
      "  warnings.warn('Matplotlib is building the font cache using fc-list. This may take a moment.')\n"
     ]
    },
    {
     "name": "stdout",
     "output_type": "stream",
     "text": [
      "Populating the interactive namespace from numpy and matplotlib\n"
     ]
    }
   ],
   "source": [
    "# Generate plots inline\n",
    "%pylab inline\n",
    "\n",
    "import json\n",
    "import os\n",
    "import subprocess\n",
    "\n",
    "# Support to access the remote target\n",
    "import devlib\n",
    "from env import TestEnv\n",
    "\n",
    "# Support for trace events analysis\n",
    "from trace import Trace\n",
    "#from trace_analysis import TraceAnalysis\n",
    "\n",
    "# Support to configure and run RTApp based workloads\n",
    "from wlgen import RTA, Ramp, Step, Pulse, Periodic\n",
    "\n",
    "# Support for performance analysis of RTApp workloads\n",
    "from perf_analysis import PerfAnalysis\n",
    "\n",
    "# Suport for FTrace events parsing and visualization\n",
    "import trappy"
   ]
  },
  {
   "cell_type": "code",
   "execution_count": 3,
   "metadata": {
    "collapsed": false,
    "scrolled": true
   },
   "outputs": [],
   "source": [
    "#run workload automation\n",
    "#!pwd\n",
    "#!wa run antutu.yaml -f\n",
    "# Let's use an example trace\n",
    "res_dir = \"/home/lubaoquan/tools/lisa/lisa/ipynb/android/antutu/wa_output/antutu_1_1\"\n",
    "#tracefile = os.path.join(res_dir, 'trace.dat')\n",
    "platformfile = os.path.join('.', 'platform.json')\n",
    "#platformfile = os.path.join(res_dir, 'platform.json')\n",
    "#!tree {res_dir}"
   ]
  },
  {
   "cell_type": "code",
   "execution_count": 4,
   "metadata": {
    "collapsed": false
   },
   "outputs": [
    {
     "ename": "IOError",
     "evalue": "[Errno 2] No such file or directory: './platform.json'",
     "output_type": "error",
     "traceback": [
      "\u001b[0;31m\u001b[0m",
      "\u001b[0;31mIOError\u001b[0mTraceback (most recent call last)",
      "\u001b[0;32m<ipython-input-4-d123ed55f703>\u001b[0m in \u001b[0;36m<module>\u001b[0;34m()\u001b[0m\n\u001b[1;32m      1\u001b[0m \u001b[0;31m# Platform description\u001b[0m\u001b[0;34m\u001b[0m\u001b[0;34m\u001b[0m\u001b[0m\n\u001b[0;32m----> 2\u001b[0;31m \u001b[0;32mwith\u001b[0m \u001b[0mopen\u001b[0m\u001b[0;34m(\u001b[0m\u001b[0mplatformfile\u001b[0m\u001b[0;34m,\u001b[0m \u001b[0;34m'r'\u001b[0m\u001b[0;34m)\u001b[0m \u001b[0;32mas\u001b[0m \u001b[0mfh\u001b[0m\u001b[0;34m:\u001b[0m\u001b[0;34m\u001b[0m\u001b[0m\n\u001b[0m\u001b[1;32m      3\u001b[0m     \u001b[0mplatform\u001b[0m \u001b[0;34m=\u001b[0m \u001b[0mjson\u001b[0m\u001b[0;34m.\u001b[0m\u001b[0mload\u001b[0m\u001b[0;34m(\u001b[0m\u001b[0mfh\u001b[0m\u001b[0;34m)\u001b[0m\u001b[0;34m\u001b[0m\u001b[0m\n\u001b[1;32m      4\u001b[0m \u001b[0;34m\u001b[0m\u001b[0m\n\u001b[1;32m      5\u001b[0m \u001b[0;32mprint\u001b[0m \u001b[0mplatform\u001b[0m\u001b[0;34m\u001b[0m\u001b[0m\n",
      "\u001b[0;31mIOError\u001b[0m: [Errno 2] No such file or directory: './platform.json'"
     ]
    }
   ],
   "source": [
    "# Platform description\n",
    "with open(platformfile, 'r') as fh:\n",
    "    platform = json.load(fh)\n",
    "\n",
    "print platform\n",
    "\n",
    "# Time range from the analysis\n",
    "(t_min, t_max) = (0, None)\n",
    "\n",
    "platform['nrg_model']['little']['cpu']['cap_max'] = 1024\n",
    "platform['clusters']['little'] = [0, 1, 2, 3]\n",
    "        \n",
    "platform['nrg_model']['big']['cpu']['cap_max'] = 1024\n",
    "platform['clusters']['big'] = [4, 5, 6, 7]\n",
    "platform['cpus_count'] = 8\n",
    "\n",
    "logging.info(\"CPUs max capacities:\")\n",
    "logging.info(\"   big: %5d (cpus: %s)\",\n",
    "             platform['nrg_model']['big']['cpu']['cap_max'],\n",
    "             platform['clusters']['big'])\n",
    "logging.info(\"LITTLE: %5d (cpus: %s)\",\n",
    "             platform['nrg_model']['little']['cpu']['cap_max'],\n",
    "             platform['clusters']['little'])"
   ]
  },
  {
   "cell_type": "code",
   "execution_count": null,
   "metadata": {
    "collapsed": false,
    "scrolled": true
   },
   "outputs": [],
   "source": [
    "# Load the LISA::Trace parsing module\n",
    "from trace import Trace\n",
    "\n",
    "# Trace events of interest\n",
    "events_to_parse = [\n",
    "    \"sched_switch\",\n",
    "    \"sched_wakeup\",\n",
    "    \"sched_wakeup_new\",\n",
    "    \"sched_contrib_scale_f\",\n",
    "    \"sched_load_avg_cpu\",\n",
    "    \"sched_load_avg_task\",\n",
    "    \"sched_tune_config\",\n",
    "    \"sched_tune_tasks_update\",\n",
    "    \"sched_tune_boostgroup_update\",\n",
    "    \"sched_tune_filter\",\n",
    "    \"sched_boost_cpu\",\n",
    "    \"sched_boost_task\",\n",
    "    \"sched_energy_diff\",\n",
    "    \"cpu_frequency\",\n",
    "    \"cpu_capacity\",\n",
    "    \"cpu_idle\",\n",
    "]\n",
    "\n",
    "# allows to keep track of platform specific details to support the generation\n",
    "# of\n",
    "res_dir = \"/home/lubaoquan/tools/lisa/lisa/ipynb/android/antutu/wa_output/antutu_1_1\"\n",
    "\n",
    "trace = Trace(platform, res_dir, events_to_parse, window=(t_min,t_max))"
   ]
  },
  {
   "cell_type": "code",
   "execution_count": null,
   "metadata": {
    "collapsed": false
   },
   "outputs": [],
   "source": [
    "trace.setXTimeRange(t_min, t_max)\n",
    "\n",
    "trace.analysis.frequency.plotClusterFrequencies()\n",
    "#trace.analysis.frequency.plotCPUFrequencyResidency()\n",
    "#trace.analysis.frequency.plotClusterFrequencyResidency()\n"
   ]
  },
  {
   "cell_type": "code",
   "execution_count": null,
   "metadata": {
    "collapsed": true
   },
   "outputs": [],
   "source": []
  }
 ],
 "metadata": {
  "anaconda-cloud": {},
  "kernelspec": {
   "display_name": "Python [default]",
   "language": "python",
   "name": "python2"
  },
  "language_info": {
   "codemirror_mode": {
    "name": "ipython",
    "version": 2
   },
   "file_extension": ".py",
   "mimetype": "text/x-python",
   "name": "python",
   "nbconvert_exporter": "python",
   "pygments_lexer": "ipython2",
   "version": "2.7.12"
  }
 },
 "nbformat": 4,
 "nbformat_minor": 0
}
