{
 "cells": [
  {
   "cell_type": "markdown",
   "metadata": {},
   "source": [
    "# EAS Testing - Antutu benchmark on Android"
   ]
  },
  {
   "cell_type": "markdown",
   "metadata": {},
   "source": [
    "The goal of this experiment is to run benchmarks on a Hikey running Android with an EAS kernel and collect results. The analysis phase will consist in comparing EAS with other schedulers, that is comparing *sched* governor with:\n",
    "\n",
    "    - interactive\n",
    "    - performance\n",
    "    - powersave\n",
    "    - ondemand\n",
    "    \n",
    "The benchmark we will be using is ***Antutu*** . You will need to **manually install** the app on the Android device in order to run this Notebook.\n",
    "\n",
    "When opinening Antutu for the first time you will need to Install the work benchmark from inside the app."
   ]
  },
  {
   "cell_type": "code",
   "execution_count": 32,
   "metadata": {
    "collapsed": false
   },
   "outputs": [],
   "source": [
    "import logging\n",
    "reload(logging)\n",
    "log_fmt = '%(asctime)-9s %(levelname)-8s: %(message)s'\n",
    "logging.basicConfig(format=log_fmt)\n",
    "\n",
    "# Change to info once the notebook runs ok\n",
    "logging.getLogger().setLevel(logging.INFO)"
   ]
  },
  {
   "cell_type": "code",
   "execution_count": 33,
   "metadata": {
    "collapsed": false
   },
   "outputs": [
    {
     "name": "stdout",
     "output_type": "stream",
     "text": [
      "Populating the interactive namespace from numpy and matplotlib\n"
     ]
    },
    {
     "name": "stderr",
     "output_type": "stream",
     "text": [
      "WARNING: pylab import has clobbered these variables: ['copy']\n",
      "`%matplotlib` prevents importing * from pylab and numpy\n"
     ]
    }
   ],
   "source": [
    "%pylab inline\n",
    "\n",
    "import copy\n",
    "import os\n",
    "from time import sleep\n",
    "from subprocess import Popen\n",
    "import pandas as pd\n",
    "\n",
    "# Support to access the remote target\n",
    "import devlib\n",
    "from env import TestEnv\n",
    "\n",
    "# Support for trace events analysis\n",
    "from trace import Trace\n",
    "\n",
    "# Suport for FTrace events parsing and visualization\n",
    "import trappy"
   ]
  },
  {
   "cell_type": "markdown",
   "metadata": {},
   "source": [
    "# Test Environment set up"
   ]
  },
  {
   "cell_type": "markdown",
   "metadata": {},
   "source": [
    "In case more than one Android device are conencted to the host, you must specify the ID of the device you want to target in `my_target_conf`. Run `adb devices` on your host to get the ID."
   ]
  },
  {
   "cell_type": "code",
   "execution_count": 34,
   "metadata": {
    "collapsed": false
   },
   "outputs": [],
   "source": [
    "# Setup a target configuration\n",
    "my_target_conf = {\n",
    "    \n",
    "    # Target platform and board\n",
    "    \"platform\"    : 'android',\n",
    "\n",
    "    # Add target support\n",
    "    \"board\" : 'hikey',\n",
    "    \n",
    "    # Device ID\n",
    "    #\"device\" : \"00b1346f0878ccb1\",\n",
    "    \n",
    "    # Define devlib modules to load\n",
    "    \"modules\"     : [\n",
    "        'cpufreq'       # enable CPUFreq support\n",
    "    ],\n",
    "}"
   ]
  },
  {
   "cell_type": "code",
   "execution_count": 35,
   "metadata": {
    "collapsed": false,
    "scrolled": false
   },
   "outputs": [],
   "source": [
    "my_tests_conf = {\n",
    "\n",
    "    # Folder where all the results will be collected\n",
    "    \"results_dir\" : \"Android_Antutu\",\n",
    "\n",
    "    # Platform configurations to test\n",
    "    \"confs\" : [\n",
    "        {\n",
    "            \"tag\"            : \"antutu\",\n",
    "            \"flags\"          : \"ftrace\",           # Enable FTrace events\n",
    "            \"sched_features\" : \"ENERGY_AWARE\",     # enable EAS\n",
    "        },\n",
    "    ],\n",
    "}"
   ]
  },
  {
   "cell_type": "code",
   "execution_count": 36,
   "metadata": {
    "collapsed": false
   },
   "outputs": [],
   "source": [
    "# Initialize a test environment using:\n",
    "# the provided target configuration (my_target_conf)\n",
    "# the provided test configuration   (my_test_conf)\n",
    "te = TestEnv(target_conf=my_target_conf, test_conf=my_tests_conf)\n",
    "target = te.target"
   ]
  },
  {
   "cell_type": "markdown",
   "metadata": {},
   "source": [
    "# Support Functions"
   ]
  },
  {
   "cell_type": "markdown",
   "metadata": {},
   "source": [
    "This set of support functions will help us running the benchmark using different CPUFreq governors."
   ]
  },
  {
   "cell_type": "code",
   "execution_count": 37,
   "metadata": {
    "collapsed": true
   },
   "outputs": [],
   "source": [
    "def set_performance():\n",
    "    target.cpufreq.set_all_governors('performance')\n",
    "\n",
    "def set_powersave():\n",
    "    target.cpufreq.set_all_governors('powersave')\n",
    "\n",
    "def set_interactive():\n",
    "    target.cpufreq.set_all_governors('interactive')\n",
    "\n",
    "def set_sched():\n",
    "    target.cpufreq.set_all_governors('sched')\n",
    "\n",
    "def set_ondemand():\n",
    "    target.cpufreq.set_all_governors('ondemand')\n",
    "    \n",
    "    for cpu in target.list_online_cpus():\n",
    "        tunables = target.cpufreq.get_governor_tunables(cpu)\n",
    "        target.cpufreq.set_governor_tunables(\n",
    "            cpu,\n",
    "            'ondemand',\n",
    "            **{'sampling_rate' : tunables['sampling_rate_min']}\n",
    "        )"
   ]
  },
  {
   "cell_type": "code",
   "execution_count": 38,
   "metadata": {
    "collapsed": false
   },
   "outputs": [],
   "source": [
    "# CPUFreq configurations to test\n",
    "confs = {\n",
    "    'performance' : {\n",
    "        'label' : 'prf',\n",
    "        'set' :  set_performance,\n",
    "    },\n",
    "#    'powersave' : {\n",
    "#        'label' : 'pws',\n",
    "#        'set' :  set_powersave,\n",
    "#    },\n",
    "    'interactive' : {\n",
    "         'label' : 'int',\n",
    "         'set' :  set_interactive,\n",
    "     },\n",
    "    'sched' : {\n",
    "        'label' : 'sch',\n",
    "        'set' :  set_sched,\n",
    "    },\n",
    "#    'ondemand' : {\n",
    "#        'label' : 'odm',\n",
    "#        'set' :  set_ondemand,\n",
    "#    }\n",
    "}\n",
    "\n",
    "# The set of results for each comparison test\n",
    "results = {}"
   ]
  },
  {
   "cell_type": "code",
   "execution_count": 39,
   "metadata": {
    "collapsed": false
   },
   "outputs": [],
   "source": [
    "def check_packages(pkgname):\n",
    "    try:\n",
    "        output = target.execute('pm list packages -f | grep -i {}'.format(pkgname))\n",
    "    except Exception:\n",
    "        raise RuntimeError('Package: [{}] not availabe on target'.format(pkgname))\n",
    "\n",
    "# Check for specified PKG name being available on target\n",
    "#adb -s 0123456789 shell \"am kill-all\"\n",
    "#adb -s 0123456789 shell \"am start -W -n com.antutu.ABenchMark/.ABenchMarkStart\"\n",
    "#adb shell \"am force-stop com.antutu.ABenchMark\"\n",
    "#check_packages('com.futuremark.pcmark.android.benchmark')\n",
    "check_packages('com.antutu.ABenchMark')"
   ]
  },
  {
   "cell_type": "code",
   "execution_count": 40,
   "metadata": {
    "collapsed": false
   },
   "outputs": [],
   "source": [
    "def pcmark_run(exp_dir):\n",
    "    # Unlock device screen (assume no password required)\n",
    "    target.execute('input keyevent 82')\n",
    "    # Start PCMark on the target device\n",
    "#    target.execute('monkey -p com.futuremark.pcmark.android.benchmark -c android.intent.category.LAUNCHER 1')\n",
    "    target.execute('am start -W -n com.antutu.ABenchMark/.ABenchMarkStart')\n",
    "    # Wait few seconds to make sure the app is loaded\n",
    "    sleep(5)\n",
    "    \n",
    "    # Flush entire log\n",
    "    target.clear_logcat()\n",
    "    \n",
    "    # Run performance workload (assume screen is vertical)\n",
    "    target.execute('input tap 512 200')\n",
    "    # Wait for completion (7 minutes in total) and collect log\n",
    "    log_file = os.path.join(exp_dir, 'log.txt')\n",
    "    # Wait 5 minutes\n",
    "    sleep(300)\n",
    "    # Start collecting the log\n",
    "    with open(log_file, 'w') as log:\n",
    "        logcat = Popen(['adb logcat', 'com.antutu.ABenchMark/.ABenchMarkStart', '*:S'],\n",
    "                       stdout=log,\n",
    "                       shell=True)\n",
    "        # Wait additional two minutes for benchmark to complete\n",
    "        sleep(100)\n",
    "\n",
    "        # Terminate logcat\n",
    "        logcat.kill()\n",
    "\n",
    "    # Get scores from logcat\n",
    "    score_file = os.path.join(exp_dir, 'score.txt')\n",
    "    os.popen('grep -o \"PCMA_.*_SCORE .*\" {} | sed \"s/ = / /g\" | sort -u > {}'.format(log_file, score_file))\n",
    "    \n",
    "    # Close application\n",
    "    target.execute('am force-stop com.antutu.ABenchMark')\n",
    "    \n",
    "    return score_file\n",
    "\n",
    "def antutu_run(exp_dir):\n",
    "    !wa run antutu.yaml -f -d $exp_dir\n",
    "    score_file = exp_dir+\"/results.csv\"\n",
    "    print score_file\n",
    "    "
   ]
  },
  {
   "cell_type": "code",
   "execution_count": 41,
   "metadata": {
    "collapsed": false
   },
   "outputs": [],
   "source": [
    "import csv\n",
    "from collections import defaultdict\n",
    "\n",
    "def experiment(governor, exp_dir):\n",
    "    os.system('mkdir -p {}'.format(exp_dir));\n",
    "\n",
    "    logging.info('------------------------')\n",
    "    logging.info('Run workload using %s governor', governor)\n",
    "    confs[governor]['set']()\n",
    "\n",
    "    ### Run the benchmark ###\n",
    "    #score_file = pcmark_run(exp_dir)\n",
    "    score_file = antutu_run(exp_dir)\n",
    "    \n",
    "    # Save the score as a dictionary\n",
    "    scores = dict()\n",
    "    #with open(score_file, 'r') as f:\n",
    "#        lines = f.readlines()\n",
    "#        for l in lines:\n",
    "#            info = l.split()\n",
    "#            scores.update({info[0] : float(info[1])})\n",
    "\n",
    "    inFile = open('/home/lubaoquan/tools/lisa/lisa/results/Android_PCMark/'+governor+'/results.csv', 'r')\n",
    "    inLine = csv.reader(inFile)\n",
    "    next(inLine, None)\n",
    "    collectValue = defaultdict(list)\n",
    "    for row in inLine:\n",
    "        item = row[3]\n",
    "        value = row[4]\n",
    "#        collectValue[item].append(float(value))\n",
    "#    for item, value in collectValue.iteritems():\n",
    "        if item == 'execution_time':\n",
    "            continue\n",
    "        print item, value\n",
    "        scores.update({item : float(value)})\n",
    "    \n",
    "    # return all the experiment data\n",
    "    return {\n",
    "        'dir'        : exp_dir,\n",
    "        'scores'     : scores,\n",
    "    }"
   ]
  },
  {
   "cell_type": "markdown",
   "metadata": {},
   "source": [
    "# Run Antutu and collect scores"
   ]
  },
  {
   "cell_type": "code",
   "execution_count": 42,
   "metadata": {
    "collapsed": false,
    "scrolled": true
   },
   "outputs": [
    {
     "name": "stderr",
     "output_type": "stream",
     "text": [
      "2016-11-21 19:55:29,971 INFO    : ------------------------\n",
      "2016-11-21 19:55:29,973 INFO    : Run workload using performance governor\n"
     ]
    },
    {
     "name": "stdout",
     "output_type": "stream",
     "text": [
      "\u001b[32mINFO     \u001b[0mRemoving existing output directory.\u001b[32m\u001b[0m\n",
      "\u001b[32mINFO     \u001b[0mCreating output directory.\u001b[32m\u001b[0m\n",
      "\u001b[32mINFO     \u001b[0mInitializing\u001b[32m\u001b[0m\n",
      "\u001b[32mINFO     \u001b[0mRunning workloads\u001b[32m\u001b[0m\n",
      "\u001b[32mINFO     \u001b[0mConnecting to device\u001b[32m\u001b[0m\n",
      "\u001b[32mINFO     \u001b[0mInitializing device\u001b[32m\u001b[0m\n",
      "\u001b[32mINFO     \u001b[0mInitializing workloads\u001b[32m\u001b[0m\n",
      "\u001b[32mINFO     \u001b[0mRunning workload 1 antutu (iteration 1)\u001b[32m\u001b[0m\n",
      "\u001b[32mINFO     \u001b[0m\tSetting up\u001b[32m\u001b[0m\n",
      "\u001b[32mINFO     \u001b[0m\tExecuting\u001b[32m\u001b[0m\n",
      "\u001b[32mINFO     \u001b[0m\tProcessing result\u001b[32m\u001b[0m\n",
      "\u001b[32mINFO     \u001b[0m\tTearing down\u001b[32m\u001b[0m\n",
      "\u001b[32mINFO     \u001b[0mFinalizing workloads\u001b[32m\u001b[0m\n",
      "\u001b[32mINFO     \u001b[0mFinalizing.\u001b[32m\u001b[0m\n",
      "\u001b[32mINFO     \u001b[0mProcessing overall results\u001b[32m\u001b[0m\n",
      "\u001b[32mINFO     \u001b[0mStatus available in /home/lubaoquan/tools/lisa/lisa/results/Android_PCMark/performance/status.txt\u001b[32m\u001b[0m\n",
      "\u001b[32mINFO     \u001b[0mDone.\u001b[32m\u001b[0m\n",
      "\u001b[32mINFO     \u001b[0mRun duration: 7 minutes 19 seconds\u001b[32m\u001b[0m\n",
      "\u001b[32mINFO     \u001b[0mRan a total of 1 iterations: 1 OK\u001b[32m\u001b[0m\n",
      "\u001b[32mINFO     \u001b[0mResults can be found in /home/lubaoquan/tools/lisa/lisa/results/Android_PCMark/performance\u001b[32m\u001b[0m\n"
     ]
    },
    {
     "name": "stderr",
     "output_type": "stream",
     "text": [
      "2016-11-21 20:02:52,154 INFO    : ------------------------\n",
      "2016-11-21 20:02:52,156 INFO    : Run workload using sched governor\n"
     ]
    },
    {
     "name": "stdout",
     "output_type": "stream",
     "text": [
      "/home/lubaoquan/tools/lisa/lisa/results/Android_PCMark/performance/results.csv\n",
      "Overall_Score 15260\n",
      "\u001b[32mINFO     \u001b[0mRemoving existing output directory.\u001b[32m\u001b[0m\n",
      "\u001b[32mINFO     \u001b[0mCreating output directory.\u001b[32m\u001b[0m\n",
      "\u001b[32mINFO     \u001b[0mInitializing\u001b[32m\u001b[0m\n",
      "\u001b[32mINFO     \u001b[0mRunning workloads\u001b[32m\u001b[0m\n",
      "\u001b[32mINFO     \u001b[0mConnecting to device\u001b[32m\u001b[0m\n",
      "\u001b[32mINFO     \u001b[0mInitializing device\u001b[32m\u001b[0m\n",
      "\u001b[32mINFO     \u001b[0mInitializing workloads\u001b[32m\u001b[0m\n",
      "\u001b[32mINFO     \u001b[0mRunning workload 1 antutu (iteration 1)\u001b[32m\u001b[0m\n",
      "\u001b[32mINFO     \u001b[0m\tSetting up\u001b[32m\u001b[0m\n",
      "\u001b[32mINFO     \u001b[0m\tExecuting\u001b[32m\u001b[0m\n",
      "\u001b[32mINFO     \u001b[0m\tProcessing result\u001b[32m\u001b[0m\n",
      "\u001b[32mINFO     \u001b[0m\tTearing down\u001b[32m\u001b[0m\n",
      "\u001b[32mINFO     \u001b[0mFinalizing workloads\u001b[32m\u001b[0m\n",
      "\u001b[32mINFO     \u001b[0mFinalizing.\u001b[32m\u001b[0m\n",
      "\u001b[32mINFO     \u001b[0mProcessing overall results\u001b[32m\u001b[0m\n",
      "\u001b[32mINFO     \u001b[0mStatus available in /home/lubaoquan/tools/lisa/lisa/results/Android_PCMark/sched/status.txt\u001b[32m\u001b[0m\n",
      "\u001b[32mINFO     \u001b[0mDone.\u001b[32m\u001b[0m\n",
      "\u001b[32mINFO     \u001b[0mRun duration: 7 minutes 21 seconds\u001b[32m\u001b[0m\n",
      "\u001b[32mINFO     \u001b[0mRan a total of 1 iterations: 1 OK\u001b[32m\u001b[0m\n",
      "\u001b[32mINFO     \u001b[0mResults can be found in /home/lubaoquan/tools/lisa/lisa/results/Android_PCMark/sched\u001b[32m\u001b[0m\n"
     ]
    },
    {
     "name": "stderr",
     "output_type": "stream",
     "text": [
      "2016-11-21 20:10:15,708 INFO    : ------------------------\n",
      "2016-11-21 20:10:15,709 INFO    : Run workload using interactive governor\n"
     ]
    },
    {
     "name": "stdout",
     "output_type": "stream",
     "text": [
      "/home/lubaoquan/tools/lisa/lisa/results/Android_PCMark/sched/results.csv\n",
      "Overall_Score 15114\n",
      "\u001b[32mINFO     \u001b[0mRemoving existing output directory.\u001b[32m\u001b[0m\n",
      "\u001b[32mINFO     \u001b[0mCreating output directory.\u001b[32m\u001b[0m\n",
      "\u001b[32mINFO     \u001b[0mInitializing\u001b[32m\u001b[0m\n",
      "\u001b[32mINFO     \u001b[0mRunning workloads\u001b[32m\u001b[0m\n",
      "\u001b[32mINFO     \u001b[0mConnecting to device\u001b[32m\u001b[0m\n",
      "\u001b[32mINFO     \u001b[0mInitializing device\u001b[32m\u001b[0m\n",
      "\u001b[32mINFO     \u001b[0mInitializing workloads\u001b[32m\u001b[0m\n",
      "\u001b[32mINFO     \u001b[0mRunning workload 1 antutu (iteration 1)\u001b[32m\u001b[0m\n",
      "\u001b[32mINFO     \u001b[0m\tSetting up\u001b[32m\u001b[0m\n",
      "\u001b[32mINFO     \u001b[0m\tExecuting\u001b[32m\u001b[0m\n",
      "\u001b[32mINFO     \u001b[0m\tProcessing result\u001b[32m\u001b[0m\n",
      "\u001b[32mINFO     \u001b[0m\tTearing down\u001b[32m\u001b[0m\n",
      "\u001b[32mINFO     \u001b[0mFinalizing workloads\u001b[32m\u001b[0m\n",
      "\u001b[32mINFO     \u001b[0mFinalizing.\u001b[32m\u001b[0m\n",
      "\u001b[32mINFO     \u001b[0mProcessing overall results\u001b[32m\u001b[0m\n",
      "\u001b[32mINFO     \u001b[0mStatus available in /home/lubaoquan/tools/lisa/lisa/results/Android_PCMark/interactive/status.txt\u001b[32m\u001b[0m\n",
      "\u001b[32mINFO     \u001b[0mDone.\u001b[32m\u001b[0m\n",
      "\u001b[32mINFO     \u001b[0mRun duration: 7 minutes 19 seconds\u001b[32m\u001b[0m\n",
      "\u001b[32mINFO     \u001b[0mRan a total of 1 iterations: 1 OK\u001b[32m\u001b[0m\n",
      "\u001b[32mINFO     \u001b[0mResults can be found in /home/lubaoquan/tools/lisa/lisa/results/Android_PCMark/interactive\u001b[32m\u001b[0m\n",
      "/home/lubaoquan/tools/lisa/lisa/results/Android_PCMark/interactive/results.csv\n",
      "Overall_Score 15213\n"
     ]
    }
   ],
   "source": [
    "# Run the benchmark in all the configured governors\n",
    "for governor in confs:\n",
    "    test_dir = os.path.join(te.res_dir, governor)\n",
    "    res = experiment(governor, test_dir)\n",
    "    results[governor] = copy.deepcopy(res)"
   ]
  },
  {
   "cell_type": "markdown",
   "metadata": {
    "collapsed": false
   },
   "source": [
    "After running the benchmark for the specified governors we can show the scores"
   ]
  },
  {
   "cell_type": "code",
   "execution_count": 43,
   "metadata": {
    "collapsed": false
   },
   "outputs": [
    {
     "data": {
      "text/html": [
       "<div style=\"max-height:1000px;max-width:1500px;overflow:auto;\">\n",
       "<table border=\"1\" class=\"dataframe\">\n",
       "  <thead>\n",
       "    <tr style=\"text-align: right;\">\n",
       "      <th></th>\n",
       "      <th>interactive</th>\n",
       "      <th>performance</th>\n",
       "      <th>sched</th>\n",
       "    </tr>\n",
       "  </thead>\n",
       "  <tbody>\n",
       "    <tr>\n",
       "      <th>Overall_Score</th>\n",
       "      <td> 15213</td>\n",
       "      <td> 15260</td>\n",
       "      <td> 15114</td>\n",
       "    </tr>\n",
       "  </tbody>\n",
       "</table>\n",
       "<p>1 rows × 3 columns</p>\n",
       "</div>"
      ],
      "text/plain": [
       "               interactive  performance  sched\n",
       "Overall_Score        15213        15260  15114\n",
       "\n",
       "[1 rows x 3 columns]"
      ]
     },
     "execution_count": 43,
     "metadata": {},
     "output_type": "execute_result"
    }
   ],
   "source": [
    "# Create results DataFrame\n",
    "data = {}\n",
    "for governor in confs:\n",
    "    data[governor] = {}\n",
    "    for score_name, score in results[governor]['scores'].iteritems():\n",
    "        data[governor][score_name] = score\n",
    "#df = pd.DataFrame.from_dict(data)\n",
    "#df\n",
    "#data['performance']['CPU']=12405\n",
    "#data['interactive']['CPU']=11000\n",
    "#data['performance']['GPU']=2434\n",
    "#data['interactive']['GPU']=2100\n",
    "#data['performance']['UX']=12939\n",
    "#data['interactive']['UX']=11100\n",
    "#data['performance']['RAM']=4358\n",
    "#data['interactive']['RAM']=4100\n",
    "df = pd.DataFrame.from_dict(data)\n",
    "df"
   ]
  },
  {
   "cell_type": "code",
   "execution_count": 44,
   "metadata": {
    "collapsed": false
   },
   "outputs": [
    {
     "data": {
      "image/png": "[encoded data removed]",
      "text/plain": [
       "<matplotlib.figure.Figure at 0x7ff773921090>"
      ]
     },
     "metadata": {},
     "output_type": "display_data"
    }
   ],
   "source": [
    "df.plot(kind='bar', rot=45, figsize=(16,8),\n",
    "        title='Antutu CPU scores vs SchedFreq governors');"
   ]
  },
  {
   "cell_type": "code",
   "execution_count": null,
   "metadata": {
    "collapsed": true
   },
   "outputs": [],
   "source": []
  }
 ],
 "metadata": {
  "kernelspec": {
   "display_name": "Python 2",
   "language": "python",
   "name": "python2"
  },
  "language_info": {
   "codemirror_mode": {
    "name": "ipython",
    "version": 2
   },
   "file_extension": ".py",
   "mimetype": "text/x-python",
   "name": "python",
   "nbconvert_exporter": "python",
   "pygments_lexer": "ipython2",
   "version": "2.7.6"
  },
  "toc": {
   "toc_cell": false,
   "toc_number_sections": true,
   "toc_threshold": 6,
   "toc_window_display": false
  }
 },
 "nbformat": 4,
 "nbformat_minor": 0
}
