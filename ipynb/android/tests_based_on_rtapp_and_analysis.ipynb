{
 "cells": [
  {
   "cell_type": "markdown",
   "metadata": {},
   "source": [
    "# 1. Set logging"
   ]
  },
  {
   "cell_type": "code",
   "execution_count": 1,
   "metadata": {
    "collapsed": true
   },
   "outputs": [],
   "source": [
    "import logging\n",
    "reload(logging)\n",
    "logging.basicConfig(\n",
    "    format='%(asctime)-9s %(levelname)-8s %(message)s',\n",
    "    date='%I:%M:%S')\n",
    "\n",
    "logging.getLogger().setLevel(logging.ERROR)"
   ]
  },
  {
   "cell_type": "markdown",
   "metadata": {},
   "source": [
    "# 2. import nessceary library"
   ]
  },
  {
   "cell_type": "code",
   "execution_count": 2,
   "metadata": {
    "collapsed": false
   },
   "outputs": [
    {
     "name": "stderr",
     "output_type": "stream",
     "text": [
      "/home/lubaoquan/anaconda2/lib/python2.7/site-packages/matplotlib/font_manager.py:273: UserWarning: Matplotlib is building the font cache using fc-list. This may take a moment.\n",
      "  warnings.warn('Matplotlib is building the font cache using fc-list. This may take a moment.')\n"
     ]
    },
    {
     "name": "stdout",
     "output_type": "stream",
     "text": [
      "Populating the interactive namespace from numpy and matplotlib\n"
     ]
    }
   ],
   "source": [
    "%pylab inline\n",
    "\n",
    "import json\n",
    "import os\n",
    "import devlib\n",
    "import trappy\n",
    "from trace import Trace\n",
    "from env import TestEnv\n",
    "from wlgen import RTA, Ramp, Step, Pulse, Periodic"
   ]
  },
  {
   "cell_type": "markdown",
   "metadata": {},
   "source": [
    "# 3. Configure test env and target"
   ]
  },
  {
   "cell_type": "code",
   "execution_count": 4,
   "metadata": {
    "collapsed": false,
    "scrolled": false
   },
   "outputs": [],
   "source": [
    "my_target_conf={\n",
    "    \"platform\"  : 'android',\n",
    "    \"board\"     : 'hikey',\n",
    "    \"device\"    : '0123456789',\n",
    "    \"modules\"   : [\n",
    "        'cpufreq'\n",
    "    ]\n",
    "}\n",
    "\n",
    "my_tests_conf={\n",
    "    \"tools\"     : ['rt-app', 'taskset', 'trace-cmd'],\n",
    "    \"modules\"   : [ \"cpufreq\" ],\n",
    "    \"ftrace\"    : {\n",
    "        \"events\"  : [\n",
    "            \"sched_switch\",\n",
    "            \"sched_wakeup\",\n",
    "            \"sched_wakeup_new\",\n",
    "            \"sched_contrib_scale_f\",\n",
    "            \"sched_load_avg_cpu\",\n",
    "            \"sched_load_avg_task\",\n",
    "            \"sched_tune_config\",\n",
    "            \"sched_tune_tasks_update\",\n",
    "            \"sched_tune_boostgroup_update\",\n",
    "            \"sched_tune_filter\",\n",
    "            \"sched_boost_cpu\",\n",
    "            \"sched_boost_task\",\n",
    "            \"sched_energy_diff\",\n",
    "            \"cpu_frequency\",\n",
    "            \"cpu_capacity\",\n",
    "            \"cpu_idle\",\n",
    "        ],\n",
    "        \"buffsize\": 10240\n",
    "    }\n",
    "}\n",
    "\n",
    "\n",
    "te = TestEnv(target_conf=my_target_conf, test_conf=my_tests_conf)\n",
    "\n",
    "target=te.target"
   ]
  },
  {
   "cell_type": "markdown",
   "metadata": {},
   "source": [
    "# 4. Configure workload"
   ]
  },
  {
   "cell_type": "code",
   "execution_count": null,
   "metadata": {
    "collapsed": false,
    "scrolled": true
   },
   "outputs": [],
   "source": [
    "rtapp=RTA(target, 'simple')\n",
    "heavy=Periodic(duty_cycle_pct=20, duration_s=30, period_ms=5000)\n",
    "light=Periodic(duty_cycle_pct=10, duration_s=30, period_ms=5000)\n",
    "\n",
    "rtapp.conf(\n",
    "    kind='profile',\n",
    "    params={\n",
    "        'task010': light.get(),\n",
    "        'task01': heavy.get(),\n",
    "    },\n",
    "    run_dir=target.working_directory\n",
    ")"
   ]
  },
  {
   "cell_type": "markdown",
   "metadata": {},
   "source": [
    "# 5. Run workload and fetch trace"
   ]
  },
  {
   "cell_type": "code",
   "execution_count": null,
   "metadata": {
    "collapsed": false,
    "scrolled": true
   },
   "outputs": [],
   "source": [
    "te.ftrace.start()\n",
    "rtapp.run(out_dir=te.res_dir)\n",
    "te.ftrace.stop()\n",
    "trace_file=os.path.join(te.res_dir, 'trace.dat')\n",
    "te.ftrace.get_trace(trace_file)\n",
    "(plt, plt_file)=te.platform_dump(te.res_dir)"
   ]
  },
  {
   "cell_type": "markdown",
   "metadata": {},
   "source": [
    "# 6. Use trappy to analyze trace"
   ]
  },
  {
   "cell_type": "code",
   "execution_count": null,
   "metadata": {
    "collapsed": false
   },
   "outputs": [],
   "source": [
    "events_to_parse = [\n",
    "    \"sched_switch\",\n",
    "    \"sched_wakeup\",\n",
    "    \"sched_wakeup_new\",\n",
    "    \"sched_contrib_scale_f\",\n",
    "    \"sched_load_avg_cpu\",\n",
    "    \"sched_load_avg_task\",\n",
    "    \"sched_tune_config\",\n",
    "    \"sched_tune_tasks_update\",\n",
    "    \"sched_tune_boostgroup_update\",\n",
    "    \"sched_tune_filter\",\n",
    "    \"sched_boost_cpu\",\n",
    "    \"sched_boost_task\",\n",
    "    \"sched_energy_diff\",\n",
    "    \"cpu_frequency\",\n",
    "    \"cpu_capacity\",\n",
    "    \"cpu_idle\",\n",
    "]\n",
    "\n",
    "ftrace=trappy.FTrace(trace_file, normalize_time=True, events=events_to_parse, window=(0, None))\n",
    "trappy.plotter.plot_trace(ftrace)"
   ]
  },
  {
   "cell_type": "markdown",
   "metadata": {},
   "source": [
    "# 7. Use Trace to analyze trace"
   ]
  },
  {
   "cell_type": "code",
   "execution_count": null,
   "metadata": {
    "collapsed": false
   },
   "outputs": [],
   "source": [
    "platformfile=os.path.join(te.res_dir, 'platform.json')\n",
    "\n",
    "with open(platformfile, 'r') as fh:\n",
    "    platform = json.load(fh)\n",
    "    \n",
    "platform['nrg_model']['little']['cpu']['cap_max'] = 1024\n",
    "platform['clusters']['little'] = [0, 1, 2, 3]\n",
    "        \n",
    "platform['nrg_model']['big']['cpu']['cap_max'] = 1024\n",
    "platform['clusters']['big'] = [4, 5, 6, 7]\n",
    "platform['cpus_count'] = 8\n",
    "\n",
    "logging.info(\"CPUs max capacities:\")\n",
    "logging.info(\"   big: %5d (cpus: %s)\",\n",
    "             platform['nrg_model']['big']['cpu']['cap_max'],\n",
    "             platform['clusters']['big'])\n",
    "logging.info(\"LITTLE: %5d (cpus: %s)\",\n",
    "             platform['nrg_model']['little']['cpu']['cap_max'],\n",
    "             platform['clusters']['little'])\n",
    "\n",
    "(t_min, t_max)=(0, None)\n",
    "trace=Trace(platform, te.res_dir, events_to_parse, trace_format=\"FTrace\", window=(t_min, t_max))\n",
    "\n",
    "trace.analysis.frequency.plotClusterFrequencies()\n",
    "#trace.analysis.tasks.plotBigTasks(max_tasks=10, min_samples=100, min_utilization=10)\n",
    "#trace.analysis.tasks.plotWakeupTasks(max_tasks=10, min_wakeups=0, per_cluster=False)\n",
    "#trace.analysis.status.plotOverutilized()\n",
    "#trace.analysis.idle.plotClusterIdleStateResidency(clusters=0)\n",
    "#trace.analysis.idle.plotCPUIdleStateResidency(cpus=1)"
   ]
  },
  {
   "cell_type": "code",
   "execution_count": null,
   "metadata": {
    "collapsed": true
   },
   "outputs": [],
   "source": []
  }
 ],
 "metadata": {
  "anaconda-cloud": {},
  "kernelspec": {
   "display_name": "Python [default]",
   "language": "python",
   "name": "python2"
  },
  "language_info": {
   "codemirror_mode": {
    "name": "ipython",
    "version": 2
   },
   "file_extension": ".py",
   "mimetype": "text/x-python",
   "name": "python",
   "nbconvert_exporter": "python",
   "pygments_lexer": "ipython2",
   "version": "2.7.12"
  }
 },
 "nbformat": 4,
 "nbformat_minor": 0
}
