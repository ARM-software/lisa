{
 "cells": [
  {
   "cell_type": "markdown",
   "metadata": {},
   "source": [
    "# Energy Model sanity checks"
   ]
  },
  {
   "cell_type": "markdown",
   "metadata": {},
   "source": [
    "The Energy Models (EM) of real platforms rarely match the theoretical models. This notebook is an attempt to centralize a series of checks on the EM of a live target in order to detect abnormalities.\n",
    "\n",
    "The presence of undesired properties in an EM doesn't necessarily mean that something needs fixing, especially if the this is a real hardware issue. The goal of this notebook is mainly to be informative and to summarize the level of brokeness of a new platform quickly. What shall be done with this information (if it is possible to do something) is totally target and usecase-dependent."
   ]
  },
  {
   "cell_type": "markdown",
   "metadata": {},
   "source": [
    " ## Setup"
   ]
  },
  {
   "cell_type": "code",
   "execution_count": 1,
   "metadata": {},
   "outputs": [
    {
     "name": "stderr",
     "output_type": "stream",
     "text": [
      "2018-07-24 17:05:34,090 INFO    : root         : Using LISA logging configuration:\n",
      "2018-07-24 17:05:34,090 INFO    : root         :   /home/queper01/dev/lisa/logging.conf\n",
      "2018-07-24 17:05:34,124 INFO    : root         : Generating grammar tables from /usr/lib/python2.7/lib2to3/Grammar.txt\n",
      "2018-07-24 17:05:34,140 INFO    : root         : Generating grammar tables from /usr/lib/python2.7/lib2to3/PatternGrammar.txt\n"
     ]
    }
   ],
   "source": [
    "import logging\n",
    "from conf import LisaLogging\n",
    "LisaLogging.setup()\n",
    "from env import TestEnv\n",
    "from energy_model import EnergyModel\n",
    "import libs.utils.energy_model as em"
   ]
  },
  {
   "cell_type": "code",
   "execution_count": 2,
   "metadata": {
    "collapsed": true
   },
   "outputs": [],
   "source": [
    "# Global variables\n",
    "target = None\n",
    "nrg_model = None"
   ]
  },
  {
   "cell_type": "markdown",
   "metadata": {},
   "source": [
    "### Create EM from a live target"
   ]
  },
  {
   "cell_type": "code",
   "execution_count": 3,
   "metadata": {},
   "outputs": [
    {
     "name": "stderr",
     "output_type": "stream",
     "text": [
      "2018-07-24 17:05:35,062 INFO    : TestEnv      : Using base path: /data/work/dev/lisa\n",
      "2018-07-24 17:05:35,063 INFO    : TestEnv      : Loading custom (inline) target configuration\n",
      "2018-07-24 17:05:35,064 INFO    : TestEnv      : Devlib modules to load: ['cpuidle', 'cpufreq']\n",
      "2018-07-24 17:05:35,065 INFO    : TestEnv      : Connecting linux target:\n",
      "2018-07-24 17:05:35,065 INFO    : TestEnv      :   username : linaro\n",
      "2018-07-24 17:05:35,066 INFO    : TestEnv      :       host : 10.4.13.128\n",
      "2018-07-24 17:05:35,067 INFO    : TestEnv      :   password : linaro\n",
      "2018-07-24 17:05:35,067 INFO    : TestEnv      : Connection settings:\n",
      "2018-07-24 17:05:35,068 INFO    : TestEnv      :    {'username': 'linaro', 'host': '10.4.13.128', 'password': 'linaro'}\n",
      "2018-07-24 17:05:42,790 INFO    : TestEnv      : Initializing target workdir:\n",
      "2018-07-24 17:05:42,791 INFO    : TestEnv      :    /home/linaro/devlib-target\n",
      "2018-07-24 17:05:43,559 INFO    : TestEnv      : Topology:\n",
      "2018-07-24 17:05:43,560 INFO    : TestEnv      :    [[0, 3, 4, 5], [1, 2]]\n",
      "2018-07-24 17:05:43,916 INFO    : TestEnv      : Loading default EM:\n",
      "2018-07-24 17:05:43,917 INFO    : TestEnv      :    /data/work/dev/lisa/libs/utils/platforms/juno.json\n",
      "2018-07-24 17:05:44,093 INFO    : EnergyMeter  : HWMON module not enabled\n",
      "2018-07-24 17:05:44,093 WARNING : EnergyMeter  : Energy sampling disabled by configuration\n",
      "2018-07-24 17:05:44,094 INFO    : TestEnv      : Set results folder to:\n",
      "2018-07-24 17:05:44,095 INFO    : TestEnv      :    /data/work/dev/lisa/results/20180724_170535\n",
      "2018-07-24 17:05:44,095 INFO    : TestEnv      : Experiment results available also in:\n",
      "2018-07-24 17:05:44,096 INFO    : TestEnv      :    /data/work/dev/lisa/results_latest\n",
      "2018-07-24 17:05:44,272 INFO    : EMReader     : Attempting to load EM using from_simplifiedEM_target\n"
     ]
    }
   ],
   "source": [
    "# Minimal configuration for a Juno\n",
    "my_conf = {\n",
    "    \n",
    "    # Target platform and board\n",
    "    \"platform\"    : \"linux\",\n",
    "    \"board\"       : \"juno\",\n",
    "    \"host\"        : \"10.4.13.128\",\n",
    "    \"username\"    : \"linaro\",\n",
    "    \"password\"    : \"linaro\",\n",
    "    \n",
    "    \"modules\" : [\"cpufreq\", \"cpuidle\"],\n",
    "    \"exclude_modules\" : [\"bl\", \"hwmon\"],\n",
    "}\n",
    "\n",
    "target = TestEnv(target_conf=my_conf, force_new=True).target\n",
    "nrg_model = EnergyModel.from_target(target)"
   ]
  },
  {
   "cell_type": "markdown",
   "metadata": {},
   "source": [
    "### Create EM from a static energy model"
   ]
  },
  {
   "cell_type": "code",
   "execution_count": 4,
   "metadata": {},
   "outputs": [],
   "source": [
    "#from platforms.hikey_energy import hikey_energy as nrg_model\n",
    "#from platforms.hikey960_energy import hikey960_energy as nrg_model\n",
    "#from platforms.juno_r0_energy import juno_r0_energy as nrg_model\n",
    "#from platforms.pixel_energy import pixel_energy as nrg_model"
   ]
  },
  {
   "cell_type": "markdown",
   "metadata": {},
   "source": [
    "## Energy efficiency"
   ]
  },
  {
   "cell_type": "markdown",
   "metadata": {},
   "source": [
    "On sane hardware, OPPs at high frequencies should be less energy-efficient than OPPs at low frequencies. If that is not true, the heuristics used in schedutil and EAS are sub-optimal since they always assume the smallest possible frequency request for any given utilization level.\n",
    "\n",
    "The following check computes the 'capacity / power' ratio of all OPPs of the Energy Model, and asserts that this ratio is monotonically decreasing."
   ]
  },
  {
   "cell_type": "code",
   "execution_count": 5,
   "metadata": {},
   "outputs": [
    {
     "name": "stdout",
     "output_type": "stream",
     "text": [
      "OK: The power efficiency of all CPUs decreases monotonically with growing frequencies\n"
     ]
    }
   ],
   "source": [
    "passed, msg = em.is_efficiency_decreasing(nrg_model)\n",
    "if not passed:\n",
    "    print('ERROR: ' + msg)\n",
    "else:\n",
    "    print('OK: The power efficiency of all CPUs decreases monotonically with growing frequencies')"
   ]
  },
  {
   "cell_type": "markdown",
   "metadata": {
    "collapsed": true
   },
   "source": [
    "## Number of active states"
   ]
  },
  {
   "cell_type": "markdown",
   "metadata": {},
   "source": [
    "In the wake-up path, EAS tries to predict what will be the frequency request given a certain utilization level. The (private) tables used by EAS are supposed to match the OPPs of the target, hence enabling a quick look-up. However, it can be hard on some platform (QCOM SoCs, for example) to know the exact number of OPPs prior to boot, so reporting a static Energy Model in DT which is synchronized with the real set of OPPs isn't easy.\n",
    "\n",
    "The following check compares the number of entries in the Energy Model tables with the actual available frequencies as reported by CPUFreq in order to detect any mismatch between the two."
   ]
  },
  {
   "cell_type": "code",
   "execution_count": 6,
   "metadata": {},
   "outputs": [
    {
     "name": "stdout",
     "output_type": "stream",
     "text": [
      "OK: the EM and CPUFreq both report the same number of OPPs\n"
     ]
    }
   ],
   "source": [
    "if not target:\n",
    "    raise RuntimeError(\"Impossible to check what CPUFreq reports whitout a target\")\n",
    "\n",
    "freqs = []\n",
    "for fd in nrg_model.freq_domains:\n",
    "    cpu = fd[0]\n",
    "    freqs.append(len(target.cpufreq.list_frequencies(cpu)))\n",
    "passed, msg = em.check_active_states_nb(nrg_model, freqs)\n",
    "\n",
    "if not passed:\n",
    "    print('ERROR: ' + msg)\n",
    "else:\n",
    "    print('OK: the EM and CPUFreq both report the same number of OPPs')"
   ]
  },
  {
   "cell_type": "markdown",
   "metadata": {},
   "source": [
    "## Over-utilized band"
   ]
  },
  {
   "cell_type": "markdown",
   "metadata": {},
   "source": [
    "When no CPU is over-utilized, EAS will try to avoid over-utilization as much as possible to avoid loosing the 'control' on the system. As such, the OPPs that are only available in the over-utilized band (between 80% and 100% of the CPU capacity) are generally used very infrequently.\n",
    "\n",
    "The following hunk reports the OPPs in the over-utilized band."
   ]
  },
  {
   "cell_type": "code",
   "execution_count": 7,
   "metadata": {},
   "outputs": [
    {
     "name": "stdout",
     "output_type": "stream",
     "text": [
      "The OPPs in the overutilized band are:\n",
      "\tGroup 0: [367, 406, 446]\n",
      "\tGroup 1: [884, 1024]\n",
      "\n"
     ]
    }
   ],
   "source": [
    "opp_overutilized = em.get_opp_overutilized(nrg_model)\n",
    "msg = \"The OPPs in the overutilized band are:\\n\"\n",
    "for i, opp in enumerate(opp_overutilized):\n",
    "    msg += \"\\tGroup {}: {}\\n\".format(i, opp[1])\n",
    "print(msg)"
   ]
  },
  {
   "cell_type": "markdown",
   "metadata": {},
   "source": [
    "The fact that some OPPs are mostly unused because of the over-utilized mechanism can lead to sub-optimal task placements. Indeed, the overutilized OPPs of the little CPUs won't be used much, even if they actually are more energy efficient than the low OPPs of big CPUs.\n",
    "\n",
    "The over-utilized threshold is a fairly strong design choice for EAS, so it is not obvious if anything needs fixing. However, some OPPs of the little CPUs might be wasted because of this. The following hunk checks if that is the case."
   ]
  },
  {
   "cell_type": "code",
   "execution_count": 8,
   "metadata": {},
   "outputs": [
    {
     "name": "stdout",
     "output_type": "stream",
     "text": [
      "ERROR: It is more energy efficient to run for the utilization [367, 406, 446, 356.8, 418] on the little cpu \n",
      "\t\tbut it is run on the big cpu due to the overutilization zone\n"
     ]
    }
   ],
   "source": [
    "passed, msg = em.compare_big_little_opp(nrg_model)\n",
    "if not passed:\n",
    "    print('ERROR: ' + msg)\n",
    "else:\n",
    "    print ('OK: the overutilized OPPs of the little CPUs are less efficient that the low OPPs of bigs')"
   ]
  },
  {
   "cell_type": "markdown",
   "metadata": {},
   "source": [
    "## Ideal placement"
   ]
  },
  {
   "cell_type": "markdown",
   "metadata": {},
   "source": [
    "It is not desired to have a lot of overlap in the power / perf curves of different types of CPUs. As an attempt to detect completely bogus Energy Models, the following hunk checks that a task using exactly the average capacity of a certain type of CPU would indeed be ran on this type of CPU, if EAS was optimal."
   ]
  },
  {
   "cell_type": "code",
   "execution_count": 9,
   "metadata": {},
   "outputs": [
    {
     "name": "stdout",
     "output_type": "stream",
     "text": [
      "OK: Average-capacity tasks end up where expected\n"
     ]
    }
   ],
   "source": [
    "passed, msg = em.ideal_placements(nrg_model)\n",
    "if not passed:\n",
    "    print('ERROR: ' + msg)\n",
    "else:\n",
    "    print('OK: Average-capacity tasks end up where expected')"
   ]
  }
 ],
 "metadata": {
  "kernelspec": {
   "display_name": "Python 2",
   "language": "python",
   "name": "python2"
  },
  "language_info": {
   "codemirror_mode": {
    "name": "ipython",
    "version": 2
   },
   "file_extension": ".py",
   "mimetype": "text/x-python",
   "name": "python",
   "nbconvert_exporter": "python",
   "pygments_lexer": "ipython2",
   "version": "2.7.6"
  }
 },
 "nbformat": 4,
 "nbformat_minor": 2
}
