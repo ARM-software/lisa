{
 "cells": [
  {
   "cell_type": "markdown",
   "metadata": {},
   "source": [
    "<center>\n",
    "<h1>Energy Model Building Flow - Example 1</h1>\n",
    "<h2>for platforms supporting per-cluster energy meters</h2>\n",
    "</center>"
   ]
  },
  {
   "cell_type": "markdown",
   "metadata": {},
   "source": [
    "This notebook shows how to build an energy model of a JUNO platform running a Linux kernel.\n",
    "\n",
    "It can be used as a reference implementation of an energy model building flow for platforms<br>\n",
    "where it's possible to measure the energy consumption of each frequency domain.\n",
    "\n",
    "For JUNO, Linux kernel Hardware monitors will be used to measure energy.<br>\n",
    "Hardware monitors measure energy in microJoule [$\\mu$J]."
   ]
  },
  {
   "cell_type": "code",
   "execution_count": 1,
   "metadata": {
    "collapsed": true
   },
   "outputs": [],
   "source": [
    "import logging\n",
    "from conf import LisaLogging\n",
    "LisaLogging.setup()"
   ]
  },
  {
   "cell_type": "code",
   "execution_count": 3,
   "metadata": {
    "collapsed": false
   },
   "outputs": [],
   "source": [
    "%matplotlib inline\n",
    "\n",
    "import devlib\n",
    "import json\n",
    "import matplotlib.pyplot as plt\n",
    "import numpy as np\n",
    "import os\n",
    "import pandas as pd\n",
    "import re\n",
    "import trappy\n",
    "\n",
    "from collections import namedtuple, OrderedDict\n",
    "from csv import DictWriter\n",
    "from devlib.utils.misc import ranges_to_list\n",
    "from env import TestEnv\n",
    "from matplotlib.ticker import FormatStrFormatter, MaxNLocator\n",
    "from scipy.stats import linregress\n",
    "from time import sleep\n",
    "from trappy.plotter.ColorMap import ColorMap"
   ]
  },
  {
   "cell_type": "markdown",
   "metadata": {},
   "source": [
    "# Configuration"
   ]
  },
  {
   "cell_type": "code",
   "execution_count": 3,
   "metadata": {
    "collapsed": true
   },
   "outputs": [],
   "source": [
    "# Setup a target configuration\n",
    "my_conf = {\n",
    "    \n",
    "    # Target platform and board\n",
    "    \"platform\"    : 'linux',\n",
    "    \"board\"       : 'juno',\n",
    "    \n",
    "    # Target board IP/MAC address\n",
    "    \"host\"        : '10.1.211.18',\n",
    "    \n",
    "    # Login credentials\n",
    "    \"username\"    : 'root',\n",
    "    \"password\"    : '',\n",
    "    \n",
    "    # Tools required by the experiments\n",
    "    \"tools\"   : ['trace-cmd'],\n",
    "    \"modules\" : ['hwmon', 'bl', 'cpufreq', 'cpuidle', 'hotplug', 'cgroups'],\n",
    "    \n",
    "    # Energy meters description\n",
    "    \"emeter\" : {\n",
    "        'instrument' : 'hwmon',\n",
    "        'conf' : {\n",
    "            'sites' : [ 'BOARDLITTLE', 'BOARDBIG' ],\n",
    "            'kinds' : [ 'energy' ],\n",
    "        },\n",
    "        'channel_map' : {\n",
    "            'little' : 'BOARDLITTLE',\n",
    "            'big' : 'BOARDBIG',\n",
    "        }\n",
    "    },\n",
    "    \n",
    "    # FTrace events to collect for all the tests configuration which have\n",
    "    # the \"ftrace\" flag enabled\n",
    "    \"ftrace\"  : {\n",
    "         \"events\" : [\n",
    "            \"cpu_frequency\",\n",
    "            \"cpu_idle\",\n",
    "            \"sched_switch\"\n",
    "         ],\n",
    "         \"buffsize\" : 10 * 1024,\n",
    "    },\n",
    "}"
   ]
  },
  {
   "cell_type": "code",
   "execution_count": 4,
   "metadata": {
    "collapsed": false,
    "scrolled": false
   },
   "outputs": [
    {
     "name": "stderr",
     "output_type": "stream",
     "text": [
      "2016-09-08 19:27:12,272 INFO    :         Target - Using base path: /data/lisa\n",
      "2016-09-08 19:27:12,273 INFO    :         Target - Loading custom (inline) target configuration\n",
      "2016-09-08 19:27:12,274 INFO    :         Target - Devlib modules to load: ['cgroups', 'hwmon', 'cpufreq', 'bl', 'hotplug', 'cpuidle']\n",
      "2016-09-08 19:27:12,275 INFO    :         Target - Connecting linux target:\n",
      "2016-09-08 19:27:12,276 INFO    :         Target -   username : root\n",
      "2016-09-08 19:27:12,276 INFO    :         Target -       host : 10.1.211.18\n",
      "2016-09-08 19:27:12,277 INFO    :         Target -   password : \n",
      "2016-09-08 19:27:12,278 INFO    :         Target - Connection settings:\n",
      "2016-09-08 19:27:12,279 INFO    :         Target -    {'username': 'root', 'host': '10.1.211.18', 'password': ''}\n",
      "2016-09-08 19:27:54,035 INFO    :         Target - Initializing target workdir:\n",
      "2016-09-08 19:27:54,037 INFO    :         Target -    /root/devlib-target\n",
      "2016-09-08 19:28:10,999 INFO    :         Target - Topology:\n",
      "2016-09-08 19:28:11,001 INFO    :         Target -    [[0, 3, 4, 5], [1, 2]]\n",
      "2016-09-08 19:28:12,634 INFO    :       Platform - Loading default EM:\n",
      "2016-09-08 19:28:12,636 INFO    :       Platform -    /data/lisa/libs/utils/platforms/juno.json\n",
      "2016-09-08 19:28:13,839 INFO    :         FTrace - Enabled tracepoints:\n",
      "2016-09-08 19:28:13,841 INFO    :         FTrace -   cpu_frequency\n",
      "2016-09-08 19:28:13,842 INFO    :         FTrace -   cpu_idle\n",
      "2016-09-08 19:28:13,843 INFO    :         FTrace -   sched_switch\n",
      "2016-09-08 19:28:13,844 INFO    :          HWMon - Scanning for HWMON channels, may take some time...\n",
      "2016-09-08 19:28:13,850 INFO    :          HWMon - Channels selected for energy sampling:\n",
      "2016-09-08 19:28:13,851 INFO    :          HWMon -    a57_energy\n",
      "2016-09-08 19:28:13,852 INFO    :          HWMon -    a53_energy\n",
      "2016-09-08 19:28:13,853 INFO    :        TestEnv - Set results folder to:\n",
      "2016-09-08 19:28:13,854 INFO    :        TestEnv -    /data/lisa/results/20160908_192813\n",
      "2016-09-08 19:28:13,855 INFO    :        TestEnv - Experiment results available also in:\n",
      "2016-09-08 19:28:13,856 INFO    :        TestEnv -    /data/lisa/results_latest\n"
     ]
    }
   ],
   "source": [
    "# Initialize a test environment using:\n",
    "# the provided target configuration (my_conf)\n",
    "te = TestEnv(target_conf=my_conf, force_new=True)\n",
    "target = te.target"
   ]
  },
  {
   "cell_type": "markdown",
   "metadata": {},
   "source": [
    "## Energy Model Parameters (CPUs, OPPs and Idle States)"
   ]
  },
  {
   "cell_type": "code",
   "execution_count": 5,
   "metadata": {
    "collapsed": true
   },
   "outputs": [],
   "source": [
    "# The EM reports capacity and energy consumption for each frequency domain.\n",
    "# The frequency domains to be considered by the following EM building flow\n",
    "# are described by the parameters of this named tuple\n",
    "ClusterDescription = namedtuple('ClusterDescription',\n",
    "                                ['name', 'emeter_ch', 'core_name',\n",
    "                                 'cpus', 'freqs', 'idle_states'])"
   ]
  },
  {
   "cell_type": "code",
   "execution_count": 6,
   "metadata": {
    "collapsed": false
   },
   "outputs": [],
   "source": [
    "# List of frequency domains (i.e. clusters) to be considered for the EM\n",
    "clusters = [\n",
    "    ClusterDescription(\n",
    "        # Name of the cluster\n",
    "        name = \"big\",\n",
    "        # Name of the energy meter channel as specified in the target configuration\n",
    "        emeter_ch = \"big\",\n",
    "        # Name of the cores in the cluster\n",
    "        core_name = target.big_core,\n",
    "        # List of cores in the cluster\n",
    "        cpus = target.bl.bigs,\n",
    "        # List of frequencies available in the cluster\n",
    "        freqs = target.bl.list_bigs_frequencies(),\n",
    "        # List of idle states available in the cluster\n",
    "        idle_states = range(len(target.cpuidle.get_states()))\n",
    "    ),\n",
    "    ClusterDescription(\"little\",\n",
    "                       \"little\",\n",
    "                       target.little_core,\n",
    "                       target.bl.littles,\n",
    "                       target.bl.list_littles_frequencies(),\n",
    "                       range(len(target.cpuidle.get_states()))\n",
    "    )\n",
    "]"
   ]
  },
  {
   "cell_type": "code",
   "execution_count": 7,
   "metadata": {
    "collapsed": false
   },
   "outputs": [
    {
     "data": {
      "text/plain": [
       "[ClusterDescription(name='big', emeter_ch='big', core_name='A72', cpus=[1, 2], freqs=[600000, 1000000, 1200000], idle_states=[0, 1, 2]),\n",
       " ClusterDescription(name='little', emeter_ch='little', core_name='A53', cpus=[0, 3, 4, 5], freqs=[450000, 800000, 950000], idle_states=[0, 1, 2])]"
      ]
     },
     "execution_count": 7,
     "metadata": {},
     "output_type": "execute_result"
    }
   ],
   "source": [
    "clusters"
   ]
  },
  {
   "cell_type": "code",
   "execution_count": 8,
   "metadata": {
    "collapsed": false
   },
   "outputs": [],
   "source": [
    "# Mapping between cluster names and cluster IDs\n",
    "cluster_ids = OrderedDict([(0, 'little'), (1, 'big')])"
   ]
  },
  {
   "cell_type": "markdown",
   "metadata": {},
   "source": [
    "## Benchmark example"
   ]
  },
  {
   "cell_type": "code",
   "execution_count": 9,
   "metadata": {
    "collapsed": false
   },
   "outputs": [],
   "source": [
    "class Sysbench(object):\n",
    "    \"\"\"\n",
    "    Sysbench benchmark class.\n",
    "    \n",
    "    :param duration: maximum workload duration in seconds\n",
    "    :type duration: int\n",
    "    \"\"\"\n",
    "    sysbench_path = \"/data/local/tmp/bin/sysbench\"\n",
    "    \n",
    "    def __init__(self, target, duration):\n",
    "        self.target = target\n",
    "        self.duration = duration\n",
    "\n",
    "    def run(self, cgroup, threads):\n",
    "        \"\"\"\n",
    "        Run benchmark using the specified number of 'threads'\n",
    "        to be executed under the specified 'cgroup'.\n",
    "        \n",
    "        :param cgroup: cgroup where to run the benchmark on\n",
    "        :type cgroup: str\n",
    "        \n",
    "        :param threads: number of threads to spawn\n",
    "        :type threads: int\n",
    "        \n",
    "        :returns: float - performance score\n",
    "        \"\"\"\n",
    "        bench_out = self.target.cgroups.run_into(\n",
    "            cgroup,\n",
    "            \"{} --test=cpu --num-threads={} --max-time={} run\"\n",
    "            .format(self.sysbench_path, threads, self.duration)\n",
    "        )\n",
    "        match = re.search(r'(total number of events:\\s*)([\\d.]*)', bench_out)\n",
    "        return float(match.group(2))"
   ]
  },
  {
   "cell_type": "markdown",
   "metadata": {},
   "source": [
    "# Utility Functions"
   ]
  },
  {
   "cell_type": "code",
   "execution_count": 10,
   "metadata": {
    "collapsed": false
   },
   "outputs": [],
   "source": [
    "def linfit(x, y):\n",
    "    slope, intercept, r, p, stderr = linregress(x, y)\n",
    "    return slope, intercept"
   ]
  },
  {
   "cell_type": "markdown",
   "metadata": {},
   "source": [
    "# Energy Model Building"
   ]
  },
  {
   "cell_type": "markdown",
   "metadata": {},
   "source": [
    "## Active States Profiling"
   ]
  },
  {
   "cell_type": "code",
   "execution_count": 11,
   "metadata": {
    "collapsed": false
   },
   "outputs": [],
   "source": [
    "def compute_power_perf(clusters, loop_cnt, benchmark, bkp_file='pstates.csv'):\n",
    "    \"\"\"\n",
    "    Perform P-States profiling on each input cluster.\n",
    "    \n",
    "    This method requires a `benchmark` object with the following\n",
    "    characteristics:\n",
    "        \n",
    "        - duration, attribute that tells the workload duration in seconds\n",
    "        - run(cgroup, threads), run the benchmark into the specified 'cgroup',\n",
    "                                spawning the specified number of 'threads',\n",
    "                                and return a performance score of their execution.\n",
    "    \n",
    "    Data will be saved into a CSV file at each iteration such that, if something\n",
    "    goes wrong, the user can restart the experiment considering only idle_states\n",
    "    that had not yet been profiled.\n",
    "    \n",
    "    :param clusters: list of clusters to profile\n",
    "    :type clusters: list(namedtuple(ClusterDescription))\n",
    "    \n",
    "    :param loop_cnt: number of iterations for each experiment\n",
    "    :type loop_cnt: int\n",
    "    \n",
    "    :param benchmark: benchmark object\n",
    "    :type benchmark: int\n",
    "    \n",
    "    :param bkp_file: CSV file name\n",
    "    :type bkp_file: str\n",
    "    \"\"\"\n",
    "\n",
    "    # Make sure all CPUs are online\n",
    "    target.hotplug.online_all()\n",
    "\n",
    "    # Set cpufreq governor to userpace to allow manual frequency scaling\n",
    "    target.cpufreq.set_all_governors('userspace')\n",
    "\n",
    "    bkp_file = os.path.join(te.res_dir, bkp_file)\n",
    "    with open(bkp_file, 'w') as csvfile:\n",
    "        writer = DictWriter(csvfile,\n",
    "                            fieldnames=['cluster', 'cpus', 'freq',\n",
    "                                        'perf', 'energy', 'power'])\n",
    "\n",
    "        # A) For each cluster (i.e. frequency domain) to profile...\n",
    "        power_perf = []\n",
    "        for cl in clusters:\n",
    "            target_cg, _ = target.cgroups.isolate(cl.cpus)\n",
    "\n",
    "            # P-States profiling requires to plug in CPUs one at the time\n",
    "            for cpu in cl.cpus:\n",
    "                target.hotplug.offline(cpu)\n",
    "\n",
    "            # B) For each additional cluster's plugged in CPU...\n",
    "            on_cpus = []\n",
    "            for cnt, cpu in enumerate(cl.cpus):\n",
    "\n",
    "                # Hotplug ON one more CPU\n",
    "                target.hotplug.online(cpu)\n",
    "                on_cpus.append(cpu)\n",
    "                \n",
    "                # Ensure online CPUs are part of the target cgroup\n",
    "                # (in case hotplug OFF removes it)\n",
    "                target_cg.set(cpus=on_cpus)\n",
    "                cl_cpus = set(target.list_online_cpus()).intersection(set(cl.cpus))\n",
    "                logging.info('Cluster {:8} (Online CPUs : {})'\\\n",
    "                              .format(cl.name, list(cl_cpus)))\n",
    "\n",
    "                # C) For each OPP supported by the current cluster\n",
    "                for freq in cl.freqs:\n",
    "                    \n",
    "                    # Set frequency to freq for current CPUs\n",
    "                    target.cpufreq.set_frequency(cpu, freq)\n",
    "\n",
    "                    # Run the benchmark for the specified number of iterations each time\n",
    "                    # collecting a sample of energy consumption and reported performance\n",
    "                    energy = 0\n",
    "                    perf = 0\n",
    "                    for i in xrange(loop_cnt):\n",
    "                        te.emeter.reset()\n",
    "                        # Run benchmark into the target cgroup\n",
    "                        perf += benchmark.run(target_cg.name, cnt + 1)\n",
    "                        nrg = te.emeter.report(te.res_dir).channels\n",
    "                        energy += nrg[cl.emeter_ch]\n",
    "                        sleep(10)\n",
    "\n",
    "                    # Compute average energy and performance for the current number of\n",
    "                    # active CPUs all running at the current OPP\n",
    "                    perf = perf / loop_cnt\n",
    "                    energy = energy / loop_cnt\n",
    "                    power = energy / benchmark.duration\n",
    "                    logging.info('  avg_prf: {:7.3}, avg_pwr: {:7.3}'\n",
    "                                 .format(perf, power))\n",
    "\n",
    "                    # Keep track of this new P-State profiling point\n",
    "                    new_row = {'cluster': cl.name,\n",
    "                               'cpus': cnt + 1,\n",
    "                               'freq': freq,\n",
    "                               'perf': perf,\n",
    "                               'energy' : energy,\n",
    "                               'power': power}\n",
    "                    power_perf.append(new_row)\n",
    "\n",
    "                    # Save data in a CSV file\n",
    "                    writer.writerow(new_row)\n",
    "                    \n",
    "                # C) profile next P-State\n",
    "\n",
    "            # B) add one more CPU (for the current frequency domain)\n",
    "\n",
    "        # A) Profile next cluster (i.e. frequency domain)\n",
    "\n",
    "        target.hotplug.online_all()\n",
    "\n",
    "        power_perf_df = pd.DataFrame(power_perf)\n",
    "        \n",
    "    return power_perf_df.set_index(['cluster', 'freq', 'cpus'])\\\n",
    "                        .sort_index(level='cluster')"
   ]
  },
  {
   "cell_type": "code",
   "execution_count": 12,
   "metadata": {
    "collapsed": false,
    "scrolled": true
   },
   "outputs": [
    {
     "name": "stderr",
     "output_type": "stream",
     "text": [
      "2016-09-08 19:28:35,671 INFO    : Cluster big    - Online CPUs : set([1])\n",
      "2016-09-08 19:34:11,966 INFO    : Cluster big    - Online CPUs : set([1, 2])\n",
      "2016-09-08 19:39:55,727 INFO    : Cluster little - Online CPUs : set([0])\n",
      "2016-09-08 19:45:32,850 INFO    : Cluster little - Online CPUs : set([0, 3])\n",
      "2016-09-08 19:51:09,860 INFO    : Cluster little - Online CPUs : set([0, 3, 4])\n",
      "2016-09-08 19:56:46,850 INFO    : Cluster little - Online CPUs : set([0, 3, 4, 5])\n"
     ]
    }
   ],
   "source": [
    "sysbench = Sysbench(target, 10)\n",
    "loop_cnt = 5\n",
    "\n",
    "power_perf_df = compute_power_perf(clusters, loop_cnt, sysbench)"
   ]
  },
  {
   "cell_type": "code",
   "execution_count": 13,
   "metadata": {
    "collapsed": true
   },
   "outputs": [],
   "source": [
    "def plot_pstates(power_perf_df, cluster):\n",
    "    \"\"\"\n",
    "    Plot P-States profiling for the specified cluster.\n",
    "    \n",
    "    :param power_perf_df: DataFrame reporting power and performance values\n",
    "    :type power_perf_df: :mod:`pandas.DataFrame`\n",
    "    \n",
    "    :param cluster: cluster description\n",
    "    :type cluster: namedtuple(ClusterDescription)\n",
    "    \"\"\"\n",
    "    cmap = ColorMap(len(cluster.freqs))\n",
    "    color_map = map(cmap.cmap, range(len(cluster.freqs)))\n",
    "    color_map = dict(zip(cluster.freqs, color_map))\n",
    "    \n",
    "    fig, ax = plt.subplots(1, 1, figsize=(16, 10))\n",
    "    \n",
    "    grouped = power_perf_df.loc[cluster.name].groupby(level='freq')\n",
    "    for freq, df in grouped:\n",
    "        x = df.index.get_level_values('cpus').tolist()\n",
    "        y = df.power.tolist()\n",
    "        slope, intercept = linfit(x, y)\n",
    "        x.insert(0, 0)\n",
    "        y.insert(0, intercept)\n",
    "        # Plot linear fit of the points\n",
    "        ax.plot(x, [slope*i + intercept for i in x], color=color_map[freq])\n",
    "        # Plot measured points\n",
    "        ax.scatter(x, y, color=color_map[freq], label='{} kHz'.format(freq))\n",
    "\n",
    "    ax.set_title('JUNO {} cluster P-States profiling'.format(cluster.name),\n",
    "                 fontsize=16)\n",
    "    ax.legend()\n",
    "    ax.set_xlabel('Active cores')\n",
    "    ax.set_ylabel('Power [$\\mu$W]')\n",
    "    ax.set_xlim(-0.5, len(cluster.cpus)+1)\n",
    "    ax.xaxis.set_major_locator(MaxNLocator(integer=True))\n",
    "    ax.yaxis.set_major_formatter(FormatStrFormatter('%.2f'))\n",
    "    ax.grid(True)"
   ]
  },
  {
   "cell_type": "code",
   "execution_count": 14,
   "metadata": {
    "collapsed": false
   },
   "outputs": [
    {
     "data": {
      "image/png": "[encoded data removed]",
      "text/plain": [
       "<matplotlib.figure.Figure at 0x7f1d8955cd10>"
      ]
     },
     "metadata": {},
     "output_type": "display_data"
    }
   ],
   "source": [
    "big_cl = clusters[0]\n",
    "plot_pstates(power_perf_df, big_cl)"
   ]
  },
  {
   "cell_type": "code",
   "execution_count": 15,
   "metadata": {
    "collapsed": false
   },
   "outputs": [
    {
     "data": {
      "image/png": "[encoded data removed]",
      "text/plain": [
       "<matplotlib.figure.Figure at 0x7f1d88c6f390>"
      ]
     },
     "metadata": {},
     "output_type": "display_data"
    }
   ],
   "source": [
    "little_cl = clusters[1]\n",
    "plot_pstates(power_perf_df, little_cl)"
   ]
  },
  {
   "cell_type": "markdown",
   "metadata": {},
   "source": [
    "### Statistics"
   ]
  },
  {
   "cell_type": "code",
   "execution_count": 16,
   "metadata": {
    "collapsed": false
   },
   "outputs": [],
   "source": [
    "def power_perf_stats(power_perf_df):\n",
    "    \"\"\"\n",
    "    For each cluster compute per-OPP power and performance statistics.\n",
    "    \n",
    "    :param power_perf_df: dataframe containing power and performance numbers\n",
    "    :type power_perf_df: :mod:`pandas.DataFrame`\n",
    "    \"\"\"\n",
    "    clusters = power_perf_df.index.get_level_values('cluster')\\\n",
    "                                  .unique().tolist()\n",
    "\n",
    "    stats = []   \n",
    "    for cl in clusters:\n",
    "        cl_power_df = power_perf_df.loc[cl].reset_index()\n",
    "\n",
    "        grouped = cl_power_df.groupby('freq')\n",
    "        for freq, df in grouped:\n",
    "            perf = df['perf'] / df['cpus']\n",
    "            power = df['power'] / df['cpus']\n",
    "            energy = df['energy'] / df['cpus']\n",
    "\n",
    "            avg_row = {'cluster': cl,\n",
    "                       'freq': freq,\n",
    "                       'stats': 'avg',\n",
    "                       'perf': perf.mean(),\n",
    "                       'power': power.mean(),\n",
    "                       'energy': energy.mean()\n",
    "                      }\n",
    "            std_row = {'cluster': cl,\n",
    "                       'freq': freq,\n",
    "                       'stats': 'std',\n",
    "                       'perf': perf.std(),\n",
    "                       'power': power.std(),\n",
    "                       'energy': energy.std()\n",
    "                      }\n",
    "            min_row = {'cluster': cl,\n",
    "                       'freq': freq,\n",
    "                       'stats': 'min',\n",
    "                       'perf': perf.min(),\n",
    "                       'power': power.min(),\n",
    "                       'energy': energy.min()\n",
    "                      }\n",
    "            max_row = {'cluster' : cl,\n",
    "                       'freq' : freq,\n",
    "                       'stats' : 'max',\n",
    "                       'perf' : perf.max(),\n",
    "                       'power' : power.max(),\n",
    "                       'energy': energy.max()\n",
    "                      }\n",
    "            c99_row = {'cluster' : cl,\n",
    "                       'freq' : freq,\n",
    "                       'stats' : 'c99',\n",
    "                       'perf' : perf.quantile(q=0.99),\n",
    "                       'power' : power.quantile(q=0.99),\n",
    "                       'energy': energy.quantile(q=0.99)\n",
    "                      }\n",
    "\n",
    "            stats.append(avg_row)\n",
    "            stats.append(std_row)\n",
    "            stats.append(min_row)\n",
    "            stats.append(max_row)\n",
    "            stats.append(c99_row)\n",
    "    \n",
    "    stats_df = pd.DataFrame(stats).set_index(['cluster', 'freq', 'stats'])\\\n",
    "                                  .sort_index(level='cluster')\n",
    "    return stats_df.unstack()"
   ]
  },
  {
   "cell_type": "code",
   "execution_count": 17,
   "metadata": {
    "collapsed": false
   },
   "outputs": [],
   "source": [
    "pp_stats = power_perf_stats(power_perf_df)"
   ]
  },
  {
   "cell_type": "markdown",
   "metadata": {},
   "source": [
    "### Plots"
   ]
  },
  {
   "cell_type": "code",
   "execution_count": 18,
   "metadata": {
    "collapsed": true
   },
   "outputs": [],
   "source": [
    "def plot_power_perf(pp_stats, clusters):\n",
    "    cmap = ColorMap(len(clusters) + 1)\n",
    "    color_map = map(cmap.cmap, range(len(clusters) + 1))\n",
    "    \n",
    "    fig, ax = plt.subplots(1, 1, figsize=(16, 10))\n",
    "\n",
    "    max_perf = pp_stats.perf['avg'].max()\n",
    "    max_power = pp_stats.power['avg'].max()\n",
    "\n",
    "    for i, cl in enumerate(clusters):\n",
    "        cl_df = pp_stats.loc[cl.name]\n",
    "        norm_perf_df = cl_df.perf['avg'] * 100.0 / max_perf\n",
    "        norm_power_df = cl_df.power['avg'] * 100.0 / max_power\n",
    "\n",
    "        x = norm_perf_df.values.tolist()\n",
    "        y = norm_power_df.values.tolist()\n",
    "        ax.plot(x, y, color=color_map[i], marker='o', label=cl.name)\n",
    "\n",
    "        norm_perf_df = cl_df.perf['max'] * 100.0 / max_perf\n",
    "        norm_power_df = cl_df.power['max'] * 100.0 / max_power\n",
    "\n",
    "        x = norm_perf_df.values.tolist()\n",
    "        y = norm_power_df.values.tolist()\n",
    "        ax.plot(x, y, '--', color=color_map[-1])\n",
    "\n",
    "        norm_perf_df = cl_df.perf['min'] * 100.0 / max_perf\n",
    "        norm_power_df = cl_df.power['min'] * 100.0 / max_power\n",
    "\n",
    "        x = norm_perf_df.values.tolist()\n",
    "        y = norm_power_df.values.tolist()\n",
    "        ax.plot(x, y, '--', color=color_map[-1])\n",
    "\n",
    "    ax.set_title('JUNO Power VS Performance curves', fontsize=16)\n",
    "    ax.legend()\n",
    "    ax.set_xlabel('Performance [%]')\n",
    "    ax.set_ylabel('Power [%]')\n",
    "    ax.set_xlim(0, 120)\n",
    "    ax.set_ylim(0, 120)\n",
    "    ax.xaxis.set_major_locator(MaxNLocator(integer=True))\n",
    "    ax.yaxis.set_major_locator(MaxNLocator(integer=True))\n",
    "    ax.grid(True)"
   ]
  },
  {
   "cell_type": "code",
   "execution_count": 19,
   "metadata": {
    "collapsed": false
   },
   "outputs": [
    {
     "data": {
      "image/png": "[encoded data removed]",
      "text/plain": [
       "<matplotlib.figure.Figure at 0x7f1d8883bb90>"
      ]
     },
     "metadata": {},
     "output_type": "display_data"
    }
   ],
   "source": [
    "plot_power_perf(pp_stats, clusters)"
   ]
  },
  {
   "cell_type": "markdown",
   "metadata": {},
   "source": [
    "## Idle States Profiling"
   ]
  },
  {
   "cell_type": "code",
   "execution_count": 20,
   "metadata": {
    "collapsed": false,
    "scrolled": true
   },
   "outputs": [],
   "source": [
    "def compute_idle_power(clusters, loop_cnt, sleep_duration, bkp_file='cstates.csv'):\n",
    "    \"\"\"\n",
    "    Perform C-States profiling on each input cluster.\n",
    "    \n",
    "    Data will be saved into a CSV file at each iteration such that if something\n",
    "    goes wrong the user can restart the experiment considering only idle_states\n",
    "    that had not been processed.\n",
    "    \n",
    "    :param clusters: list of clusters to profile\n",
    "    :type clusters: list(namedtuple(ClusterDescription))\n",
    "    \n",
    "    :param loop_cnt: number of loops for each experiment\n",
    "    :type loop_cnt: int\n",
    "    \n",
    "    :param sleep_duration: sleep time in seconds\n",
    "    :type sleep_duration: int\n",
    "    \n",
    "    :param bkp_file: CSV file name\n",
    "    :type bkp_file: str\n",
    "    \"\"\"\n",
    "\n",
    "    # Make sure all CPUs are online\n",
    "    target.hotplug.online_all()\n",
    "\n",
    "    with open(bkp_file, 'w') as csvfile:\n",
    "        writer = DictWriter(csvfile,\n",
    "                            fieldnames=['cluster', 'cpus',\n",
    "                                        'idle_state', 'energy', 'power'])\n",
    "\n",
    "        # Disable frequency scaling by setting cpufreq governor to userspace\n",
    "        target.cpufreq.set_all_governors('userspace')\n",
    "\n",
    "        # A) For each cluster (i.e. frequency domain) to profile...\n",
    "        idle_power = []\n",
    "        for cl in clusters:\n",
    "            target.cgroups.isolate(cl.cpus)\n",
    "\n",
    "            # C-States profiling requires to plug in CPUs one at the time\n",
    "            for cpu in cl.cpus:\n",
    "                target.hotplug.offline(cpu)\n",
    "\n",
    "            # B) For each additional cluster's plugged in CPU...\n",
    "            for cnt, cpu in enumerate(cl.cpus):\n",
    "                \n",
    "                # Hotplug ON one more CPU\n",
    "                target.hotplug.online(cpu)\n",
    "                \n",
    "                cl_cpus = set(target.list_online_cpus()).intersection(set(cl.cpus))\n",
    "                logging.info('Cluster {:8} (Online CPUs : {})'\\\n",
    "                              .format(cl.name, list(cl_cpus)))\n",
    "\n",
    "                # C) For each OPP supported by the current cluster\n",
    "                for idle in cl.idle_states:\n",
    "\n",
    "                    # Disable all idle states but the current one\n",
    "                    for c in cl.cpus:\n",
    "                        target.cpuidle.disable_all(cpu=c)\n",
    "                        target.cpuidle.enable(idle, cpu=c)\n",
    "\n",
    "                    # Sleep for the specified duration each time collecting a sample\n",
    "                    # of energy consumption and reported performance\n",
    "                    energy = 0\n",
    "                    for i in xrange(loop_cnt):\n",
    "                        te.emeter.reset()\n",
    "                        sleep(sleep_duration)\n",
    "                        nrg = te.emeter.report(te.res_dir).channels\n",
    "                        energy += nrg[cl.emeter_ch]\n",
    "\n",
    "                    # Compute average energy and performance for the current number of\n",
    "                    # active CPUs all idle at the current OPP\n",
    "                    energy = energy / loop_cnt\n",
    "                    power = energy / SLEEP_DURATION\n",
    "                    logging.info('  avg_pwr: {:7.3}'\n",
    "                                 .format(power))\n",
    "\n",
    "                    # Keep track of this new C-State profiling point\n",
    "                    new_row = {'cluster': cl.name,\n",
    "                               'cpus': cnt + 1,\n",
    "                               'idle_state': idle,\n",
    "                               'energy': energy,\n",
    "                               'power': power}\n",
    "                    idle_power.append(new_row)\n",
    "                    \n",
    "                    # Save data in a CSV file\n",
    "                    writer.writerow(new_row)\n",
    "                    \n",
    "                # C) profile next C-State\n",
    "\n",
    "            # B) add one more CPU (for the current frequency domain)\n",
    "\n",
    "        # A) profile next cluster (i.e. frequency domain)\n",
    "\n",
    "        target.hotplug.online_all()\n",
    "\n",
    "        idle_df = pd.DataFrame(idle_power)\n",
    "    return idle_df.set_index(['cluster', 'idle_state', 'cpus']).sort_index(level='cluster')"
   ]
  },
  {
   "cell_type": "code",
   "execution_count": 21,
   "metadata": {
    "collapsed": false,
    "scrolled": true
   },
   "outputs": [
    {
     "name": "stderr",
     "output_type": "stream",
     "text": [
      "2016-09-08 20:02:42,283 INFO    : Cluster big    - Online CPUs : set([1])\n",
      "2016-09-08 20:06:04,376 INFO    : Cluster big    - Online CPUs : set([1, 2])\n",
      "2016-09-08 20:09:23,459 INFO    : Cluster little - Online CPUs : set([0])\n",
      "2016-09-08 20:13:10,543 INFO    : Cluster little - Online CPUs : set([0, 3])\n",
      "2016-09-08 20:16:36,396 INFO    : Cluster little - Online CPUs : set([0, 3, 4])\n",
      "2016-09-08 20:20:02,271 INFO    : Cluster little - Online CPUs : set([0, 3, 4, 5])\n"
     ]
    }
   ],
   "source": [
    "SLEEP_DURATION = 10\n",
    "loop_cnt = 5\n",
    "\n",
    "idle_df = compute_idle_power(clusters, loop_cnt, SLEEP_DURATION)"
   ]
  },
  {
   "cell_type": "markdown",
   "metadata": {},
   "source": [
    "### Statistics"
   ]
  },
  {
   "cell_type": "code",
   "execution_count": 22,
   "metadata": {
    "collapsed": false
   },
   "outputs": [],
   "source": [
    "WFI = 0\n",
    "CORE_OFF = 1\n",
    "\n",
    "def idle_power_stats(idle_df):\n",
    "    \"\"\"\n",
    "    For each cluster compute per idle state power statistics.\n",
    "    \n",
    "    :param idle_df: dataframe containing power numbers\n",
    "    :type idle_df: :mod:`pandas.DataFrame`\n",
    "    \"\"\"\n",
    "\n",
    "    stats = []\n",
    "    for cl in clusters:\n",
    "        cl_df = idle_df.loc[cl.name].reset_index()\n",
    "        # Start from deepest idle state\n",
    "        cl_df = cl_df.sort_values('idle_state', ascending=False)\n",
    "        grouped = cl_df.groupby('idle_state', sort=False)\n",
    "        for state, df in grouped:\n",
    "            energy = df.energy\n",
    "            power = df.power\n",
    "            state_name = \"C{}_CLUSTER\".format(state)\n",
    "            if state == CORE_OFF:\n",
    "                core_off_nrg_avg = energy.mean()\n",
    "                core_off_pwr_avg = power.mean()\n",
    "            if state == WFI:\n",
    "                energy = df.energy.diff()\n",
    "                energy[0] = df.energy[0] - core_off_nrg_avg\n",
    "                power = df.power.diff()\n",
    "                power[0] = df.power[0] - core_off_pwr_avg\n",
    "                state_name = \"C0_CORE\"\n",
    "\n",
    "            avg_row = {'cluster': cl.name,\n",
    "                       'idle_state': state_name,\n",
    "                       'stats': 'avg',\n",
    "                       'energy': energy.mean(),\n",
    "                       'power': power.mean()\n",
    "                      }\n",
    "            std_row = {'cluster': cl.name,\n",
    "                       'idle_state': state_name,\n",
    "                       'stats': 'std',\n",
    "                       'energy': energy.std(),\n",
    "                       'power': power.std()\n",
    "                      }\n",
    "            min_row = {'cluster' : cl.name,\n",
    "                       'idle_state' : state_name,\n",
    "                       'stats' : 'min',\n",
    "                       'energy' : energy.min(),\n",
    "                       'power' : power.min()\n",
    "                      }\n",
    "            max_row = {'cluster' : cl.name,\n",
    "                       'idle_state' : state_name,\n",
    "                       'stats' : 'max',\n",
    "                       'energy' : energy.max(),\n",
    "                       'power' : power.max()\n",
    "                      }\n",
    "            c99_row = {'cluster' : cl.name,\n",
    "                       'idle_state' : state_name,\n",
    "                       'stats' : 'c99',\n",
    "                       'energy' : energy.quantile(q=0.99),\n",
    "                       'power' : power.quantile(q=0.99)\n",
    "                      }\n",
    "            stats.append(avg_row)\n",
    "            stats.append(std_row)\n",
    "            stats.append(min_row)\n",
    "            stats.append(max_row)\n",
    "            stats.append(c99_row)\n",
    "    \n",
    "    stats_df = pd.DataFrame(stats).set_index(\n",
    "        ['cluster', 'idle_state', 'stats']).sort_index(level='cluster')\n",
    "    return stats_df.unstack()"
   ]
  },
  {
   "cell_type": "code",
   "execution_count": 23,
   "metadata": {
    "collapsed": false
   },
   "outputs": [],
   "source": [
    "idle_stats = idle_power_stats(idle_df)"
   ]
  },
  {
   "cell_type": "markdown",
   "metadata": {},
   "source": [
    "### Plots"
   ]
  },
  {
   "cell_type": "code",
   "execution_count": 24,
   "metadata": {
    "collapsed": false
   },
   "outputs": [],
   "source": [
    "def plot_cstates(idle_power_df, cluster):\n",
    "    \"\"\"\n",
    "    Plot C-States profiling for the specified cluster.\n",
    "    \n",
    "    :param idle_power_df: dataframe reporting power values in each idle state\n",
    "    :type idle_power_df: :mod:`pandas.DataFrame`\n",
    "\n",
    "    :param cluster: cluster description\n",
    "    :type cluster: namedtuple(ClusterDescription)\n",
    "    \"\"\"\n",
    "    n_cpus = len(cluster.cpus)\n",
    "    cmap = ColorMap(len(cluster.idle_states))\n",
    "    color_map = map(cmap.cmap, cluster.idle_states)\n",
    "    color_map = [c for c in color_map for i in xrange(n_cpus)]\n",
    "\n",
    "    cl_df = idle_power_df.loc[cluster.name]\n",
    "    ax = cl_df.power.plot.bar(figsize=(16,8), color=color_map, alpha=0.5,\n",
    "                              legend=False, table=True)\n",
    "\n",
    "    idx = 0\n",
    "    grouped = cl_df.groupby(level=0)\n",
    "    for state, df in grouped:\n",
    "        x = df.index.get_level_values('cpus').tolist()\n",
    "        y = df.power.tolist()\n",
    "        slope, intercept = linfit(x, y)\n",
    "\n",
    "        y = [slope * v + intercept for v in x]\n",
    "        x = range(n_cpus * idx, n_cpus * (idx + 1))\n",
    "        ax.plot(x, y, color=color_map[idx*n_cpus], linewidth=4)\n",
    "        idx += 1\n",
    "\n",
    "    ax.grid(True)\n",
    "    ax.get_xaxis().set_visible(False)\n",
    "    ax.set_ylabel(\"Idle Power [$\\mu$W]\")\n",
    "    ax.set_title(\"JUNO {} cluster C-states profiling\"\\\n",
    "                 .format(cluster.name), fontsize=16)"
   ]
  },
  {
   "cell_type": "code",
   "execution_count": 25,
   "metadata": {
    "collapsed": false
   },
   "outputs": [
    {
     "data": {
      "image/png": "[encoded data removed]",
      "text/plain": [
       "<matplotlib.figure.Figure at 0x7f1d88c5f4d0>"
      ]
     },
     "metadata": {},
     "output_type": "display_data"
    }
   ],
   "source": [
    "little = clusters[1]\n",
    "\n",
    "plot_cstates(idle_df, little)"
   ]
  },
  {
   "cell_type": "code",
   "execution_count": 26,
   "metadata": {
    "collapsed": false
   },
   "outputs": [
    {
     "data": {
      "image/png": "[encoded data removed]",
      "text/plain": [
       "<matplotlib.figure.Figure at 0x7f1d889a9ad0>"
      ]
     },
     "metadata": {},
     "output_type": "display_data"
    }
   ],
   "source": [
    "big = clusters[0]\n",
    "\n",
    "plot_cstates(idle_df, big)"
   ]
  },
  {
   "cell_type": "markdown",
   "metadata": {},
   "source": [
    "# Energy Model Generation"
   ]
  },
  {
   "cell_type": "code",
   "execution_count": null,
   "metadata": {
    "collapsed": true
   },
   "outputs": [],
   "source": [
    "def pstates_model_df(clusters, pp_stats, power_perf_df, metric='avg'):\n",
    "    \"\"\"\n",
    "    Build two data frames containing data to create the energy model for each\n",
    "    cluster given as input.\n",
    "    \n",
    "    :param clusters: list of clusters to profile\n",
    "    :type clusters: list(namedtuple(ClusterDescription))\n",
    "    \n",
    "    :param pp_stats: power and performance statistics\n",
    "    :type pp_stats: :mod:`pandas.DataFrame`\n",
    "    \n",
    "    :param power_perf_df: power and performance data\n",
    "    :type power_perf_df: :mod:`pandas.DataFrame`\n",
    "    \"\"\"\n",
    "    max_score = pp_stats.perf[metric].max()\n",
    "\n",
    "    core_cap_energy = []\n",
    "    cluster_cap_energy = []\n",
    "    for cl in clusters:\n",
    "        # ACTIVE Energy\n",
    "        grouped = power_perf_df.loc[cl.name].groupby(level='freq')\n",
    "        for freq, df in grouped:\n",
    "            # Get average energy at OPP freq for 1 CPU\n",
    "            energy_freq_1 = pp_stats.loc[cl.name].loc[freq]['energy'][metric]\n",
    "            # Get cluster energy at OPP freq\n",
    "            x = df.index.get_level_values('cpus').tolist()\n",
    "            y = df.energy.tolist()\n",
    "            slope, intercept = linfit(x, y)\n",
    "            # Energy can't be negative but the regression line may intercept the\n",
    "            # y-axis at a negative value. Im this case cluster energy can be\n",
    "            # assumed to be 0.\n",
    "            cluster_energy = intercept if intercept >= 0.0 else 0.0\n",
    "            core_energy = energy_freq_1 - cluster_energy\n",
    "\n",
    "            # Get score at OPP freq\n",
    "            score_freq = pp_stats.loc[cl.name].loc[freq]['perf'][metric]\n",
    "            capacity = int(score_freq * 1024 / max_score)\n",
    "\n",
    "            core_cap_energy.append({'cluster' : cl.name,\n",
    "                                    'core': cl.core_name,\n",
    "                                    'freq': freq,\n",
    "                                    'cap': capacity,\n",
    "                                    'energy': core_energy})\n",
    "            cluster_cap_energy.append({'cluster': cl.name,\n",
    "                                       'freq': freq,\n",
    "                                       'cap': capacity,\n",
    "                                       'energy': cluster_energy})\n",
    "\n",
    "    core_cap_nrg_df = pd.DataFrame(core_cap_energy)\n",
    "    cluster_cap_nrg_df = pd.DataFrame(cluster_cap_energy)\n",
    "    return core_cap_nrg_df, cluster_cap_nrg_df"
   ]
  },
  {
   "cell_type": "code",
   "execution_count": 790,
   "metadata": {
    "collapsed": false
   },
   "outputs": [],
   "source": [
    "core_cap_nrg_df, cluster_cap_nrg_df = pstates_model_df(clusters,\n",
    "                                                       pp_stats,\n",
    "                                                       power_perf_df)"
   ]
  },
  {
   "cell_type": "code",
   "execution_count": 791,
   "metadata": {
    "collapsed": false
   },
   "outputs": [
    {
     "data": {
      "text/html": [
       "<div>\n",
       "<table border=\"1\" class=\"dataframe\">\n",
       "  <thead>\n",
       "    <tr style=\"text-align: right;\">\n",
       "      <th></th>\n",
       "      <th>cap</th>\n",
       "      <th>cluster</th>\n",
       "      <th>core</th>\n",
       "      <th>energy</th>\n",
       "      <th>freq</th>\n",
       "    </tr>\n",
       "  </thead>\n",
       "  <tbody>\n",
       "    <tr>\n",
       "      <th>0</th>\n",
       "      <td>511</td>\n",
       "      <td>big</td>\n",
       "      <td>A72</td>\n",
       "      <td>17.789481</td>\n",
       "      <td>600000</td>\n",
       "    </tr>\n",
       "    <tr>\n",
       "      <th>1</th>\n",
       "      <td>853</td>\n",
       "      <td>big</td>\n",
       "      <td>A72</td>\n",
       "      <td>35.823328</td>\n",
       "      <td>1000000</td>\n",
       "    </tr>\n",
       "    <tr>\n",
       "      <th>2</th>\n",
       "      <td>1024</td>\n",
       "      <td>big</td>\n",
       "      <td>A72</td>\n",
       "      <td>54.063424</td>\n",
       "      <td>1200000</td>\n",
       "    </tr>\n",
       "    <tr>\n",
       "      <th>3</th>\n",
       "      <td>214</td>\n",
       "      <td>little</td>\n",
       "      <td>A53</td>\n",
       "      <td>2.006948</td>\n",
       "      <td>450000</td>\n",
       "    </tr>\n",
       "    <tr>\n",
       "      <th>4</th>\n",
       "      <td>382</td>\n",
       "      <td>little</td>\n",
       "      <td>A53</td>\n",
       "      <td>4.815868</td>\n",
       "      <td>800000</td>\n",
       "    </tr>\n",
       "    <tr>\n",
       "      <th>5</th>\n",
       "      <td>454</td>\n",
       "      <td>little</td>\n",
       "      <td>A53</td>\n",
       "      <td>7.074375</td>\n",
       "      <td>950000</td>\n",
       "    </tr>\n",
       "  </tbody>\n",
       "</table>\n",
       "</div>"
      ],
      "text/plain": [
       "    cap cluster core     energy     freq\n",
       "0   511     big  A72  17.789481   600000\n",
       "1   853     big  A72  35.823328  1000000\n",
       "2  1024     big  A72  54.063424  1200000\n",
       "3   214  little  A53   2.006948   450000\n",
       "4   382  little  A53   4.815868   800000\n",
       "5   454  little  A53   7.074375   950000"
      ]
     },
     "execution_count": 791,
     "metadata": {},
     "output_type": "execute_result"
    }
   ],
   "source": [
    "core_cap_nrg_df"
   ]
  },
  {
   "cell_type": "code",
   "execution_count": 792,
   "metadata": {
    "collapsed": false
   },
   "outputs": [
    {
     "data": {
      "text/html": [
       "<div>\n",
       "<table border=\"1\" class=\"dataframe\">\n",
       "  <thead>\n",
       "    <tr style=\"text-align: right;\">\n",
       "      <th></th>\n",
       "      <th>cap</th>\n",
       "      <th>cluster</th>\n",
       "      <th>energy</th>\n",
       "      <th>freq</th>\n",
       "    </tr>\n",
       "  </thead>\n",
       "  <tbody>\n",
       "    <tr>\n",
       "      <th>0</th>\n",
       "      <td>511</td>\n",
       "      <td>big</td>\n",
       "      <td>3.603797</td>\n",
       "      <td>600000</td>\n",
       "    </tr>\n",
       "    <tr>\n",
       "      <th>1</th>\n",
       "      <td>853</td>\n",
       "      <td>big</td>\n",
       "      <td>5.473947</td>\n",
       "      <td>1000000</td>\n",
       "    </tr>\n",
       "    <tr>\n",
       "      <th>2</th>\n",
       "      <td>1024</td>\n",
       "      <td>big</td>\n",
       "      <td>7.764931</td>\n",
       "      <td>1200000</td>\n",
       "    </tr>\n",
       "    <tr>\n",
       "      <th>3</th>\n",
       "      <td>214</td>\n",
       "      <td>little</td>\n",
       "      <td>3.051592</td>\n",
       "      <td>450000</td>\n",
       "    </tr>\n",
       "    <tr>\n",
       "      <th>4</th>\n",
       "      <td>382</td>\n",
       "      <td>little</td>\n",
       "      <td>4.941256</td>\n",
       "      <td>800000</td>\n",
       "    </tr>\n",
       "    <tr>\n",
       "      <th>5</th>\n",
       "      <td>454</td>\n",
       "      <td>little</td>\n",
       "      <td>7.347481</td>\n",
       "      <td>950000</td>\n",
       "    </tr>\n",
       "  </tbody>\n",
       "</table>\n",
       "</div>"
      ],
      "text/plain": [
       "    cap cluster    energy     freq\n",
       "0   511     big  3.603797   600000\n",
       "1   853     big  5.473947  1000000\n",
       "2  1024     big  7.764931  1200000\n",
       "3   214  little  3.051592   450000\n",
       "4   382  little  4.941256   800000\n",
       "5   454  little  7.347481   950000"
      ]
     },
     "execution_count": 792,
     "metadata": {},
     "output_type": "execute_result"
    }
   ],
   "source": [
    "cluster_cap_nrg_df"
   ]
  },
  {
   "cell_type": "code",
   "execution_count": 793,
   "metadata": {
    "collapsed": false
   },
   "outputs": [],
   "source": [
    "def energy_model_dict(clusters, core_cap_nrg_df, cluster_cap_nrg_df, metric='avg'):\n",
    "    n_states = len(clusters[0].idle_states)\n",
    "\n",
    "    nrg_dict = {}\n",
    "\n",
    "    grouped = core_cap_nrg_df.groupby('cluster')\n",
    "    for cl, df in grouped:\n",
    "        nrg_dict[cl] = {\n",
    "            \"opps\" : {},\n",
    "            \"core\": {\n",
    "                \"name\": df.core.iloc[0],\n",
    "                \"busy-cost\": OrderedDict(),\n",
    "                \"idle-cost\": OrderedDict()\n",
    "            },\n",
    "            \"cluster\": {\n",
    "                \"busy-cost\": OrderedDict(),\n",
    "                \"idle-cost\": OrderedDict()\n",
    "            }\n",
    "        }\n",
    "        # Core COSTS\n",
    "        # ACTIVE costs\n",
    "        for row in df.iterrows():\n",
    "            nrg_dict[cl][\"opps\"][row[1].cap] = row[1].freq\n",
    "            nrg_dict[cl][\"core\"][\"busy-cost\"][row[1].cap] = int(row[1].energy)\n",
    "\n",
    "        # IDLE costs\n",
    "        wfi_nrg = idle_stats.loc[cl].energy[metric][0]\n",
    "        # WFI\n",
    "        nrg_dict[cl][\"core\"][\"idle-cost\"][0] = int(wfi_nrg)\n",
    "        # All remaining states are zeroes\n",
    "        for i in xrange(1, n_states):\n",
    "            nrg_dict[cl][\"core\"][\"idle-cost\"][i] = 0\n",
    "\n",
    "        # Cluster COSTS\n",
    "        cl_data = cluster_cap_nrg_df[cluster_cap_nrg_df.cluster == cl]\n",
    "        # ACTIVE costs\n",
    "        for row in cl_data.iterrows():\n",
    "            nrg_dict[cl][\"cluster\"][\"busy-cost\"][row[1].cap] = int(row[1].energy)\n",
    "\n",
    "        # IDLE costs\n",
    "        # Core OFF is the first valid idle cost for cluster\n",
    "        idle_data = idle_stats.loc[cl].energy[metric]\n",
    "        # WFI (same as Core OFF)\n",
    "        nrg_dict[cl][\"cluster\"][\"idle-cost\"][0] = int(idle_data[1])\n",
    "        # All other idle states (from CORE OFF down)\n",
    "        for i in xrange(1, n_states):\n",
    "            nrg_dict[cl][\"cluster\"][\"idle-cost\"][i] = int(idle_data[i])\n",
    "\n",
    "    return nrg_dict"
   ]
  },
  {
   "cell_type": "code",
   "execution_count": 794,
   "metadata": {
    "collapsed": true
   },
   "outputs": [],
   "source": [
    "nrg_dict = energy_model_dict(clusters, core_cap_nrg_df, cluster_cap_nrg_df)"
   ]
  },
  {
   "cell_type": "markdown",
   "metadata": {},
   "source": [
    "## Device Tree EM Format"
   ]
  },
  {
   "cell_type": "code",
   "execution_count": 771,
   "metadata": {
    "collapsed": false
   },
   "outputs": [],
   "source": [
    "def dump_device_tree(nrg_dict, outfile='sched-energy.dtsi'):\n",
    "    \"\"\"\n",
    "    Generate device tree energy model file.\n",
    "    \n",
    "    :param nrg_dict: dictionary describing the energy model\n",
    "    :type nrg_dict: dict\n",
    "    \n",
    "    :param outfile: output file name\n",
    "    :type outfile: str\n",
    "    \"\"\"\n",
    "    with open(os.path.join(te.res_dir, outfile), 'w') as out:\n",
    "        out.write(\"energy-costs {\\n\")\n",
    "        idx = 0\n",
    "        for cl_name in nrg_dict.keys():\n",
    "            core = nrg_dict[cl_name][\"core\"]\n",
    "            # Dump Core costs\n",
    "            out.write(\"\\tCPU_COST_{}: core_cost{} {}\\n\"\\\n",
    "                      .format(core[\"name\"], idx, '{'))\n",
    "            # ACTIVE costs\n",
    "            out.write(\"\\t\\tbusy-cost-data = <\\n\")\n",
    "            for cap, nrg in core[\"busy-cost\"].iteritems():\n",
    "                out.write(\"\\t\\t\\t{} {}\\n\".format(cap, nrg))\n",
    "            out.write(\"\\t\\t>;\\n\")\n",
    "            # IDLE costs\n",
    "            out.write(\"\\t\\tidle-cost-data = <\\n\")\n",
    "            # arch idle\n",
    "            out.write(\"\\t\\t\\t{}\\n\".format(core[\"idle-cost\"][0]))\n",
    "            for nrg in core[\"idle-cost\"].values():\n",
    "                out.write(\"\\t\\t\\t{}\\n\".format(nrg)) \n",
    "            out.write(\"\\t\\t>;\\n\")\n",
    "            out.write(\"\\t};\\n\")\n",
    "\n",
    "            # Dump Cluster costs\n",
    "            cl = nrg_dict[cl_name][\"cluster\"]\n",
    "            out.write(\"\\tCLUSTER_COST_{}: cluster_cost{} {}\\n\"\\\n",
    "                      .format(cl_name, idx, '{'))\n",
    "            # ACTIVE costs\n",
    "            out.write(\"\\t\\tbusy-cost-data = <\\n\")\n",
    "            for cap, nrg in cl[\"busy-cost\"].iteritems():\n",
    "                out.write(\"\\t\\t\\t{} {}\\n\".format(cap, nrg))\n",
    "            out.write(\"\\t\\t>;\\n\")\n",
    "            # IDLE costs\n",
    "            out.write(\"\\t\\tidle-cost-data = <\\n\")\n",
    "            # arch idle\n",
    "            out.write(\"\\t\\t\\t{}\\n\".format(cl[\"idle-cost\"][0]))\n",
    "            for nrg in cl[\"idle-cost\"].values():\n",
    "                out.write(\"\\t\\t\\t{}\\n\".format(nrg))\n",
    "            out.write(\"\\t\\t>;\\n\")\n",
    "            out.write(\"\\t};\\n\")\n",
    "            idx += 1\n",
    "        out.write(\"};\")"
   ]
  },
  {
   "cell_type": "markdown",
   "metadata": {},
   "source": [
    "## C Code EM Format"
   ]
  },
  {
   "cell_type": "code",
   "execution_count": 777,
   "metadata": {
    "collapsed": false
   },
   "outputs": [],
   "source": [
    "def dump_c_code(nrg_dict, cluster_ids, outfile='energy_model.c'):\n",
    "    \"\"\"\n",
    "    Generate C code energy model file.\n",
    "    \n",
    "    :param nrg_dict: dictionary describing the energy model\n",
    "    :type nrg_dict: dict\n",
    "    \n",
    "    :param cluster_ids: mapping between cluster names and cluster IDs\n",
    "    :type cluster_ids: dict\n",
    "    \n",
    "    :param outfile: output file name\n",
    "    :type outfile: str\n",
    "    \"\"\"\n",
    "    with open(os.path.join(te.res_dir, outfile), 'w') as o:\n",
    "\n",
    "        core_names = []\n",
    "        for cl_name in nrg_dict.keys():\n",
    "            # Dump Core data\n",
    "            core = nrg_dict[cl_name][\"core\"]\n",
    "            core_names.append(core[\"name\"])\n",
    "            o.write(\"static struct capacity_state cap_states_core_{}[] = {}\\n\"\\\n",
    "                    .format(core[\"name\"], '{'))\n",
    "            o.write(\"\\t/* Power per CPU */\\n\")\n",
    "            for cap, nrg in core[\"busy-cost\"].iteritems():\n",
    "                o.write(\"\\t {{ .cap = {:5d}, .power = {:5d}, }},\\n\"\\\n",
    "                        .format(cap, nrg))\n",
    "            o.write(\"\\t};\\n\")\n",
    "\n",
    "            o.write(\"\\n\")\n",
    "\n",
    "            o.write(\"static struct idle_state idle_states_core_{}[] = {}\\n\"\\\n",
    "                    .format(core[\"name\"], '{'))\n",
    "            # arch idle (same as WFI)\n",
    "            o.write(\"\\t {{ .power = {:5d}, }},\\n\".format(core[\"idle-cost\"][0]))\n",
    "            for nrg in core[\"idle-cost\"].values():\n",
    "                o.write(\"\\t {{ .power = {:5d}, }},\\n\".format(nrg))\n",
    "            o.write(\"\\t};\\n\")\n",
    "\n",
    "            o.write(\"\\n\")\n",
    "\n",
    "            # Dump Cluster data\n",
    "            cl = nrg_dict[cl_name][\"cluster\"]\n",
    "            o.write(\"static struct capacity_state cap_states_cluster_{}[] = {}\\n\"\\\n",
    "                    .format(cl_name, '{'))\n",
    "            o.write(\"\\t/* Power per cluster */\\n\")\n",
    "            for cap, nrg in cl[\"busy-cost\"].iteritems():\n",
    "                o.write(\"\\t {{ .cap = {:5d}, .power = {:5d}, }},\\n\"\\\n",
    "                        .format(cap, nrg))\n",
    "            o.write(\"\\t};\\n\")\n",
    "\n",
    "            o.write(\"\\n\")\n",
    "\n",
    "            o.write(\"static struct idle_state idle_states_cluster_{}[] = {}\\n\"\\\n",
    "                    .format(cl_name, '{'))\n",
    "            # arch idle (same as Core OFF)\n",
    "            o.write(\"\\t {{ .power = {:5d}, }},\\n\".format(cl[\"idle-cost\"][0]))\n",
    "            for nrg in cl[\"idle-cost\"].values():\n",
    "                o.write(\"\\t {{ .power = {:5d}, }},\\n\".format(nrg))\n",
    "            o.write(\"\\t};\\n\")\n",
    "\n",
    "            o.write(\"\\n\")\n",
    "\n",
    "            o.write(\"static struct sched_group_energy energy_cluster_{} = {}\\n\"\\\n",
    "                    .format(core[\"name\"], '{'))\n",
    "            o.write(\"\\t.nr_idle_states = ARRAY_SIZE(idle_states_cluster_{}),\\n\"\\\n",
    "                    .format(core[\"name\"]))\n",
    "            o.write(\"\\t.idle_states    = idle_states_cluster_{},\\n\"\\\n",
    "                    .format(core[\"name\"]))\n",
    "            o.write(\"\\t.nr_cap_states  = ARRAY_SIZE(cap_states_cluster_{}),\\n\"\\\n",
    "                    .format(core[\"name\"]))\n",
    "            o.write(\"\\t.cap_states     = cap_states_cluster_{},\\n\"\\\n",
    "                    .format(core[\"name\"]))\n",
    "            o.write(\"};\\n\")\n",
    "\n",
    "            o.write(\"\\n\")\n",
    "\n",
    "        # Array of pointers to CORE sched_group_energy structs\n",
    "        o.write(\"static struct sched_group_energy *energy_cores[] = {\\n\")\n",
    "        for cl_name in cluster_ids.values():\n",
    "            o.write(\"\\t&energy_core_{},\\n\"\\\n",
    "                    .format(nrg_dict[cl_name][\"core\"][\"name\"]))\n",
    "        o.write(\"};\\n\")\n",
    "\n",
    "        o.write(\"\\n\")\n",
    "\n",
    "        # Array of pointers to CLUSTER sched_group_energy structs\n",
    "        o.write(\"static struct sched_group_energy *energy_clusters[] = {\\n\")\n",
    "        for name in cluster_ids.values():\n",
    "            o.write(\"\\t&energy_cluster_{},\\n\".format(name))\n",
    "        o.write(\"};\\n\")\n",
    "\n",
    "        o.write(\"\\n\")\n",
    "\n",
    "        o.write(\"static inline\\n\")\n",
    "        o.write(\"const struct sched_group_energy * const cpu_core_energy(int cpu)\\n\")\n",
    "        o.write(\"{\\n\")\n",
    "        o.write(\"\\treturn energy_cores[cpu_topology[cpu].cluster_id];\\n\")\n",
    "        o.write(\"}\\n\")\n",
    "\n",
    "        o.write(\"\\n\")\n",
    "\n",
    "        o.write(\"static inline\\n\")\n",
    "        o.write(\"const struct sched_group_energy * const cpu_cluster_energy(int cpu)\\n\")\n",
    "        o.write(\"{\\n\")\n",
    "        o.write(\"\\treturn energy_clusters[cpu_topology[cpu].cluster_id];\\n\")\n",
    "        o.write(\"}\\n\")"
   ]
  },
  {
   "cell_type": "markdown",
   "metadata": {},
   "source": [
    "## JSON EM Format"
   ]
  },
  {
   "cell_type": "code",
   "execution_count": 14,
   "metadata": {
    "collapsed": false
   },
   "outputs": [],
   "source": [
    "def dump_json(nrg_dict, outfile='energy_model.json'):\n",
    "    \"\"\"\n",
    "    Generate JSON energy model file.\n",
    "    \n",
    "    :param nrg_dict: dictionary describing the energy model\n",
    "    :type nrg_dict: dict\n",
    "    \n",
    "    :param outfile: output file name\n",
    "    :type outfile: str\n",
    "    \"\"\"\n",
    "    with open(os.path.join(te.res_dir, outfile), 'w') as ofile:\n",
    "        json.dump(nrg_dict, ofile, sort_keys=True, indent=4)"
   ]
  }
 ],
 "metadata": {
  "kernelspec": {
   "display_name": "Python 2",
   "language": "python",
   "name": "python2"
  },
  "language_info": {
   "codemirror_mode": {
    "name": "ipython",
    "version": 2
   },
   "file_extension": ".py",
   "mimetype": "text/x-python",
   "name": "python",
   "nbconvert_exporter": "python",
   "pygments_lexer": "ipython2",
   "version": "2.7.9"
  },
  "toc": {
   "toc_cell": false,
   "toc_number_sections": true,
   "toc_threshold": 6,
   "toc_window_display": true
  }
 },
 "nbformat": 4,
 "nbformat_minor": 0
}
