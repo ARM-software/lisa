{
 "cells": [
  {
   "cell_type": "markdown",
   "metadata": {},
   "source": [
    "<center>\n",
    "<h1>Energy Model Building Flow - Example 2</h1>\n",
    "<h2>for platforms supporting system-level energy meters</h2>\n",
    "</center>"
   ]
  },
  {
   "cell_type": "markdown",
   "metadata": {},
   "source": [
    "This notebook shows how to build an energy model of a HiKey platform running an Android Linux kernel.\n",
    "\n",
    "It can be used as a reference implementation of an energy model building flow for platforms<br>\n",
    "where it's possible to measure the energy consumption at system level, that is either at battery<br>\n",
    "level or as close as possible to the clusters.\n",
    "\n",
    "In this case, it is not enough to isolate the CPUs of the target cluster, but we also have to make<br>\n",
    "sure that all tasks (except the essential ones) are **frozen** to avoid affecting battery power<br>\n",
    "measurements. This will be achieved by exploiting the cgroup `freezer` controller."
   ]
  },
  {
   "cell_type": "markdown",
   "metadata": {},
   "source": [
    "# Configuration"
   ]
  },
  {
   "cell_type": "code",
   "execution_count": 1,
   "metadata": {
    "collapsed": true,
    "run_control": {
     "marked": false
    }
   },
   "outputs": [],
   "source": [
    "import logging\n",
    "from conf import LisaLogging\n",
    "LisaLogging.setup()"
   ]
  },
  {
   "cell_type": "code",
   "execution_count": 2,
   "metadata": {
    "collapsed": false,
    "run_control": {
     "marked": false
    }
   },
   "outputs": [],
   "source": [
    "%matplotlib inline\n",
    "\n",
    "import devlib\n",
    "import json\n",
    "import matplotlib.pyplot as plt\n",
    "import numpy as np\n",
    "import os\n",
    "import pandas as pd\n",
    "import re\n",
    "import trappy\n",
    "\n",
    "from collections import namedtuple, OrderedDict\n",
    "from csv import DictWriter\n",
    "from env import TestEnv\n",
    "from matplotlib.ticker import FormatStrFormatter, MaxNLocator\n",
    "from scipy.stats import linregress\n",
    "from time import sleep\n",
    "from trappy.plotter.ColorMap import ColorMap\n",
    "\n",
    "# Support for trace events analysis\n",
    "from trace import Trace\n",
    "# Import support for Android devices\n",
    "from android import Screen, Workload, System"
   ]
  },
  {
   "cell_type": "code",
   "execution_count": 15,
   "metadata": {
    "collapsed": false,
    "run_control": {
     "marked": false
    }
   },
   "outputs": [],
   "source": [
    "# Setup a target configuration\n",
    "my_conf = {\n",
    "    \n",
    "    # Target platform and board\n",
    "    \"platform\"    : 'android',\n",
    "    \"board\"       : 'hikey',\n",
    "\n",
    "    \"results_dir\" : \"EnergyModel_SystemEnergy\",\n",
    "\n",
    "    # Energy Meters Configuration for BayLibre's ACME Cape\n",
    "    \"emeter\" : {\n",
    "        \"instrument\" : \"aep\",\n",
    "        \"conf\" : {\n",
    "            'resistor_values' : [0.099],\n",
    "            'device_entry'    : '/dev/ttyACM0'\n",
    "        },\n",
    "        \"channel_map\" : {\n",
    "            \"Device0\" : \"BAT\"\n",
    "        }\n",
    "    },\n",
    "\n",
    "    # Tools required by the experiments\n",
    "    \"tools\"   : ['trace-cmd', 'sysbench'],\n",
    "    \"modules\" : ['cpufreq', 'cpuidle', 'hotplug', 'cgroups'],\n",
    "    \n",
    "    # FTrace events to collect for all the tests configuration which have\n",
    "    # the \"ftrace\" flag enabled\n",
    "    \"ftrace\"  : {\n",
    "         \"events\" : [\n",
    "            \"cpu_frequency\",\n",
    "            \"cpu_idle\",\n",
    "            \"sched_switch\"\n",
    "         ],\n",
    "         \"buffsize\" : 10 * 1024,\n",
    "    },\n",
    "}"
   ]
  },
  {
   "cell_type": "code",
   "execution_count": 4,
   "metadata": {
    "collapsed": false,
    "run_control": {
     "marked": false
    }
   },
   "outputs": [
    {
     "name": "stdout",
     "output_type": "stream",
     "text": [
      "adbd is already running as root\r\n"
     ]
    }
   ],
   "source": [
    "!adb root"
   ]
  },
  {
   "cell_type": "code",
   "execution_count": 10,
   "metadata": {
    "collapsed": false,
    "run_control": {
     "marked": false
    },
    "scrolled": true
   },
   "outputs": [
    {
     "name": "stderr",
     "output_type": "stream",
     "text": [
      "2016-09-09 14:03:28,185 INFO    :         Target - Using base path: /data/lisa\n",
      "2016-09-09 14:03:28,186 INFO    :         Target - Loading custom (inline) target configuration\n",
      "2016-09-09 14:03:28,189 INFO    :         Target - Devlib modules to load: ['cpuidle', 'cpufreq', 'cgroups', 'hotplug']\n",
      "2016-09-09 14:03:28,190 INFO    :         Target - Connecting Android target [DEFAULT]\n",
      "2016-09-09 14:03:28,191 INFO    :         Target - Connection settings:\n",
      "2016-09-09 14:03:28,192 INFO    :         Target -    None\n",
      "2016-09-09 14:03:28,676 INFO    :         Target - Initializing target workdir:\n",
      "2016-09-09 14:03:28,677 INFO    :         Target -    /data/local/tmp/devlib-target\n",
      "2016-09-09 14:03:32,960 INFO    :         Target - Topology:\n",
      "2016-09-09 14:03:32,961 INFO    :         Target -    [[0, 1, 2, 3, 4, 5, 6, 7]]\n",
      "2016-09-09 14:03:33,356 INFO    :         FTrace - Enabled tracepoints:\n",
      "2016-09-09 14:03:33,357 INFO    :         FTrace -   cpu_frequency\n",
      "2016-09-09 14:03:33,358 INFO    :         FTrace -   cpu_idle\n",
      "2016-09-09 14:03:33,359 INFO    :         FTrace -   sched_switch\n",
      "2016-09-09 14:03:33,361 WARNING :        TestEnv - Wipe previous contents of the results folder:\n",
      "2016-09-09 14:03:33,362 WARNING :        TestEnv -    /data/lisa/results/EnergyModel_SystemEnergy\n",
      "2016-09-09 14:03:33,365 INFO    :            AEP - AEP configuration\n",
      "2016-09-09 14:03:33,366 INFO    :            AEP -     {'instrument': 'aep', 'channel_map': {'Device0': 'BAT'}, 'conf': {'resistor_values': [0.099], 'device_entry': '/dev/ttyACM0'}}\n",
      "2016-09-09 14:03:33,379 INFO    :            AEP - Channels selected for energy sampling:\n",
      "[CHAN(Device0_current), CHAN(Device0_power), CHAN(Device0_voltage)]\n",
      "2016-09-09 14:03:33,382 INFO    :        TestEnv - Set results folder to:\n",
      "2016-09-09 14:03:33,383 INFO    :        TestEnv -    /data/lisa/results/EnergyModel_SystemEnergy\n",
      "2016-09-09 14:03:33,384 INFO    :        TestEnv - Experiment results available also in:\n",
      "2016-09-09 14:03:33,385 INFO    :        TestEnv -    /data/lisa/results_latest\n"
     ]
    }
   ],
   "source": [
    "# Initialize a test environment using:\n",
    "# the provided target configuration (my_conf)\n",
    "te = TestEnv(target_conf=my_conf, force_new=True)\n",
    "target = te.target"
   ]
  },
  {
   "cell_type": "markdown",
   "metadata": {},
   "source": [
    "## Critical tasks declaration"
   ]
  },
  {
   "cell_type": "markdown",
   "metadata": {},
   "source": [
    "Energy measured of a cluster at system-level is affected by noise due the other clusters running in the system. To limit effect of this noise we exploit the `freezer cpuset` controller to freeze the tasks already running in the system. However, we need to be careful not to freeze those tasks that allow us to communicate with the target.\n",
    "\n",
    "Hence, we define here-below a list of tasks called *CRITICAL* that must not be frozen."
   ]
  },
  {
   "cell_type": "code",
   "execution_count": 7,
   "metadata": {
    "collapsed": false,
    "run_control": {
     "marked": false
    }
   },
   "outputs": [],
   "source": [
    "# Lists of critical tasks for each platform\n",
    "CRITICAL_TASKS = {\n",
    "    'linux': [\"init\", \"sh\"],\n",
    "    'android': [\"/system/bin/sh\", \"adbd\", \"/init\"]\n",
    "    }"
   ]
  },
  {
   "cell_type": "markdown",
   "metadata": {},
   "source": [
    "## Energy Model Parameters (CPUs, OPPs and Idle States)"
   ]
  },
  {
   "cell_type": "code",
   "execution_count": 10,
   "metadata": {
    "collapsed": true,
    "run_control": {
     "marked": false
    }
   },
   "outputs": [],
   "source": [
    "# The EM reports capacity and energy consumption for each frequency domain.\n",
    "# The frequency domains to be considered by the following EM building flow\n",
    "# are described by the parameters of this named tuple\n",
    "ClusterDescription = namedtuple('ClusterDescription',\n",
    "                                ['name', 'emeter_ch', 'core_name',\n",
    "                                 'cpus', 'freqs', 'idle_states'])"
   ]
  },
  {
   "cell_type": "markdown",
   "metadata": {},
   "source": [
    "Being Hikey a SMP platform we can limit the scope of the experiment to one cluster only and then replicate the code by hand."
   ]
  },
  {
   "cell_type": "code",
   "execution_count": 11,
   "metadata": {
    "collapsed": false,
    "run_control": {
     "marked": false
    }
   },
   "outputs": [
    {
     "name": "stderr",
     "output_type": "stream",
     "text": []
    }
   ],
   "source": [
    "clusters = [\n",
    "    ClusterDescription(\n",
    "        # Name of the cluster\n",
    "        name = \"PD_0\",\n",
    "        # Name of the energy meter channel as specified in the target configuration\n",
    "        emeter_ch = \"Device0\",\n",
    "        # Name of the cores in the cluster\n",
    "        core_name = \"A53_PD_0\",\n",
    "        # List of cores in the cluster\n",
    "        cpus = [0, 1, 2, 3],\n",
    "        # List of frequencies available in the cluster\n",
    "        freqs = [208000, 432000, 729000, 960000, 1200000],\n",
    "        # List of idle states available in the cluster\n",
    "        idle_states = range(len(target.cpuidle.get_states()))\n",
    "    ),\n",
    "#     ClusterDescription(\"PD_1\",\n",
    "#                        \"Device0\",\n",
    "#                        \"A53_PD_1\",\n",
    "#                        [4, 5, 6, 7],\n",
    "#                        [208000, 432000, 729000, 960000, 1200000],\n",
    "#                        range(len(target.cpuidle.get_states()))\n",
    "#     )\n",
    "]"
   ]
  },
  {
   "cell_type": "code",
   "execution_count": 12,
   "metadata": {
    "collapsed": false,
    "run_control": {
     "marked": false
    }
   },
   "outputs": [
    {
     "data": {
      "text/plain": [
       "[ClusterDescription(name='PD_0', emeter_ch='Device0', core_name='A53_PD_0', cpus=[0, 1, 2, 3], freqs=[208000, 432000, 729000, 960000, 1200000], idle_states=[0, 1, 2])]"
      ]
     },
     "execution_count": 12,
     "metadata": {},
     "output_type": "execute_result"
    }
   ],
   "source": [
    "clusters"
   ]
  },
  {
   "cell_type": "code",
   "execution_count": 13,
   "metadata": {
    "collapsed": false,
    "run_control": {
     "marked": false
    }
   },
   "outputs": [],
   "source": [
    "# Mapping between cluster names and cluster IDs\n",
    "cluster_ids = OrderedDict([\n",
    "        (0, 'PD_0'),\n",
    "#         (1, 'PD_1')\n",
    "    ])"
   ]
  },
  {
   "cell_type": "markdown",
   "metadata": {},
   "source": [
    "## Benchmark example"
   ]
  },
  {
   "cell_type": "code",
   "execution_count": 14,
   "metadata": {
    "collapsed": false,
    "run_control": {
     "marked": false
    }
   },
   "outputs": [],
   "source": [
    "class Sysbench(object):\n",
    "    \"\"\"\n",
    "    Sysbench benchmark class.\n",
    "    \n",
    "    :param duration: maximum workload duration in seconds\n",
    "    :type duration: int\n",
    "    \"\"\"\n",
    "    sysbench_path = \"/data/local/tmp/bin/sysbench\"\n",
    "    \n",
    "    def __init__(self, target, duration):\n",
    "        self.target = target\n",
    "        self.duration = duration\n",
    "\n",
    "    def run(self, cgroup, threads):\n",
    "        \"\"\"\n",
    "        Run benchmark using the specified number of 'threads'\n",
    "        to be executed under the specified 'cgroup'.\n",
    "        \n",
    "        :param cgroup: cgroup where to run the benchmark on\n",
    "        :type cgroup: str\n",
    "        \n",
    "        :param threads: number of threads to spawn\n",
    "        :type threads: int\n",
    "        \n",
    "        :returns: float - performance score\n",
    "        \"\"\"\n",
    "        bench_out = self.target.cgroups.run_into(\n",
    "            cgroup,\n",
    "            \"{} --test=cpu --num-threads={} --max-time={} run\"\n",
    "            .format(self.sysbench_path, threads, self.duration)\n",
    "        )\n",
    "        match = re.search(r'(total number of events:\\s*)([\\d.]*)', bench_out)\n",
    "        return float(match.group(2))"
   ]
  },
  {
   "cell_type": "markdown",
   "metadata": {},
   "source": [
    "# Utility Functions"
   ]
  },
  {
   "cell_type": "code",
   "execution_count": 135,
   "metadata": {
    "collapsed": false,
    "run_control": {
     "marked": false
    }
   },
   "outputs": [],
   "source": [
    "def linfit(x, y):\n",
    "    slope, intercept, r, p, stderr = linregress(x, y)\n",
    "    return slope, intercept"
   ]
  },
  {
   "cell_type": "markdown",
   "metadata": {},
   "source": [
    "# Energy Model Building"
   ]
  },
  {
   "cell_type": "markdown",
   "metadata": {},
   "source": [
    "## Active States Profiling"
   ]
  },
  {
   "cell_type": "code",
   "execution_count": 17,
   "metadata": {
    "collapsed": false,
    "scrolled": true
   },
   "outputs": [],
   "source": [
    "def compute_power_perf(clusters, loop_cnt, benchmark, bkp_file='pstates.csv'):\n",
    "    \"\"\"\n",
    "    Perform P-States profiling on each input cluster.\n",
    "    \n",
    "    This method requires a `benchmark` object with the following\n",
    "    characteristics:\n",
    "        \n",
    "        - duration, attribute that tells the workload duration in seconds\n",
    "        - run(cgroup, threads), run the benchmark into the specified 'cgroup',\n",
    "                                spawning the specified number of 'threads',\n",
    "                                and return a performance score of their execution.\n",
    "                                \n",
    "    Data will be saved into a CSV file at each iteration such that, if something\n",
    "    goes wrong, the user can restart the experiment considering only idle_states\n",
    "    that had not yet been profiled.\n",
    "    \n",
    "    :param clusters: list of clusters to profile\n",
    "    :type clusters: list(namedtuple(ClusterDescription))\n",
    "    \n",
    "    :param loop_cnt: number of iterations for each experiment\n",
    "    :type loop_cnt: int\n",
    "    \n",
    "    :param benchmark: benchmark object\n",
    "    :type benchmark: int\n",
    "    \n",
    "    :param bkp_file: CSV file name\n",
    "    :type bkp_file: str\n",
    "    \"\"\"\n",
    "\n",
    "    # Make sure all CPUs are online\n",
    "    target.hotplug.online_all()\n",
    "\n",
    "    # Set cpufreq governor to userpace to allow manual frequency scaling\n",
    "    target.cpufreq.set_all_governors('userspace')\n",
    "    \n",
    "    with open(bkp_file, 'w') as csvfile:\n",
    "        writer = DictWriter(csvfile,\n",
    "                            fieldnames=['cluster', 'cpus', 'freq',\n",
    "                                        'perf', 'energy', 'power'])\n",
    "\n",
    "        # Freeze all userspace tasks\n",
    "        target.cgroups.freeze(exclude=CRITICAL_TASKS['android'])\n",
    "\n",
    "        # A) For each cluster (i.e. frequency domain) to profile...\n",
    "        power_perf = []\n",
    "        for cl in clusters:\n",
    "            target_cg, _ = target.cgroups.isolate(cl.cpus)\n",
    "\n",
    "            # P-States profiling requires to plug in CPUs one at the time\n",
    "            for cpu in cl.cpus:\n",
    "                target.hotplug.offline(cpu)\n",
    "\n",
    "            # B) For each additional cluster's plugged in CPU...\n",
    "            on_cpus = []\n",
    "            for cnt, cpu in enumerate(cl.cpus):\n",
    "                \n",
    "                # Hotplug ON one more CPU\n",
    "                target.hotplug.online(cpu)\n",
    "                on_cpus.append(cpu)\n",
    "                \n",
    "                # Ensure online CPUs are part of the target cgroup\n",
    "                # (in case hotplug OFF removes it)\n",
    "                target_cg.set(cpus=on_cpus)\n",
    "                cl_cpus = set(target.list_online_cpus()).intersection(set(cl.cpus))\n",
    "                logging.info('Cluster {:8} (Online CPUs : {})'\\\n",
    "                              .format(cl.name, list(cl_cpus)))\n",
    "\n",
    "                # C) For each OPP supported by the current cluster\n",
    "                for freq in cl.freqs:\n",
    "\n",
    "                    # Set frequency to freq for current CPU\n",
    "                    target.cpufreq.set_frequency(cpu, freq)\n",
    "\n",
    "                    # Run the benchmark for the specified number of iterations each time\n",
    "                    # collecting a sample of energy consumption and reported performance\n",
    "                    energy = 0.0\n",
    "                    perf = 0.0\n",
    "                    for i in xrange(loop_cnt):\n",
    "                        te.emeter.reset()\n",
    "                        # Run benchmark into the LISA_EM_TARGET cgroup\n",
    "                        perf += benchmark.run(target_cg.name, cnt + 1)\n",
    "                        nrg = te.emeter.report(te.res_dir).channels\n",
    "                        energy += float(nrg[cl.emeter_ch])\n",
    "                        sleep(1)\n",
    "\n",
    "                    # Compute average energy and performance for the current number of\n",
    "                    # active CPUs all running at the current OPP\n",
    "                    perf = perf / loop_cnt\n",
    "                    energy = energy / loop_cnt\n",
    "                    power = energy / benchmark.duration\n",
    "\n",
    "                    # Keep track of this new P-State profiling point\n",
    "                    new_row = {'cluster': cl.name,\n",
    "                               'cpus': cnt + 1,\n",
    "                               'freq': freq,\n",
    "                               'perf': perf,\n",
    "                               'energy' : energy,\n",
    "                               'power': power}\n",
    "                    power_perf.append(new_row)\n",
    "\n",
    "                    # Save data in a CSV file\n",
    "                    writer.writerow(new_row)\n",
    "                    \n",
    "                # C) profile next P-State\n",
    "\n",
    "            # B) add one more CPU (for the current frequency domain)\n",
    "\n",
    "        # A) Profile next cluster (i.e. frequency domain)\n",
    "                    \n",
    "        # Thaw all frozen tasks\n",
    "        target.cgroups.freeze(thaw=True)\n",
    "\n",
    "        target.hotplug.online_all()\n",
    "\n",
    "        power_perf_df = pd.DataFrame(power_perf)\n",
    "    return power_perf_df.set_index(['cluster', 'freq', 'cpus']).sort_index(level='cluster')"
   ]
  },
  {
   "cell_type": "code",
   "execution_count": 19,
   "metadata": {
    "collapsed": false,
    "scrolled": true
   },
   "outputs": [
    {
     "name": "stderr",
     "output_type": "stream",
     "text": [
      "2016-09-09 14:08:59,775 INFO    : Cluster PD_0 - Online CPUs : set([0])\n",
      "2016-09-09 14:14:05,620 INFO    : Cluster PD_0 - Online CPUs : set([0, 1])\n",
      "2016-09-09 14:19:10,296 INFO    : Cluster PD_0 - Online CPUs : set([0, 1, 2])\n",
      "2016-09-09 14:24:14,730 INFO    : Cluster PD_0 - Online CPUs : set([0, 1, 2, 3])\n"
     ]
    }
   ],
   "source": [
    "sysbench = Sysbench(target, 10)\n",
    "loop_cnt = 5\n",
    "\n",
    "power_perf_df = compute_power_perf(clusters, loop_cnt, sysbench)"
   ]
  },
  {
   "cell_type": "code",
   "execution_count": 20,
   "metadata": {
    "collapsed": true
   },
   "outputs": [],
   "source": [
    "def plot_pstates(power_perf_df, cluster):\n",
    "    \"\"\"\n",
    "    Plot P-States profiling for the specified cluster.\n",
    "    \n",
    "    :param power_perf_df: DataFrame reporting power and performance values\n",
    "    :type power_perf_df: :mod:`pandas.DataFrame`\n",
    "    \n",
    "    :param cluster: cluster description\n",
    "    :type cluster: namedtuple(ClusterDescription)\n",
    "    \"\"\"\n",
    "    cmap = ColorMap(len(cluster.freqs))\n",
    "    color_map = map(cmap.cmap, range(len(cluster.freqs)))\n",
    "    color_map = dict(zip(cluster.freqs, color_map))\n",
    "    \n",
    "    fig, ax = plt.subplots(1, 1, figsize=(16, 10))\n",
    "    \n",
    "    grouped = power_perf_df.loc[cluster.name].groupby(level='freq')\n",
    "    for freq, df in grouped:\n",
    "        x = df.index.get_level_values('cpus').tolist()\n",
    "        y = df.power.tolist()\n",
    "        slope, intercept = linfit(x, y)\n",
    "        x.insert(0, 0)\n",
    "        y.insert(0, intercept)\n",
    "        # Plot linear fit of the points\n",
    "        ax.plot(x, [slope*i + intercept for i in x], color=color_map[freq])\n",
    "        # Plot measured points\n",
    "        ax.scatter(x, y, color=color_map[freq], label='{} kHz'.format(freq))\n",
    "\n",
    "    ax.set_title('HiKey {} cluster P-States profiling'.format(cluster.name),\n",
    "                 fontsize=16)\n",
    "    ax.legend()\n",
    "    ax.set_xlabel('Active cores')\n",
    "    ax.set_ylabel('Power [$\\mu$W]')\n",
    "    ax.set_xlim(-0.5, len(cluster.cpus)+1)\n",
    "    ax.xaxis.set_major_locator(MaxNLocator(integer=True))\n",
    "    ax.yaxis.set_major_formatter(FormatStrFormatter('%.2f'))\n",
    "    ax.grid(True)"
   ]
  },
  {
   "cell_type": "code",
   "execution_count": 21,
   "metadata": {
    "collapsed": false
   },
   "outputs": [
    {
     "data": {
      "image/png": "[encoded data removed]",
      "text/plain": [
       "<matplotlib.figure.Figure at 0x7f64281acad0>"
      ]
     },
     "metadata": {},
     "output_type": "display_data"
    }
   ],
   "source": [
    "pd0_cl = clusters[0]\n",
    "\n",
    "plot_pstates(power_perf_df, pd0_cl)"
   ]
  },
  {
   "cell_type": "markdown",
   "metadata": {},
   "source": [
    "### Statistics"
   ]
  },
  {
   "cell_type": "code",
   "execution_count": 23,
   "metadata": {
    "collapsed": false
   },
   "outputs": [],
   "source": [
    "def power_perf_stats(power_perf_df):\n",
    "    \"\"\"\n",
    "    For each cluster compute per-OPP power and performance statistics.\n",
    "    \n",
    "    :param power_perf_df: dataframe containing power and performance numbers\n",
    "    :type power_perf_df: :mod:`pandas.DataFrame`\n",
    "    \"\"\"\n",
    "    clusters = power_perf_df.index.get_level_values('cluster')\\\n",
    "                                  .unique().tolist()\n",
    "\n",
    "    stats = []   \n",
    "    for cl in clusters:\n",
    "        cl_power_df = power_perf_df.loc[cl].reset_index()\n",
    "\n",
    "        grouped = cl_power_df.groupby('freq')\n",
    "        for freq, df in grouped:\n",
    "            perf = df['perf'] / df['cpus']\n",
    "            power = df['power'] / df['cpus']\n",
    "            energy = df['energy'] / df['cpus']\n",
    "\n",
    "            avg_row = {'cluster': cl,\n",
    "                       'freq': freq,\n",
    "                       'stats': 'avg',\n",
    "                       'perf': perf.mean(),\n",
    "                       'power': power.mean(),\n",
    "                       'energy': energy.mean()\n",
    "                      }\n",
    "            std_row = {'cluster': cl,\n",
    "                       'freq': freq,\n",
    "                       'stats': 'std',\n",
    "                       'perf': perf.std(),\n",
    "                       'power': power.std(),\n",
    "                       'energy': energy.std()\n",
    "                      }\n",
    "            min_row = {'cluster': cl,\n",
    "                       'freq': freq,\n",
    "                       'stats': 'min',\n",
    "                       'perf': perf.min(),\n",
    "                       'power': power.min(),\n",
    "                       'energy': energy.min()\n",
    "                      }\n",
    "            max_row = {'cluster' : cl,\n",
    "                       'freq' : freq,\n",
    "                       'stats' : 'max',\n",
    "                       'perf' : perf.max(),\n",
    "                       'power' : power.max(),\n",
    "                       'energy': energy.max()\n",
    "                      }\n",
    "            c99_row = {'cluster' : cl,\n",
    "                       'freq' : freq,\n",
    "                       'stats' : 'c99',\n",
    "                       'perf' : perf.quantile(q=0.99),\n",
    "                       'power' : power.quantile(q=0.99),\n",
    "                       'energy': energy.quantile(q=0.99)\n",
    "                      }\n",
    "\n",
    "            stats.append(avg_row)\n",
    "            stats.append(std_row)\n",
    "            stats.append(min_row)\n",
    "            stats.append(max_row)\n",
    "            stats.append(c99_row)\n",
    "    \n",
    "    stats_df = pd.DataFrame(stats).set_index(['cluster', 'freq', 'stats'])\\\n",
    "                                  .sort_index(level='cluster')\n",
    "    return stats_df.unstack()"
   ]
  },
  {
   "cell_type": "code",
   "execution_count": 24,
   "metadata": {
    "collapsed": false
   },
   "outputs": [],
   "source": [
    "pp_stats = power_perf_stats(power_perf_df)"
   ]
  },
  {
   "cell_type": "markdown",
   "metadata": {},
   "source": [
    "### Plots"
   ]
  },
  {
   "cell_type": "code",
   "execution_count": 25,
   "metadata": {
    "collapsed": true
   },
   "outputs": [],
   "source": [
    "def plot_power_perf(pp_stats, clusters):\n",
    "    cmap = ColorMap(len(clusters) + 1)\n",
    "    color_map = map(cmap.cmap, range(len(clusters) + 1))\n",
    "    \n",
    "    fig, ax = plt.subplots(1, 1, figsize=(16, 10))\n",
    "\n",
    "    max_perf = pp_stats.perf['avg'].max()\n",
    "    max_power = pp_stats.power['avg'].max()\n",
    "\n",
    "    for i, cl in enumerate(clusters):\n",
    "        cl_df = pp_stats.loc[cl.name]\n",
    "        norm_perf_df = cl_df.perf['avg'] * 100.0 / max_perf\n",
    "        norm_power_df = cl_df.power['avg'] * 100.0 / max_power\n",
    "\n",
    "        x = norm_perf_df.values.tolist()\n",
    "        y = norm_power_df.values.tolist()\n",
    "        ax.plot(x, y, color=color_map[i], marker='o', label=cl.name)\n",
    "\n",
    "        norm_perf_df = cl_df.perf['max'] * 100.0 / max_perf\n",
    "        norm_power_df = cl_df.power['max'] * 100.0 / max_power\n",
    "\n",
    "        x = norm_perf_df.values.tolist()\n",
    "        y = norm_power_df.values.tolist()\n",
    "        ax.plot(x, y, '--', color=color_map[-1])\n",
    "\n",
    "        norm_perf_df = cl_df.perf['min'] * 100.0 / max_perf\n",
    "        norm_power_df = cl_df.power['min'] * 100.0 / max_power\n",
    "\n",
    "        x = norm_perf_df.values.tolist()\n",
    "        y = norm_power_df.values.tolist()\n",
    "        ax.plot(x, y, '--', color=color_map[-1])\n",
    "\n",
    "    ax.set_title('HyKey Power VS Performance curves', fontsize=16)\n",
    "    ax.legend()\n",
    "    ax.set_xlabel('Performance [%]')\n",
    "    ax.set_ylabel('Power [%]')\n",
    "    ax.set_xlim(0, 120)\n",
    "    ax.set_ylim(0, 120)\n",
    "    ax.xaxis.set_major_locator(MaxNLocator(integer=True))\n",
    "    ax.yaxis.set_major_locator(MaxNLocator(integer=True))\n",
    "    ax.grid(True)"
   ]
  },
  {
   "cell_type": "code",
   "execution_count": 26,
   "metadata": {
    "collapsed": false
   },
   "outputs": [
    {
     "data": {
      "image/png": "[encoded data removed]",
      "text/plain": [
       "<matplotlib.figure.Figure at 0x7f6420fdec10>"
      ]
     },
     "metadata": {},
     "output_type": "display_data"
    }
   ],
   "source": [
    "plot_power_perf(pp_stats, clusters)"
   ]
  },
  {
   "cell_type": "markdown",
   "metadata": {},
   "source": [
    "## Idle States Profiling"
   ]
  },
  {
   "cell_type": "code",
   "execution_count": 30,
   "metadata": {
    "collapsed": false,
    "run_control": {
     "marked": false
    },
    "scrolled": true
   },
   "outputs": [],
   "source": [
    "def compute_idle_power(clusters, loop_cnt, sleep_duration, bkp_file='cstates.csv'):\n",
    "    \"\"\"\n",
    "    Perform C-States profiling on each input cluster.\n",
    "    \n",
    "    Data will be saved into a CSV file at each iteration such that if something\n",
    "    goes wrong the user can restart the experiment considering only idle_states\n",
    "    that had not been processed.\n",
    "    \n",
    "    :param clusters: list of clusters to profile\n",
    "    :type clusters: list(namedtuple(ClusterDescription))\n",
    "    \n",
    "    :param loop_cnt: number of loops for each experiment\n",
    "    :type loop_cnt: int\n",
    "    \n",
    "    :param sleep_duration: sleep time in seconds\n",
    "    :type sleep_duration: int\n",
    "    \n",
    "    :param bkp_file: CSV file name\n",
    "    :type bkp_file: str\n",
    "    \"\"\"\n",
    "\n",
    "    # Make sure all CPUs are online\n",
    "    target.hotplug.online_all()\n",
    "\n",
    "    with open(bkp_file, 'w') as csvfile:\n",
    "        writer = DictWriter(csvfile, fieldnames=['cluster', 'cpus',\n",
    "                                                 'idle_state', 'energy', 'power'])\n",
    "\n",
    "        # Disable frequency scaling by setting cpufreq governor to userspace\n",
    "        target.cpufreq.set_all_governors('userspace')\n",
    "\n",
    "        # Freeze all tasks but the ones to communicate with the target\n",
    "        target.cgroups.freeze(exclude=CRITICAL_TASKS['android'])\n",
    "\n",
    "        all_cpus = set(range(target.number_of_cpus))\n",
    "        idle_power = []\n",
    "        for cl in clusters:\n",
    "\n",
    "            # In current cluster, hotplug OFF all CPUs but the first one\n",
    "            # At least one CPU must be online\n",
    "            target.hotplug.online(cl.cpus[0])\n",
    "            for cpu in cl.cpus[1:]:\n",
    "                target.hotplug.offline(cpu)\n",
    "\n",
    "            other_cpus = list(all_cpus - set(cl.cpus))\n",
    "            # CPUs in the other clusters will be kept hotplugged OFF\n",
    "            # to not affect measurements on the current cluster\n",
    "            for cpu in other_cpus:\n",
    "                target.hotplug.offline(cpu)\n",
    "\n",
    "            # B) For each additional cluster's plugged in CPU...\n",
    "            for cnt, cpu in enumerate(cl.cpus):\n",
    "                \n",
    "                # Hotplug ON one more CPU\n",
    "                target.hotplug.online(cpu)\n",
    "                \n",
    "                cl_cpus = set(target.list_online_cpus()).intersection(set(cl.cpus))\n",
    "                logging.info('Cluster {:8} (Online CPUs : {})'\\\n",
    "                              .format(cl.name, list(cl_cpus)))\n",
    "\n",
    "                for idle in cl.idle_states:\n",
    "\n",
    "                    # Disable all idle states but the current one\n",
    "                    for c in cl.cpus:\n",
    "                        target.cpuidle.disable_all(cpu=c)\n",
    "                        target.cpuidle.enable(idle, cpu=c)\n",
    "\n",
    "                    sleep(3)\n",
    "                    # Sleep for the specified duration each time collecting a sample\n",
    "                    # of energy consumption and reported performance\n",
    "                    energy = 0.0\n",
    "                    for i in xrange(loop_cnt):\n",
    "                        te.emeter.reset()\n",
    "                        sleep(sleep_duration)\n",
    "                        nrg = te.emeter.report(te.res_dir).channels\n",
    "                        energy += float(nrg[cl.emeter_ch])\n",
    "\n",
    "                    # Compute average energy and performance for the current number of\n",
    "                    # active CPUs all idle at the current OPP\n",
    "                    energy = energy / loop_cnt\n",
    "                    power = energy / SLEEP_DURATION\n",
    "\n",
    "                    # Keep track of this new C-State profiling point\n",
    "                    new_row = {'cluster': cl.name,\n",
    "                               'cpus': cnt + 1,\n",
    "                               'idle_state': idle,\n",
    "                               'energy': energy,\n",
    "                               'power': power}\n",
    "                    idle_power.append(new_row)\n",
    "\n",
    "                    # Save data in a CSV file\n",
    "                    writer.writerow(new_row)\n",
    "                    \n",
    "                # C) profile next C-State\n",
    "\n",
    "            # B) add one more CPU (for the current frequency domain)\n",
    "\n",
    "        # A) profile next cluster (i.e. frequency domain)\n",
    "\n",
    "        # Thaw all tasks in the freezer cgroup\n",
    "        target.cgroups.freeze(thaw=True)\n",
    "        target.hotplug.online_all()\n",
    "\n",
    "        idle_df = pd.DataFrame(idle_power)\n",
    "    return idle_df.set_index(['cluster', 'idle_state', 'cpus']).sort_index(level='cluster')"
   ]
  },
  {
   "cell_type": "code",
   "execution_count": 37,
   "metadata": {
    "collapsed": false,
    "run_control": {
     "marked": false
    },
    "scrolled": true
   },
   "outputs": [
    {
     "name": "stderr",
     "output_type": "stream",
     "text": [
      "2016-09-09 14:52:14,747 INFO    : Cluster PD_0 - Online CPUs : set([0])\n",
      "2016-09-09 14:55:11,721 INFO    : Cluster PD_0 - Online CPUs : set([0, 1])\n",
      "2016-09-09 14:58:08,616 INFO    : Cluster PD_0 - Online CPUs : set([0, 1, 2])\n",
      "2016-09-09 15:01:05,259 INFO    : Cluster PD_0 - Online CPUs : set([0, 1, 2, 3])\n"
     ]
    }
   ],
   "source": [
    "SLEEP_DURATION = 10\n",
    "loop_cnt = 5\n",
    "\n",
    "idle_df = compute_idle_power(clusters, loop_cnt, SLEEP_DURATION)"
   ]
  },
  {
   "cell_type": "code",
   "execution_count": 41,
   "metadata": {
    "collapsed": false
   },
   "outputs": [
    {
     "data": {
      "text/html": [
       "<div>\n",
       "<table border=\"1\" class=\"dataframe\">\n",
       "  <thead>\n",
       "    <tr style=\"text-align: right;\">\n",
       "      <th></th>\n",
       "      <th></th>\n",
       "      <th></th>\n",
       "      <th>energy</th>\n",
       "      <th>power</th>\n",
       "    </tr>\n",
       "    <tr>\n",
       "      <th>cluster</th>\n",
       "      <th>idle_state</th>\n",
       "      <th>cpus</th>\n",
       "      <th></th>\n",
       "      <th></th>\n",
       "    </tr>\n",
       "  </thead>\n",
       "  <tbody>\n",
       "    <tr>\n",
       "      <th rowspan=\"12\" valign=\"top\">PD_0</th>\n",
       "      <th rowspan=\"4\" valign=\"top\">0</th>\n",
       "      <th>1</th>\n",
       "      <td>1.615466</td>\n",
       "      <td>0.161547</td>\n",
       "    </tr>\n",
       "    <tr>\n",
       "      <th>2</th>\n",
       "      <td>1.660321</td>\n",
       "      <td>0.166032</td>\n",
       "    </tr>\n",
       "    <tr>\n",
       "      <th>3</th>\n",
       "      <td>1.721711</td>\n",
       "      <td>0.172171</td>\n",
       "    </tr>\n",
       "    <tr>\n",
       "      <th>4</th>\n",
       "      <td>1.774200</td>\n",
       "      <td>0.177420</td>\n",
       "    </tr>\n",
       "    <tr>\n",
       "      <th rowspan=\"4\" valign=\"top\">1</th>\n",
       "      <th>1</th>\n",
       "      <td>1.551541</td>\n",
       "      <td>0.155154</td>\n",
       "    </tr>\n",
       "    <tr>\n",
       "      <th>2</th>\n",
       "      <td>1.549942</td>\n",
       "      <td>0.154994</td>\n",
       "    </tr>\n",
       "    <tr>\n",
       "      <th>3</th>\n",
       "      <td>1.557366</td>\n",
       "      <td>0.155737</td>\n",
       "    </tr>\n",
       "    <tr>\n",
       "      <th>4</th>\n",
       "      <td>1.561172</td>\n",
       "      <td>0.156117</td>\n",
       "    </tr>\n",
       "    <tr>\n",
       "      <th rowspan=\"4\" valign=\"top\">2</th>\n",
       "      <th>1</th>\n",
       "      <td>1.256227</td>\n",
       "      <td>0.125623</td>\n",
       "    </tr>\n",
       "    <tr>\n",
       "      <th>2</th>\n",
       "      <td>1.608698</td>\n",
       "      <td>0.160870</td>\n",
       "    </tr>\n",
       "    <tr>\n",
       "      <th>3</th>\n",
       "      <td>1.257657</td>\n",
       "      <td>0.125766</td>\n",
       "    </tr>\n",
       "    <tr>\n",
       "      <th>4</th>\n",
       "      <td>1.260770</td>\n",
       "      <td>0.126077</td>\n",
       "    </tr>\n",
       "  </tbody>\n",
       "</table>\n",
       "</div>"
      ],
      "text/plain": [
       "                           energy     power\n",
       "cluster idle_state cpus                    \n",
       "PD_0    0          1     1.615466  0.161547\n",
       "                   2     1.660321  0.166032\n",
       "                   3     1.721711  0.172171\n",
       "                   4     1.774200  0.177420\n",
       "        1          1     1.551541  0.155154\n",
       "                   2     1.549942  0.154994\n",
       "                   3     1.557366  0.155737\n",
       "                   4     1.561172  0.156117\n",
       "        2          1     1.256227  0.125623\n",
       "                   2     1.608698  0.160870\n",
       "                   3     1.257657  0.125766\n",
       "                   4     1.260770  0.126077"
      ]
     },
     "execution_count": 41,
     "metadata": {},
     "output_type": "execute_result"
    }
   ],
   "source": [
    "idle_df"
   ]
  },
  {
   "cell_type": "markdown",
   "metadata": {},
   "source": [
    "### Idle Power Statistics"
   ]
  },
  {
   "cell_type": "code",
   "execution_count": 42,
   "metadata": {
    "collapsed": false
   },
   "outputs": [],
   "source": [
    "WFI = 0\n",
    "CORE_OFF = 1\n",
    "\n",
    "def idle_power_stats(idle_df):\n",
    "    \"\"\"\n",
    "    For each cluster compute per idle state power statistics.\n",
    "    \n",
    "    :param idle_df: dataframe containing power numbers\n",
    "    :type idle_df: :mod:`pandas.DataFrame`\n",
    "    \"\"\"\n",
    "\n",
    "    stats = []\n",
    "    for cl in clusters:\n",
    "        cl_df = idle_df.loc[cl.name].reset_index()\n",
    "        # Start from deepest idle state\n",
    "        cl_df = cl_df.sort_values('idle_state', ascending=False)\n",
    "        grouped = cl_df.groupby('idle_state', sort=False)\n",
    "        for state, df in grouped:\n",
    "            energy = df.energy\n",
    "            power = df.power\n",
    "            state_name = \"C{}_CLUSTER\".format(state)\n",
    "            if state == CORE_OFF:\n",
    "                core_off_nrg_avg = energy.mean()\n",
    "                core_off_pwr_avg = power.mean()\n",
    "            if state == WFI:\n",
    "                energy = df.energy.diff()\n",
    "                energy[0] = df.energy[0] - core_off_nrg_avg\n",
    "                power = df.power.diff()\n",
    "                power[0] = df.power[0] - core_off_pwr_avg\n",
    "                state_name = \"C0_CORE\"\n",
    "\n",
    "            avg_row = {'cluster': cl.name,\n",
    "                       'idle_state': state_name,\n",
    "                       'stats': 'avg',\n",
    "                       'energy': energy.mean(),\n",
    "                       'power': power.mean()\n",
    "                      }\n",
    "            std_row = {'cluster': cl.name,\n",
    "                       'idle_state': state_name,\n",
    "                       'stats': 'std',\n",
    "                       'energy': energy.std(),\n",
    "                       'power': power.std()\n",
    "                      }\n",
    "            min_row = {'cluster' : cl.name,\n",
    "                       'idle_state' : state_name,\n",
    "                       'stats' : 'min',\n",
    "                       'energy' : energy.min(),\n",
    "                       'power' : power.min()\n",
    "                      }\n",
    "            max_row = {'cluster' : cl.name,\n",
    "                       'idle_state' : state_name,\n",
    "                       'stats' : 'max',\n",
    "                       'energy' : energy.max(),\n",
    "                       'power' : power.max()\n",
    "                      }\n",
    "            c99_row = {'cluster' : cl.name,\n",
    "                       'idle_state' : state_name,\n",
    "                       'stats' : 'c99',\n",
    "                       'energy' : energy.quantile(q=0.99),\n",
    "                       'power' : power.quantile(q=0.99)\n",
    "                      }\n",
    "            stats.append(avg_row)\n",
    "            stats.append(std_row)\n",
    "            stats.append(min_row)\n",
    "            stats.append(max_row)\n",
    "            stats.append(c99_row)\n",
    "    \n",
    "    stats_df = pd.DataFrame(stats).set_index(\n",
    "        ['cluster', 'idle_state', 'stats']).sort_index(level='cluster')\n",
    "    return stats_df.unstack()"
   ]
  },
  {
   "cell_type": "code",
   "execution_count": 103,
   "metadata": {
    "collapsed": false
   },
   "outputs": [],
   "source": [
    "idle_stats = idle_power_stats(idle_df)"
   ]
  },
  {
   "cell_type": "markdown",
   "metadata": {},
   "source": [
    "### Plotting Idle power"
   ]
  },
  {
   "cell_type": "code",
   "execution_count": 44,
   "metadata": {
    "collapsed": false
   },
   "outputs": [],
   "source": [
    "def plot_cstates(idle_power_df, cluster):\n",
    "    \"\"\"\n",
    "    Plot C-States profiling for the specified cluster.\n",
    "    \n",
    "    :param idle_power_df: dataframe reporting power values in each idle state\n",
    "    :type idle_power_df: :mod:`pandas.DataFrame`\n",
    "\n",
    "    :param cluster: cluster description\n",
    "    :type cluster: namedtuple(ClusterDescription)\n",
    "    \"\"\"\n",
    "    n_cpus = len(cluster.cpus)\n",
    "    cmap = ColorMap(len(cluster.idle_states))\n",
    "    color_map = map(cmap.cmap, cluster.idle_states)\n",
    "    color_map = [c for c in color_map for i in xrange(n_cpus)]\n",
    "\n",
    "    cl_df = idle_power_df.loc[cluster.name]\n",
    "    ax = cl_df.power.plot.bar(figsize=(16,8), color=color_map, alpha=0.5,\n",
    "                              legend=False, table=True)\n",
    "\n",
    "    idx = 0\n",
    "    grouped = cl_df.groupby(level=0)\n",
    "    for state, df in grouped:\n",
    "        x = df.index.get_level_values('cpus').tolist()\n",
    "        y = df.power.tolist()\n",
    "        slope, intercept = linfit(x, y)\n",
    "\n",
    "        y = [slope * v + intercept for v in x]\n",
    "        x = range(n_cpus * idx, n_cpus * (idx + 1))\n",
    "        ax.plot(x, y, color=color_map[idx*n_cpus], linewidth=4)\n",
    "        idx += 1\n",
    "\n",
    "    ax.grid(True)\n",
    "    ax.get_xaxis().set_visible(False)\n",
    "    ax.set_ylabel(\"Idle Power [$\\mu$W]\")\n",
    "    ax.set_title(\"{} cluster C-states profiling\"\\\n",
    "                 .format(cluster.name), fontsize=16)"
   ]
  },
  {
   "cell_type": "code",
   "execution_count": 45,
   "metadata": {
    "collapsed": false
   },
   "outputs": [
    {
     "data": {
      "image/png": "[encoded data removed]",
      "text/plain": [
       "<matplotlib.figure.Figure at 0x7feaa83b23d0>"
      ]
     },
     "metadata": {},
     "output_type": "display_data"
    }
   ],
   "source": [
    "pd0 = clusters[0]\n",
    "\n",
    "plot_cstates(idle_df, pd0)"
   ]
  },
  {
   "cell_type": "markdown",
   "metadata": {},
   "source": [
    "# Energy Model Generation"
   ]
  },
  {
   "cell_type": "code",
   "execution_count": 123,
   "metadata": {
    "collapsed": true
   },
   "outputs": [],
   "source": [
    "def pstates_model_df(clusters, pp_stats, power_perf_df, metric='avg'):\n",
    "    \"\"\"\n",
    "    Build two data frames containing data to create the energy model for each\n",
    "    cluster given as input.\n",
    "    \n",
    "    :param clusters: list of clusters to profile\n",
    "    :type clusters: list(namedtuple(ClusterDescription))\n",
    "    \n",
    "    :param pp_stats: power and performance statistics\n",
    "    :type pp_stats: :mod:`pandas.DataFrame`\n",
    "    \n",
    "    :param power_perf_df: power and performance data\n",
    "    :type power_perf_df: :mod:`pandas.DataFrame`\n",
    "    \"\"\"\n",
    "    max_score = pp_stats.perf[metric].max()\n",
    "\n",
    "    core_cap_energy = []\n",
    "    cluster_cap_energy = []\n",
    "    for cl in clusters:\n",
    "        # ACTIVE Energy\n",
    "        grouped = power_perf_df.loc[cl.name].groupby(level='freq')\n",
    "        for freq, df in grouped:\n",
    "            # Get average energy at OPP freq for 1 CPU\n",
    "            energy_freq_1 = pp_stats.loc[cl.name].loc[freq]['energy'][metric]\n",
    "            # Get cluster energy at OPP freq\n",
    "            x = df.index.get_level_values('cpus').tolist()\n",
    "            y = df.energy.tolist()\n",
    "            slope, intercept = linfit(x, y)\n",
    "            # Energy can't be negative but the regression line may intercept the\n",
    "            # y-axis at a negative value. Im this case cluster energy can be\n",
    "            # assumed to be 0.\n",
    "            cluster_energy = intercept if intercept >= 0.0 else 0.0\n",
    "            core_energy = energy_freq_1 - cluster_energy\n",
    "            #core_energy = cluster_energy\n",
    "\n",
    "            # Get score at OPP freq\n",
    "            score_freq = pp_stats.loc[cl.name].loc[freq]['perf'][metric]\n",
    "            capacity = int(score_freq * 1024 / max_score)\n",
    "\n",
    "            core_cap_energy.append({'cluster' : cl.name,\n",
    "                                    'core': cl.core_name,\n",
    "                                    'freq': freq,\n",
    "                                    'cap': capacity,\n",
    "                                    'energy': core_energy})\n",
    "            cluster_cap_energy.append({'cluster': cl.name,\n",
    "                                       'freq': freq,\n",
    "                                       'cap': capacity,\n",
    "                                       'energy': cluster_energy})\n",
    "\n",
    "    core_cap_nrg_df = pd.DataFrame(core_cap_energy)\n",
    "    cluster_cap_nrg_df = pd.DataFrame(cluster_cap_energy)\n",
    "    return core_cap_nrg_df, cluster_cap_nrg_df"
   ]
  },
  {
   "cell_type": "code",
   "execution_count": 125,
   "metadata": {
    "collapsed": false
   },
   "outputs": [],
   "source": [
    "core_cap_nrg_df, cluster_cap_nrg_df = pstates_model_df(clusters,\n",
    "                                                       pp_stats,\n",
    "                                                       power_perf_df,\n",
    "                                                       metric='avg'\n",
    "                                                      )"
   ]
  },
  {
   "cell_type": "code",
   "execution_count": 126,
   "metadata": {
    "collapsed": false
   },
   "outputs": [
    {
     "data": {
      "text/html": [
       "<div>\n",
       "<table border=\"1\" class=\"dataframe\">\n",
       "  <thead>\n",
       "    <tr style=\"text-align: right;\">\n",
       "      <th></th>\n",
       "      <th>cap</th>\n",
       "      <th>cluster</th>\n",
       "      <th>core</th>\n",
       "      <th>energy</th>\n",
       "      <th>freq</th>\n",
       "    </tr>\n",
       "  </thead>\n",
       "  <tbody>\n",
       "    <tr>\n",
       "      <th>0</th>\n",
       "      <td>175</td>\n",
       "      <td>PD_0</td>\n",
       "      <td>A53_PD_0</td>\n",
       "      <td>-0.487181</td>\n",
       "      <td>208000</td>\n",
       "    </tr>\n",
       "    <tr>\n",
       "      <th>1</th>\n",
       "      <td>369</td>\n",
       "      <td>PD_0</td>\n",
       "      <td>A53_PD_0</td>\n",
       "      <td>-0.364934</td>\n",
       "      <td>432000</td>\n",
       "    </tr>\n",
       "    <tr>\n",
       "      <th>2</th>\n",
       "      <td>626</td>\n",
       "      <td>PD_0</td>\n",
       "      <td>A53_PD_0</td>\n",
       "      <td>-0.173280</td>\n",
       "      <td>729000</td>\n",
       "    </tr>\n",
       "    <tr>\n",
       "      <th>3</th>\n",
       "      <td>823</td>\n",
       "      <td>PD_0</td>\n",
       "      <td>A53_PD_0</td>\n",
       "      <td>0.124791</td>\n",
       "      <td>960000</td>\n",
       "    </tr>\n",
       "    <tr>\n",
       "      <th>4</th>\n",
       "      <td>1024</td>\n",
       "      <td>PD_0</td>\n",
       "      <td>A53_PD_0</td>\n",
       "      <td>0.575753</td>\n",
       "      <td>1200000</td>\n",
       "    </tr>\n",
       "  </tbody>\n",
       "</table>\n",
       "</div>"
      ],
      "text/plain": [
       "    cap cluster      core    energy     freq\n",
       "0   175    PD_0  A53_PD_0 -0.487181   208000\n",
       "1   369    PD_0  A53_PD_0 -0.364934   432000\n",
       "2   626    PD_0  A53_PD_0 -0.173280   729000\n",
       "3   823    PD_0  A53_PD_0  0.124791   960000\n",
       "4  1024    PD_0  A53_PD_0  0.575753  1200000"
      ]
     },
     "execution_count": 126,
     "metadata": {},
     "output_type": "execute_result"
    }
   ],
   "source": [
    "core_cap_nrg_df"
   ]
  },
  {
   "cell_type": "markdown",
   "metadata": {},
   "source": [
    "In this case, taking the average energy consumed by a core does not provide a nice result because the energy measured while running with $n$ CPUs **is not** $n \\times Energy\\_of\\_one\\_CPU$.\n",
    "\n",
    "For this reason, we will use a different metric, like for instance the 99th percentile."
   ]
  },
  {
   "cell_type": "code",
   "execution_count": 127,
   "metadata": {
    "collapsed": true
   },
   "outputs": [],
   "source": [
    "core_cap_nrg_df, cluster_cap_nrg_df = pstates_model_df(clusters,\n",
    "                                                       pp_stats,\n",
    "                                                       power_perf_df,\n",
    "                                                       metric='c99'\n",
    "                                                      )"
   ]
  },
  {
   "cell_type": "code",
   "execution_count": 128,
   "metadata": {
    "collapsed": false
   },
   "outputs": [
    {
     "data": {
      "text/html": [
       "<div>\n",
       "<table border=\"1\" class=\"dataframe\">\n",
       "  <thead>\n",
       "    <tr style=\"text-align: right;\">\n",
       "      <th></th>\n",
       "      <th>cap</th>\n",
       "      <th>cluster</th>\n",
       "      <th>core</th>\n",
       "      <th>energy</th>\n",
       "      <th>freq</th>\n",
       "    </tr>\n",
       "  </thead>\n",
       "  <tbody>\n",
       "    <tr>\n",
       "      <th>0</th>\n",
       "      <td>175</td>\n",
       "      <td>PD_0</td>\n",
       "      <td>A53_PD_0</td>\n",
       "      <td>0.122582</td>\n",
       "      <td>208000</td>\n",
       "    </tr>\n",
       "    <tr>\n",
       "      <th>1</th>\n",
       "      <td>369</td>\n",
       "      <td>PD_0</td>\n",
       "      <td>A53_PD_0</td>\n",
       "      <td>0.237698</td>\n",
       "      <td>432000</td>\n",
       "    </tr>\n",
       "    <tr>\n",
       "      <th>2</th>\n",
       "      <td>625</td>\n",
       "      <td>PD_0</td>\n",
       "      <td>A53_PD_0</td>\n",
       "      <td>0.443248</td>\n",
       "      <td>729000</td>\n",
       "    </tr>\n",
       "    <tr>\n",
       "      <th>3</th>\n",
       "      <td>822</td>\n",
       "      <td>PD_0</td>\n",
       "      <td>A53_PD_0</td>\n",
       "      <td>0.746307</td>\n",
       "      <td>960000</td>\n",
       "    </tr>\n",
       "    <tr>\n",
       "      <th>4</th>\n",
       "      <td>1024</td>\n",
       "      <td>PD_0</td>\n",
       "      <td>A53_PD_0</td>\n",
       "      <td>1.250150</td>\n",
       "      <td>1200000</td>\n",
       "    </tr>\n",
       "  </tbody>\n",
       "</table>\n",
       "</div>"
      ],
      "text/plain": [
       "    cap cluster      core    energy     freq\n",
       "0   175    PD_0  A53_PD_0  0.122582   208000\n",
       "1   369    PD_0  A53_PD_0  0.237698   432000\n",
       "2   625    PD_0  A53_PD_0  0.443248   729000\n",
       "3   822    PD_0  A53_PD_0  0.746307   960000\n",
       "4  1024    PD_0  A53_PD_0  1.250150  1200000"
      ]
     },
     "execution_count": 128,
     "metadata": {},
     "output_type": "execute_result"
    }
   ],
   "source": [
    "core_cap_nrg_df"
   ]
  },
  {
   "cell_type": "code",
   "execution_count": 129,
   "metadata": {
    "collapsed": false
   },
   "outputs": [
    {
     "data": {
      "text/html": [
       "<div>\n",
       "<table border=\"1\" class=\"dataframe\">\n",
       "  <thead>\n",
       "    <tr style=\"text-align: right;\">\n",
       "      <th></th>\n",
       "      <th>cap</th>\n",
       "      <th>cluster</th>\n",
       "      <th>energy</th>\n",
       "      <th>freq</th>\n",
       "    </tr>\n",
       "  </thead>\n",
       "  <tbody>\n",
       "    <tr>\n",
       "      <th>0</th>\n",
       "      <td>175</td>\n",
       "      <td>PD_0</td>\n",
       "      <td>1.336880</td>\n",
       "      <td>208000</td>\n",
       "    </tr>\n",
       "    <tr>\n",
       "      <th>1</th>\n",
       "      <td>369</td>\n",
       "      <td>PD_0</td>\n",
       "      <td>1.319919</td>\n",
       "      <td>432000</td>\n",
       "    </tr>\n",
       "    <tr>\n",
       "      <th>2</th>\n",
       "      <td>625</td>\n",
       "      <td>PD_0</td>\n",
       "      <td>1.357663</td>\n",
       "      <td>729000</td>\n",
       "    </tr>\n",
       "    <tr>\n",
       "      <th>3</th>\n",
       "      <td>822</td>\n",
       "      <td>PD_0</td>\n",
       "      <td>1.370620</td>\n",
       "      <td>960000</td>\n",
       "    </tr>\n",
       "    <tr>\n",
       "      <th>4</th>\n",
       "      <td>1024</td>\n",
       "      <td>PD_0</td>\n",
       "      <td>1.493721</td>\n",
       "      <td>1200000</td>\n",
       "    </tr>\n",
       "  </tbody>\n",
       "</table>\n",
       "</div>"
      ],
      "text/plain": [
       "    cap cluster    energy     freq\n",
       "0   175    PD_0  1.336880   208000\n",
       "1   369    PD_0  1.319919   432000\n",
       "2   625    PD_0  1.357663   729000\n",
       "3   822    PD_0  1.370620   960000\n",
       "4  1024    PD_0  1.493721  1200000"
      ]
     },
     "execution_count": 129,
     "metadata": {},
     "output_type": "execute_result"
    }
   ],
   "source": [
    "cluster_cap_nrg_df"
   ]
  },
  {
   "cell_type": "code",
   "execution_count": 130,
   "metadata": {
    "collapsed": false
   },
   "outputs": [],
   "source": [
    "def energy_model_dict(clusters, core_cap_nrg_df, cluster_cap_nrg_df, metric='avg'):\n",
    "    n_states = len(clusters[0].idle_states)\n",
    "\n",
    "    nrg_dict = {}\n",
    "\n",
    "    grouped = core_cap_nrg_df.groupby('cluster')\n",
    "    for cl, df in grouped:\n",
    "        nrg_dict[cl] = {\n",
    "            \"opps\" : {},\n",
    "            \"core\": {\n",
    "                \"name\": df.core.iloc[0],\n",
    "                \"busy-cost\": OrderedDict(),\n",
    "                \"idle-cost\": OrderedDict()\n",
    "            },\n",
    "            \"cluster\": {\n",
    "                \"busy-cost\": OrderedDict(),\n",
    "                \"idle-cost\": OrderedDict()\n",
    "            }\n",
    "        }\n",
    "        # Core COSTS\n",
    "        # ACTIVE costs\n",
    "        for row in df.iterrows():\n",
    "            nrg_dict[cl][\"opps\"][row[1].cap] = row[1].freq\n",
    "            nrg_dict[cl][\"core\"][\"busy-cost\"][row[1].cap] = int(row[1].energy*100)\n",
    "\n",
    "        # IDLE costs\n",
    "        wfi_nrg = idle_stats.loc[cl].energy[metric][0]\n",
    "        # WFI\n",
    "        nrg_dict[cl][\"core\"][\"idle-cost\"][0] = int(wfi_nrg*100)\n",
    "        # All remaining states are zeroes\n",
    "        for i in xrange(1, n_states):\n",
    "            nrg_dict[cl][\"core\"][\"idle-cost\"][i] = 0\n",
    "\n",
    "        # Cluster COSTS\n",
    "        cl_data = cluster_cap_nrg_df[cluster_cap_nrg_df.cluster == cl]\n",
    "        # ACTIVE costs\n",
    "        for row in cl_data.iterrows():\n",
    "            nrg_dict[cl][\"cluster\"][\"busy-cost\"][row[1].cap] = int(row[1].energy*100)\n",
    "\n",
    "        # IDLE costs\n",
    "        # Core OFF is the first valid idle cost for cluster\n",
    "        idle_data = idle_stats.loc[cl].energy[metric]\n",
    "        # WFI (same as Core OFF)\n",
    "        nrg_dict[cl][\"cluster\"][\"idle-cost\"][0] = int(idle_data[1]*100)\n",
    "        # All other idle states (from CORE OFF down)\n",
    "        for i in xrange(1, n_states):\n",
    "            nrg_dict[cl][\"cluster\"][\"idle-cost\"][i] = int(idle_data[i]*100)\n",
    "\n",
    "    return nrg_dict"
   ]
  },
  {
   "cell_type": "code",
   "execution_count": 131,
   "metadata": {
    "collapsed": true
   },
   "outputs": [],
   "source": [
    "nrg_dict = energy_model_dict(clusters, core_cap_nrg_df, cluster_cap_nrg_df)"
   ]
  },
  {
   "cell_type": "markdown",
   "metadata": {},
   "source": [
    "## Device Tree EM Format"
   ]
  },
  {
   "cell_type": "code",
   "execution_count": 70,
   "metadata": {
    "collapsed": false
   },
   "outputs": [],
   "source": [
    "def dump_device_tree(nrg_dict, outfile='sched-energy.dtsi'):\n",
    "    \"\"\"\n",
    "    Generate device tree energy model file.\n",
    "    \n",
    "    :param nrg_dict: dictionary describing the energy model\n",
    "    :type nrg_dict: dict\n",
    "    \n",
    "    :param outfile: output file name\n",
    "    :type outfile: str\n",
    "    \"\"\"\n",
    "    with open(os.path.join(te.res_dir, outfile), 'w') as out:\n",
    "        out.write(\"energy-costs {\\n\")\n",
    "        idx = 0\n",
    "        for cl_name in nrg_dict.keys():\n",
    "            core = nrg_dict[cl_name][\"core\"]\n",
    "            # Dump Core costs\n",
    "            out.write(\"\\tCPU_COST_{}: core_cost{} {}\\n\"\\\n",
    "                      .format(core[\"name\"], idx, '{'))\n",
    "            # ACTIVE costs\n",
    "            out.write(\"\\t\\tbusy-cost-data = <\\n\")\n",
    "            for cap, nrg in core[\"busy-cost\"].iteritems():\n",
    "                out.write(\"\\t\\t\\t{} {}\\n\".format(cap, nrg))\n",
    "            out.write(\"\\t\\t>;\\n\")\n",
    "            # IDLE costs\n",
    "            out.write(\"\\t\\tidle-cost-data = <\\n\")\n",
    "            # arch idle\n",
    "            out.write(\"\\t\\t\\t{}\\n\".format(core[\"idle-cost\"][0]))\n",
    "            for nrg in core[\"idle-cost\"].values():\n",
    "                out.write(\"\\t\\t\\t{}\\n\".format(nrg)) \n",
    "            out.write(\"\\t\\t>;\\n\")\n",
    "            out.write(\"\\t};\\n\")\n",
    "\n",
    "            # Dump Cluster costs\n",
    "            cl = nrg_dict[cl_name][\"cluster\"]\n",
    "            out.write(\"\\tCLUSTER_COST_{}: cluster_cost{} {}\\n\"\\\n",
    "                      .format(cl_name, idx, '{'))\n",
    "            # ACTIVE costs\n",
    "            out.write(\"\\t\\tbusy-cost-data = <\\n\")\n",
    "            for cap, nrg in cl[\"busy-cost\"].iteritems():\n",
    "                out.write(\"\\t\\t\\t{} {}\\n\".format(cap, nrg))\n",
    "            out.write(\"\\t\\t>;\\n\")\n",
    "            # IDLE costs\n",
    "            out.write(\"\\t\\tidle-cost-data = <\\n\")\n",
    "            # arch idle\n",
    "            out.write(\"\\t\\t\\t{}\\n\".format(cl[\"idle-cost\"][0]))\n",
    "            for nrg in cl[\"idle-cost\"].values():\n",
    "                out.write(\"\\t\\t\\t{}\\n\".format(nrg))\n",
    "            out.write(\"\\t\\t>;\\n\")\n",
    "            out.write(\"\\t};\\n\")\n",
    "            idx += 1\n",
    "        out.write(\"};\")"
   ]
  },
  {
   "cell_type": "markdown",
   "metadata": {},
   "source": [
    "## C Code EM Format"
   ]
  },
  {
   "cell_type": "code",
   "execution_count": 71,
   "metadata": {
    "collapsed": false
   },
   "outputs": [],
   "source": [
    "def dump_c_code(nrg_dict, cluster_ids, outfile='energy_model.c'):\n",
    "    \"\"\"\n",
    "    Generate C code energy model file.\n",
    "    \n",
    "    :param nrg_dict: dictionary describing the energy model\n",
    "    :type nrg_dict: dict\n",
    "    \n",
    "    :param cluster_ids: mapping between cluster names and cluster IDs\n",
    "    :type cluster_ids: dict\n",
    "    \n",
    "    :param outfile: output file name\n",
    "    :type outfile: str\n",
    "    \"\"\"\n",
    "    with open(os.path.join(te.res_dir, outfile), 'w') as o:\n",
    "\n",
    "        core_names = []\n",
    "        for cl_name in nrg_dict.keys():\n",
    "            # Dump Core data\n",
    "            core = nrg_dict[cl_name][\"core\"]\n",
    "            core_names.append(core[\"name\"])\n",
    "            o.write(\"static struct capacity_state cap_states_core_{}[] = {}\\n\"\\\n",
    "                    .format(core[\"name\"], '{'))\n",
    "            o.write(\"\\t/* Power per CPU */\\n\")\n",
    "            for cap, nrg in core[\"busy-cost\"].iteritems():\n",
    "                o.write(\"\\t {{ .cap = {:5d}, .power = {:5d}, }},\\n\"\\\n",
    "                        .format(cap, nrg))\n",
    "            o.write(\"\\t};\\n\")\n",
    "\n",
    "            o.write(\"\\n\")\n",
    "\n",
    "            o.write(\"static struct idle_state idle_states_core_{}[] = {}\\n\"\\\n",
    "                    .format(core[\"name\"], '{'))\n",
    "            # arch idle (same as WFI)\n",
    "            o.write(\"\\t {{ .power = {:5d}, }},\\n\".format(core[\"idle-cost\"][0]))\n",
    "            for nrg in core[\"idle-cost\"].values():\n",
    "                o.write(\"\\t {{ .power = {:5d}, }},\\n\".format(nrg))\n",
    "            o.write(\"\\t};\\n\")\n",
    "\n",
    "            o.write(\"\\n\")\n",
    "\n",
    "            # Dump Cluster data\n",
    "            cl = nrg_dict[cl_name][\"cluster\"]\n",
    "            o.write(\"static struct capacity_state cap_states_cluster_{}[] = {}\\n\"\\\n",
    "                    .format(cl_name, '{'))\n",
    "            o.write(\"\\t/* Power per cluster */\\n\")\n",
    "            for cap, nrg in cl[\"busy-cost\"].iteritems():\n",
    "                o.write(\"\\t {{ .cap = {:5d}, .power = {:5d}, }},\\n\"\\\n",
    "                        .format(cap, nrg))\n",
    "            o.write(\"\\t};\\n\")\n",
    "\n",
    "            o.write(\"\\n\")\n",
    "\n",
    "            o.write(\"static struct idle_state idle_states_cluster_{}[] = {}\\n\"\\\n",
    "                    .format(cl_name, '{'))\n",
    "            # arch idle (same as Core OFF)\n",
    "            o.write(\"\\t {{ .power = {:5d}, }},\\n\".format(cl[\"idle-cost\"][0]))\n",
    "            for nrg in cl[\"idle-cost\"].values():\n",
    "                o.write(\"\\t {{ .power = {:5d}, }},\\n\".format(nrg))\n",
    "            o.write(\"\\t};\\n\")\n",
    "\n",
    "            o.write(\"\\n\")\n",
    "\n",
    "            o.write(\"static struct sched_group_energy energy_cluster_{} = {}\\n\"\\\n",
    "                    .format(core[\"name\"], '{'))\n",
    "            o.write(\"\\t.nr_idle_states = ARRAY_SIZE(idle_states_cluster_{}),\\n\"\\\n",
    "                    .format(core[\"name\"]))\n",
    "            o.write(\"\\t.idle_states    = idle_states_cluster_{},\\n\"\\\n",
    "                    .format(core[\"name\"]))\n",
    "            o.write(\"\\t.nr_cap_states  = ARRAY_SIZE(cap_states_cluster_{}),\\n\"\\\n",
    "                    .format(core[\"name\"]))\n",
    "            o.write(\"\\t.cap_states     = cap_states_cluster_{},\\n\"\\\n",
    "                    .format(core[\"name\"]))\n",
    "            o.write(\"};\\n\")\n",
    "\n",
    "            o.write(\"\\n\")\n",
    "\n",
    "        # Array of pointers to CORE sched_group_energy structs\n",
    "        o.write(\"static struct sched_group_energy *energy_cores[] = {\\n\")\n",
    "        for cl_name in cluster_ids.values():\n",
    "            o.write(\"\\t&energy_core_{},\\n\"\\\n",
    "                    .format(nrg_dict[cl_name][\"core\"][\"name\"]))\n",
    "        o.write(\"};\\n\")\n",
    "\n",
    "        o.write(\"\\n\")\n",
    "\n",
    "        # Array of pointers to CLUSTER sched_group_energy structs\n",
    "        o.write(\"static struct sched_group_energy *energy_clusters[] = {\\n\")\n",
    "        for name in cluster_ids.values():\n",
    "            o.write(\"\\t&energy_cluster_{},\\n\".format(name))\n",
    "        o.write(\"};\\n\")\n",
    "\n",
    "        o.write(\"\\n\")\n",
    "\n",
    "        o.write(\"static inline\\n\")\n",
    "        o.write(\"const struct sched_group_energy * const cpu_core_energy(int cpu)\\n\")\n",
    "        o.write(\"{\\n\")\n",
    "        o.write(\"\\treturn energy_cores[cpu_topology[cpu].cluster_id];\\n\")\n",
    "        o.write(\"}\\n\")\n",
    "\n",
    "        o.write(\"\\n\")\n",
    "\n",
    "        o.write(\"static inline\\n\")\n",
    "        o.write(\"const struct sched_group_energy * const cpu_cluster_energy(int cpu)\\n\")\n",
    "        o.write(\"{\\n\")\n",
    "        o.write(\"\\treturn energy_clusters[cpu_topology[cpu].cluster_id];\\n\")\n",
    "        o.write(\"}\\n\")"
   ]
  },
  {
   "cell_type": "markdown",
   "metadata": {},
   "source": [
    "## JSON EM Format"
   ]
  },
  {
   "cell_type": "code",
   "execution_count": 72,
   "metadata": {
    "collapsed": false
   },
   "outputs": [],
   "source": [
    "def dump_json(nrg_dict, outfile='energy_model.json'):\n",
    "    \"\"\"\n",
    "    Generate JSON energy model file.\n",
    "    \n",
    "    :param nrg_dict: dictionary describing the energy model\n",
    "    :type nrg_dict: dict\n",
    "    \n",
    "    :param outfile: output file name\n",
    "    :type outfile: str\n",
    "    \"\"\"\n",
    "    with open(os.path.join(te.res_dir, outfile), 'w') as ofile:\n",
    "        json.dump(nrg_dict, ofile, sort_keys=True, indent=4)"
   ]
  },
  {
   "cell_type": "code",
   "execution_count": 133,
   "metadata": {
    "collapsed": true
   },
   "outputs": [],
   "source": [
    "dump_device_tree(nrg_dict)"
   ]
  },
  {
   "cell_type": "code",
   "execution_count": 134,
   "metadata": {
    "collapsed": false
   },
   "outputs": [
    {
     "name": "stdout",
     "output_type": "stream",
     "text": [
      "energy-costs {\r\n",
      "\tCPU_COST_A53_PD_0: core_cost0 {\r\n",
      "\t\tbusy-cost-data = <\r\n",
      "\t\t\t175 12\r\n",
      "\t\t\t369 23\r\n",
      "\t\t\t625 44\r\n",
      "\t\t\t822 74\r\n",
      "\t\t\t1024 125\r\n",
      "\t\t>;\r\n",
      "\t\tidle-cost-data = <\r\n",
      "\t\t\t5\r\n",
      "\t\t\t5\r\n",
      "\t\t\t0\r\n",
      "\t\t\t0\r\n",
      "\t\t>;\r\n",
      "\t};\r\n",
      "\tCLUSTER_COST_PD_0: cluster_cost0 {\r\n",
      "\t\tbusy-cost-data = <\r\n",
      "\t\t\t175 133\r\n",
      "\t\t\t369 131\r\n",
      "\t\t\t625 135\r\n",
      "\t\t\t822 137\r\n",
      "\t\t\t1024 149\r\n",
      "\t\t>;\r\n",
      "\t\tidle-cost-data = <\r\n",
      "\t\t\t155\r\n",
      "\t\t\t155\r\n",
      "\t\t\t155\r\n",
      "\t\t\t125\r\n",
      "\t\t>;\r\n",
      "\t};\r\n",
      "};"
     ]
    }
   ],
   "source": [
    "!cat ./sched-energy.dtsi"
   ]
  }
 ],
 "metadata": {
  "kernelspec": {
   "display_name": "Python 2",
   "language": "python",
   "name": "python2"
  },
  "language_info": {
   "codemirror_mode": {
    "name": "ipython",
    "version": 2
   },
   "file_extension": ".py",
   "mimetype": "text/x-python",
   "name": "python",
   "nbconvert_exporter": "python",
   "pygments_lexer": "ipython2",
   "version": "2.7.9"
  },
  "toc": {
   "toc_cell": false,
   "toc_number_sections": true,
   "toc_threshold": 6,
   "toc_window_display": true
  }
 },
 "nbformat": 4,
 "nbformat_minor": 0
}
