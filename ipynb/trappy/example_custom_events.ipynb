{
 "cells": [
  {
   "cell_type": "code",
   "execution_count": 1,
   "metadata": {
    "collapsed": true
   },
   "outputs": [],
   "source": [
    "import logging\n",
    "reload(logging)\n",
    "logging.basicConfig(\n",
    "    format='%(asctime)-9s %(levelname)-8s: %(message)s',\n",
    "    datefmt='%I:%M:%S')\n",
    "\n",
    "# Enable logging at INFO level\n",
    "logging.getLogger().setLevel(logging.INFO)\n",
    "# Uncomment the follwing line to enabled devlib debugging statements\n",
    "#logging.getLogger('ssh').setLevel(logging.DEBUG)"
   ]
  },
  {
   "cell_type": "code",
   "execution_count": 2,
   "metadata": {
    "collapsed": false
   },
   "outputs": [
    {
     "name": "stdout",
     "output_type": "stream",
     "text": [
      "Populating the interactive namespace from numpy and matplotlib\n"
     ]
    }
   ],
   "source": [
    "# Generate plots inline\n",
    "%matplotlib inline\n",
    "\n",
    "import copy\n",
    "import json\n",
    "import os\n",
    "import time\n",
    "\n",
    "# Support to access the remote target\n",
    "import devlib\n",
    "from env import TestEnv\n",
    "\n",
    "# Support to configure and run RTApp based workloads\n",
    "from wlgen import RTA\n",
    "\n",
    "# Support for trace events analysis\n",
    "from trace import Trace\n",
    "\n",
    "# Suport for FTrace events parsing and visualization\n",
    "import trappy"
   ]
  },
  {
   "cell_type": "markdown",
   "metadata": {},
   "source": [
    "# Test environment setup"
   ]
  },
  {
   "cell_type": "code",
   "execution_count": 3,
   "metadata": {
    "collapsed": false
   },
   "outputs": [],
   "source": [
    "# Setup a target configuration\n",
    "my_target_conf = {\n",
    "    \n",
    "    # Define the kind of target platform to use for the experiments\n",
    "    \"platform\"    : 'linux',  # Linux system, valid other options are:\n",
    "                              # android - access via ADB\n",
    "                              # linux   - access via SSH\n",
    "                              # host    - direct access\n",
    "    \n",
    "    # Preload settings for a specific target\n",
    "    \"board\"       : 'juno',   # load JUNO specific settings, e.g.\n",
    "                              # - HWMON based energy sampling\n",
    "                              # - Juno energy model\n",
    "                              # valid options are:\n",
    "                              # - juno  - JUNO Development Board\n",
    "                              # - tc2   - TC2 Development Board\n",
    "                              # - oak   - Mediatek MT63xx based target\n",
    "\n",
    "    # Define devlib module to load\n",
    "    \"modules\"     : [\n",
    "        'bl',           # enable big.LITTLE support\n",
    "        'cpufreq',      # enable CPUFreq support\n",
    "    ],\n",
    "\n",
    "    # Account to access the remote target\n",
    "    \"host\"        : '192.168.0.10',\n",
    "    \"username\"    : 'root',\n",
    "    \"password\"    : '',\n",
    "\n",
    "\n",
    "    # Comment the following line to force rt-app calibration on your target\n",
    "    \"rtapp-calib\" : {\n",
    "        '0': 361, '1': 138, '2': 138, '3': 352, '4': 360, '5': 353\n",
    "    }\n",
    "\n",
    "}\n",
    "\n",
    "# Setup the required Test Environment supports\n",
    "my_tests_conf = {\n",
    "        \n",
    "    # Binary tools required to run this experiment\n",
    "    # These tools must be present in the tools/ folder for the architecture\n",
    "    \"tools\"   : ['trace-cmd'],\n",
    "    \n",
    "    # FTrace events buffer configuration\n",
    "    # events listed here MUST be \n",
    "    \"ftrace\"  : {\n",
    "        \n",
    "        \n",
    "##############################################################################\n",
    "# EVENTS SPECIFICATIPON\n",
    "##############################################################################\n",
    "# Here is where we specify the list of events we are interested into:\n",
    "# Events are of two types:\n",
    "# 1. FTrace tracepoints that _must_ be supported by the target's kernel in use.\n",
    "#    These events will be enabled at ftrace start time, thus if the kernel does\n",
    "#    not support one of them, ftrace starting will fails.\n",
    "\n",
    "        \"events\" : [\n",
    "            \"sched_switch\",\n",
    "            \"cpu_frequency\",\n",
    "        ],\n",
    "\n",
    "# 2. FTrace events generated via trace_printk, from either kernel or user\n",
    "#    space. These events are different from the previous because they do not\n",
    "#    need to be explicitely enabled at ftrace start time.\n",
    "#    It's up to the user to ensure that the generated events satisfies these\n",
    "#    formatting requirements:\n",
    "#    a) the name must be a unique word into the trace\n",
    "#    b) values must be reported as a sequence of key=value paires\n",
    "#    For example, a valid custom event string is:\n",
    "#      my_math_event: kay1=val1 key2=val2 key3=val3\n",
    "\n",
    "        \"custom\" : [\n",
    "            \"my_math_event\",\n",
    "        ],\n",
    "        \n",
    "# For each of these events, TRAPpy will generate a Pandas dataframe accessible\n",
    "# via a TRAPpy::FTrace object, whith the same name of the event.\n",
    "# Thus for example, ftrace.my_math_event will be the object exposing the\n",
    "# dataframe with all the event matching the \"my_math_event\" unique word.\n",
    "        \n",
    "##############################################################################\n",
    "        \n",
    "         \"buffsize\" : 10240,\n",
    "    },\n",
    "\n",
    "}"
   ]
  },
  {
   "cell_type": "code",
   "execution_count": 4,
   "metadata": {
    "collapsed": false,
    "scrolled": false
   },
   "outputs": [
    {
     "name": "stderr",
     "output_type": "stream",
     "text": [
      "05:26:51  INFO    :         Target - Using base path: /home/derkling/Code/schedtest\n",
      "05:26:51  INFO    : %14s - Loading custom (inline) target configuration\n",
      "05:26:51  INFO    :         Target - Connecting linux target with: {'username': 'root', 'host': '192.168.0.10', 'password': ''}\n",
      "05:26:55  INFO    :         Target - Initializing target workdir [/root/devlib-target]\n",
      "05:26:58  INFO    : Target topology: [[0, 3, 4, 5], [1, 2]]\n",
      "05:27:00  INFO    :         FTrace - Enabled events:\n",
      "05:27:00  INFO    :         FTrace -   ['sched_switch', 'cpu_frequency']\n",
      "05:27:00  INFO    :    EnergyMeter - HWMON module not enabled\n",
      "05:27:00  WARNING :    EnergyMeter - Energy sampling disabled by configuration\n"
     ]
    }
   ],
   "source": [
    "# Initialize a test environment using:\n",
    "# the provided target configuration (my_target_conf)\n",
    "# the provided test configuration (my_test_conf)\n",
    "te = TestEnv(target_conf=my_target_conf, test_conf=my_tests_conf)\n",
    "target = te.target"
   ]
  },
  {
   "cell_type": "code",
   "execution_count": 5,
   "metadata": {
    "collapsed": false
   },
   "outputs": [
    {
     "name": "stderr",
     "output_type": "stream",
     "text": [
      "05:27:00  INFO    : Target ABI: arm64, CPus: ['A53', 'A57', 'A57', 'A53', 'A53', 'A53']\n"
     ]
    }
   ],
   "source": [
    "logging.info(\"Target ABI: %s, CPus: %s\",\n",
    "             target.abi,\n",
    "             target.cpuinfo.cpu_names)"
   ]
  },
  {
   "cell_type": "markdown",
   "metadata": {},
   "source": [
    "# Example of custom event definition"
   ]
  },
  {
   "cell_type": "code",
   "execution_count": 6,
   "metadata": {
    "collapsed": false
   },
   "outputs": [
    {
     "name": "stderr",
     "output_type": "stream",
     "text": [
      "05:27:05  INFO    : Generating events from user-space (will take ~140[s])...\n"
     ]
    }
   ],
   "source": [
    "# Define the format string for the custom events we will inject from user-space\n",
    "my_math_event_fmt = \"my_math_event: sin={} cos={}\"\n",
    "\n",
    "# Start FTrace\n",
    "te.ftrace.start()\n",
    "\n",
    "# Let's generate some interesting \"custom\" events from userspace\n",
    "logging.info('Generating events from user-space (will take ~140[s])...')\n",
    "for angle in range(360):\n",
    "    v_sin = int(1e6 * math.sin(math.radians(angle)))\n",
    "    v_cos = int(1e6 * math.cos(math.radians(angle)))\n",
    "    my_math_event = my_math_event_fmt.format(v_sin, v_cos)\n",
    "    # custom events can be generated either from userspace, like in this\n",
    "    # example, or also from kernelspace (using a trace_printk call)\n",
    "    target.execute('echo {} > /sys/kernel/debug/tracing/trace_marker'\\\n",
    "                   .format(my_math_event))\n",
    "\n",
    "# Stop FTrace\n",
    "te.ftrace.stop()"
   ]
  },
  {
   "cell_type": "code",
   "execution_count": 7,
   "metadata": {
    "collapsed": true
   },
   "outputs": [],
   "source": [
    "# Collect the generate trace\n",
    "trace_file = '/tmp/trace.dat'\n",
    "te.ftrace.get_trace(trace_file)"
   ]
  },
  {
   "cell_type": "code",
   "execution_count": 8,
   "metadata": {
    "collapsed": false
   },
   "outputs": [
    {
     "name": "stderr",
     "output_type": "stream",
     "text": [
      "05:29:37  INFO    : Collected events spans a 146.767 [s] time interval\n"
     ]
    }
   ],
   "source": [
    "# Parse trace\n",
    "events_to_parse = my_tests_conf['ftrace']['events'] + my_tests_conf['ftrace']['custom']\n",
    "trace = Trace(te.platform, '/tmp', events_to_parse)"
   ]
  },
  {
   "cell_type": "markdown",
   "metadata": {},
   "source": [
    "# Inspection of the generated TRAPpy FTrace object"
   ]
  },
  {
   "cell_type": "code",
   "execution_count": 9,
   "metadata": {
    "collapsed": true
   },
   "outputs": [],
   "source": [
    "# Get the TRAPpy FTrace object which has been generated from the trace parsing\n",
    "ftrace = trace.ftrace"
   ]
  },
  {
   "cell_type": "code",
   "execution_count": 10,
   "metadata": {
    "collapsed": false
   },
   "outputs": [
    {
     "name": "stderr",
     "output_type": "stream",
     "text": [
      "05:29:37  INFO    : List of events identified in the trace:\n",
      "['cpu_frequency', 'sched_switch', 'my_math_event']\n"
     ]
    }
   ],
   "source": [
    "# The FTrace object allows to verify which (of the registered) events have been\n",
    "# identified into the trace\n",
    "logging.info(\"List of events identified in the trace:\\n%s\",\n",
    "             ftrace.class_definitions.keys())"
   ]
  },
  {
   "cell_type": "code",
   "execution_count": 11,
   "metadata": {
    "collapsed": false
   },
   "outputs": [
    {
     "name": "stderr",
     "output_type": "stream",
     "text": [
      "05:29:37  INFO    : First 10 events of our 'my_math_event' custom event:\n"
     ]
    },
    {
     "data": {
      "text/html": [
       "<div>\n",
       "<table border=\"1\" class=\"dataframe\">\n",
       "  <thead>\n",
       "    <tr style=\"text-align: right;\">\n",
       "      <th></th>\n",
       "      <th>__comm</th>\n",
       "      <th>__cpu</th>\n",
       "      <th>__pid</th>\n",
       "      <th>cos</th>\n",
       "      <th>sin</th>\n",
       "    </tr>\n",
       "    <tr>\n",
       "      <th>Time</th>\n",
       "      <th></th>\n",
       "      <th></th>\n",
       "      <th></th>\n",
       "      <th></th>\n",
       "      <th></th>\n",
       "    </tr>\n",
       "  </thead>\n",
       "  <tbody>\n",
       "    <tr>\n",
       "      <th>0.465916</th>\n",
       "      <td>sh</td>\n",
       "      <td>0</td>\n",
       "      <td>30563</td>\n",
       "      <td>1000000</td>\n",
       "      <td>0</td>\n",
       "    </tr>\n",
       "    <tr>\n",
       "      <th>0.869805</th>\n",
       "      <td>sh</td>\n",
       "      <td>0</td>\n",
       "      <td>30563</td>\n",
       "      <td>999847</td>\n",
       "      <td>17452</td>\n",
       "    </tr>\n",
       "    <tr>\n",
       "      <th>1.273996</th>\n",
       "      <td>sh</td>\n",
       "      <td>0</td>\n",
       "      <td>30563</td>\n",
       "      <td>999390</td>\n",
       "      <td>34899</td>\n",
       "    </tr>\n",
       "    <tr>\n",
       "      <th>1.677924</th>\n",
       "      <td>sh</td>\n",
       "      <td>0</td>\n",
       "      <td>30563</td>\n",
       "      <td>998629</td>\n",
       "      <td>52335</td>\n",
       "    </tr>\n",
       "    <tr>\n",
       "      <th>2.082107</th>\n",
       "      <td>sh</td>\n",
       "      <td>0</td>\n",
       "      <td>30563</td>\n",
       "      <td>997564</td>\n",
       "      <td>69756</td>\n",
       "    </tr>\n",
       "    <tr>\n",
       "      <th>2.486149</th>\n",
       "      <td>sh</td>\n",
       "      <td>4</td>\n",
       "      <td>30563</td>\n",
       "      <td>996194</td>\n",
       "      <td>87155</td>\n",
       "    </tr>\n",
       "    <tr>\n",
       "      <th>2.890237</th>\n",
       "      <td>sh</td>\n",
       "      <td>4</td>\n",
       "      <td>30563</td>\n",
       "      <td>994521</td>\n",
       "      <td>104528</td>\n",
       "    </tr>\n",
       "    <tr>\n",
       "      <th>3.295050</th>\n",
       "      <td>sh</td>\n",
       "      <td>4</td>\n",
       "      <td>30563</td>\n",
       "      <td>992546</td>\n",
       "      <td>121869</td>\n",
       "    </tr>\n",
       "    <tr>\n",
       "      <th>3.699198</th>\n",
       "      <td>sh</td>\n",
       "      <td>4</td>\n",
       "      <td>30563</td>\n",
       "      <td>990268</td>\n",
       "      <td>139173</td>\n",
       "    </tr>\n",
       "    <tr>\n",
       "      <th>4.103593</th>\n",
       "      <td>sh</td>\n",
       "      <td>4</td>\n",
       "      <td>30563</td>\n",
       "      <td>987688</td>\n",
       "      <td>156434</td>\n",
       "    </tr>\n",
       "  </tbody>\n",
       "</table>\n",
       "</div>"
      ],
      "text/plain": [
       "         __comm  __cpu  __pid      cos     sin\n",
       "Time                                          \n",
       "0.465916     sh      0  30563  1000000       0\n",
       "0.869805     sh      0  30563   999847   17452\n",
       "1.273996     sh      0  30563   999390   34899\n",
       "1.677924     sh      0  30563   998629   52335\n",
       "2.082107     sh      0  30563   997564   69756\n",
       "2.486149     sh      4  30563   996194   87155\n",
       "2.890237     sh      4  30563   994521  104528\n",
       "3.295050     sh      4  30563   992546  121869\n",
       "3.699198     sh      4  30563   990268  139173\n",
       "4.103593     sh      4  30563   987688  156434"
      ]
     },
     "execution_count": 11,
     "metadata": {},
     "output_type": "execute_result"
    }
   ],
   "source": [
    "# Each event identified in the trace is appended to a table (i.e. data_frame)\n",
    "# which has the same name of the event\n",
    "\n",
    "logging.info(\"First 10 events of our 'my_math_event' custom event:\")\n",
    "ftrace.my_math_event.data_frame.head(10)"
   ]
  },
  {
   "cell_type": "code",
   "execution_count": 12,
   "metadata": {
    "collapsed": false
   },
   "outputs": [
    {
     "name": "stderr",
     "output_type": "stream",
     "text": [
      "05:29:37  INFO    : First 10 events of our 'cpu_frequency' tracepoint:\n"
     ]
    },
    {
     "data": {
      "text/html": [
       "<div>\n",
       "<table border=\"1\" class=\"dataframe\">\n",
       "  <thead>\n",
       "    <tr style=\"text-align: right;\">\n",
       "      <th></th>\n",
       "      <th>__comm</th>\n",
       "      <th>__cpu</th>\n",
       "      <th>__pid</th>\n",
       "      <th>cpu</th>\n",
       "      <th>frequency</th>\n",
       "    </tr>\n",
       "    <tr>\n",
       "      <th>Time</th>\n",
       "      <th></th>\n",
       "      <th></th>\n",
       "      <th></th>\n",
       "      <th></th>\n",
       "      <th></th>\n",
       "    </tr>\n",
       "  </thead>\n",
       "  <tbody>\n",
       "    <tr>\n",
       "      <th>0.000000</th>\n",
       "      <td>kworker/0:2</td>\n",
       "      <td>0</td>\n",
       "      <td>30494</td>\n",
       "      <td>0</td>\n",
       "      <td>575000</td>\n",
       "    </tr>\n",
       "    <tr>\n",
       "      <th>0.000009</th>\n",
       "      <td>kworker/0:2</td>\n",
       "      <td>0</td>\n",
       "      <td>30494</td>\n",
       "      <td>3</td>\n",
       "      <td>575000</td>\n",
       "    </tr>\n",
       "    <tr>\n",
       "      <th>0.000014</th>\n",
       "      <td>kworker/0:2</td>\n",
       "      <td>0</td>\n",
       "      <td>30494</td>\n",
       "      <td>4</td>\n",
       "      <td>575000</td>\n",
       "    </tr>\n",
       "    <tr>\n",
       "      <th>0.000019</th>\n",
       "      <td>kworker/0:2</td>\n",
       "      <td>0</td>\n",
       "      <td>30494</td>\n",
       "      <td>5</td>\n",
       "      <td>575000</td>\n",
       "    </tr>\n",
       "    <tr>\n",
       "      <th>0.016023</th>\n",
       "      <td>kworker/0:2</td>\n",
       "      <td>0</td>\n",
       "      <td>30494</td>\n",
       "      <td>0</td>\n",
       "      <td>450000</td>\n",
       "    </tr>\n",
       "    <tr>\n",
       "      <th>0.016034</th>\n",
       "      <td>kworker/0:2</td>\n",
       "      <td>0</td>\n",
       "      <td>30494</td>\n",
       "      <td>3</td>\n",
       "      <td>450000</td>\n",
       "    </tr>\n",
       "    <tr>\n",
       "      <th>0.016042</th>\n",
       "      <td>kworker/0:2</td>\n",
       "      <td>0</td>\n",
       "      <td>30494</td>\n",
       "      <td>4</td>\n",
       "      <td>450000</td>\n",
       "    </tr>\n",
       "    <tr>\n",
       "      <th>0.016048</th>\n",
       "      <td>kworker/0:2</td>\n",
       "      <td>0</td>\n",
       "      <td>30494</td>\n",
       "      <td>5</td>\n",
       "      <td>450000</td>\n",
       "    </tr>\n",
       "    <tr>\n",
       "      <th>0.017447</th>\n",
       "      <td>kworker/2:2</td>\n",
       "      <td>2</td>\n",
       "      <td>30600</td>\n",
       "      <td>1</td>\n",
       "      <td>450000</td>\n",
       "    </tr>\n",
       "    <tr>\n",
       "      <th>0.017458</th>\n",
       "      <td>kworker/2:2</td>\n",
       "      <td>2</td>\n",
       "      <td>30600</td>\n",
       "      <td>2</td>\n",
       "      <td>450000</td>\n",
       "    </tr>\n",
       "  </tbody>\n",
       "</table>\n",
       "</div>"
      ],
      "text/plain": [
       "               __comm  __cpu  __pid  cpu  frequency\n",
       "Time                                               \n",
       "0.000000  kworker/0:2      0  30494    0     575000\n",
       "0.000009  kworker/0:2      0  30494    3     575000\n",
       "0.000014  kworker/0:2      0  30494    4     575000\n",
       "0.000019  kworker/0:2      0  30494    5     575000\n",
       "0.016023  kworker/0:2      0  30494    0     450000\n",
       "0.016034  kworker/0:2      0  30494    3     450000\n",
       "0.016042  kworker/0:2      0  30494    4     450000\n",
       "0.016048  kworker/0:2      0  30494    5     450000\n",
       "0.017447  kworker/2:2      2  30600    1     450000\n",
       "0.017458  kworker/2:2      2  30600    2     450000"
      ]
     },
     "execution_count": 12,
     "metadata": {},
     "output_type": "execute_result"
    }
   ],
   "source": [
    "logging.info(\"First 10 events of our 'cpu_frequency' tracepoint:\")\n",
    "ftrace.cpu_frequency.data_frame.head(10)"
   ]
  },
  {
   "cell_type": "markdown",
   "metadata": {},
   "source": [
    "# Plotting tracepoint and/or custom events"
   ]
  },
  {
   "cell_type": "code",
   "execution_count": 13,
   "metadata": {
    "code_folding": [],
    "collapsed": false
   },
   "outputs": [
    {
     "name": "stderr",
     "output_type": "stream",
     "text": [
      "/home/derkling/.local/lib/python2.7/site-packages/matplotlib/__init__.py:872: UserWarning: axes.color_cycle is deprecated and replaced with axes.prop_cycle; please use the latter.\n",
      "  warnings.warn(self.msg_depr % (key, alt_key))\n"
     ]
    },
    {
     "data": {
      "image/png": "[encoded data removed]",
      "text/plain": [
       "<matplotlib.figure.Figure at 0x7f8fcfa04090>"
      ]
     },
     "metadata": {},
     "output_type": "display_data"
    }
   ],
   "source": [
    "# It is possible to mix in the same plot tracepoints and custom events\n",
    "\n",
    "# The LinePlot module requires to specify a list of signals to plot.\n",
    "# Each signal is defined as:\n",
    "#       <event>:<column>\n",
    "# where:\n",
    "#  <event>   is one of the events collected from the trace by the FTrace object\n",
    "#  <column>  is one of the column of the previously defined event\n",
    "my_signals = [\n",
    "    'cpu_frequency:frequency',\n",
    "    'my_math_event:sin',\n",
    "    'my_math_event:cos'\n",
    "]\n",
    "\n",
    "# These two paramatere are passed to the LinePlot call as long with the\n",
    "# TRAPpy FTrace object\n",
    "trappy.LinePlot(\n",
    "    ftrace,                      # FTrace object\n",
    "    signals=my_signals,          # Signals to be plotted\n",
    "    drawstyle='steps-post',      # Plot style options\n",
    "    marker = '+'\n",
    ").view()"
   ]
  }
 ],
 "metadata": {
  "kernelspec": {
   "display_name": "Python 2",
   "language": "python",
   "name": "python2"
  },
  "language_info": {
   "codemirror_mode": {
    "name": "ipython",
    "version": 2
   },
   "file_extension": ".py",
   "mimetype": "text/x-python",
   "name": "python",
   "nbconvert_exporter": "python",
   "pygments_lexer": "ipython2",
   "version": "2.7.9"
  }
 },
 "nbformat": 4,
 "nbformat_minor": 0
}
