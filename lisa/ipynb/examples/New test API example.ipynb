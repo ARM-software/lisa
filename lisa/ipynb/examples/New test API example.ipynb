{
 "cells": [
  {
   "cell_type": "code",
   "execution_count": null,
   "metadata": {},
   "outputs": [],
   "source": [
    "import logging\n",
    "from conf import LisaLogging\n",
    "LisaLogging.setup()"
   ]
  },
  {
   "cell_type": "code",
   "execution_count": null,
   "metadata": {},
   "outputs": [],
   "source": [
    "%load_ext autoreload\n",
    "%autoreload 2"
   ]
  },
  {
   "cell_type": "code",
   "execution_count": null,
   "metadata": {},
   "outputs": [],
   "source": [
    "%pylab inline\n",
    "\n",
    "import json\n",
    "import os\n",
    "\n",
    "# Support to access the remote target\n",
    "import devlib\n",
    "from env import TestEnv\n",
    "\n",
    "# Import support for Android devices\n",
    "from android import Screen, Workload\n",
    "\n",
    "# Support for trace events analysis\n",
    "from trace import Trace\n",
    "\n",
    "# Suport for FTrace events parsing and visualization\n",
    "import trappy\n",
    "import pandas as pd\n",
    "\n",
    "from wlgen import RTA, Periodic, Ramp\n",
    "from time import sleep\n",
    "\n",
    "from IPython.display import display"
   ]
  },
  {
   "cell_type": "code",
   "execution_count": null,
   "metadata": {},
   "outputs": [],
   "source": [
    "linux_hikey = {\n",
    "    \"platform\" : \"linux\",\n",
    "    \"board\" : \"hikey960\",\n",
    "    \"host\": \"10.42.0.1\",\n",
    "    \"username\" : \"root\",\n",
    "    \"password\" : \"root\",\n",
    "    \"modules\" : [\"sched\", \"cgroups\", \"hotplug\"],\n",
    "    \"tools\" : [\"taskset\", \"rt-app\"],\n",
    "    \"rtapp-calib\" :  {\n",
    "        \"0\": 302, \"1\": 302, \"2\": 302, \"3\": 302, \"4\": 136, \"5\": 136, \"6\": 136, \"7\": 136\n",
    "     }\n",
    "}"
   ]
  },
  {
   "cell_type": "code",
   "execution_count": null,
   "metadata": {},
   "outputs": [],
   "source": [
    "linux_juno = {\n",
    "    \"platform\" : \"linux\",\n",
    "    \"board\" : \"juno\",\n",
    "    \"host\": \"192.168.0.1\",\n",
    "    \"username\" : \"root\",\n",
    "    \"password\" : \"root\",\n",
    "    \"modules\" : [\"sched\", \"cgroups\", \"hotplug\"],\n",
    "    \"tools\" : [\"taskset\", \"rt-app\"]\n",
    "}"
   ]
  },
  {
   "cell_type": "code",
   "execution_count": null,
   "metadata": {},
   "outputs": [],
   "source": [
    "android_hikey = {\n",
    "    \"platform\" : \"android\",\n",
    "    \"board\" : \"hikey960\",\n",
    "    \"modules\" : [\"sched\", \"hotplug\"],\n",
    "    \"tools\" : [\"taskset\", \"rt-app\"]\n",
    "}"
   ]
  },
  {
   "cell_type": "code",
   "execution_count": null,
   "metadata": {},
   "outputs": [],
   "source": [
    "te = TestEnv(linux_hikey)\n",
    "target = te.target"
   ]
  },
  {
   "cell_type": "markdown",
   "metadata": {},
   "source": [
    "### Generics"
   ]
  },
  {
   "cell_type": "code",
   "execution_count": null,
   "metadata": {},
   "outputs": [],
   "source": [
    "from libs.utils.kernel_tests.scheduler.eas_behaviour import *"
   ]
  },
  {
   "cell_type": "code",
   "execution_count": null,
   "metadata": {},
   "outputs": [],
   "source": [
    "tests = [OneSmallTask, ThreeSmallTasks, TwoBigTasks, TwoBigThreeSmall, RampUp, RampDown, EnergyModelWakeMigration]"
   ]
  },
  {
   "cell_type": "code",
   "execution_count": null,
   "metadata": {},
   "outputs": [],
   "source": [
    "res = {}\n",
    "\n",
    "for test in tests:\n",
    "    bundle = test.from_target(te)\n",
    "    res[test.__name__] = bundle"
   ]
  },
  {
   "cell_type": "code",
   "execution_count": null,
   "metadata": {},
   "outputs": [],
   "source": [
    "for test_name, bundle in res.iteritems():\n",
    "    print test_name\n",
    "    print \"---\"\n",
    "    print \"test_slack: {}\".format(\"PASSED\" if bundle.test_slack() else \"FAILED\")\n",
    "    print \"test_task_placement: {}\".format(\"PASSED\" if bundle.test_task_placement() else \"FAILED\")\n",
    "    print bundle.test_task_placement()\n",
    "    print"
   ]
  },
  {
   "cell_type": "markdown",
   "metadata": {},
   "source": [
    "### CPU sanity check"
   ]
  },
  {
   "cell_type": "code",
   "execution_count": null,
   "metadata": {},
   "outputs": [],
   "source": [
    "from libs.utils.kernel_tests.misc.capacity_sanity import CapacitySanityCheck"
   ]
  },
  {
   "cell_type": "code",
   "execution_count": null,
   "metadata": {},
   "outputs": [],
   "source": [
    "bundle = CapacitySanityCheck.from_target(te)"
   ]
  },
  {
   "cell_type": "code",
   "execution_count": null,
   "metadata": {},
   "outputs": [],
   "source": [
    "if bundle.test_capacity_sanity():\n",
    "    print \"PASSED\"\n",
    "else:\n",
    "    print \"FAILED\"\n",
    "\n",
    "print bundle.test_capacity_sanity()"
   ]
  },
  {
   "cell_type": "markdown",
   "metadata": {},
   "source": [
    "### Hotplug"
   ]
  },
  {
   "cell_type": "code",
   "execution_count": null,
   "metadata": {},
   "outputs": [],
   "source": [
    "from libs.utils.kernel_tests.hotplug.torture import HotplugTorture"
   ]
  },
  {
   "cell_type": "code",
   "execution_count": null,
   "metadata": {},
   "outputs": [],
   "source": [
    "bundle = HotplugTorture.from_target(te)"
   ]
  },
  {
   "cell_type": "code",
   "execution_count": null,
   "metadata": {},
   "outputs": [],
   "source": [
    "bundle.test_cpus_alive().passed"
   ]
  },
  {
   "cell_type": "code",
   "execution_count": null,
   "metadata": {},
   "outputs": [],
   "source": [
    "bundle.test_cpus_alive().metrics"
   ]
  },
  {
   "cell_type": "code",
   "execution_count": null,
   "metadata": {},
   "outputs": [],
   "source": [
    "bundle.test_target_alive().passed"
   ]
  },
  {
   "cell_type": "code",
   "execution_count": null,
   "metadata": {},
   "outputs": [],
   "source": []
  }
 ],
 "metadata": {
  "kernelspec": {
   "display_name": "Python 2",
   "language": "python",
   "name": "python2"
  },
  "language_info": {
   "codemirror_mode": {
    "name": "ipython",
    "version": 2
   },
   "file_extension": ".py",
   "mimetype": "text/x-python",
   "name": "python",
   "nbconvert_exporter": "python",
   "pygments_lexer": "ipython2",
   "version": "2.7.15rc1"
  }
 },
 "nbformat": 4,
 "nbformat_minor": 2
}
